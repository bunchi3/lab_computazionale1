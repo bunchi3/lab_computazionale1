{
 "cells": [
  {
   "cell_type": "markdown",
   "metadata": {},
   "source": [
    "# Bisection method\n",
    "Ma devo eseguire un fit anche per trovare q? O basta il fatto che all'aumentare delle misure si avvicina a 1? Perchè se faccio il fit non viene bene"
   ]
  },
  {
   "cell_type": "markdown",
   "metadata": {},
   "source": [
    "Puoi anche fare un grafico in cui metti i punti stimati f(x_found)"
   ]
  },
  {
   "cell_type": "code",
   "execution_count": null,
   "metadata": {},
   "outputs": [],
   "source": [
    "using Markdown\n",
    "using Plots\n",
    "using LaTeXStrings\n",
    "using Printf\n",
    "include(\"c:\\\\ALL\\\\Stefano\\\\Bicocca\\\\3terzo_anno\\\\lab_comp\\\\lab_computazionale1\\\\librerie\\\\linear_systems.jl\")\n",
    "include(\"c:\\\\ALL\\\\Stefano\\\\Bicocca\\\\3terzo_anno\\\\lab_comp\\\\lab_computazionale1\\\\librerie\\\\non_linear_roots.jl\")\n",
    "function autosave(fig, filename)\n",
    "    path = \"C:\\\\ALL\\\\Stefano\\\\Bicocca\\\\3terzo_anno\\\\lab_comp\\\\lab_computazionale1\\\\relazione\\\\immagini\"\n",
    "    savefig(fig, joinpath(path, filename))\n",
    "end"
   ]
  },
  {
   "cell_type": "code",
   "execution_count": null,
   "metadata": {},
   "outputs": [],
   "source": [
    "colors = [\"#0F2080\",  # blu scuro\n",
    "           \"#F5793A\",  # arancione\n",
    "           \"#A95AA1\",  # viola\n",
    "           \"#85C0F9\"]  # azzurro"
   ]
  },
  {
   "cell_type": "markdown",
   "metadata": {},
   "source": [
    "**(a)** Use the bisection method to find solutions for $x^3 - 7x^2 + 14x - 6 = 0$ on $[0,1]$."
   ]
  },
  {
   "cell_type": "code",
   "execution_count": null,
   "metadata": {},
   "outputs": [],
   "source": [
    "function polynomial(x)\n",
    "    return x^3 - 7x^2 + 14x - 6\n",
    "end"
   ]
  },
  {
   "cell_type": "code",
   "execution_count": null,
   "metadata": {},
   "outputs": [],
   "source": [
    "a = 0\n",
    "b = 1\n",
    "\n",
    "root, steps = bis_met_steps(polynomial, a, b)\n",
    "display(Markdown.parse(\"Calculated root: \"))\n",
    "display(root)\n",
    "display(Markdown.parse(\"Function evaluated in calculated root: \"))\n",
    "display(polynomial(root))\n",
    "display(Markdown.parse(\"Number of steps: \"))\n",
    "display(length(steps))"
   ]
  },
  {
   "cell_type": "code",
   "execution_count": null,
   "metadata": {},
   "outputs": [],
   "source": [
    "x = [i for i in a:0.01:b]\n",
    "y = polynomial.(x)\n",
    "\n",
    "fig = plot(xlabel=L\"x\", ylabel=L\"f(x)\",\n",
    "           framestyle=:box,\n",
    "           grid=true, gridalpha=0.5,\n",
    "           legend=:bottomright,\n",
    "           xticks=a:0.2:b,\n",
    "           legendfontsize = 10\n",
    "          )\n",
    "\n",
    "plot!(fig, x, y,\n",
    "      label = L\"x^3 - 7x^2 + 14x - 6\",\n",
    "      color = colors[1]\n",
    "     )\n",
    "plot!(fig, x, fill(0, length(x)), \n",
    "      label = \"\",\n",
    "      color = colors[2]\n",
    "     )\n",
    "scatter!(fig, steps, fill(0, length(steps)),\n",
    "         color = colors[3],\n",
    "         label = L\"Estimated\\ roots\",\n",
    "         marker = :circle, \n",
    "        )\n",
    "\n",
    "autosave(fig, \"3221.pdf\")\n",
    "display(fig)"
   ]
  },
  {
   "cell_type": "markdown",
   "metadata": {},
   "source": [
    "**(b)** Study the convergence of the bisection method to the root found in **(a)**. (You can take as an approximation for the root $r=x_{n_{\\rm max}}$, where $n_{\\rm max}$ is the index corresponding to the last bisection iteration.) What is its order of convergence $q$? Can you estimate the asymptotic error constant $C$? We suggest studying $d_n=-\\log_{10}|x_{n}-r|$ as a function of $n$."
   ]
  },
  {
   "cell_type": "markdown",
   "metadata": {},
   "source": [
    "Vale per il metodo di bisezione: $ |m_n-r|< 2^{-(n+1)} (b_0-a_0) $ \\\n",
    "Ad ogni iterazione l'intervallo si dimezza, al passo successivo la stima è nella metà dell'intervallo a cui stava la stima precedente. In simboli: $|m_{n+1}-r| <\\frac{|m_n-r|}{2}$. \\\n",
    "Dalla relazione sopra si ricava che $\\frac{|m_{n+1}-r|}{|m_n-r|} < \\frac{1}{2}$. Passando al limite: \\\n",
    "$\\lim_{n\\to\\infty} \\frac{|m_{n+1}-r|}{|m_n-r|} = \\frac{1}{2}$, da cui ricaviamo che $q$, ordine di convergenza, è 1, mentre C, la costante di errore asintotico, è $\\frac{1}{2}$ \\\n",
    "\\\n",
    "Verifichiamolo numericamente, ricordando le relazioni: \n",
    "$$\n",
    "    d_{n+1}\\approx q\\,d_{n} -\\log_{10}|C|\n",
    "    \\quad\n",
    "    \\Rightarrow\n",
    "    \\quad\n",
    "    {d_{n+1}\\over d_n}\\approx q -{\\log_{10}|C|\\over d_n}\\ \\overset{n\\to\\infty}{\\longrightarrow}\\ q\n",
    "$$"
   ]
  },
  {
   "cell_type": "markdown",
   "metadata": {},
   "source": [
    "# q and C evaluation"
   ]
  },
  {
   "cell_type": "markdown",
   "metadata": {},
   "source": [
    "In this case I can evaluate q it by plotting ${d_{n+1}\\over d_n}$ and see its value for $n\\to\\infty$. "
   ]
  },
  {
   "cell_type": "code",
   "execution_count": null,
   "metadata": {},
   "outputs": [],
   "source": [
    "#This cell is subtle because plays with the length of vectors.\n",
    "#The first subtlety is redfining the steps, because I don't want the estimated root to be a step, or else the number of digits diverges\n",
    "#The second one is to define the number of digits for every step except the last one, because the iteration uses the n+1 step\n",
    "#In the end, I need to correct q_approx's length, by adding the last element manually\n",
    "a = 0\n",
    "b = 1\n",
    "pol_zero, zero_steps = bis_met_steps(polynomial, a, b)\n",
    "\n",
    "#This step isn't useful from a pratical point of view, but is theoretical\n",
    "#It says: we have estimated the root with bis_met_steps (pol_zero), now we are approximating the real one (r) with it\n",
    "r = pol_zero        \n",
    "\n",
    "zero_steps = zero_steps[1:(end-1)]          # I do not consider the entire zero_steps vector because the last entry is exactly r\n",
    "# vector of digit numbers for each step\n",
    "#Contains every digit number of the steps, except for the last one\n",
    "d = -log10.(abs.(zero_steps[1:end-1] .- r))         \n",
    "q_approx =  []\n",
    "#itero per tutti gli elementi di d, considerando che devo guardare d_n e d_(n+1)\n",
    "for i  in 1:(length(d)-1)\n",
    "    push!(q_approx, d[i+1]/d[i])\n",
    "end\n",
    "push!(q_approx, (-log10.(abs.(zero_steps[end-1] .- r)))/d[end])\n",
    "\n",
    "println(length(zero_steps))\n",
    "println(length(d))\n",
    "println(length(q_approx))"
   ]
  },
  {
   "cell_type": "markdown",
   "metadata": {},
   "source": [
    "Migliora il plot aggiungendo i punti per ogni n"
   ]
  },
  {
   "cell_type": "code",
   "execution_count": null,
   "metadata": {},
   "outputs": [],
   "source": [
    "#Plot cell\n",
    "n = [i for i in 1:(length(d))]\n",
    "\n",
    "fig1 = plot(xlabel=L\"n\", ylabel=L\"Digits\\ ratio\",\n",
    "            framestyle=:box,\n",
    "            grid=true, gridalpha=0.5,\n",
    "            legend=:topright,\n",
    "            xticks=1:4:length(n),\n",
    "            legendfontsize = 10\n",
    "            )\n",
    "\n",
    "plot!(fig1, n, q_approx,\n",
    "      label=L\"d_{n+1}/d_n\",\n",
    "      marker=:circle,\n",
    "      color = colors[1],\n",
    "     )\n",
    "\n",
    "plot!(fig1, n, fill(1, length(n)),\n",
    "      label=L\"Expected\\ order\\ of\\ convergence\",\n",
    "      color  = colors[2],\n",
    "     )\n",
    "     \n",
    "\n",
    "display(fig1)"
   ]
  },
  {
   "cell_type": "markdown",
   "metadata": {},
   "source": [
    "From the graph, I notice that to determine q, I should use the last points to perform the fit. \\\n",
    "$y = const$"
   ]
  },
  {
   "cell_type": "code",
   "execution_count": null,
   "metadata": {},
   "outputs": [],
   "source": [
    "start_point = 29\n",
    "n_qfit = n[start_point:end]\n",
    "q_approx_qfit = q_approx[start_point:end]\n",
    "#design matrix\n",
    "D = hcat(ones(length(n_qfit)))\n",
    "q = least_sq(D, q_approx_qfit)\n",
    "result_text = @sprintf(\"Estimated q = %.2f\", q[1])\n",
    "display(Markdown.parse(result_text))"
   ]
  },
  {
   "cell_type": "code",
   "execution_count": null,
   "metadata": {},
   "outputs": [],
   "source": [
    "#plot cell\n",
    "fig2 = plot(xlabel=L\"n\", ylabel=L\"Digits\\ ratio\",\n",
    "            framestyle=:box,\n",
    "            grid=true, gridalpha=0.5,\n",
    "            legend=:bottomright,\n",
    "            xticks=0:2:length(n), yticks=0.8:0.05:1.2,\n",
    "            xrange=(start_point-1, length(n)+1), yrange=(0.79, 1.13),\n",
    "            legendfontsize = 10\n",
    "            )   \n",
    "\n",
    "plot!(fig2, n[start_point:end], q_approx[start_point:end],\n",
    "      label=\"\",\n",
    "      color = colors[1],\n",
    "      marker=:circle,\n",
    "     )\n",
    "\n",
    "plot!(fig2, 1:1:length(n)+1, fill(1, length(n)+1),\n",
    "      label=\"\",\n",
    "      color  = colors[2],\n",
    "     )\n",
    "\n",
    "plot!(fig2, 1:1:length(n)+1, fill(q[1], length(n)+1),\n",
    "      label= L\"Estimated\\ q\",\n",
    "      color = colors[3],\n",
    "     )\n",
    "\n",
    "display(fig2)\n"
   ]
  },
  {
   "cell_type": "code",
   "execution_count": null,
   "metadata": {},
   "outputs": [],
   "source": [
    "fig_merge = plot(fig1, fig2, layout = (2, 1), size = (800, 500),\n",
    "    )\n",
    "\n",
    "autosave(fig_merge, \"3222.pdf\")"
   ]
  },
  {
   "cell_type": "markdown",
   "metadata": {},
   "source": [
    "C value must be evalueated with a fit, remembering the fact that $ |x_{k+1} - r|= C |x_{k} - r|$.  \\\n",
    "Iterating this process gives us $ |x_{k+1} - r|= C^{k+1} |x_{0} - r|$. By evaluating the natural logaritm we can make this equation linear and fit the data with C as a parameter. \\\n",
    "Fit model: $log |x_{k+1}-r| = (k+1)log(C) + log|x_0 - r|   \\rightarrow   y(x) = x log(C) + A$ "
   ]
  },
  {
   "cell_type": "code",
   "execution_count": null,
   "metadata": {},
   "outputs": [],
   "source": [
    "# For this fit I just need x_k, so zero_step\n",
    "pol_zero, zero_steps = bis_met_steps(polynomial, a, b)\n",
    "r = pol_zero        \n",
    "zero_steps = zero_steps[1:(end-1)]  \n",
    "x = [k for k in 1:1:length(zero_steps)]\n",
    "y = log.(abs.(zero_steps .- r))\n",
    "# Design matrix\n",
    "D = hcat(x, fill(1.0, length(x)))\n",
    "coeff = least_sq(D, y)\n",
    "\n",
    "# Display results in a single Markdown block\n",
    "C = exp(coeff[1])\n",
    "A = coeff[2]\n",
    "result_text = @sprintf(\"Linear fit coefficients are: \\nC = %.5f\\nA = %.5f\", C, A)\n",
    "display(Markdown.parse(result_text))"
   ]
  },
  {
   "cell_type": "code",
   "execution_count": null,
   "metadata": {},
   "outputs": [],
   "source": [
    "#plot cell\n",
    "fig = plot(yscale=:log10,\n",
    "            xlabel=L\"n\", ylabel=L\"|x_n - r|\",\n",
    "            framestyle=:box,\n",
    "            grid=true, gridalpha=0.5,\n",
    "            legend=:topright,\n",
    "            legendfontsize = 10\n",
    "            )\n",
    "\n",
    "plot!(fig, x, exp.(y),\n",
    "      label=L\"|x_n - r|\",\n",
    "      marker=:circle,\n",
    "      markersize=3.5,\n",
    "      color = colors[1],\n",
    "     )            \n",
    "\n",
    "          \n",
    "plot!(fig, x, exp.(coeff[1] .* x .+ coeff[2]),\n",
    "        label=latexstring(\"y(n) = n log_{10}(\", @sprintf(\"%.3f\", C) ,\") \", @sprintf(\"%.3f\", A)),\n",
    "        color = colors[2],\n",
    "        linestyle=:dash,\n",
    "        linewidth=2,\n",
    "        )\n",
    "\n",
    "autosave(fig, \"3223.pdf\")\n",
    "display(fig)"
   ]
  },
  {
   "cell_type": "markdown",
   "metadata": {},
   "source": [
    "# q and C fit\n",
    "q and C could be also calculated with another. The relation is $y(d_n)\\approx q -{\\log_{10}|C|\\over d_n}\\ \\overset{n\\to\\infty}{\\longrightarrow}\\ q$. I need to make this a linear relation in the coefficients, so instead of searching for $C$ I will search for $k = -log_{10}|C|$. \\\n",
    "The next step is to create the design matrix and using least_sq function, defined in the linear_systems.jl library. \\\n",
    "The design matrix has the first column of ones, the second column with $\\frac{1}{x}$ function \\\n",
    "NOTE: it is not a really accurate method"
   ]
  },
  {
   "cell_type": "code",
   "execution_count": null,
   "metadata": {},
   "outputs": [],
   "source": [
    "order = sortperm(d)\n",
    "d_sorted = d[order]\n",
    "q_approx_sorted = q_approx[order]\n",
    "#As data we have on the x axis d, on the y axis d(n+1)/dn\n",
    "A = hcat(ones(length(d_sorted)), [1.0/i for i in d_sorted])\n",
    "coeff = least_sq(A, q_approx_sorted)\n",
    "q = coeff[1]\n",
    "C_module = exp10(-coeff[2]) \n",
    "println(\"Order of convergence q: \", q)\n",
    "println(\"Expected: \", 1)\n",
    "println(\"Asymptotic error constant: \", C_module)\n",
    "println(\"Expected: \", 0.5)"
   ]
  },
  {
   "cell_type": "code",
   "execution_count": null,
   "metadata": {},
   "outputs": [],
   "source": [
    "#Plot cell\n",
    "fig = plot(title=\"Least square fit\",\n",
    "            xlabel=\"digits\", ylabel=L\"\\frac{d_{n+1}}{d_n}\",\n",
    "            framestyle=:box,\n",
    "            grid=true, gridalpha=0.5,\n",
    "            legend=:topright,\n",
    "            )\n",
    "plot!(fig, d_sorted, q_approx_sorted,\n",
    "        label=L\"\\frac{d_{n+1}}{d_n}\",\n",
    "         )\n",
    "plot!(fig, d_sorted, q .- log10.(C_module)./d_sorted,\n",
    "        label=\"Least square fit\",\n",
    "        )\n",
    "display(fig)\n"
   ]
  }
 ],
 "metadata": {
  "kernelspec": {
   "display_name": "Julia 1.11.4",
   "language": "julia",
   "name": "julia-1.11"
  },
  "language_info": {
   "file_extension": ".jl",
   "mimetype": "application/julia",
   "name": "julia",
   "version": "1.11.4"
  }
 },
 "nbformat": 4,
 "nbformat_minor": 2
}
