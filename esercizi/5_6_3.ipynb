{
 "cells": [
  {
   "cell_type": "markdown",
   "id": "0",
   "metadata": {},
   "source": [
    "# IVP Euler's method - systems of differential equations"
   ]
  },
  {
   "cell_type": "markdown",
   "id": "1",
   "metadata": {},
   "source": [
    "Solve the following IVPs using Euler's method with $n=1000$ steps. Plot the solution and its first derivative together on one plot, and plot the error in each component as functions of time on another.   "
   ]
  },
  {
   "cell_type": "code",
   "execution_count": null,
   "id": "2",
   "metadata": {},
   "outputs": [],
   "source": [
    "using Plots\n",
    "using Markdown\n",
    "using LaTeXStrings\n",
    "using Printf\n",
    "include(\"c:\\\\ALL\\\\Stefano\\\\Bicocca\\\\3terzo_anno\\\\lab_comp\\\\lab_computazionale1\\\\librerie\\\\diff_equations.jl\")"
   ]
  },
  {
   "cell_type": "code",
   "execution_count": null,
   "id": "3",
   "metadata": {},
   "outputs": [],
   "source": [
    "n = 1000\n",
    "\n",
    "f_a = t -> 1/5*sin(3t) + 2*cos(3t) + (1/5)*sin(2t)\n",
    "f_a_der = t -> (3/5)*cos(3t) - 6*sin(3t) + (2/5)*cos(2t)\n",
    "function f1_a(t, z1, z2)\n",
    "    return z2\n",
    "end \n",
    "\n",
    "function f2_a(t, z1, z2)\n",
    "    return sin(2t) - 9 * z1\n",
    "end\n",
    "\n",
    "F = [f1_a, f2_a]\n",
    "\n",
    "u0_a = [2, 1]\n",
    "\n",
    "colors = [\"#0F2080\",  # blu scuro\n",
    "          \"#A95AA1\",  # viola\n",
    "          \"#F5793A\",  # arancione\n",
    "          \"#85C0F9\"]  # azzurro"
   ]
  },
  {
   "cell_type": "markdown",
   "id": "4",
   "metadata": {},
   "source": [
    "**(a)** $y''+ 9y = \\sin(2t)$, $\\ 0< t< 2\\pi$, $\\ y(0) = 2$, $\\ y'(0) = 1$; \n",
    "\n",
    "$\\quad$ $\\hat{y}(t) = (1/5) \\sin(3t) + 2 \\cos (3t)+  (1/5) \\sin (2t)$\n",
    "\n",
    "$$\n",
    "\\begin{cases}\n",
    "z_1' = z_2 \\\\\n",
    "z_2' = \\sin(2t) - 9z_1\n",
    "\\end{cases}\n",
    "$$\n",
    "\n",
    "where $z_1 = y$ and $z_2 = y'$"
   ]
  },
  {
   "cell_type": "code",
   "execution_count": null,
   "id": "5",
   "metadata": {},
   "outputs": [],
   "source": [
    "a, b = 0, 2*pi\n",
    "t = [i for i in a:abs(b-a)/n:b]\n",
    "Y = euler_ode(F, u0_a, n, a, b)\n",
    "\n",
    "x_trig_index = [L\"0\", L\"\\frac{\\pi}{4}\", L\"\\frac{\\pi}{2}\", L\"\\frac{3\\pi}{4}\", L\"\\pi\", L\"\\frac{5\\pi}{4}\", L\"\\frac{3\\pi}{2}\", L\"\\frac{7\\pi}{4}\", L\"2\\pi\"]\n",
    "fig = plot(figsize=(800, 600),\n",
    "           xlabel=L\"t\", ylabel=L\"u(t)\",\n",
    "           framestyle=:box,\n",
    "           grid=true, gridalpha=0.5,\n",
    "           xticks=([i*pi/2 for i in 0:0.5:4], x_trig_index),\n",
    "           legend = :topleft\n",
    "          )\n",
    "\n",
    "plot!(fig, t, f_a.(t),\n",
    "      label = L\"\\hat{u}(t)\",\n",
    "      color= colors[1],\n",
    "      lw = 4.0,\n",
    "     )\n",
    "\n",
    "plot!(fig, t, f_a_der.(t),\n",
    "      label = L\"\\hat{u}'(t)\",\n",
    "      color= colors[2],\n",
    "      lw = 4.0,\n",
    "     )\n",
    "\n",
    "plot!(fig, t, Y[1],\n",
    "      label = L\"u_{approx}(t)\",\n",
    "      color= colors[3],\n",
    "      linestyle = :dash,\n",
    "      lw = 2.0,\n",
    "     )\n",
    "\n",
    "plot!(fig, t, Y[2],\n",
    "      label = L\"u'_{approx}(t)\",\n",
    "      color= colors[4],\n",
    "      linestyle = :dash,\n",
    "      lw = 2.0,\n",
    "     )\n",
    "\n",
    "display(fig)"
   ]
  },
  {
   "cell_type": "code",
   "execution_count": null,
   "id": "6",
   "metadata": {},
   "outputs": [],
   "source": [
    "err_1 = abs.(f_a.(t) .- Y[1])\n",
    "err_2 = abs.(f_a_der.(t) .- Y[2])\n",
    "\n",
    "fig = plot(figsize=(800, 600),\n",
    "           xlabel=L\"t\", ylabel=L\"|u-\\hat{u}\\ |\",\n",
    "           framestyle=:box,\n",
    "           grid=true, gridalpha=0.5,\n",
    "           xticks=([i*pi/2 for i in 0:0.5:4], x_trig_index), yticks=0:0.125:1.125,\n",
    "           yformatter = y -> @sprintf(\"%.2f\", y),\n",
    "           legend = :topleft\n",
    "          )\n",
    "\n",
    "plot!(fig, t, err_1,\n",
    "      label = L\"|u-\\hat{u}\\ |\",\n",
    "      color= :navy,\n",
    "      lw = 2.0,\n",
    "     )\n",
    "\n",
    "plot!(fig, t, err_2,\n",
    "      label = L\"|u'-\\hat{u}'|\",\n",
    "      color= :darkorange,\n",
    "      lw = 2.0,\n",
    "     )\n",
    "\n",
    "display(fig)"
   ]
  },
  {
   "cell_type": "markdown",
   "id": "7",
   "metadata": {},
   "source": [
    "**(b)** $y''- 4y = 4t$, $\\: 0< t< 1.5$, $\\: y(0) = 2$, $\\: y'(0) = -1$;\n",
    "    \n",
    "$\\quad$ $\\hat{y}(t) = e^{2t} + e^{-2t}-t$\n",
    "\n",
    "$$\n",
    "\\begin{cases}\n",
    "z_1' = z_2 \\\\\n",
    "z_2' = 4t + 4z_1\n",
    "\\end{cases}\n",
    "$$\n",
    "\n",
    "where $z_1 = y$ and $z_2 = y'$"
   ]
  },
  {
   "cell_type": "markdown",
   "id": "8",
   "metadata": {},
   "source": [
    "**(c)** $y''+ 4y'+ 4y = t$, $\\: 0< t< 4$, $\\: y(0) = 1$,$\\: y'(0) = 3/4$;\n",
    "    \n",
    "$\\quad$ $\\hat{y}(t) = (3t+5/4)e^{-2t} + (t-1)/4$\n",
    "\n",
    "$$\n",
    "\\begin{cases}\n",
    "z_1' = z_2 \\\\\n",
    "z_2' = t - 4z_1 - 4z_2\n",
    "\\end{cases}\n",
    "$$\n",
    "\n",
    "where $z_1 = y$ and $z_2 = y'$"
   ]
  }
 ],
 "metadata": {
  "kernelspec": {
   "display_name": "Julia 1.11.4",
   "language": "julia",
   "name": "julia-1.11"
  },
  "language_info": {
   "file_extension": ".jl",
   "mimetype": "application/julia",
   "name": "julia",
   "version": "1.11.4"
  }
 },
 "nbformat": 4,
 "nbformat_minor": 5
}
