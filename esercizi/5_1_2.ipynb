{
 "cells": [
  {
   "cell_type": "markdown",
   "id": "0",
   "metadata": {},
   "source": [
    "# Trapezoidal rule"
   ]
  },
  {
   "cell_type": "markdown",
   "id": "1",
   "metadata": {},
   "source": [
    "Le ultime due hanno problemi perchè hanno singolarità agli estremi. Puoi provare a fare l'integrale fino a quasi alla singolarità e provare a fare l'integrale, poi puoi provare a integrare la singolarità: ad es integra da 0 a 0.99 e poi da 0.99 a 1."
   ]
  },
  {
   "cell_type": "code",
   "execution_count": null,
   "id": "2",
   "metadata": {},
   "outputs": [],
   "source": [
    "# import cell\n",
    "using Plots\n",
    "using LaTeXStrings\n",
    "using Markdown\n",
    "using Printf\n",
    "using ForwardDiff\n",
    "include(\"c:\\\\ALL\\\\Stefano\\\\Bicocca\\\\3terzo_anno\\\\lab_comp\\\\lab_computazionale1\\\\librerie\\\\linear_systems.jl\")\n",
    "include(\"c:\\\\ALL\\\\Stefano\\\\Bicocca\\\\3terzo_anno\\\\lab_comp\\\\lab_computazionale1\\\\librerie\\\\integration.jl\")\n",
    "function autosave(fig, filename)\n",
    "    path = \"C:\\\\ALL\\\\Stefano\\\\Bicocca\\\\3terzo_anno\\\\lab_comp\\\\lab_computazionale1\\\\relazione\\\\immagini\"\n",
    "    savefig(fig, joinpath(path, filename))\n",
    "end"
   ]
  },
  {
   "cell_type": "markdown",
   "id": "3",
   "metadata": {},
   "source": [
    "For each integral below, use the trapezoidal rule to estimate the integral for $m=10\\cdot 2^k$ nodes for $k=1,2,\\ldots,10$. Make a log-log plot of the errors and confirm or refute second-order accuracy."
   ]
  },
  {
   "cell_type": "code",
   "execution_count": null,
   "id": "4",
   "metadata": {},
   "outputs": [],
   "source": [
    "n_intervals = [10 * 2^k for k in 1:1:10]\n",
    "\n",
    "#Defining functions and exact integral values\n",
    "f1(x) = x*log(1+x)\n",
    "f2(x) = x^2 * atan(x)\n",
    "f3(x) = exp(x) * cos(x)\n",
    "f4(x) = (atan(sqrt(2+x^2)))/((1+x^2)*sqrt(2+x^2))\n",
    "function f5(x)\n",
    "    if x==0\n",
    "        return 0\n",
    "    else\n",
    "        return sqrt(x) * log(x)\n",
    "    end\n",
    "end\n",
    "f6(x) = sqrt(1-x^2)\n",
    "\n",
    "#Calculated second derivative for check of second order accuracy\n",
    "d2f1(x) = ForwardDiff.derivative(x -> ForwardDiff.derivative(f1, x), x)\n",
    "d2f2(x) = ForwardDiff.derivative(x -> ForwardDiff.derivative(f2, x), x)\n",
    "d2f3(x) = ForwardDiff.derivative(x -> ForwardDiff.derivative(f3, x), x)\n",
    "d2f4(x) = ForwardDiff.derivative(x -> ForwardDiff.derivative(f4, x), x)\n",
    "d2f5(x) = ForwardDiff.derivative(x -> ForwardDiff.derivative(f5, x), x)\n",
    "d2f6(x) = ForwardDiff.derivative(x -> ForwardDiff.derivative(f6, x), x)\n",
    "\n",
    "#Exact integral values\n",
    "i1 = 0.25\n",
    "i2 = (pi - 2 + 2*log(2))/12\n",
    "i3 = (exp(pi/2) - 1)/ 2\n",
    "i4 = (5*pi^2)/96\n",
    "i5 = -4/9\n",
    "i6 = pi/4"
   ]
  },
  {
   "cell_type": "markdown",
   "id": "5",
   "metadata": {},
   "source": [
    "The formula gives $R_T = k h^2$ where k is a constant value, depending on the integration extrema. \\\n",
    "To determine second order accuracy we will fit the graph with the linearized formula: \n",
    "$$\n",
    "log(|R_T|) = log(|k|) + 2 log(h)\n",
    "$$\n",
    "\n",
    "If the fit gives the second parameter equal to 2, we confirm second order accuracy."
   ]
  },
  {
   "cell_type": "markdown",
   "id": "6",
   "metadata": {},
   "source": [
    "**(a)** $\\displaystyle \\int_0^1 x\\log(1+x)\\, dx = \\frac{1}{4}$"
   ]
  },
  {
   "cell_type": "code",
   "execution_count": null,
   "id": "7",
   "metadata": {},
   "outputs": [],
   "source": [
    "a = 0\n",
    "b = 1\n",
    "\n",
    "integral_vals = [IntegralTrap(f1, a, b, m) for m in n_intervals]\n",
    "errors = abs.(i1 .- integral_vals)\n",
    "h = (b-a) ./ n_intervals\n",
    "#design matrix\n",
    "A = hcat(ones(length(h)), log.(h))\n",
    "l_k, order_acc = least_sq(A, log.(errors))\n",
    "\n",
    "#plot section\n",
    "fig = plot(figsize=(800, 600),\n",
    "             xlabel=L\"m\", ylabel=L\"|R_T|\",\n",
    "             framestyle=:box,\n",
    "             grid=true, gridalpha=0.5,\n",
    "             xscale = :log10, yscale = :log10,\n",
    "             xticks = [10.0^i for i in 0:0.5:10], yticks = [10.0^i for i in -10:1:0],\n",
    "             legend = :topright\n",
    "            )\n",
    "\n",
    "plot!(fig, n_intervals, errors,\n",
    "      label = L\"Error\",\n",
    "      color= :navy,\n",
    "      marker = :circle,\n",
    "      lw = 3.0,\n",
    "     ) \n",
    "\n",
    "y = exp(l_k) .* (((b-a) ./ n_intervals) .^ order_acc)\n",
    "plot!(fig, n_intervals, y,\n",
    "      label = latexstring(\"Fit\\\\ slope: \", @sprintf(\"%.2f\", order_acc)),\n",
    "      color = :darkorange,\n",
    "      )\n",
    "\n",
    "autosave(fig, \"5121.pdf\")\n",
    "display(fig)"
   ]
  },
  {
   "cell_type": "markdown",
   "id": "8",
   "metadata": {},
   "source": [
    "### Second derivative analysis\n",
    "In the graph we can see that second derivative is continuos. We expect second order behaviour"
   ]
  },
  {
   "cell_type": "code",
   "execution_count": null,
   "id": "9",
   "metadata": {},
   "outputs": [],
   "source": [
    "x = a:0.01:b\n",
    "y = d2f1.(x)\n",
    "\n",
    "fig = plot(figsize=(800, 600),\n",
    "             xlabel=L\"x\", ylabel=L\"$f^{II}(x)$\",\n",
    "             framestyle=:box,\n",
    "             grid=true, gridalpha=0.5,\n",
    "            )\n",
    "\n",
    "plot!(fig, x, y,\n",
    "      label = L\"f_1^{II}(x)\",\n",
    "      color= :navy,\n",
    "     ) \n",
    "\n",
    "autosave(fig, \"5121_2.pdf\")\n",
    "display(fig)"
   ]
  },
  {
   "cell_type": "markdown",
   "id": "10",
   "metadata": {},
   "source": [
    "**(b)** $\\displaystyle \\int_0^1 x^2 \\tan^{-1}x\\, dx = \\frac{\\pi-2+2\\log 2}{12}$"
   ]
  },
  {
   "cell_type": "code",
   "execution_count": null,
   "id": "11",
   "metadata": {},
   "outputs": [],
   "source": [
    "a = 0\n",
    "b = 1\n",
    "\n",
    "integral_vals = [IntegralTrap(f2, a, b, m) for m in n_intervals]\n",
    "errors = abs.(i2 .- integral_vals)\n",
    "h = (b-a) ./ n_intervals\n",
    "#design matrix\n",
    "A = hcat(ones(length(h)), log.(h))\n",
    "l_k, order_acc = least_sq(A, log.(errors))\n",
    "\n",
    "#plot section\n",
    "fig = plot(figsize=(800, 600),\n",
    "             xlabel=L\"m\", ylabel=L\"|R_T|\",\n",
    "             framestyle=:box,\n",
    "             grid=true, gridalpha=0.5,\n",
    "             xscale = :log10, yscale = :log10,\n",
    "             xticks = [10.0^i for i in 0:0.5:10], yticks = [10.0^i for i in -10:1:0],\n",
    "             legend = :topright,\n",
    "            )\n",
    "\n",
    "plot!(fig, n_intervals, errors,\n",
    "      label = L\"Error\",\n",
    "      color= :navy,\n",
    "      marker = :circle,\n",
    "      lw = 3,\n",
    "     ) \n",
    "\n",
    "y = exp(l_k) .* (((b-a) ./ n_intervals) .^ order_acc)\n",
    "plot!(fig, n_intervals, y,\n",
    "      label = latexstring(\"Fit\\\\ slope: \", @sprintf(\"%.2f\", order_acc)),\n",
    "      color = :darkorange,\n",
    "      )\n",
    "      \n",
    "autosave(fig, \"5122.pdf\")\n",
    "display(fig)"
   ]
  },
  {
   "cell_type": "markdown",
   "id": "12",
   "metadata": {},
   "source": [
    "### Second derivative analysis\n",
    "In the graph we can see that second derivative is continuos. We expect second order behaviour"
   ]
  },
  {
   "cell_type": "code",
   "execution_count": null,
   "id": "13",
   "metadata": {},
   "outputs": [],
   "source": [
    "x = a:0.01:b\n",
    "y = d2f2.(x)\n",
    "\n",
    "fig = plot(figsize=(800, 600),\n",
    "             xlabel=L\"x\", ylabel=L\"$f^{II}(x)$\",\n",
    "             framestyle=:box,\n",
    "             grid=true, gridalpha=0.5,\n",
    "            )\n",
    "\n",
    "plot!(fig, x, y,\n",
    "      label = L\"f_2^{II}(x)\",\n",
    "      color= :navy,\n",
    "     ) \n",
    "\n",
    "autosave(fig, \"5122_2.pdf\")\n",
    "display(fig)"
   ]
  },
  {
   "cell_type": "markdown",
   "id": "14",
   "metadata": {},
   "source": [
    "**(c)** $\\displaystyle \\int_0^{\\pi/2}e^x \\cos x\\, dx = \\frac{e^{\\pi/2}-1}{2}$"
   ]
  },
  {
   "cell_type": "code",
   "execution_count": null,
   "id": "15",
   "metadata": {},
   "outputs": [],
   "source": [
    "a = 0\n",
    "b = pi/2\n",
    "\n",
    "integral_vals = [IntegralTrap(f3, a, b, m) for m in n_intervals]\n",
    "errors = abs.(i3 .- integral_vals)\n",
    "h = (b-a) ./ n_intervals\n",
    "#design matrix\n",
    "A = hcat(ones(length(h)), log.(h))\n",
    "l_k, order_acc = least_sq(A, log.(errors))\n",
    "\n",
    "#plot section\n",
    "fig = plot(figsize=(800, 600),\n",
    "             xlabel=L\"m\", ylabel=L\"|R_T|\",\n",
    "             framestyle=:box,\n",
    "             grid=true, gridalpha=0.5,\n",
    "             xscale = :log10, yscale = :log10,\n",
    "             xticks = [10.0^i for i in 0:0.5:10], yticks = [10.0^i for i in -10:1:0],\n",
    "             legend = :topright\n",
    "            )\n",
    "\n",
    "plot!(fig, n_intervals, errors,\n",
    "      label = L\"Error\",\n",
    "      color= :navy,\n",
    "      marker = :circle,\n",
    "      lw = 3.0\n",
    "     ) \n",
    "\n",
    "y = exp(l_k) .* (((b-a) ./ n_intervals) .^ order_acc)\n",
    "plot!(fig, n_intervals, y,\n",
    "      label = latexstring(\"Fit\\\\ slope: \", @sprintf(\"%.2f\", order_acc)),\n",
    "      color = :darkorange,\n",
    "      )\n",
    "\n",
    "autosave(fig, \"5123.pdf\")\n",
    "display(fig)"
   ]
  },
  {
   "cell_type": "markdown",
   "id": "16",
   "metadata": {},
   "source": [
    "### Second derivative analysis\n",
    "In the graph we can see that second derivative is continuous. We expect second order behaviour"
   ]
  },
  {
   "cell_type": "code",
   "execution_count": null,
   "id": "17",
   "metadata": {},
   "outputs": [],
   "source": [
    "x = a:0.01:b\n",
    "y = d2f3.(x)\n",
    "\n",
    "fig = plot(figsize=(800, 600),\n",
    "             xlabel=L\"x\", ylabel=L\"$f^{II}(x)$\",\n",
    "             xticks=([i*pi/8 for i in 0:1:4], [L\"0\", L\"\\frac{\\pi}{8}\", L\"\\frac{\\pi}{4}\", L\"\\frac{3\\pi}{8}\", L\"\\frac{\\pi}{2}\"]),\n",
    "             framestyle=:box,\n",
    "             grid=true, gridalpha=0.5,\n",
    "            )\n",
    "\n",
    "plot!(fig, x, y,\n",
    "      label = L\"f_3^{II}(x)\",\n",
    "      color= :navy,\n",
    "     ) \n",
    "\n",
    "autosave(fig, \"5123_2.pdf\")\n",
    "display(fig)"
   ]
  },
  {
   "cell_type": "markdown",
   "id": "18",
   "metadata": {},
   "source": [
    "**(d)** $\\displaystyle \\int_0^1 {\\tan^{-1}(\\sqrt{2+x^2})\\over (1+x^2)\\sqrt{2+x^2}}dx={5\\pi^2\\over 96}$"
   ]
  },
  {
   "cell_type": "code",
   "execution_count": null,
   "id": "19",
   "metadata": {},
   "outputs": [],
   "source": [
    "a = 0\n",
    "b = 1\n",
    "\n",
    "integral_vals = [IntegralTrap(f4, a, b, m) for m in n_intervals]\n",
    "errors = abs.(i4 .- integral_vals)\n",
    "h = (b-a) ./ n_intervals\n",
    "#design matrix\n",
    "A = hcat(ones(length(h)), log.(h))\n",
    "l_k, order_acc = least_sq(A, log.(errors))\n",
    "\n",
    "#plot section\n",
    "fig = plot(figsize=(800, 600),\n",
    "             xlabel=L\"m\", ylabel=L\"|R_T|\",\n",
    "             framestyle=:box,\n",
    "             grid=true, gridalpha=0.5,\n",
    "             xscale = :log10, yscale = :log10,\n",
    "             xticks = [10.0^i for i in 0:0.5:10], yticks = [10.0^i for i in -10:1:0],\n",
    "             legend = :topright,\n",
    "            )\n",
    "\n",
    "plot!(fig, n_intervals, errors,\n",
    "      label = L\"Error\",\n",
    "      color= :navy,\n",
    "      marker = :circle,\n",
    "      lw = 3.0\n",
    "     ) \n",
    "\n",
    "y = exp(l_k) .* (((b-a) ./ n_intervals) .^ order_acc)\n",
    "plot!(fig, n_intervals, y,\n",
    "      label = latexstring(\"Fit\\\\ slope: \", @sprintf(\"%.2f\", order_acc)),\n",
    "      color = :darkorange,\n",
    "      )\n",
    "\n",
    "autosave(fig, \"5124.pdf\")\n",
    "display(fig)"
   ]
  },
  {
   "cell_type": "markdown",
   "id": "20",
   "metadata": {},
   "source": [
    "### Second derivative analysis\n",
    "In the graph we can see that second derivative is continuous. We expect second order behaviour"
   ]
  },
  {
   "cell_type": "code",
   "execution_count": null,
   "id": "21",
   "metadata": {},
   "outputs": [],
   "source": [
    "x = a:0.01:b\n",
    "y = d2f4.(x)\n",
    "\n",
    "fig = plot(figsize=(800, 600),\n",
    "             xlabel=L\"x\", ylabel=L\"$f^{II}(x)$\",\n",
    "             framestyle=:box,\n",
    "             grid=true, gridalpha=0.5,\n",
    "            )\n",
    "\n",
    "plot!(fig, x, y,\n",
    "      label = L\"f_4^{II}(x)\",\n",
    "      color= :navy,\n",
    "     ) \n",
    "\n",
    "autosave(fig, \"5124_2.pdf\")\n",
    "display(fig)"
   ]
  },
  {
   "cell_type": "markdown",
   "id": "22",
   "metadata": {},
   "source": [
    "**(e)** $\\displaystyle \\int_0^1 \\sqrt{x} \\log(x) \\, dx = -\\frac{4}{9}$ "
   ]
  },
  {
   "cell_type": "code",
   "execution_count": null,
   "id": "23",
   "metadata": {},
   "outputs": [],
   "source": [
    "a = 0\n",
    "b = 1\n",
    "\n",
    "integral_vals = [IntegralTrap(f5, a, b, m) for m in n_intervals]\n",
    "errors = abs.(i5 .- integral_vals)\n",
    "h = (b-a) ./ n_intervals\n",
    "#design matrix\n",
    "A = hcat(ones(length(h)), log.(h))\n",
    "l_k, order_acc = least_sq(A, log.(errors))\n",
    "\n",
    "#plot section\n",
    "fig = plot(figsize=(800, 600),\n",
    "             xlabel=L\"m\", ylabel=L\"|R_T|\",\n",
    "             framestyle=:box,\n",
    "             grid=true, gridalpha=0.5,\n",
    "             xscale = :log10, yscale = :log10,\n",
    "             xticks = [10.0^i for i in 0:0.5:10], yticks = [10.0^i for i in -10:1:0],\n",
    "             legend = :topright,\n",
    "            )\n",
    "\n",
    "plot!(fig, n_intervals, errors,\n",
    "      label = L\"Error\",\n",
    "      color= :navy,\n",
    "      marker = :circle,\n",
    "      lw = 3.0\n",
    "     ) \n",
    "\n",
    "y = exp(l_k) .* (((b-a) ./ n_intervals) .^ order_acc)\n",
    "plot!(fig, n_intervals, y,\n",
    "      label = latexstring(\"Fit\\\\ slope: \", @sprintf(\"%.2f\", order_acc)),\n",
    "      color = :darkorange,\n",
    "      )\n",
    "\n",
    "autosave(fig, \"5125.pdf\")\n",
    "display(fig)"
   ]
  },
  {
   "cell_type": "markdown",
   "id": "24",
   "metadata": {},
   "source": [
    "### Second derivative analysis\n",
    "In the graph we can see that second derivative is not continuos on the left integration extrema"
   ]
  },
  {
   "cell_type": "code",
   "execution_count": null,
   "id": "25",
   "metadata": {},
   "outputs": [],
   "source": [
    "x = a:0.01:b\n",
    "y = d2f5.(x)\n",
    "\n",
    "fig = plot(figsize=(800, 600),\n",
    "             xlabel=L\"x\", ylabel=L\"$f^{II}(x)$\",\n",
    "             framestyle=:box,\n",
    "             grid=true, gridalpha=0.5,\n",
    "            )\n",
    "\n",
    "plot!(fig, x, y,\n",
    "      label = L\"f_5^{II}(x)\",\n",
    "      color= :navy,\n",
    "     ) \n",
    "\n",
    "autosave(fig, \"5125_2.pdf\")\n",
    "display(fig)"
   ]
  },
  {
   "cell_type": "markdown",
   "id": "26",
   "metadata": {},
   "source": [
    " **(f)** $\\displaystyle \\int_0^1 \\sqrt{1-x^2}\\,\\, dx = \\frac{\\pi}{4}$"
   ]
  },
  {
   "cell_type": "code",
   "execution_count": null,
   "id": "27",
   "metadata": {},
   "outputs": [],
   "source": [
    "a = 0\n",
    "b = 1\n",
    "\n",
    "integral_vals = [IntegralTrap(f6, a, b, m) for m in n_intervals]\n",
    "errors = abs.(i6 .- integral_vals)\n",
    "h = (b-a) ./ n_intervals\n",
    "#design matrix\n",
    "A = hcat(ones(length(h)), log.(h))\n",
    "l_k, order_acc = least_sq(A, log.(errors))\n",
    "\n",
    "#plot section\n",
    "fig = plot(figsize=(800, 600),\n",
    "             xlabel=L\"m\", ylabel=L\"|R_T|\",\n",
    "             framestyle=:box,\n",
    "             grid=true, gridalpha=0.5,\n",
    "             xscale = :log10, yscale = :log10,\n",
    "             xticks = [10.0^i for i in 0:0.5:10], yticks = [10.0^i for i in -10:1:0],\n",
    "             legend = :topright\n",
    "            )\n",
    "\n",
    "plot!(fig, n_intervals, errors,\n",
    "      label = L\"Error\",\n",
    "      color= :navy,\n",
    "      marker = :circle,\n",
    "      lw = 3.0\n",
    "     ) \n",
    "\n",
    "y = exp(l_k) .* (((b-a) ./ n_intervals) .^ order_acc)\n",
    "plot!(fig, n_intervals, y,\n",
    "      label = latexstring(\"Fit\\\\ slope: \", @sprintf(\"%.2f\", order_acc)),\n",
    "      color = :darkorange,\n",
    "      )\n",
    "\n",
    "autosave(fig, \"5126.pdf\")\n",
    "display(fig)"
   ]
  },
  {
   "cell_type": "markdown",
   "id": "28",
   "metadata": {},
   "source": [
    "### Second derivative analysis\n",
    "In the graph we can see that second derivative is not continuos in the right integration extrema"
   ]
  },
  {
   "cell_type": "code",
   "execution_count": null,
   "id": "29",
   "metadata": {},
   "outputs": [],
   "source": [
    "x = a:0.01:b\n",
    "y = d2f6.(x)\n",
    "\n",
    "fig = plot(figsize=(800, 600),\n",
    "             xlabel=L\"x\", ylabel=L\"$f^{II}(x)$\",\n",
    "             framestyle=:box,\n",
    "             grid=true, gridalpha=0.5,\n",
    "            )\n",
    "\n",
    "plot!(fig, x, y,\n",
    "      label = L\"f_6^{II}(x)\",\n",
    "      color= :navy,\n",
    "     ) \n",
    "\n",
    "autosave(fig, \"5126_2.pdf\")\n",
    "display(fig)"
   ]
  }
 ],
 "metadata": {
  "kernelspec": {
   "display_name": "Julia 1.11.4",
   "language": "julia",
   "name": "julia-1.11"
  },
  "language_info": {
   "file_extension": ".jl",
   "mimetype": "application/julia",
   "name": "julia",
   "version": "1.11.4"
  }
 },
 "nbformat": 4,
 "nbformat_minor": 5
}
