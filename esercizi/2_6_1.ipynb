{
 "cells": [
  {
   "cell_type": "markdown",
   "metadata": {},
   "source": [
    "# Metodo dei minimi quadrati"
   ]
  },
  {
   "cell_type": "code",
   "execution_count": null,
   "metadata": {},
   "outputs": [],
   "source": [
    "#Import cell\n",
    "using Markdown     #Vsualizzazione di markdown in display\n",
    "#non devo importare LinearAlgebra perchè è già dentro il file linear_systems.jl\n",
    "include(\"c:\\\\ALL\\\\Stefano\\\\Bicocca\\\\3terzo_anno\\\\lab_comp\\\\lab_computazionale1\\\\librerie\\\\linear_systems.jl\")"
   ]
  },
  {
   "cell_type": "markdown",
   "metadata": {},
   "source": [
    "(**a**) Write a program that takes as input a matrix $\\mathbf{A}$ and a factor $\\mathbf{b}$ and solves the least-squares problem $\\text{argmin}\\| \\mathbf{b}- \\mathbf{A} \\mathbf{x}\\|_2$ using Cholesky decomposition.   "
   ]
  },
  {
   "cell_type": "code",
   "execution_count": null,
   "metadata": {},
   "outputs": [],
   "source": [
    "#la matrice A è m*n, b è di dimensione n\n",
    "function least_sq1(A, b)\n",
    "    At = transpose(A)\n",
    "    N = At*A   \n",
    "    z = At*b\n",
    "    \n",
    "    x = sls_chlsky(N, z)\n",
    "    return x\n",
    "end"
   ]
  },
  {
   "cell_type": "markdown",
   "metadata": {},
   "source": [
    "(**b**) In order to check your code work out the least-squares solution when\n",
    "\n",
    "$$\n",
    "\\mathbf{A} = \\begin{bmatrix}\n",
    "    2 & -1 \\\\\n",
    "    0 & 1 \\\\\n",
    "    -2 & 2\n",
    "\\end{bmatrix}, \\qquad \\mathbf{b} =\n",
    "\\begin{bmatrix}\n",
    "    1\\\\-5\\\\6\n",
    "\\end{bmatrix}.\n",
    "$$"
   ]
  },
  {
   "cell_type": "code",
   "execution_count": null,
   "metadata": {},
   "outputs": [],
   "source": [
    "#test cell\n",
    "A = [ 2 -1\n",
    "      0  1\n",
    "     -2  2\n",
    "    ]\n",
    "b = [1; -5; 6] #vettore colonna\n",
    "\n",
    "x = least_sq1(A, b)"
   ]
  }
 ],
 "metadata": {
  "kernelspec": {
   "display_name": "Julia 1.11.4",
   "language": "julia",
   "name": "julia-1.11"
  },
  "language_info": {
   "file_extension": ".jl",
   "mimetype": "application/julia",
   "name": "julia",
   "version": "1.11.4"
  }
 },
 "nbformat": 4,
 "nbformat_minor": 2
}
