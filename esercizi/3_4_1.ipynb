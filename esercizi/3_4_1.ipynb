{
 "cells": [
  {
   "cell_type": "markdown",
   "metadata": {},
   "source": [
    "# Secant method\n",
    "Write a program that implements the secant method."
   ]
  },
  {
   "cell_type": "code",
   "execution_count": null,
   "metadata": {},
   "outputs": [],
   "source": [
    "#Calculates the steps for finding a function's zero with the secant's method. Requires the function, the starting points, the root's multiplicity.\n",
    "#The first step is x1\n",
    "function secant_met_steps(f, x1, x2)\n",
    "    if x1==x2\n",
    "        throw(ArgumentError(\"The initial interval must be non degenerate.\"))\n",
    "    end\n",
    "    #I must be sure that x1 and x2 are in the right order\n",
    "    if x1 > x2\n",
    "        a=x2\n",
    "        x2=x1\n",
    "        x1=a\n",
    "    end\n",
    "\n",
    "    x = [x1, x2]\n",
    "    x_tol = 1.0e-15\n",
    "    y_tol = 1.0e-15\n",
    "    iter = 1\n",
    "    iter_max = 1000\n",
    "\n",
    "    while abs(x[iter+1] - x[iter]) > x_tol && abs(f(x[iter+1])) > y_tol \n",
    "        if iter > iter_max\n",
    "            println(\"secant_met_steps says: iterations' maximum number reached. Found zero could be inaccurate.\")\n",
    "            return x[iter], x\n",
    "        end\n",
    "        \n",
    "        m = (f(x[iter+1]) - f(x[iter])) / (x[iter+1] - x[iter])\n",
    "        push!(x, x[iter+1] - f(x[iter+1]/m))\n",
    "        iter+=1\n",
    "    end\n",
    "    return x[iter], x\n",
    "end"
   ]
  },
  {
   "cell_type": "code",
   "execution_count": null,
   "metadata": {},
   "outputs": [],
   "source": [
    "f(x) = sin(x)\n",
    "secant_met_steps(f, -0.5, 0.5 )"
   ]
  }
 ],
 "metadata": {
  "kernelspec": {
   "display_name": "Julia 1.11.4",
   "language": "julia",
   "name": "julia-1.11"
  },
  "language_info": {
   "file_extension": ".jl",
   "mimetype": "application/julia",
   "name": "julia",
   "version": "1.11.4"
  }
 },
 "nbformat": 4,
 "nbformat_minor": 2
}
