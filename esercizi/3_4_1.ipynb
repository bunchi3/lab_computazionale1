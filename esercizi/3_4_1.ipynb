{
 "cells": [
  {
   "cell_type": "markdown",
   "metadata": {},
   "source": [
    "# Secant method\n",
    "Chiedi dell'implementazione del bracketing, non capisco la bisezione. Quando la funzione assume valori negativi e positivi, la bisezione nonn dovrebbe essere necessaria.\n",
    "Write a program that implements the secant method."
   ]
  },
  {
   "cell_type": "code",
   "execution_count": null,
   "metadata": {},
   "outputs": [],
   "source": [
    "using Plots"
   ]
  },
  {
   "cell_type": "code",
   "execution_count": null,
   "metadata": {},
   "outputs": [],
   "source": [
    "#Calculates the steps for finding a function's zero with the secant's method. Requires the function, the starting points, the root's multiplicity.\n",
    "#The first step is x1\n",
    "function secant_met_steps(f, x1, x2)\n",
    "    if x1==x2\n",
    "        throw(ArgumentError(\"The initial interval must be non degenerate.\"))\n",
    "    end\n",
    "    #I must be sure that x1 and x2 are in the right order\n",
    "    if x1 > x2\n",
    "        a=x2\n",
    "        x2=x1\n",
    "        x1=a\n",
    "    end\n",
    "\n",
    "    x = [x1, x2]\n",
    "    x_tol = 1.0e-15\n",
    "    y_tol = 1.0e-15\n",
    "    iter = 1\n",
    "    iter_max = 1000\n",
    "\n",
    "    #If by accident the user finds exactly the zero\n",
    "    if abs(f(x1)f(x2)) < y_tol\n",
    "        if f(x1) == 0\n",
    "            println(\"Zero found by user.\")\n",
    "            return x1, x\n",
    "        else\n",
    "            println(\"Zero found by user.\")\n",
    "            return x2, x\n",
    "        end\n",
    "    end\n",
    "\n",
    "    #Case with bracketing\n",
    "    a = x1\n",
    "    b = x2\n",
    "    if f(a)f(b) < 0\n",
    "        while abs(x[iter+1] - x[iter]) > x_tol && abs(f(x[iter+1])) > y_tol \n",
    "            if iter > iter_max\n",
    "                println(\"secant_met_steps says: iterations' maximum number reached. Found zero could be inaccurate.\")\n",
    "                return x[iter], x\n",
    "            end\n",
    "            \n",
    "            m = (f(x[iter+1]) - f(x[iter])) / (x[iter+1] - x[iter])\n",
    "            #hypotetical x, maybe we will use the one found by bisection\n",
    "            x_hyp = x[iter+1] - f(x[iter+1])/m\n",
    "\n",
    "            #if x_hyp lies in the interval we're good to go with secant method\n",
    "            if x_hyp > x1 && x_hyp < x2\n",
    "                push!(x, x_hyp)\n",
    "                println(\"Secant method with bracketing\")\n",
    "            #if x_hyp doesn't lie in the interval we're good to go with bisection method\n",
    "            else \n",
    "                push!(x, (a+b)/2.0)\n",
    "                println(\"Bisection method applied\")\n",
    "            end\n",
    "            iter+=1\n",
    "        end\n",
    "    \n",
    "    #Case without bracketing\n",
    "    else\n",
    "        while abs(x[iter+1] - x[iter]) > x_tol && abs(f(x[iter+1])) > y_tol \n",
    "            if iter > iter_max\n",
    "                println(\"secant_met_steps says: iterations' maximum number reached. Found zero could be inaccurate.\")\n",
    "                return x[iter], x\n",
    "            end\n",
    "\n",
    "            m = (f(x[iter+1]) - f(x[iter])) / (x[iter+1] - x[iter])\n",
    "            push!(x, x[iter+1] - f(x[iter+1])/m)\n",
    "            println(\"Secant method without bracketing\")\n",
    "\n",
    "            iter+=1\n",
    "        end\n",
    "   \n",
    "    end    \n",
    "    return x[iter], x\n",
    "end"
   ]
  },
  {
   "cell_type": "code",
   "execution_count": null,
   "metadata": {},
   "outputs": [],
   "source": [
    "f(x) = x^2 -1\n",
    "sms = secant_met_steps(f, -0.1, 1.5)"
   ]
  },
  {
   "cell_type": "code",
   "execution_count": null,
   "metadata": {},
   "outputs": [],
   "source": [
    "x = [i for i in -0.1:0.01:3]\n",
    "plot(x, f.(x))\n",
    "plot!(x, zeros(length(x)))\n",
    "scatter!(sms[2][1:3], f.(sms[2])[1:3])"
   ]
  }
 ],
 "metadata": {
  "kernelspec": {
   "display_name": "Julia 1.11.4",
   "language": "julia",
   "name": "julia-1.11"
  },
  "language_info": {
   "file_extension": ".jl",
   "mimetype": "application/julia",
   "name": "julia",
   "version": "1.11.4"
  }
 },
 "nbformat": 4,
 "nbformat_minor": 2
}
