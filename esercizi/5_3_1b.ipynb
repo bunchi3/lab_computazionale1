{
 "cells": [
  {
   "cell_type": "markdown",
   "id": "0",
   "metadata": {},
   "source": [
    "# Gauss-Legendre quadrature\n",
    "## First part\n",
    "Write a program that computes the nodes and weights for the Gauss-Legendre quadrature in the interval $[-1,1]$."
   ]
  },
  {
   "cell_type": "code",
   "execution_count": null,
   "id": "1",
   "metadata": {},
   "outputs": [],
   "source": [
    "using Plots"
   ]
  },
  {
   "cell_type": "markdown",
   "id": "2",
   "metadata": {},
   "source": [
    " **(b)** In order to use Newton's method you need to compute the derivative $P'_n(x)$ of $P_n(x)$. You can obtain this by solving the recursion relations,\n",
    "\n",
    "$$\n",
    "    \\begin{split}\n",
    "        (m+1)P_{m+1}(x) &= (2m+1)xP_{m}(x) - mP_{m-1}(x)\\,,\\\\[2.5mm]\n",
    "    (x^{2}-1)P'_{m}(x)&=m[xP_{m}(x)-P_{m-1}(x)]\\,, \n",
    "    \\end{split}\n",
    "$$\n",
    "\n",
    "for $m=1,\\ldots,n$, with $P_0(x) = 1$ and $P_1(x) = x$."
   ]
  },
  {
   "cell_type": "code",
   "execution_count": null,
   "id": "3",
   "metadata": {},
   "outputs": [],
   "source": [
    "#Legendre polynomials\n",
    "\n",
    "#if you just need the polynomials\n",
    "#n is the maximum polynomial order\n",
    "#Returns a vector containing all legendre polynomials in function format up to n-th order\n",
    "function leg_pol(n::Int)\n",
    "    #this is a vector which will contain the polynomial in function format\n",
    "    pol_vec = [x -> 1, x -> x]\n",
    "    \n",
    "    #= for m we calcualate order P_{m+1}, this means that for m = 1 we calculate P_2 (we already have P_0 and P_1).\n",
    "    We want P_n, so m must be n-1 at best.  \n",
    "    Moreover, Julia language starts numerating arrays from 1, so every polynomial is shifted by 1 in position and degree=#\n",
    "    for m in 1:1:(n-1) \n",
    "        func = x -> ((2m+1)*x*pol_vec[m+1](x) - m*pol_vec[m](x))/(m+1)\n",
    "        push!(pol_vec, func)\n",
    "    end\n",
    "    \n",
    "    return pol_vec\n",
    "end\n",
    "\n",
    "#If you just need the derivatives\n",
    "#= n is the maximum polynomial order\n",
    "Returns a vector containing all first derivative of legendre polynomials in function format up to n-th order =#\n",
    "function leg_pol_der(n::Int)\n",
    "    pol = leg_pol(n)\n",
    "    der_vec = [x -> 0, x -> 1]\n",
    "\n",
    "    for m in 2:1:n\n",
    "        func = x -> m*(x*pol[m+1](x) - pol[m](x))/(x^2-1)    \n",
    "        push!(der_vec, func)     \n",
    "    end\n",
    "\n",
    "    return der_vec\n",
    "end\n",
    "\n",
    "#returns the legendre polynomials and their derivatives\n",
    "function all_leg_pol(n::Int)\n",
    "    pol_vec = [x -> 1, x -> x]\n",
    "    der_vec = [x -> 0, x -> 1]\n",
    "\n",
    "    for m in 1:1:(n-1) \n",
    "        func = x -> ((2m+1)*x*pol_vec[m+1](x) - m*pol_vec[m](x))/(m+1)\n",
    "        push!(pol_vec, func)\n",
    "    end\n",
    "\n",
    "    for m in 2:1:n\n",
    "        func = x -> m*(x*pol_vec[m+1](x) - pol_vec[m](x))/(x^2-1)    \n",
    "        push!(der_vec, func)     \n",
    "    end\n",
    "\n",
    "    return pol_vec, der_vec\n",
    "end"
   ]
  },
  {
   "cell_type": "code",
   "execution_count": null,
   "id": "4",
   "metadata": {},
   "outputs": [],
   "source": [
    "x = [i for i in -1:0.01:1]\n",
    "n = 6\n",
    "\n",
    "pol, der = all_leg_pol(n)\n",
    "fig1 = plot()\n",
    "fig2 = plot()\n",
    "\n",
    "for i in 1:1:n\n",
    "    plot!(fig1, x, pol[i].(x))  \n",
    "    plot!(fig2, x, der[i].(x))  \n",
    "end\n",
    "\n",
    "display(fig1)\n",
    "display(fig2)"
   ]
  }
 ],
 "metadata": {
  "kernelspec": {
   "display_name": "Julia 1.11.4",
   "language": "julia",
   "name": "julia-1.11"
  },
  "language_info": {
   "file_extension": ".jl",
   "mimetype": "application/julia",
   "name": "julia",
   "version": "1.11.4"
  }
 },
 "nbformat": 4,
 "nbformat_minor": 5
}
