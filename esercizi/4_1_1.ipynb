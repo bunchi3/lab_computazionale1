{
 "cells": [
  {
   "cell_type": "markdown",
   "metadata": {},
   "source": [
    "# Vandermonde's matrix"
   ]
  },
  {
   "cell_type": "code",
   "execution_count": null,
   "metadata": {},
   "outputs": [],
   "source": [
    "using Plots\n",
    "using LaTeXStrings"
   ]
  },
  {
   "cell_type": "markdown",
   "metadata": {},
   "source": [
    "**(a)** Let $\\mathbf{V}_n$ denote the $n\\times n$ Vandermonde matrix based on the equally spaced interpolation nodes $x_i=i/n$ for $i=1,\\ldots,n$. Using the 1-norm (or $\\infty$-norm), graph $\\kappa(\\mathbf{V}_n)$ as a function of $n$ for $n=4,5,6,\\ldots,20$, using a log scale on the $y$-axis. What behavior do yo observe?"
   ]
  },
  {
   "cell_type": "code",
   "execution_count": null,
   "metadata": {},
   "outputs": [],
   "source": [
    "n = [i for i in 1:20]\n",
    "#This vector contains vectors, each one containing the equally spaced interpolation nodes at a given n\n",
    "x = [[i/j for i in 1:j] for j in n]\n",
    "\n",
    "#this vector contains the vandermonde's matrices. i element is a matrix i*i\n",
    "V_vec = [hcat([xi.^(j-1) for j in 1:1:length(xi)] ...) for xi in x]\n"
   ]
  }
 ],
 "metadata": {
  "kernelspec": {
   "display_name": "Julia 1.11.4",
   "language": "julia",
   "name": "julia-1.11"
  },
  "language_info": {
   "file_extension": ".jl",
   "mimetype": "application/julia",
   "name": "julia",
   "version": "1.11.4"
  }
 },
 "nbformat": 4,
 "nbformat_minor": 2
}
