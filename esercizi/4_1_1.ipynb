{
 "cells": [
  {
   "cell_type": "markdown",
   "metadata": {},
   "source": [
    "# Vandermonde's matrix"
   ]
  },
  {
   "cell_type": "code",
   "execution_count": null,
   "metadata": {},
   "outputs": [],
   "source": [
    "using Plots\n",
    "using LaTeXStrings\n",
    "include(\"c:\\\\ALL\\\\Stefano\\\\Bicocca\\\\3terzo_anno\\\\lab_comp\\\\lab_computazionale1\\\\librerie\\\\linear_systems.jl\")"
   ]
  },
  {
   "cell_type": "markdown",
   "metadata": {},
   "source": [
    "**(a)** Let $\\mathbf{V}_n$ denote the $n\\times n$ Vandermonde matrix based on the equally spaced interpolation nodes $x_i=i/n$ for $i=1,\\ldots,n$. Using the 1-norm (or $\\infty$-norm), graph $\\kappa(\\mathbf{V}_n)$ as a function of $n$ for $n=4,5,6,\\ldots,20$, using a log scale on the $y$-axis. What behavior do yo observe?"
   ]
  },
  {
   "cell_type": "code",
   "execution_count": null,
   "metadata": {},
   "outputs": [],
   "source": [
    "n = [i for i in 1:20]\n",
    "#This vector contains vectors, each one containing the equally spaced interpolation nodes at a given n\n",
    "x = [[i/j for i in 1:j] for j in n]\n",
    "\n",
    "#this vector contains the vandermonde's matrices. i element is a matrix i*i\n",
    "V_vec = [hcat([xi.^(j-1) for j in 1:1:length(xi)] ...) for xi in x]\n",
    "#condition nummber with 1norm\n",
    "k = k1norm.(V_vec)"
   ]
  },
  {
   "cell_type": "code",
   "execution_count": null,
   "metadata": {},
   "outputs": [],
   "source": [
    "#Plot cell\n",
    "fig = plot(title = \"Vandermonde matrix's condition number\",\n",
    "           xlabel=L\"n\", ylabel=L\"k(A)\",\n",
    "           #xscale=:log10, \n",
    "           yscale=:log10,\n",
    "           framestyle=:box,\n",
    "           grid=true, gridalpha=0.5,\n",
    "           xticks= [i for i in 1:2:length(n)], yticks=[(10.0)^i for i in 0:2:log10(maximum(k))],\n",
    "          )\n",
    "\n",
    "plot!(fig, n, k,\n",
    "      label = \"\",\n",
    "      marker=:circle,\n",
    "      markersize=3.5,\n",
    "     )"
   ]
  }
 ],
 "metadata": {
  "kernelspec": {
   "display_name": "Julia 1.11.4",
   "language": "julia",
   "name": "julia-1.11"
  },
  "language_info": {
   "file_extension": ".jl",
   "mimetype": "application/julia",
   "name": "julia",
   "version": "1.11.4"
  }
 },
 "nbformat": 4,
 "nbformat_minor": 2
}
