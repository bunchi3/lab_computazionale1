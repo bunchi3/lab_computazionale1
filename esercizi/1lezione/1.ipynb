{
 "cells": [
  {
   "cell_type": "code",
   "execution_count": null,
   "metadata": {},
   "outputs": [],
   "source": [
    "#Import cell\n",
    "using Plots"
   ]
  },
  {
   "cell_type": "code",
   "execution_count": null,
   "metadata": {},
   "outputs": [],
   "source": [
    "#Function cell\n",
    "function approx_exp(x, N)\n",
    "    sum = 0\n",
    "    for n = 0:N\n",
    "        sum += x^n / factorial(n)\n",
    "    end\n",
    "    return sum\n",
    "end\n",
    "\n",
    "function scaling(x, N)\n",
    "    return x^(N+1) / factorial(N+1)\n",
    "end"
   ]
  },
  {
   "cell_type": "code",
   "execution_count": null,
   "metadata": {},
   "outputs": [],
   "source": [
    "#Creo un array di valori di x\n",
    "x = collect(0:0.01:1)\n",
    "y = exp.(x)\n",
    "\n",
    "n_min = 1\n",
    "n_max = 4\n",
    "N = [x for x in n_min:n_max]\n",
    "\n",
    "gn = []\n",
    "for n in N\n",
    "    push!(gn, [approx_exp(x, n) for x in x])\n",
    "end\n",
    "\n",
    "delta = [abs.(y - gn) for gn in gn]\n",
    "\n",
    "scaling_delta = []\n",
    "for n in N\n",
    "    push!(scaling_delta, [scaling(x, n) for x in x])\n",
    "end\n",
    "\n",
    "fig = plot(layout=(2,2))\n",
    "for i in n_min:n_max\n",
    "    plot!(fig[i], x, delta[i], label=\"N = $i\")\n",
    "    plot!(fig[i], x, scaling_delta[i], label=\"scaling\")\n",
    "end\n",
    "\n",
    "display(fig)"
   ]
  }
 ],
 "metadata": {
  "kernelspec": {
   "display_name": "Julia 1.11.3",
   "language": "julia",
   "name": "julia-1.11"
  },
  "language_info": {
   "file_extension": ".jl",
   "mimetype": "application/julia",
   "name": "julia",
   "version": "1.11.3"
  }
 },
 "nbformat": 4,
 "nbformat_minor": 2
}
