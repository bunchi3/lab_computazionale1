{
 "cells": [
  {
   "cell_type": "markdown",
   "metadata": {},
   "source": [
    "# Bisection method"
   ]
  },
  {
   "cell_type": "markdown",
   "metadata": {},
   "source": [
    "Implement the bisection method and test it with a simple function, e.g. $f(x)=x$."
   ]
  },
  {
   "cell_type": "code",
   "execution_count": null,
   "metadata": {},
   "outputs": [],
   "source": [
    "function x_func(x)\n",
    "    return x\n",
    "end\n",
    "\n",
    "function bis_met(func, a, b)\n",
    "    #making sure the interval (a, b) is well defined\n",
    "    if (a=b)\n",
    "        println(\"Hi\")\n",
    "        throw(ArgumentError(\"a and b must be different\"))\n",
    "    elseif (b < a)\n",
    "        c = b\n",
    "        b = a\n",
    "        a = c\n",
    "    end\n",
    "    \n",
    "    #m is the middle point of the interval, it is defined so because of rounding errors\n",
    "    m = a + (b-a)/2.0\n",
    "    func0 = func(m)\n",
    "\n",
    "    if func(m)*func(a) > 0\n",
    "        bis_met(func, m, b)\n",
    "    else\n",
    "        bis_met(func, a, m)\n",
    "    end\n",
    "\n",
    "    return func0\n",
    "end"
   ]
  },
  {
   "cell_type": "code",
   "execution_count": null,
   "metadata": {},
   "outputs": [],
   "source": []
  },
  {
   "cell_type": "code",
   "execution_count": null,
   "metadata": {},
   "outputs": [],
   "source": [
    "#testing bis_met\n",
    "zero_value = bis_met(x_func, -1.0, 1.0)\n",
    "println(zero_value)"
   ]
  }
 ],
 "metadata": {
  "kernelspec": {
   "display_name": "Julia 1.11.4",
   "language": "julia",
   "name": "julia-1.11"
  },
  "language_info": {
   "file_extension": ".jl",
   "mimetype": "application/julia",
   "name": "julia",
   "version": "1.11.4"
  }
 },
 "nbformat": 4,
 "nbformat_minor": 2
}
