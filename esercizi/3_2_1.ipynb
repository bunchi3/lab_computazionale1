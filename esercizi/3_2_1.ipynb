{
 "cells": [
  {
   "cell_type": "markdown",
   "metadata": {},
   "source": [
    "# Bisection method"
   ]
  },
  {
   "cell_type": "markdown",
   "metadata": {},
   "source": [
    "Implement the bisection method and test it with a simple function, e.g. $f(x)=x$."
   ]
  },
  {
   "cell_type": "code",
   "execution_count": null,
   "metadata": {},
   "outputs": [],
   "source": [
    "function x_func(x)\n",
    "    return x\n",
    "end\n",
    "#Calculates a function's zero with a recursive method\n",
    "#The problem of the recursive method is in escaping the recursion: the condition needs the intial values of a, and b.\n",
    "function bis_met_rec(func, a, b)\n",
    "    #making sure the interval (a, b) is well defined\n",
    "    if (a==b)\n",
    "        throw(ArgumentError(\"a and b must be different\"))\n",
    "    elseif (b < a)\n",
    "        c = b\n",
    "        b = a\n",
    "        a = c\n",
    "    end\n",
    "    \n",
    "    #m is the middle point of the interval, it is defined so because of rounding errors\n",
    "    m = a + (b-a)/2.0\n",
    "    func0 = func(m)\n",
    "    \n",
    "    #If the interval is small enough the function returns the middle point\n",
    "    if (b-a) < 2^(-16)*(maximum([abs(a), abs(b)]))\n",
    "        return func0\n",
    "    end\n",
    "\n",
    "    if func(m)*func(a) > 0\n",
    "        bis_met(func, m, b)\n",
    "    else\n",
    "        bis_met(func, a, m)\n",
    "    end\n",
    "end\n",
    "\n",
    "function bis_met(func, A, B)\n",
    "    #making sure the interval (A, B) is well defined\n",
    "    if (A==B)\n",
    "        throw(ArgumentError(\"a and b must be different\"))\n",
    "    elseif (B < A)\n",
    "        c = B\n",
    "        B = A\n",
    "        A = c\n",
    "    end\n",
    "\n",
    "    iter_max = 1000     #massimo di iterazioni\n",
    "    I_length = B-A      #lunghezza dell'intervallo inziale\n",
    "\n",
    "    #estremi iniziali dell'intervallo\n",
    "    b=B\n",
    "    a=A\n",
    "    iter = 0\n",
    "\n",
    "    while I_length > 10^(-16)*(maximum([abs(a), abs(b)]))\n",
    "        m = a + abs(b-a)/2.0       #middle point, defined so because of rounding errors\n",
    "        if func(m)*func(a) > 0\n",
    "            a = m\n",
    "        elseif func(m)*func(a) < 0\n",
    "            b = m\n",
    "        else\n",
    "            return m\n",
    "        end  \n",
    "\n",
    "        #updating data\n",
    "        I_length = abs(b -a)\n",
    "        iter += 1\n",
    "        \n",
    "        if iter == iter_max\n",
    "            break\n",
    "        end\n",
    "    end\n",
    "    return m\n",
    "end\n"
   ]
  },
  {
   "cell_type": "code",
   "execution_count": null,
   "metadata": {},
   "outputs": [],
   "source": [
    "#testing bis_met\n",
    "zero_value_symm = bis_met(x_func, -1.0, 1.0)\n",
    "zero_value_asym = bis_met(x_func, -5.0, 1.0)\n",
    "println(zero_value_symm)\n",
    "println(zero_value_asym)"
   ]
  }
 ],
 "metadata": {
  "kernelspec": {
   "display_name": "Julia 1.11.4",
   "language": "julia",
   "name": "julia-1.11"
  },
  "language_info": {
   "file_extension": ".jl",
   "mimetype": "application/julia",
   "name": "julia",
   "version": "1.11.4"
  }
 },
 "nbformat": 4,
 "nbformat_minor": 2
}
