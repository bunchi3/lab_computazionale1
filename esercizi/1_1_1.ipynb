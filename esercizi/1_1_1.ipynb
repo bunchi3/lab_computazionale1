{
 "cells": [
  {
   "cell_type": "markdown",
   "metadata": {},
   "source": [
    "# Roundoff errors\n",
    "Consider the function $f(x)=e^x$ in the interval $x\\in [0,1]$. Write a program that calculates the corresponding approximating series:\n",
    "$g_N(x)=\\sum_{n=0}^N {x^n\\over n!}\\,.$"
   ]
  },
  {
   "cell_type": "code",
   "execution_count": null,
   "metadata": {},
   "outputs": [],
   "source": [
    "#Import cell\n",
    "using Plots\n",
    "using LaTeXStrings\n",
    "function autosave(fig, filename)\n",
    "    path = \"C:\\\\ALL\\\\Stefano\\\\Bicocca\\\\3terzo_anno\\\\lab_comp\\\\lab_computazionale1\\\\relazione\\\\immagini\"\n",
    "    savefig(fig, joinpath(path, filename))\n",
    "end"
   ]
  },
  {
   "cell_type": "code",
   "execution_count": null,
   "metadata": {},
   "outputs": [],
   "source": [
    "#Function cell\n",
    "function approx_exp(x, N)\n",
    "    sum = 0\n",
    "    for n = 0:N\n",
    "        sum += x^n / factorial(n)\n",
    "    end\n",
    "    return sum\n",
    "end\n",
    "\n",
    "function scaling(x, N)\n",
    "    return x^(N+1) / factorial(N+1)\n",
    "end"
   ]
  },
  {
   "cell_type": "markdown",
   "metadata": {},
   "source": [
    "**(a)** Verify that the absolute error $\\Delta=|f(x)-g_N(x)|$ scales approximately with $\\frac{x^{N+1}}{(N+1)!}$ for $N=1,2,3,4$."
   ]
  },
  {
   "cell_type": "markdown",
   "metadata": {},
   "source": [
    "This cell returns two vectors:\n",
    "- The first one (delta) contains 4 vectors, which are the difference between the Taylor series truncated to the corresponding N and the exact function.\n",
    "- The second one (scaling_delta) contains 4 vectors, which are $\\frac{x^{N+1}}{(N+1)!}$ for each N."
   ]
  },
  {
   "cell_type": "code",
   "execution_count": null,
   "metadata": {},
   "outputs": [],
   "source": [
    "#Creating exact data\n",
    "x = collect(0:0.01:1)\n",
    "f = exp.(x)\n",
    "\n",
    "#Creating N, the number of terms in the Taylor series\n",
    "n_min = 1\n",
    "n_max = 4\n",
    "N = [n for n in n_min:n_max]\n",
    "\n",
    "#Creating the Taylor series approximations\n",
    "gn = []\n",
    "for n in N\n",
    "    push!(gn, [approx_exp(value, n) for value in x])\n",
    "end\n",
    "\n",
    "#Differece between the Taylor series and the exact function\n",
    "delta = [abs.(f - gn) for gn in gn]\n",
    "\n",
    "#Creating the scaling function\n",
    "scaling_delta = []\n",
    "for n in N\n",
    "    push!(scaling_delta, [scaling(value, n) for value in x])\n",
    "end"
   ]
  },
  {
   "cell_type": "markdown",
   "metadata": {},
   "source": [
    "This cell return the plots. We can see in general two behaviors:\n",
    "- The first one regards the $\\Delta=|f(x)-g_N(x)|$ function: as $N$ increases we expect it to be flatter and flatter. For $N \\rightarrow \\infty$ the $\\Delta$ function should be 0 between $[0, 1)$. In the plot we can see that, for increasing $N$, $\\Delta$ function approximates 0, especially when $x \\rightarrow 0$, which is the Taylor expansion' limit.\n",
    "- The second one regards the fact that as $N$ increases the $\\frac{x^{N+1}}{(N+1)!}$ function approximates better the $\\Delta$ function. "
   ]
  },
  {
   "cell_type": "code",
   "execution_count": null,
   "metadata": {},
   "outputs": [],
   "source": [
    "#Plot cell\n",
    "\n",
    "suptitlestr = L\"Comparison of truncated series and scaling function\"\n",
    "fig = plot(layout=(2,2),\n",
    "           xlabel=L\"x\",\n",
    "           ylabel=L\"y\",\n",
    "           legend=:topleft,\n",
    "           size=(800, 600),\n",
    "           grid=true,\n",
    "           gridalpha=0.5,\n",
    "           framestyle=:box,\n",
    "           #suptitle=suptitlestr\n",
    "           )\n",
    "\n",
    "for N in n_min:n_max\n",
    "    # First, I construct a string with the number i inside\n",
    "    label1 = \"\\$|f(x) - g_{\" * string(N) * \"}(x)|\\$\"\n",
    "    label2 = \"\\$ \\\\frac{x^{\" * string(N+1) * \"}}{\" * string(N+1) * \"!}\\$\"\n",
    "    # Then, I convert it into a LaTeXString object\n",
    "    tex_label1 = latexstring(label1)\n",
    "    tex_label2 = latexstring(label2)\n",
    "    # Finally, I use it as a label\n",
    "    plot!(fig[N], x, delta[N], label=tex_label1,\n",
    "          color = :navy\n",
    "         )\n",
    "    plot!(fig[N], x, scaling_delta[N], label=tex_label2,\n",
    "          color = :darkorange\n",
    "         )\n",
    "end\n",
    "\n",
    "display(fig)\n",
    "autosave(fig, \"1011.pdf\")"
   ]
  }
 ],
 "metadata": {
  "kernelspec": {
   "display_name": "Julia 1.11.4",
   "language": "julia",
   "name": "julia-1.11"
  },
  "language_info": {
   "file_extension": ".jl",
   "mimetype": "application/julia",
   "name": "julia",
   "version": "1.11.4"
  }
 },
 "nbformat": 4,
 "nbformat_minor": 2
}
