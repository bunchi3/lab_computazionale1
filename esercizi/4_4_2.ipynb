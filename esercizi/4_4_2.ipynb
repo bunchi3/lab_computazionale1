{
 "cells": [
  {
   "cell_type": "markdown",
   "id": "0",
   "metadata": {},
   "source": [
    "# Second Chebyshev points fit"
   ]
  },
  {
   "cell_type": "code",
   "execution_count": null,
   "id": "1",
   "metadata": {},
   "outputs": [],
   "source": [
    "using Plots\n",
    "using Markdown\n",
    "using LaTeXStrings\n",
    "using Printf\n",
    "include(\"c:\\\\ALL\\\\Stefano\\\\Bicocca\\\\3terzo_anno\\\\lab_comp\\\\lab_computazionale1\\\\librerie\\\\interpolation.jl\")"
   ]
  },
  {
   "cell_type": "markdown",
   "id": "2",
   "metadata": {},
   "source": [
    "1. **(a)** For each case below, compute the polynomial interpolant using $n$ second-kind Chebyshev nodes in $[-1,1]$ for $n=4,8,12,\\ldots,60$. At each value of $n$, compute the $\\infty$-norm error (that is, $||f-p||_\\infty=\\max_{x\\in[-1,1]} |p(x)-f(x)|$ evaluated for at least 4000 values of $x$). Using a log-linear scale, plot the error as a function of $n$, then determine a good approximation to the constant $K$, that is:\n",
    "$$\n",
    "\n",
    "||f-p||_\\infty=\\max_{x\\in[-1,1]} |p(x)-f(x)| \\leq C K^{-n}\n",
    "\n",
    "$$\n",
    "\n",
    "- $f(x) = \\frac{1}{25x^2+1}$ \n",
    "\n",
    "- $f(x) = \\tanh(5 x+2)$\n",
    "\n",
    "- $f(x) = \\cosh(\\sin x)$\n",
    "\n",
    "- $f(x) = \\sin(\\cosh x)$ "
   ]
  },
  {
   "cell_type": "code",
   "execution_count": null,
   "id": "3",
   "metadata": {},
   "outputs": [],
   "source": [
    "a=-1; b=1\n",
    "n_min=4; n_max=60\n",
    "pt_type=\"c2\"\n",
    "x = [i for i in a:0.0005:b]\n",
    "n = [i for i in n_min:4:n_max]\n",
    "f1(x) = 1/(25*x^2+1)\n",
    "f2(x) = tanh(5x+2)\n",
    "f3(x) = cosh(sin(x))\n",
    "f4(x) = sin(cosh(x))"
   ]
  },
  {
   "cell_type": "markdown",
   "id": "4",
   "metadata": {},
   "source": [
    "In order to find $K$ I can use the fact that C is arbitrary and fit the plots with this relation: \n",
    "$$\n",
    "\\log_{10}|p(x)-f(x)| = \\log_{10}(C) + n(-\\log_{10}(K))\n",
    "$$ \n",
    "I won't always fit the plot's entirety because of machine precision. In fact I expect, on a logarithmic graph, a linear decreasing behaviour, until $10^{-16}$ (our $\\epsilon_{mach}$). After this value I expect a plateu."
   ]
  },
  {
   "cell_type": "code",
   "execution_count": null,
   "id": "5",
   "metadata": {},
   "outputs": [],
   "source": [
    "#Design marix\n",
    "function D(x_data)\n",
    "    n = length(x_data)\n",
    "    return hcat(ones(n), x_data)\n",
    "end"
   ]
  },
  {
   "cell_type": "markdown",
   "id": "6",
   "metadata": {},
   "source": [
    "$f(x) = \\frac{1}{25x^2+1}$ "
   ]
  },
  {
   "cell_type": "code",
   "execution_count": null,
   "id": "7",
   "metadata": {},
   "outputs": [],
   "source": [
    "#Calculating plot data\n",
    "polyn = [lag_fit(ni, a, b, f1, pt_type)[1] for ni in n]                 #Vector of functions (fitting polynomials)\n",
    "errors = [maximum(abs.(polyn[i].(x)-f1.(x))) for i in 1:1:length(n)]    #Distance between exact function and polynomials\n",
    "#Error fitting, calculating K\n",
    "coeff = least_sq(D(n), log10.(errors))\n",
    "C = 10.0^coeff[1]\n",
    "K = 10.0^(-coeff[2])\n",
    "fitted_errors = C .* K .^ (-n)\n",
    "\n",
    "#Plot section\n",
    "fig = plot(title=L\"1/(25x^2+1)\",\n",
    "           figsize=(800, 600),\n",
    "           xlabel=L\"n\", ylabel=L\"error\",\n",
    "           yscale=:log10,\n",
    "           framestyle=:box,\n",
    "           grid=true, gridalpha=0.5,\n",
    "           xticks=[n[i] for i in 1:2:length(n)], yticks=[10.0^i for i in 0:-0.5:-16]\n",
    "          )\n",
    "\n",
    "scatter!(fig, n, errors,\n",
    "         label=L\"|p_n(x)-f(x)|\",\n",
    "         color=:blue,\n",
    "        )\n",
    "\n",
    "plot!(fig, n, fitted_errors,\n",
    "      label=L\"Errors' fit\",\n",
    "      color=:red,\n",
    "     )\n",
    "\n",
    "display(fig)\n",
    "\n",
    "result_text = @sprintf(\"Estimated K value: %.3f\", K)\n",
    "display(Markdown.parse(result_text))"
   ]
  },
  {
   "cell_type": "markdown",
   "id": "8",
   "metadata": {},
   "source": [
    "$f(x) = \\tanh(5 x+2)$"
   ]
  },
  {
   "cell_type": "code",
   "execution_count": null,
   "id": "9",
   "metadata": {},
   "outputs": [],
   "source": [
    "#Calculating plot data\n",
    "polyn = [lag_fit(ni, a, b, f2, pt_type)[1] for ni in n]                 #Vector of functions (fitting polynomials)\n",
    "errors = [maximum(abs.(polyn[i].(x)-f2.(x))) for i in 1:1:length(n)]    #Distance between exact function and polynomials\n",
    "#Error fitting, calculating K\n",
    "coeff = least_sq(D(n), log10.(errors))\n",
    "C = 10.0^coeff[1]\n",
    "K = 10.0^(-coeff[2])\n",
    "fitted_errors = C .* K .^ (-n)\n",
    "\n",
    "#Plot section\n",
    "fig = plot(title=L\"\\tanh(5 x+2)\",\n",
    "           figsize=(800, 600),\n",
    "           xlabel=L\"n\", ylabel=L\"error\",\n",
    "           yscale=:log10,\n",
    "           framestyle=:box,\n",
    "           grid=true, gridalpha=0.5,\n",
    "           xticks=[n[i] for i in 1:2:length(n)], yticks=[10.0^i for i in 0:-1:-16]\n",
    "          )\n",
    "\n",
    "scatter!(fig, n, errors,\n",
    "         label=L\"|p_n(x)-f(x)|\",\n",
    "         color=:blue,\n",
    "        )\n",
    "\n",
    "plot!(fig, n, fitted_errors,\n",
    "      label=L\"Errors' fit\",\n",
    "      color=:red,\n",
    "     )\n",
    "\n",
    "display(fig)\n",
    "\n",
    "result_text = @sprintf(\"Estimated K value: %.3f\", K)\n",
    "display(Markdown.parse(result_text))"
   ]
  },
  {
   "cell_type": "markdown",
   "id": "10",
   "metadata": {},
   "source": [
    "$f(x) = \\cosh(\\sin x)$"
   ]
  },
  {
   "cell_type": "code",
   "execution_count": null,
   "id": "11",
   "metadata": {},
   "outputs": [],
   "source": [
    "#Calculating plot data\n",
    "polyn = [lag_fit(ni, a, b, f3, pt_type)[1] for ni in n]                 #Vector of functions (fitting polynomials)\n",
    "errors = [maximum(abs.(polyn[i].(x)-f3.(x))) for i in 1:1:length(n)]    #Distance between exact function and polynomials\n",
    "#Error fitting, calculating K\n",
    "n_max_fit = Int(20/4)\n",
    "coeff = least_sq(D(n[1:n_max_fit]), log10.(errors[1:n_max_fit]))\n",
    "C = 10.0^coeff[1]\n",
    "K = 10.0^(-coeff[2])\n",
    "fitted_errors = C .* K .^ (-n[1:n_max_fit])\n",
    "\n",
    "#Plot section\n",
    "fig = plot(title=L\"\\cosh(\\sin x)\",\n",
    "           figsize=(800, 600),\n",
    "           xlabel=L\"n\", ylabel=L\"error\",\n",
    "           yscale=:log10,\n",
    "           framestyle=:box,\n",
    "           grid=true, gridalpha=0.5,\n",
    "           xticks=[n[i] for i in 1:2:length(n)], yticks=[10.0^i for i in 0:-2:-16]\n",
    "          )\n",
    "\n",
    "scatter!(fig, n, errors,\n",
    "         label=L\"|p_n(x)-f(x)|\",\n",
    "         color=:blue,\n",
    "        )\n",
    "\n",
    "plot!(fig, n[1:n_max_fit], fitted_errors,\n",
    "      label=L\"Errors' fit\",\n",
    "      color=:red,\n",
    "     )\n",
    "\n",
    "plot!(fig, n, fill(10.0^(-16), length(n)),\n",
    "     label=L\"\\epsilon_{mach}\",\n",
    "     color=:black,\n",
    "     )\n",
    "\n",
    "display(fig)\n",
    "\n",
    "result_text = @sprintf(\"Estimated K value: %.3f\", K)\n",
    "display(Markdown.parse(result_text))"
   ]
  },
  {
   "cell_type": "markdown",
   "id": "12",
   "metadata": {},
   "source": [
    "$f(x) = \\sin(\\cosh x)$ "
   ]
  },
  {
   "cell_type": "code",
   "execution_count": null,
   "id": "13",
   "metadata": {},
   "outputs": [],
   "source": [
    "#Calculating plot data\n",
    "polyn = [lag_fit(ni, a, b, f4, pt_type)[1] for ni in n]                 #Vector of functions (fitting polynomials)\n",
    "errors = [maximum(abs.(polyn[i].(x)-f4.(x))) for i in 1:1:length(n)]    #Distance between exact function and polynomials\n",
    "#Error fitting, calculating K\n",
    "n_max_fit = Int(24/4)\n",
    "coeff = least_sq(D(n[1:n_max_fit]), log10.(errors[1:n_max_fit]))\n",
    "C = 10.0^coeff[1]\n",
    "K = 10.0^(-coeff[2])\n",
    "fitted_errors = C .* K .^ (-n[1:n_max_fit])\n",
    "\n",
    "#Plot section\n",
    "fig = plot(title=L\"\\sin(\\cosh x)\",\n",
    "           figsize=(800, 600),\n",
    "           xlabel=L\"n\", ylabel=L\"error\",\n",
    "           yscale=:log10,\n",
    "           framestyle=:box,\n",
    "           grid=true, gridalpha=0.5,\n",
    "           xticks=[n[i] for i in 1:2:length(n)], yticks=[10.0^i for i in 0:-2:-16]\n",
    "          )\n",
    "\n",
    "scatter!(fig, n, errors,\n",
    "         label=L\"|p_n(x)-f(x)|\",\n",
    "         color=:blue,\n",
    "        )\n",
    "\n",
    "plot!(fig, n[1:n_max_fit], fitted_errors,\n",
    "      label=L\"Errors' fit\",\n",
    "      color=:red,\n",
    "     )\n",
    "plot!(fig, n, fill(10.0^(-16), length(n)),\n",
    "      label=L\"\\epsilon_{mach}\",\n",
    "      color=:black,\n",
    "      )\n",
    "\n",
    "display(fig)\n",
    "\n",
    "result_text = @sprintf(\"Estimated K value: %.3f\", K)\n",
    "display(Markdown.parse(result_text))"
   ]
  },
  {
   "cell_type": "markdown",
   "id": "14",
   "metadata": {},
   "source": [
    "**(b)** Make an analogous plot using $n$ equidistant points for the interpolation."
   ]
  },
  {
   "cell_type": "code",
   "execution_count": null,
   "id": "15",
   "metadata": {},
   "outputs": [],
   "source": [
    "a=-1; b=1\n",
    "n_min=4; n_max=60\n",
    "pt_type=\"unif\"\n",
    "x = [i for i in a:0.0005:b]\n",
    "n = [i for i in n_min:4:n_max]\n",
    "f1(x) = 1/(25*x^2+1)\n",
    "f2(x) = tanh(5x+2)\n",
    "f3(x) = cosh(sin(x))\n",
    "f4(x) = sin(cosh(x))"
   ]
  },
  {
   "cell_type": "markdown",
   "id": "16",
   "metadata": {},
   "source": [
    "$f(x) = \\frac{1}{25x^2+1}$ "
   ]
  },
  {
   "cell_type": "code",
   "execution_count": null,
   "id": "17",
   "metadata": {},
   "outputs": [],
   "source": [
    "#Calculating plot data\n",
    "polyn = [lag_fit(ni, a, b, f1, pt_type)[1] for ni in n]                 #Vector of functions (fitting polynomials)\n",
    "errors = [maximum(abs.(polyn[i].(x)-f1.(x))) for i in 1:1:length(n)]    #Distance between exact function and polynomials\n",
    "\n",
    "#Plot section\n",
    "fig = plot(title=L\"1/(25x^2+1)\",\n",
    "           figsize=(800, 600),\n",
    "           xlabel=L\"n\", ylabel=L\"error\",\n",
    "           yscale=:log10,\n",
    "           framestyle=:box,\n",
    "           grid=true, gridalpha=0.5,\n",
    "           xticks=[n[i] for i in 1:2:length(n)], yticks=[10.0^i for i in -1:1:10],\n",
    "           legend=:topleft\n",
    "          )\n",
    "plot!(fig, n, errors, label =\"\",)\n",
    "scatter!(fig, n, errors,\n",
    "         label=L\"|p_n(x)-f(x)|\",\n",
    "         color=:blue,\n",
    "        )\n",
    "\n",
    "display(fig)"
   ]
  },
  {
   "cell_type": "markdown",
   "id": "18",
   "metadata": {},
   "source": [
    "$f(x) = \\tanh(5 x+2)$"
   ]
  },
  {
   "cell_type": "code",
   "execution_count": null,
   "id": "19",
   "metadata": {},
   "outputs": [],
   "source": [
    "#Calculating plot data\n",
    "polyn = [lag_fit(ni, a, b, f2, pt_type)[1] for ni in n]                 #Vector of functions (fitting polynomials)\n",
    "errors = [maximum(abs.(polyn[i].(x)-f2.(x))) for i in 1:1:length(n)]    #Distance between exact function and polynomials\n",
    "\n",
    "#Plot section\n",
    "fig = plot(title=L\"\\tanh(5 x+2)\",\n",
    "           figsize=(800, 600),\n",
    "           xlabel=L\"n\", ylabel=L\"error\",\n",
    "           yscale=:log10,\n",
    "           framestyle=:box,\n",
    "           grid=true, gridalpha=0.5,\n",
    "           xticks=[n[i] for i in 1:2:length(n)], yticks=[10.0^i for i in -2:0.5:10]\n",
    "          )\n",
    "plot!(fig, n, errors, label =\"\",)\n",
    "scatter!(fig, n, errors,\n",
    "         label=L\"|p_n(x)-f(x)|\",\n",
    "         color=:blue,\n",
    "        )\n",
    "\n",
    "display(fig)"
   ]
  },
  {
   "cell_type": "markdown",
   "id": "20",
   "metadata": {},
   "source": [
    "$f(x) = \\cosh(\\sin x)$"
   ]
  },
  {
   "cell_type": "code",
   "execution_count": null,
   "id": "21",
   "metadata": {},
   "outputs": [],
   "source": [
    "#Calculating plot data\n",
    "polyn = [lag_fit(ni, a, b, f3, pt_type)[1] for ni in n]                 #Vector of functions (fitting polynomials)\n",
    "errors = [maximum(abs.(polyn[i].(x)-f3.(x))) for i in 1:1:length(n)]    #Distance between exact function and polynomials\n",
    "\n",
    "#Plot section\n",
    "fig = plot(title=L\"\\cosh(\\sin x)\",\n",
    "           figsize=(800, 600),\n",
    "           xlabel=L\"n\", ylabel=L\"error\",\n",
    "           yscale=:log10,\n",
    "           framestyle=:box,\n",
    "           grid=true, gridalpha=0.5,\n",
    "           ylimits=(10^(-4.5), 10^(-1.5)),\n",
    "           xticks=[n[i] for i in 1:2:length(n)], yticks=[10.0^i for i in -5:0.5:-1],\n",
    "           legend=:topright\n",
    "          )\n",
    "plot!(fig, n, errors, label =\"\",)\n",
    "scatter!(fig, n, errors,\n",
    "         label=L\"|p_n(x)-f(x)|\",\n",
    "         color=:blue,\n",
    "        )\n",
    "\n",
    "display(fig)"
   ]
  },
  {
   "cell_type": "markdown",
   "id": "22",
   "metadata": {},
   "source": [
    "$f(x) = \\sin(\\cosh x)$ "
   ]
  },
  {
   "cell_type": "code",
   "execution_count": null,
   "id": "23",
   "metadata": {},
   "outputs": [],
   "source": [
    "#Calculating plot data\n",
    "polyn = [lag_fit(ni, a, b, f4, pt_type)[1] for ni in n]                 #Vector of functions (fitting polynomials)\n",
    "errors = [maximum(abs.(polyn[i].(x)-f4.(x))) for i in 1:1:length(n)]    #Distance between exact function and polynomials\n",
    "\n",
    "#Plot section\n",
    "fig = plot(title=L\"\\sin(\\cosh x)\",\n",
    "           figsize=(800, 600),\n",
    "           xlabel=L\"n\", ylabel=L\"error\",\n",
    "           yscale=:log10,\n",
    "           framestyle=:box,\n",
    "           grid=true, gridalpha=0.5,\n",
    "           ylimits=(10^(-6.5), 10^(-1.5)),\n",
    "           xticks=[n[i] for i in 1:2:length(n)], yticks=[10.0^i for i in -7:0.5:-1],\n",
    "           legend=:topright\n",
    "          )\n",
    "\n",
    "plot!(fig, n, errors, label =\"\",)\n",
    "scatter!(fig, n, errors,\n",
    "         label=L\"|p_n(x)-f(x)|\",\n",
    "         color=:blue,\n",
    "        )\n",
    "\n",
    "display(fig)"
   ]
  }
 ],
 "metadata": {
  "kernelspec": {
   "display_name": "Julia 1.11.4",
   "language": "julia",
   "name": "julia-1.11"
  },
  "language_info": {
   "file_extension": ".jl",
   "mimetype": "application/julia",
   "name": "julia",
   "version": "1.11.4"
  }
 },
 "nbformat": 4,
 "nbformat_minor": 5
}
