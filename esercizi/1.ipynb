{
 "cells": [
  {
   "cell_type": "code",
   "execution_count": null,
   "metadata": {},
   "outputs": [],
   "source": [
    "#Import cell\n",
    "using Plots"
   ]
  },
  {
   "cell_type": "code",
   "execution_count": null,
   "metadata": {},
   "outputs": [],
   "source": [
    "#Function cell\n",
    "function approx_exp(x, N)\n",
    "    sum = 0\n",
    "    for n = 0:N\n",
    "        sum += x^n / factorial(n)\n",
    "    end\n",
    "    return sum\n",
    "end"
   ]
  },
  {
   "cell_type": "code",
   "execution_count": null,
   "metadata": {},
   "outputs": [],
   "source": [
    "#Creo un array di valori di x\n",
    "x = collect(0:0.1:1)\n",
    "y = exp.(x)\n",
    "\n",
    "N = [x for x in 1:4]\n",
    "\n",
    "\n",
    "y_approx1 = [approx_exp(x, 1) for x in x]\n",
    "y_approx2 = [approx_exp(x, 2) for x in x]\n",
    "y_approx3 = [approx_exp(x, 3) for x in x]\n",
    "y_approx4 = [approx_exp(x, 4) for x in x]\n"
   ]
  }
 ],
 "metadata": {
  "kernelspec": {
   "display_name": "Julia 1.11.3",
   "language": "julia",
   "name": "julia-1.11"
  },
  "language_info": {
   "file_extension": ".jl",
   "mimetype": "application/julia",
   "name": "julia",
   "version": "1.11.3"
  }
 },
 "nbformat": 4,
 "nbformat_minor": 2
}
