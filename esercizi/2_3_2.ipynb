{
 "cells": [
  {
   "cell_type": "markdown",
   "metadata": {},
   "source": [
    "# LU decomposition"
   ]
  },
  {
   "cell_type": "code",
   "execution_count": null,
   "metadata": {},
   "outputs": [],
   "source": [
    "#Import cell\n",
    "using Markdown     #Vsualizzazione di markdown in display\n",
    "#non devo importare LinearAlgebra perchè è già dentro il file linear_systems.jl\n",
    "include(\"c:\\\\ALL\\\\Stefano\\\\Bicocca\\\\3terzo_anno\\\\lab_comp\\\\lab_computazionale1\\\\librerie\\\\linear_systems.jl\")"
   ]
  },
  {
   "cell_type": "markdown",
   "metadata": {},
   "source": [
    "**(a)** For each matrix, compute their LU-factorization and verify the correctness."
   ]
  },
  {
   "cell_type": "code",
   "execution_count": null,
   "metadata": {},
   "outputs": [],
   "source": [
    "# Defining matrices\n",
    "A = [\n",
    "     2.0 3.0 4.0\n",
    "     4.0 5.0 10.0\n",
    "     4.0 8.0 2.0\n",
    "    ];\n",
    "\n",
    "B = [\n",
    "     6  -2 -4   4\n",
    "     3  -3 -6   1\n",
    "    -12  8  21 -8\n",
    "    -6   0 -10  7\n",
    "     ];\n",
    "\n",
    "C = [\n",
    "      1  4  5 -5\n",
    "     -1  0 -1 -5\n",
    "      1  3 -1  2\n",
    "      1 -1  5 -1\n",
    "    ];"
   ]
  },
  {
   "cell_type": "code",
   "execution_count": null,
   "metadata": {},
   "outputs": [],
   "source": [
    "#Test cell\n",
    "#Decomposition\n",
    "LA, UA = LU_dec(A)\n",
    "LB, UB = LU_dec(B)\n",
    "LC, UC = LU_dec(C)\n",
    "\n",
    "#Mtrices to perform the check\n",
    "check_A = A - LA*UA\n",
    "check_B = B - LB*UB\n",
    "check_C = C - LC*UC\n",
    "\n",
    "#Display\n",
    "display(Markdown.parse(\"Decomposition of matrix A:\"))\n",
    "display(LA)\n",
    "display(UA)\n",
    "display(Markdown.parse(\"Decomposition of matrix B:\"))\n",
    "display(LB)\n",
    "display(UB)\n",
    "display(Markdown.parse(\"Decomposition of matrix C:\"))\n",
    "display(LC)\n",
    "display(UC)\n",
    "\n",
    "display(Markdown.parse(\"Matrix A minus the product of the scomposition:\"))\n",
    "display(check_A)\n",
    "display(Markdown.parse(\"Matrix B minus the product of the scomposition:\"))\n",
    "display(check_B)\n",
    "display(Markdown.parse(\"Matrix C minus the product of the scomposition:\"))\n",
    "display(check_C)"
   ]
  },
  {
   "cell_type": "markdown",
   "metadata": {},
   "source": [
    "Exercise 4: Compute the determinant of the matrices in Exercise 2 using their LU-decomposition."
   ]
  },
  {
   "cell_type": "code",
   "execution_count": null,
   "metadata": {},
   "outputs": [],
   "source": [
    "#La matrice triangolare inferiore l'avevamo impostata per avere la diagonale di 1\n",
    "detA_calc = tri_det(UA)\n",
    "detB_calc = tri_det(UB)\n",
    "detC_calc = tri_det(UC)\n",
    "\n",
    "detA = det(A)\n",
    "detB = det(B)\n",
    "detC = det(C)\n",
    "\n",
    "#Display\n",
    "display(Markdown.parse(\"Determinant of A calculated: $detA_calc\"))\n",
    "display(Markdown.parse(\"Determinant of A: $detA\"))\n",
    "display(Markdown.parse(\"Determinant of B calculated: $detB_calc\"))\n",
    "display(Markdown.parse(\"Determinant of B: $detB\"))\n",
    "display(Markdown.parse(\"Determinant of C calculated: $detC_calc\"))\n",
    "display(Markdown.parse(\"Determinant of C: $detC\"))\n",
    "\n",
    "display(Markdown.parse(\"Difference between the calculated and the built-in determinant of A: $(detA_calc - detA)\"))\n",
    "display(Markdown.parse(\"Difference between the calculated and the built-in determinant of B: $(detB_calc - detB)\")) \n",
    "display(Markdown.parse(\"Difference between the calculated and the built-in determinant of C: $(detC_calc - detC)\"))"
   ]
  }
 ],
 "metadata": {
  "kernelspec": {
   "display_name": "Julia 1.11.4",
   "language": "julia",
   "name": "julia-1.11"
  },
  "language_info": {
   "file_extension": ".jl",
   "mimetype": "application/julia",
   "name": "julia",
   "version": "1.11.4"
  }
 },
 "nbformat": 4,
 "nbformat_minor": 2
}
