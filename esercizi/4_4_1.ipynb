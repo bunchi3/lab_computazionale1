{
 "cells": [
  {
   "cell_type": "markdown",
   "id": "0",
   "metadata": {},
   "source": [
    "# Lagrange implementation of Chebyshev nodes"
   ]
  },
  {
   "cell_type": "code",
   "execution_count": null,
   "id": "1",
   "metadata": {},
   "outputs": [],
   "source": [
    "using Plots"
   ]
  },
  {
   "cell_type": "code",
   "execution_count": null,
   "id": "2",
   "metadata": {},
   "outputs": [],
   "source": [
    "#implementation cell\n",
    "#returns wj assuming first kind Chebyshev nodes \n",
    "#needs j, the weights' index, and n , the nodes' number.\n",
    "function wj_unif(j::Int, n::Int)\n",
    "    return (-1)^(j+1)*factorial(n)/(factorial(j)*factorial(n-j))\n",
    "end\n",
    "\n",
    "function wj_cheb_1(j::Int, n::Int)\n",
    "    return (-1)^j*sin(pi*(2j-1)/2n)\n",
    "end\n",
    "\n",
    "#returns wj assuming second kind Chebyshev nodes \n",
    "#needs j, the weights' index, and n , the nodes' number.\n",
    "function wj_cheb_2(j::Int, n::Int)\n",
    "    if j==1 || j==n\n",
    "        return 0.5(-1)^j\n",
    "    else \n",
    "        return (-1)^j\n",
    "    end\n",
    "end\n",
    "\n",
    "#returns p(x), including extrema and using Chebyslev points.\n",
    "#Requires n number of nodes, (a,b) interval extrema, f the exact function, pt_type type of points\n",
    "function lag_fit(n::Int, a::Number, b::Number, f::Function, pt_type::String)\n",
    "    if a>b\n",
    "        c=a\n",
    "        a=b\n",
    "        b=c        \n",
    "    end\n",
    "    #Case of uniform points \n",
    "    if pt_type == \"unif\"\n",
    "        xn = [a + (j-1)*(b-a)/(n-1) for j in 1:1:n]\n",
    "        weights = [wj_unif(j, n) for j in 1:1:n]\n",
    "    #Case of first kind Chebyshev points (endpoints escluded)\n",
    "    elseif pt_type == \"c1\"\n",
    "        #change of coordinates inside xn declaration\n",
    "        xn = [a + (b-a)*((cos((2j-1)pi/(2n)))+1)/2 for j in 1:1:n]\n",
    "        weights = [wj_cheb_1(j, n) for j in 1:1:n]\n",
    "    #Case of second kind Chebyshev points (including endpoints)\n",
    "    elseif pt_type == \"c2\"\n",
    "        #change of coordinates inside xn declaration\n",
    "        xn = [a + (b-a)*((cos((j-1)pi/(n-1)))+1)/2 for j in 1:1:n]\n",
    "        weights = [wj_cheb_2(j, n) for j in 1:1:n]\n",
    "    else\n",
    "        throw(DomainError(pt_type, \"Non valid pt_type. Must be 'unif' or 'c1' or 'c2'\"))\n",
    "    end\n",
    "\n",
    "    yn = f.(xn) \n",
    "    \n",
    "    p = function(x)\n",
    "        num = 0.0\n",
    "        den = 0.0\n",
    "        for j in 1:1:n\n",
    "            if x != xn[j]\n",
    "                num += weights[j]*yn[j]/(x-xn[j])\n",
    "                den += weights[j]/(x-xn[j])\n",
    "            else\n",
    "                return yn[j]\n",
    "            end\n",
    "        end\n",
    "        return num/den\n",
    "    end\n",
    "\n",
    "    return p, xn, yn\n",
    "end"
   ]
  },
  {
   "cell_type": "code",
   "execution_count": null,
   "id": "3",
   "metadata": {},
   "outputs": [],
   "source": [
    "n = 6\n",
    "a = -1\n",
    "b = 5\n",
    "f(x) = exp(x)\n",
    "cheb = \"c2\"\n",
    "q, xn, yn= lag_fit(n, a, b, f, cheb)"
   ]
  },
  {
   "cell_type": "code",
   "execution_count": null,
   "id": "4",
   "metadata": {},
   "outputs": [],
   "source": [
    "x = [i for i in a:0.01:b]\n",
    "plot(x, q.(x),\n",
    "     label = \"fit\")\n",
    "\n",
    "plot!(x, f.(x),\n",
    "     label=\"exact function\")\n",
    "scatter!(xn, yn)"
   ]
  }
 ],
 "metadata": {
  "kernelspec": {
   "display_name": "Julia 1.11.4",
   "language": "julia",
   "name": "julia-1.11"
  },
  "language_info": {
   "file_extension": ".jl",
   "mimetype": "application/julia",
   "name": "julia",
   "version": "1.11.4"
  }
 },
 "nbformat": 4,
 "nbformat_minor": 5
}
