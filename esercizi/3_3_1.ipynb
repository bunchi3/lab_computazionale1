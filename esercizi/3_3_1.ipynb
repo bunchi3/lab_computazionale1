{
 "cells": [
  {
   "cell_type": "markdown",
   "metadata": {},
   "source": [
    "# Newton's method implementation\n",
    "Write a program that implements Newton's method."
   ]
  },
  {
   "cell_type": "code",
   "execution_count": null,
   "metadata": {},
   "outputs": [],
   "source": [
    "using ForwardDiff"
   ]
  },
  {
   "cell_type": "code",
   "execution_count": null,
   "metadata": {},
   "outputs": [],
   "source": [
    "#Calculates the steps for finding a function's zero with Newton's method. Requires the function and the starting point.\n",
    "#The first step is x1\n",
    "function newt_met_steps(f, x1)\n",
    "    x = Float64[x1]\n",
    "    df = x -> ForwardDiff.derivative(f, x)\n",
    "    \n",
    "    x_tol = 1.0e-14\n",
    "    y_tol = 1.0e-14\n",
    "    iter_max = 1000\n",
    "    iter = 1\n",
    "\n",
    "    while abs(f(x[iter])) >= y_tol &&  iter < iter_max+1 \n",
    "        #This if statemente could not be integrated in while because it could access x[0] (undefined)\n",
    "        if iter>=2\n",
    "            if abs(x[iter] - x[iter-1]) <=  x_tol\n",
    "                return x[iter], x\n",
    "            end\n",
    "        end\n",
    "        push!(x, x[iter] - f(x[iter])/df(x[iter]))\n",
    "        iter += 1\n",
    "    end\n",
    "\n",
    "    return x[iter], x\n",
    "end"
   ]
  },
  {
   "cell_type": "code",
   "execution_count": null,
   "metadata": {},
   "outputs": [],
   "source": [
    "newt_met_steps(x->exp(x), 10)"
   ]
  }
 ],
 "metadata": {
  "kernelspec": {
   "display_name": "Julia 1.11.4",
   "language": "julia",
   "name": "julia-1.11"
  },
  "language_info": {
   "file_extension": ".jl",
   "mimetype": "application/julia",
   "name": "julia",
   "version": "1.11.4"
  }
 },
 "nbformat": 4,
 "nbformat_minor": 2
}
