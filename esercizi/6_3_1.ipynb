{
 "cells": [
  {
   "cell_type": "markdown",
   "id": "0",
   "metadata": {},
   "source": [
    "# IE2 and RK4 for IVP"
   ]
  },
  {
   "cell_type": "markdown",
   "id": "1",
   "metadata": {},
   "source": [
    "**(a)** Write a program to solve a system of differential equations using the IE2 method.\n",
    "\n",
    "**(b)** Write a program to solve a system of differential equations using the RK4 method.\n",
    "\n",
    "**(c)** Test your implementation for the IE2 and RK4 methods on the IVP\n",
    "\n",
    "$u' = -2t u$, $\\ 0 \\le t \\le 2$, $\\ u(0) = 2$; \\\n",
    "$\\hat{u}(t) = 2e^{-t^2}$\n",
    "\n",
    "Solve with $n=30,60,90,\\ldots,300$ and plot the max-error $||u-\\hat{u}||_\\infty=\\max_{0\\leq i\\leq n} |u_i-\\hat{u}(t_i)|$ as a function of the number of function evaluations in a log-log plot, together with a line showing the expected rate of convergence."
   ]
  },
  {
   "cell_type": "markdown",
   "id": "2",
   "metadata": {},
   "source": [
    "I actually show the fit instead of the expected rate of convergence, but I show the slope of the fit"
   ]
  },
  {
   "cell_type": "code",
   "execution_count": null,
   "id": "3",
   "metadata": {},
   "outputs": [],
   "source": [
    "using Plots\n",
    "using Markdown\n",
    "using LaTeXStrings\n",
    "using Printf\n",
    "include(\"c:\\\\ALL\\\\Stefano\\\\Bicocca\\\\3terzo_anno\\\\lab_comp\\\\lab_computazionale1\\\\librerie\\\\linear_systems.jl\")\n",
    "include(\"c:\\\\ALL\\\\Stefano\\\\Bicocca\\\\3terzo_anno\\\\lab_comp\\\\lab_computazionale1\\\\librerie\\\\diff_equations.jl\")\n",
    "function autosave(fig, filename)\n",
    "    path = \"C:\\\\ALL\\\\Stefano\\\\Bicocca\\\\3terzo_anno\\\\lab_comp\\\\lab_computazionale1\\\\relazione\\\\immagini\"\n",
    "    savefig(fig, joinpath(path, filename))\n",
    "end"
   ]
  },
  {
   "cell_type": "code",
   "execution_count": null,
   "id": "4",
   "metadata": {},
   "outputs": [],
   "source": [
    "n = 30:30:300\n",
    "a, b = 0, 2\n",
    "function f(t::Number, u::Number)\n",
    "    return -2.0 * t * u\n",
    "end\n",
    "F = [f]\n",
    "\n",
    "u0 = 2\n",
    "U0 = [u0]\n",
    "u_exact = t -> 2*exp(-t^2)\n",
    "\n",
    "colors = [\"#0F2080\",  # blu scuro\n",
    "          \"#F5793A\",  # arancione\n",
    "          \"#A95AA1\",  # viola\n",
    "          \"#85C0F9\"]  # azzurro"
   ]
  },
  {
   "cell_type": "code",
   "execution_count": null,
   "id": "5",
   "metadata": {},
   "outputs": [],
   "source": [
    "#Error section\n",
    "err_inf2 = Float64[]\n",
    "err_inf4 = Float64[]\n",
    "for nk in n\n",
    "    t = range(a, b; length=nk+1)\n",
    "    u_ex = u_exact.(t)\n",
    "    u_num2 = IE2(F, U0, nk, a, b)[1]\n",
    "    u_num4 = RK4(F, U0, nk, a, b)[1]\n",
    "    push!(err_inf2, maximum(abs.(u_num2 .- u_ex)))\n",
    "    push!(err_inf4, maximum(abs.(u_num4 .- u_ex)))\n",
    "end"
   ]
  },
  {
   "cell_type": "markdown",
   "id": "6",
   "metadata": {},
   "source": [
    "Puoi anche sovrapporli invece che metterli diversi, attento solo al numero di valutazioni delle funzioni. I punti \n",
    "dovrebbero incolonnarsi uno ogni due"
   ]
  },
  {
   "cell_type": "code",
   "execution_count": null,
   "id": "7",
   "metadata": {},
   "outputs": [],
   "source": [
    "#Fit section\n",
    "D = hcat(ones(length(n)), log.(n))\n",
    "c2 = least_sq(D, log.(err_inf2))\n",
    "c4 = least_sq(D, log.(err_inf4))\n",
    "\n",
    "x_ticks0 = [60]\n",
    "x_ticks1 = [i for i in 120:120:600]\n",
    "x_ticks2 = [i for i in 840:240:1200]\n",
    "x_ticks = vcat(x_ticks0, x_ticks1, x_ticks2)\n",
    "#Plot section\n",
    "fig1 = plot(figsize=(800, 600),\n",
    "           xlabel=L\"Function\\ evaluations\\ \", ylabel=L\"Error\",\n",
    "           framestyle=:box,\n",
    "           grid=true, gridalpha=0.5,\n",
    "           #yrange = (1e-6, 2e-2),\n",
    "           xscale = :log10, yscale = :log10,\n",
    "           xticks = x_ticks, yticks = [10.0^i for i in 0:-1:-16],\n",
    "           #xticks = [10^i for i in 0:0.2:4], yticks = [10.0^i for i in 0:-1:-16],\n",
    "           xformatter = x -> @sprintf(\"%.0f\", x), yformatter = y -> @sprintf(\"%.0e\", y),\n",
    "           legend = :bottomleft,\n",
    "           legendfontsize = 10\n",
    "          )\n",
    "\n",
    "plot!(fig1, 2 .* n, err_inf2,\n",
    "      label = L\"IE2\\ ||u_i-\\hat{u_i}\\ ||_\\infty\",\n",
    "      color= colors[1],\n",
    "      marker = :circle,\n",
    "      lw = 4.0,\n",
    "     )\n",
    "\n",
    "plot!(fig1, 2 .* n, exp(c2[1]) .* n .^ c2[2],\n",
    "    label = latexstring(\"Fit slope=\", @sprintf(\"%.3f\", c2[2]), \")\"),\n",
    "    color = colors[2],\n",
    "    linestyle = :dash,\n",
    "    lw = 2.0,\n",
    "     )\n",
    "\n",
    "plot!(fig1, 4 .* n, err_inf4,\n",
    "      label = L\"RK4\\ ||u_i-\\hat{u_i}\\ ||_\\infty\",\n",
    "      color= colors[3],\n",
    "      marker = :circle,\n",
    "      lw = 4.0,\n",
    "     )\n",
    "plot!(fig1, 4 .* n, exp(c4[1]) .* n .^ c4[2],\n",
    "    label = latexstring(\"Fit slope=\", @sprintf(\"%.3f\", c4[2]), \")\"),\n",
    "    color = colors[4],\n",
    "    linestyle = :dash,\n",
    "    lw = 2.0,\n",
    "     )\n",
    "\n",
    "autosave(fig1, \"6311.pdf\")\n",
    "display(fig1)"
   ]
  }
 ],
 "metadata": {
  "kernelspec": {
   "display_name": "Julia 1.11.4",
   "language": "julia",
   "name": "julia-1.11"
  },
  "language_info": {
   "file_extension": ".jl",
   "mimetype": "application/julia",
   "name": "julia",
   "version": "1.11.4"
  }
 },
 "nbformat": 4,
 "nbformat_minor": 5
}
