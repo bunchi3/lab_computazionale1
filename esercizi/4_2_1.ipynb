{
 "cells": [
  {
   "cell_type": "markdown",
   "metadata": {},
   "source": [
    "# Implementing Lagrange's fit"
   ]
  },
  {
   "cell_type": "code",
   "execution_count": null,
   "metadata": {},
   "outputs": [],
   "source": [
    "using Plots"
   ]
  },
  {
   "cell_type": "markdown",
   "metadata": {},
   "source": [
    "Write a program that implements the barycentric form of Lagrange interpolation formula for generic node positions. **(Optional)** Write a specialized function for equidistant points using the analytic determination for the weights. Check against the general routine for correctness.\n"
   ]
  },
  {
   "cell_type": "code",
   "execution_count": null,
   "metadata": {},
   "outputs": [],
   "source": [
    "function wj(j, xn)\n",
    "    \n",
    "    if !(j isa Int)\n",
    "        throw(TypeError(:wj, :xj, Int, xj))\n",
    "    end\n",
    "    if !(xn isa AbstractVector)\n",
    "        throw(TypeError(:wj, :x, AbstractVector, xn))\n",
    "    end\n",
    "\n",
    "    n = length(xn)\n",
    "    prod=1\n",
    "    for i in 1:1:n \n",
    "        if xn[i] != xn[j]\n",
    "            prod *= xn[j] -xn[i]\n",
    "        end\n",
    "    end\n",
    "\n",
    "    return 1/prod\n",
    "end\n",
    "\n",
    "#lag_fit calculates p(x), the y values of the polynomial passing trough the nodes (xn, yn), given the x values\n",
    "function lag_fit(x_domain, xn, yn)\n",
    "    if !(x_domain isa AbstractVector)\n",
    "        throw(TypeError(:lag_fit, :x_domain, AbstractVector, x_domain))\n",
    "    end\n",
    "    if !(xn isa AbstractVector)\n",
    "        throw(TypeError(:lag_fit, :xn, AbstractVector, xn))\n",
    "    end\n",
    "    if !(yn isa AbstractVector)\n",
    "        throw(TypeError(:lag_fit, :yn, AbstractVector, yn))\n",
    "    end\n",
    "    if length(xn) != length(yn)\n",
    "        throw(ArgumentError(\"xn and yn must have same length, instead they contain $(length(xn)) and $(length(yn)) \n",
    "                            elements respectively.\"))\n",
    "    end\n",
    "\n",
    "    n = length(xn)\n",
    "    num = zeros(length(x_domain))\n",
    "    den = zeros(length(x_domain))\n",
    "    \n",
    "    x_position = 1\n",
    "    for x in x_domain\n",
    "        for j in 1:1:n\n",
    "            num[x_position] += (wj(j, xn) * yn[j])./(x .-xn[j])       \n",
    "        end\n",
    "        x_position += 1\n",
    "    end\n",
    "    x_position = 1\n",
    "    for x in x_domain\n",
    "        for j in 1:1:n\n",
    "            den[x_position] += wj(j, xn)./(x .-xn[j])       \n",
    "        end\n",
    "        x_position += 1\n",
    "    end\n",
    "\n",
    "    return num ./ den\n",
    "end"
   ]
  },
  {
   "cell_type": "code",
   "execution_count": null,
   "metadata": {},
   "outputs": [],
   "source": [
    "x = [i for i in 0:0.01:4]\n",
    "xn = [1, 2, 3, 4]\n",
    "yn = [5, 4, 2, 7]\n",
    "y = lag_fit(x, xn, yn)\n"
   ]
  },
  {
   "cell_type": "code",
   "execution_count": null,
   "metadata": {},
   "outputs": [],
   "source": [
    "plot(x, y,\n",
    "     label=\"polynomial fit\"\n",
    "    )\n",
    "scatter!(xn, yn, \n",
    "        label = \"given points\",\n",
    "        )"
   ]
  }
 ],
 "metadata": {
  "kernelspec": {
   "display_name": "Julia 1.11.4",
   "language": "julia",
   "name": "julia-1.11"
  },
  "language_info": {
   "file_extension": ".jl",
   "mimetype": "application/julia",
   "name": "julia",
   "version": "1.11.4"
  }
 },
 "nbformat": 4,
 "nbformat_minor": 2
}
