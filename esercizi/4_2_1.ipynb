{
 "cells": [
  {
   "cell_type": "markdown",
   "metadata": {},
   "source": [
    "# Implementing Lagrange's fit"
   ]
  },
  {
   "cell_type": "code",
   "execution_count": null,
   "metadata": {},
   "outputs": [],
   "source": [
    "using Plots"
   ]
  },
  {
   "cell_type": "markdown",
   "metadata": {},
   "source": [
    "Write a program that implements the barycentric form of Lagrange interpolation formula for generic node positions. **(Optional)** Write a specialized function for equidistant points using the analytic determination for the weights. Check against the general routine for correctness.\n"
   ]
  },
  {
   "cell_type": "code",
   "execution_count": null,
   "metadata": {},
   "outputs": [],
   "source": [
    "function wj(j, xn)  \n",
    "    if !(j isa Int)\n",
    "        throw(TypeError(:wj, :xj, Int, xj))\n",
    "    end\n",
    "    if !(xn isa AbstractVector)\n",
    "        throw(TypeError(:wj, :x, AbstractVector, xn))\n",
    "    end\n",
    "\n",
    "    n = length(xn)\n",
    "    prod=1\n",
    "    for i in 1:1:n \n",
    "        if xn[i] != xn[j]\n",
    "            prod *= xn[j] -xn[i]\n",
    "        end\n",
    "    end\n",
    "    return 1/prod\n",
    "end\n",
    "\n",
    "#lag_fit calculates a function p(x), given the x values\n",
    "function lag_fit(xn, yn)\n",
    "    if !(xn isa AbstractVector)\n",
    "        throw(TypeError(:lag_fit, :xn, AbstractVector, xn))\n",
    "    end\n",
    "    if !(yn isa AbstractVector)\n",
    "        throw(TypeError(:lag_fit, :yn, AbstractVector, yn))\n",
    "    end\n",
    "    if length(xn) != length(yn)\n",
    "        throw(ArgumentError(\"xn and yn must have same length, instead they contain $(length(xn)) and $(length(yn)) \n",
    "                            elements respectively.\"))\n",
    "    end\n",
    "\n",
    "    #nodes' number\n",
    "    n = length(xn)\n",
    "    weights = [wj(j, xn) for j in 1:1:n]\n",
    "    \n",
    "    function p(x)\n",
    "        num = 0.0\n",
    "        den = 0.0\n",
    "        for j in 1:1:n\n",
    "            if x != xn[j]\n",
    "                num += weights[j]*yn[j]/(x-xn[j])\n",
    "                den += weights[j]/(x-xn[j])\n",
    "            else\n",
    "                return yn[j]\n",
    "            end\n",
    "        end\n",
    "        return num/den\n",
    "    end\n",
    "\n",
    "    return p\n",
    "end"
   ]
  },
  {
   "cell_type": "code",
   "execution_count": null,
   "metadata": {},
   "outputs": [],
   "source": [
    "x_dom = [i for i in 0:0.01:4]\n",
    "xn = [1, 2, 3, 4]\n",
    "yn = [5, 4, 2, 7]\n",
    "p = lag_fit(xn, yn)"
   ]
  },
  {
   "cell_type": "code",
   "execution_count": null,
   "metadata": {},
   "outputs": [],
   "source": [
    "plot(x_dom, p.(x_dom),\n",
    "     label=\"polynomial fit\",\n",
    "     #xlimits=(2.95, 3)\n",
    "    )\n",
    "scatter!(xn, yn, \n",
    "        label = \"given points\",\n",
    "        )"
   ]
  }
 ],
 "metadata": {
  "kernelspec": {
   "display_name": "Julia 1.11.4",
   "language": "julia",
   "name": "julia-1.11"
  },
  "language_info": {
   "file_extension": ".jl",
   "mimetype": "application/julia",
   "name": "julia",
   "version": "1.11.4"
  }
 },
 "nbformat": 4,
 "nbformat_minor": 2
}
