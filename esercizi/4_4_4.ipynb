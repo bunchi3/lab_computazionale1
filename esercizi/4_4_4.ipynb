{
 "cells": [
  {
   "cell_type": "markdown",
   "id": "0",
   "metadata": {},
   "source": [
    "# Real line domain"
   ]
  },
  {
   "cell_type": "code",
   "execution_count": null,
   "id": "1",
   "metadata": {},
   "outputs": [],
   "source": [
    "using Plots\n",
    "using Markdown\n",
    "using LaTeXStrings\n",
    "using Printf\n",
    "include(\"c:\\\\ALL\\\\Stefano\\\\Bicocca\\\\3terzo_anno\\\\lab_comp\\\\lab_computazionale1\\\\librerie\\\\interpolation.jl\")"
   ]
  },
  {
   "cell_type": "markdown",
   "id": "2",
   "metadata": {},
   "source": [
    "Let $x_1,\\ldots,x_n$ be standard Chebyshev points. These map to the $z$ variable as $z_i=\\phi(x_i)$ for all $i$, where $\\phi(x)= \\frac{2x}{1-x^2}$. Suppose that $f(z)$ is a given function whose domain is the entire real line. Then the function values $y_i=f(z_i)$ can be associated with the Chebyshev nodes $x_i$, leading to a polynomial interpolant $p(x)$. This in turn implies an interpolating function on the real line, defined as\n",
    "\n",
    "$$\n",
    "    q(z)=p\\bigl(\\phi^{-1}(z)\\bigr) = p(x)\\,.\n",
    "$$\n",
    "   \n",
    "Implement this idea to plot an interpolant of $f(z)=(z^2-2z+2)^{-1}$ using $n=30$. Your plot should show $q(z)$ evaluated at 1000 evenly spaced points in $[-6,6]$, with markers at the nodal values (those lying within the $[-6,6]$ window). [Hint: If you prefer avoid dealing with potential infinities consider using the Chebyshev nodes of the first kind.]"
   ]
  },
  {
   "cell_type": "markdown",
   "id": "3",
   "metadata": {},
   "source": [
    "### Explaining the process:\n",
    "Interpolating a function on the real line using Lagrange fit is numerically unstable. To avoid this problem, we can generate Chebyshev nodes (called $x_i$) between $[-1, 1]$ and use them for interpolation. Secondly, using a change of coordinates $\\phi(z)$, we map them on the real line (we'll call them $z_i$, Chebyshev nodes on the entire real line). After that, we can use the Lagrange interpolation formula to fit f(z) using $x_i$ and $y_i = f(z_i(x_i))$. This will give us a polynomial $p(x)$ which approximates the function $f(z)$. The throwback is that p(x) is not defined on the real line, but we can use the inverse of the mapping function $\\phi^{-1}(z)$ to get $q(z) = p(\\phi^{-1}(z))$. This will give us a polynomial that is defined on the entire real line. Finally, we can plot this polynomial using 1000 evenly spaced points in the range $[-6, 6]$ and mark the nodal values."
   ]
  },
  {
   "cell_type": "code",
   "execution_count": null,
   "id": "4",
   "metadata": {},
   "outputs": [],
   "source": [
    "f(z) = (z^2 -2z + 2)^(-1)\n",
    "n = 30\n",
    "za = -6\n",
    "zb = 6\n",
    "risolution = 1000"
   ]
  },
  {
   "cell_type": "code",
   "execution_count": null,
   "id": "5",
   "metadata": {},
   "outputs": [],
   "source": [
    "p, xn, zn, yn = lag_fit(n, f)\n",
    "\n",
    "#plot section\n",
    "z = [i for i in range(za, stop=zb, length=risolution)]\n",
    "ypol = p.(z)\n",
    "y = f.(z)\n",
    "\n",
    "#Plot section\n",
    "fig = plot(title=L\"(z^2 -2z + 2)^(-1)\",\n",
    "             figsize=(800, 600),\n",
    "             xlabel=L\"z\", ylabel=L\"y(z)\",\n",
    "             #xlimits=(-2.5, 2.5), \n",
    "             framestyle=:box,\n",
    "             grid=true, gridalpha=0.5,\n",
    "             #xticks=([i*pi/2 for i in 0:1:4], [L\"0\", L\"\\frac{\\pi}{2}\", L\"\\pi\", L\"\\frac{3\\pi}{2}\", L\"2\\pi\"]),\n",
    "             legend=:topright,\n",
    "            )\n",
    "\n",
    "plot!(fig, z, ypol,\n",
    "      label = L\"Polynomial fit\"\n",
    "     )\n",
    "\n",
    "plot!(fig, z, y,\n",
    "      label = L\"Exact function\",\n",
    "     ) "
   ]
  }
 ],
 "metadata": {
  "kernelspec": {
   "display_name": "Julia 1.11.4",
   "language": "julia",
   "name": "julia-1.11"
  },
  "language_info": {
   "file_extension": ".jl",
   "mimetype": "application/julia",
   "name": "julia",
   "version": "1.11.4"
  }
 },
 "nbformat": 4,
 "nbformat_minor": 5
}
