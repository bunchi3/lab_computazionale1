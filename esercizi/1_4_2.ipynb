{
 "cells": [
  {
   "cell_type": "markdown",
   "metadata": {},
   "source": [
    "# Condition number of $\\frac{e^x-1}{x}$\n",
    "RICALCOLA \\\n",
    "$ k_f(x) = \\frac{e^x x}{e^x - 1} -1 $ \\\n",
    "Prova a calcolarlo analiticamente \\\n",
    "Il massimo di $ k_f(x) $ nell'intervallo $ [-1, 1] $ è $x=1$, con valore $k_f(0)=0.5819767068$\n",
    "f naive non dà il riusultato corretto in 0, nonostante in 0 il condition number sia 0. Il problema è come calcoliamo la funzione, non il suo condition nummber. Il condition number della sottrazione di e^x -1 è grande. Il condition number del problema non è grande, ma è grande quello di un passaggio. \\\n",
    "Calcolare il c n  della funzione totale è utile perchè così sappiamo qual è la precisione massima. Se non la otteniamo con un algoritmo sappiamo che possiamo riformulare il problema con un altro algoritmo."
   ]
  },
  {
   "cell_type": "markdown",
   "metadata": {},
   "source": [
    "Il punto di questo esercizio è che il calcolatore sbaglia a calcolare la funzione in maniera naive, tant'è vero che la funzione ha limite per x->0 pari a 1, mentre se si guarda il primo valore della funzione è 0. L'errore del calolatore è del tipo di cancellazione: infatti $e^x$ viene calcolato bene, poi però bisogna sottrarre 1, e a valori di x bassi $e^x \\approx 1$. L'espansione in serie è più precisa, ma perde di precisione nella regione a $x \\approx 1$ perchè lì l'espansione in serie non può essere fatta. \\\n",
    "Prova a vedere cosa succede se fai la somma al contrario \\\n",
    "La soluzione usava n fino a 4, non 20"
   ]
  },
  {
   "cell_type": "code",
   "execution_count": null,
   "metadata": {},
   "outputs": [],
   "source": [
    "using Plots"
   ]
  },
  {
   "cell_type": "code",
   "execution_count": null,
   "metadata": {},
   "outputs": [],
   "source": [
    "#Function cell\n",
    "function f(x)\n",
    "    return (exp(x)-1)/x\n",
    "end\n",
    "\n",
    "function f_mclaur(x, n)\n",
    "    return sum([x^i/factorial(i+1) for i in 0:n])\n",
    "end"
   ]
  },
  {
   "cell_type": "code",
   "execution_count": null,
   "metadata": {},
   "outputs": [],
   "source": [
    "esp_min = -16\n",
    "esp_max = -1\n",
    "x = [10.0^i for i in esp_min:1:esp_max]\n",
    "\n",
    "n_min = 15\n",
    "n_max = 17\n",
    "n = [i for i in n_min:n_max]\n",
    "y_naive = f.(x)\n",
    "\n",
    "y_mclaur = zeros(length(n), length(x))\n",
    "\n",
    "for i in 1:length(n)\n",
    "    y_mclaur[i,  : ] = f_mclaur.(x, i)\n",
    "end\n",
    "\n",
    "delta = zeros(length(n), length(x))\n",
    "for i in 1:length(n)\n",
    "    delta[i, :] = abs.(y_naive - y_mclaur[i, :])\n",
    "end\n",
    "\n",
    "println(x)\n",
    "println(y_naive)\n",
    "for i in 1:length(n)\n",
    "    println(y_mclaur[i, : ])\n",
    "end"
   ]
  },
  {
   "cell_type": "markdown",
   "metadata": {},
   "source": [
    "Qui si nota che la funzione naive, per x->0, non tende a 1 ma a 1.1. Poi dopo torna ad assumere l'andamento corretto"
   ]
  },
  {
   "cell_type": "code",
   "execution_count": null,
   "metadata": {},
   "outputs": [],
   "source": [
    "#Plotting the results\n",
    "fig1 = plot(title=\"Confronto tra funzione e espansione in serie\",         \n",
    "            xscale=:log10, \n",
    "            yscale=:log10, \n",
    "            xlabel=\"x\", \n",
    "            ylabel=\"f(x)\")\n",
    "\n",
    "plot!(fig1, x[2:length(x)], y_naive[2:length(x)],\n",
    "      label=\"Funzione\",\n",
    "     )\n",
    "\n",
    "for i in 1:length(n)\n",
    "    precision = i+n_min-1\n",
    "    plot!(fig1, x[2:length(x)], y_mclaur[i, 2:length(x)], \n",
    "          label=\"McLaurin n=$precision\", \n",
    "         )\n",
    "end\n",
    "\n",
    "display(fig1)"
   ]
  },
  {
   "cell_type": "markdown",
   "metadata": {},
   "source": [
    "Qui ingrandiamo lo strano comportamento della funzione naive all'origine, confrontandolo con gli sviluppi in serie che al contrario si comportano bene nell'origine"
   ]
  },
  {
   "cell_type": "code",
   "execution_count": null,
   "metadata": {},
   "outputs": [],
   "source": [
    "#Plotting the results\n",
    "fig1 = plot(title=\"Funzione ed espansione - Ingrandimento\",         \n",
    "            xscale=:log10, \n",
    "            yscale=:log10, \n",
    "            xlimits=(10.0^(-15), 10.0^(-10)),\n",
    "            ylimits=(0.999, 1.001),\n",
    "            xlabel=\"x\", \n",
    "            ylabel=\"f(x)\")\n",
    "\n",
    "plot!(fig1, x[2:length(x)], y_naive[2:length(x)],\n",
    "      label=\"Funzione\",\n",
    "     )\n",
    "\n",
    "for i in 1:length(n)\n",
    "    precision = i+n_min-1\n",
    "    plot!(fig1, x[2:length(x)], y_mclaur[i, 2:length(x)], \n",
    "          label=\"McLaurin n=$precision\", \n",
    "         )\n",
    "end\n",
    "\n",
    "display(fig1)"
   ]
  },
  {
   "cell_type": "markdown",
   "metadata": {},
   "source": [
    "Qui vediamo che, mano a mano che le x aumentano di valore, la funzione naive migliora, mentre l'approssimazione dello sviluppo in serie peggiora perchè si sommano numeri molto piccoli che non riescono a essere rappresentati."
   ]
  },
  {
   "cell_type": "code",
   "execution_count": null,
   "metadata": {},
   "outputs": [],
   "source": [
    "#Plotting the results\n",
    "fig1 = plot(title=\"Funzione ed espansione - Ingrandimento alti x\",         \n",
    "            xscale=:log10, \n",
    "            yscale=:log10,\n",
    "            xlimits=(10.0^(-3), 10.0^(esp_max)), \n",
    "            ylimits=(0.99, 1.1),\n",
    "            xlabel=\"x\", \n",
    "            ylabel=\"f(x)\")\n",
    "\n",
    "plot!(fig1, x[2:length(x)], y_naive[2:length(x)],\n",
    "      label=\"Funzione\",\n",
    "     )\n",
    "\n",
    "for i in 1:length(n)\n",
    "    precision = i+n_min-1\n",
    "    plot!(fig1, x[2:length(x)], y_mclaur[i, 2:length(x)], \n",
    "          label=\"McLaurin n=$precision\", \n",
    "         )\n",
    "end\n",
    "\n",
    "display(fig1)"
   ]
  },
  {
   "cell_type": "markdown",
   "metadata": {},
   "source": [
    "Qui vediamo la distanza tra le due funzioni. A bassi valori di x è massima, perchè naive non rappresenta bene la funzione. Aumentando x diminuisce, ma poi si entra nel range in cui l'espansione in serie non descrive più bene la funzione perchè x dovrebbe tendere a 0. Perciò: \\\n",
    "x piccolo: errore di cancellazione \\\n",
    "x grande: problema di rappresentazione"
   ]
  },
  {
   "cell_type": "code",
   "execution_count": null,
   "metadata": {},
   "outputs": [],
   "source": [
    "fig2 = plot(title=\"Distanza tra funzione e espansione in serie\",\n",
    "            xscale=:log10, \n",
    "            yscale=:log10, \n",
    "            xlabel=\"x\", \n",
    "            ylabel=\"f(x)\")\n",
    "\n",
    "for i in 1:length(n)\n",
    "    precision = i+n_min-1\n",
    "    plot!(fig2, x, delta[i, :], \n",
    "          label=\"McLaurin n=$precision\", \n",
    "         )\n",
    "end \n",
    "display(fig2)"
   ]
  },
  {
   "cell_type": "code",
   "execution_count": null,
   "metadata": {},
   "outputs": [],
   "source": [
    "fig3 = plot(title=\"Ingrandimento\", \n",
    "            xlimits=(10.0^(-6), 10.0^esp_max), \n",
    "            ylimits=(10.0^(-14), 10.0^(-5)), \n",
    "            xscale=:log10, \n",
    "            yscale=:log10, \n",
    "            xlabel=\"x\", \n",
    "            ylabel=\"f(x)\")\n",
    "\n",
    "for i in 1:length(n)\n",
    "    precision = i+n_min-1\n",
    "    plot!(fig3, x, delta[i, :], \n",
    "          label=\"McLaurin n=$precision\",\n",
    "         )\n",
    "end\n",
    "display(fig3)\n"
   ]
  }
 ],
 "metadata": {
  "kernelspec": {
   "display_name": "Julia 1.11.4",
   "language": "julia",
   "name": "julia-1.11"
  },
  "language_info": {
   "file_extension": ".jl",
   "mimetype": "application/julia",
   "name": "julia",
   "version": "1.11.4"
  }
 },
 "nbformat": 4,
 "nbformat_minor": 2
}
