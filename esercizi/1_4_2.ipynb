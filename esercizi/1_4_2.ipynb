{
 "cells": [
  {
   "cell_type": "markdown",
   "metadata": {},
   "source": [
    "# Condition number of $\\frac{e^x-1}{x}$\n",
    "Let $f(x) = \\frac{e^x-1}{x}$."
   ]
  },
  {
   "cell_type": "code",
   "execution_count": null,
   "metadata": {},
   "outputs": [],
   "source": [
    "using Plots\n",
    "using Markdown\n",
    "using LaTeXStrings\n",
    "using Printf\n",
    "function autosave(fig, filename)\n",
    "    path = \"C:\\\\ALL\\\\Stefano\\\\Bicocca\\\\3terzo_anno\\\\lab_comp\\\\lab_computazionale1\\\\relazione\\\\immagini\"\n",
    "    savefig(fig, joinpath(path, filename))\n",
    "end"
   ]
  },
  {
   "cell_type": "code",
   "execution_count": null,
   "metadata": {},
   "outputs": [],
   "source": [
    "#Function cell\n",
    "function f(x)\n",
    "    return (exp(x)-1)/x\n",
    "end\n",
    "\n",
    "function f_mclaur(x, n)\n",
    "    return sum([x^i/factorial(i+1) for i in 0:n])\n",
    "end\n",
    "\n",
    "function p_stability(x, n)\n",
    "    return x^n / factorial(n+1)\n",
    "end\n",
    "colors = [\"#F5793A\",  # arancione\n",
    "    \"#0F2080\",  # blu scuro\n",
    "    \"#A95AA1\",  # viola\n",
    "    \"#85C0F9\"]  # azzurro"
   ]
  },
  {
   "cell_type": "markdown",
   "metadata": {},
   "source": [
    "**(a)** Find the condition number $\\kappa_f(x)$. What is the maximum of $\\kappa_f(x)$ over the interval $-1\\le x \\le 1$?"
   ]
  },
  {
   "cell_type": "markdown",
   "metadata": {},
   "source": [
    "$ k_f(x) = \\frac{e^x x}{e^x - 1} -1 $ \\\n",
    "Prova a calcolarlo analiticamente \\\n",
    "Il massimo di $ k_f(x) $ nell'intervallo $ [-1, 1] $ è $x=1$, con valore $k_f(1)=0.5819767068$\n",
    "f naive non dà il riusultato corretto in 0, nonostante in 0 il condition number sia 0. Il problema è come calcoliamo la funzione, non il suo condition nummber. Il condition number della sottrazione di e^x -1 è grande. Il condition number del problema non è grande, ma è grande quello di un passaggio. \\\n",
    "Calcolare il c n  della funzione totale è utile perchè così sappiamo qual è la precisione massima. Se non la otteniamo con un algoritmo sappiamo che possiamo riformulare il problema con un altro algoritmo. \\\n",
    "Il punto di questo esercizio è che il calcolatore sbaglia a calcolare la funzione in maniera naive, tant'è vero che la funzione ha limite per x->0 pari a 1, mentre se si guarda il primo valore della funzione è 0. L'errore del calolatore è del tipo di cancellazione: infatti $e^x$ viene calcolato bene, poi però bisogna sottrarre 1, e a valori di x bassi $e^x \\approx 1$. L'espansione in serie è più precisa, ma perde di precisione nella regione a $x \\approx 1$ perchè lì l'espansione in serie non può essere fatta. \\\n",
    "Prova a vedere cosa succede se fai la somma al contrario \\\n",
    "La soluzione usava n fino a 4, non 20"
   ]
  },
  {
   "cell_type": "code",
   "execution_count": null,
   "metadata": {},
   "outputs": [],
   "source": [
    "#Inizializating the values on the x-axis. I want them to be between 0 and 1.\n",
    "esp_min = -16\n",
    "esp_max = -1\n",
    "x = [10.0^i for i in esp_min:0.01:esp_max]\n",
    "\n",
    "#Initializing the number of terms of the Taylor series\n",
    "n_min = 1\n",
    "n_max = 4\n",
    "n = [i for i in n_min:n_max]\n",
    "\n",
    "#Calculating the values of the function and the Taylor series\n",
    "y_naive = f.(x)                            #this is a vector with the function values, calculated with the naive method \n",
    "y_mclaur = zeros(length(n), length(x))     #this is a matrix with the values of the Taylor series, each row is a different number of terms\n",
    "for i in 1:length(n)\n",
    "    y_mclaur[i,  : ] = f_mclaur.(x, i)\n",
    "end\n",
    "\n",
    "#Calculating the absolute error between the naive method and the Taylor series\n",
    "delta = zeros(length(n), length(x))     #delta is a matrix with the absolute error\n",
    "for i in 1:length(n)\n",
    "    delta[i, :] = abs.(y_naive - y_mclaur[i, :])\n",
    "end\n",
    "\n",
    "#Printing the results\n",
    "display(Markdown.parse(L\"$\\frac{e^x-1}{x} \\text{ function values calculated with the naive method: }$\"))\n",
    "display(transpose(y_naive))\n",
    "display(Markdown.parse(L\"$\\frac{e^x-1}{x} \\text{ function values calculated wiith the Taylor expansion: }$\"))\n",
    "display(y_mclaur)"
   ]
  },
  {
   "cell_type": "markdown",
   "metadata": {},
   "source": [
    "Qui si nota che la funzione naive, per x->0, non tende a 1 ma a 1.1. Poi dopo torna ad assumere l'andamento corretto"
   ]
  },
  {
   "cell_type": "code",
   "execution_count": null,
   "metadata": {},
   "outputs": [],
   "source": [
    "#Plotting the results\n",
    "format_tick(x) = @sprintf(\"%.2f\", x)\n",
    "format_tick_scientific(x) = @sprintf(\"%.1e\", x)\n",
    "x_ticks = [10.0^i for i in esp_min:3:esp_max]\n",
    "y_ticks = [10.0^i for i in -0.2:0.1:0.3]\n",
    "\n",
    "fig1 = plot(xscale=:log10, yscale=:log10, \n",
    "            xlimits=(10.0^(esp_min), 10.0^(esp_max+2)), ylimits=(0.632, 2.000),\n",
    "            xlabel=L\"x\", ylabel=L\"f(x)\",\n",
    "            framestyle=:box,\n",
    "            grid=true, gridalpha=0.5,\n",
    "            legend=:topright,\n",
    "            xticks = x_ticks, yticks = y_ticks,\n",
    "            xformatter = format_tick_scientific, yformatter = format_tick\n",
    "            )\n",
    "\n",
    "plot!(fig1, x[2:end], y_naive[2:end],\n",
    "      label=L\"f(x)\",\n",
    "     )\n",
    "\n",
    "for i in 1:1:length(n)\n",
    "    precision = i + n_min - 1\n",
    "    label = latexstring(\"p_{\", precision, \"}(x)\")\n",
    "\n",
    "    plot!(fig1, x[2:end], y_mclaur[i, 2:end], \n",
    "          label=label, \n",
    "          color=colors[5-i],\n",
    "         )\n",
    "end\n",
    "display(fig1)\n",
    "display(Markdown.parse(\"In relazione va specificato cosa sono f(x) e p(x)). Inoltre che i vari p non si vedono perchè sono sovrapposti\"))\n",
    "autosave(fig1, \"1421.pdf\")"
   ]
  },
  {
   "cell_type": "markdown",
   "metadata": {},
   "source": [
    "Qui ingrandiamo lo strano comportamento della funzione naive all'origine, confrontandolo con gli sviluppi in serie che al contrario si comportano bene nell'origine. Si nota un andamento periodico: salto \"parabolico\" e andamento seghettato. Questo andamento periodico (a cui ancora non mi sono dato spiegazione) si vede tanto meglio quanto più sono fitti i valori di x. "
   ]
  },
  {
   "cell_type": "code",
   "execution_count": null,
   "metadata": {},
   "outputs": [],
   "source": [
    "#Plotting the results\n",
    "format_tick(x) = @sprintf(\"%.2f\", x)\n",
    "format_tick_scientific(x) = @sprintf(\"%.1e\", x)\n",
    "x_ticks = [10.0^i for i in esp_min:0.5:esp_max]\n",
    "y_ticks = [10.0^i for i in -0.1:0.01:0.1]\n",
    "\n",
    "fig2 = plot(figsize=(800, 600),         \n",
    "            xscale=:log10, yscale=:log10, \n",
    "            xlimits=(10.0^(-15), 10.0^(-13)/2), ylimits=(0.93, 1.15),\n",
    "            xlabel=L\"x\", ylabel=L\"f(x)\",\n",
    "            framestyle=:box,\n",
    "            grid=true, gridalpha=0.5,\n",
    "            legend=:topright,\n",
    "            xticks = x_ticks, yticks = y_ticks,\n",
    "            xformatter = format_tick_scientific, yformatter = format_tick,\n",
    "            )\n",
    "\n",
    "plot!(fig2, x[2:length(x)], y_naive[2:length(x)],\n",
    "      label=L\"f(x)\",\n",
    "     )\n",
    "      \n",
    "for i in 1:length(n)\n",
    "      precision = i + n_min - 1\n",
    "      label = latexstring(\"p_{\", precision, \"}(x)\")\n",
    "      plot!(fig2, x[2:length(x)], y_mclaur[i, 2:length(x)], \n",
    "              label=label, \n",
    "              color = colors[5-i],\n",
    "            )\n",
    "end\n",
    "display(fig2)\n",
    "autosave(fig2, \"1422.pdf\")"
   ]
  },
  {
   "cell_type": "markdown",
   "metadata": {},
   "source": [
    "Qui vediamo che, mano a mano che le x aumentano di valore, la funzione naive migliora, mentre l'approssimazione dello sviluppo in serie peggiora perchè si sommano numeri molto piccoli che non riescono a essere rappresentati."
   ]
  },
  {
   "cell_type": "code",
   "execution_count": null,
   "metadata": {},
   "outputs": [],
   "source": [
    "#Plotting the results\n",
    "format_tick(x) = @sprintf(\"%.2f\", x)\n",
    "format_tick_scientific(x) = @sprintf(\"%.1e\", x)\n",
    "x_ticks = [10.0^i for i in -2:0.2:(esp_max+1)]\n",
    "y_ticks = [10.0^i for i in 0:0.005:0.025]\n",
    "\n",
    "fig3 = plot(figsize=(800, 600),      \n",
    "            xscale=:log10, yscale=:log10,\n",
    "            xlimits=(10.0^(-2), 10.0^(esp_max+0.1)), ylimits=(10.0^(0), 10.0^(0.025)),\n",
    "            xlabel=L\"x\", ylabel=L\"f(x)\",\n",
    "            framestyle=:box,\n",
    "            grid=true, gridalpha=0.5,\n",
    "            legend=:topleft,\n",
    "            xticks = x_ticks, yticks = y_ticks,\n",
    "            xformatter = format_tick_scientific, yformatter = format_tick,\n",
    "            )\n",
    "\n",
    "plot!(fig3, x[2:length(x)], y_naive[2:length(x)],\n",
    "      label=L\"f(x)\",\n",
    "     )\n",
    "      \n",
    "for i in 1:length(n)\n",
    "    precision = i + n_min - 1\n",
    "    label = latexstring(\"p_{\", precision, \"}(x)\")\n",
    "    plot!(fig3, x[2:length(x)], y_mclaur[i, 2:length(x)], \n",
    "            label=label, \n",
    "            color = colors[5-i],\n",
    "         )\n",
    "end\n",
    "\n",
    "display(fig3)\n",
    "autosave(fig3, \"1423.pdf\")"
   ]
  },
  {
   "cell_type": "markdown",
   "metadata": {},
   "source": [
    "## Stabilità di $p_n(x)$"
   ]
  },
  {
   "cell_type": "code",
   "execution_count": null,
   "metadata": {},
   "outputs": [],
   "source": [
    "x = 0.1\n",
    "n = [i for i in 1:1:10]\n",
    "Δ = [p_stability(x, i) for i in n]\n",
    "\n",
    "fig6 = plot(figsize=(800, 600),      \n",
    "            yscale=:log10,\n",
    "            xlabel=L\"n\", ylabel=L\"Stability\",\n",
    "            framestyle=:box,\n",
    "            grid=true, gridalpha=0.5,\n",
    "            legend=:topright,\n",
    "            xticks = n, yticks = [10.0^i for i in -16:2:-1],\n",
    "            yformatter = format_tick_scientific,\n",
    "            )\n",
    "\n",
    "plot!(fig6, n, Δ,\n",
    "      label=L\"\\Delta_n(x) = \\frac{x^n}{(n+1)!}\",\n",
    "      marker=:circle, markersize=5, color=colors[2], linewidth=2\n",
    "     )\n",
    "\n",
    "autosave(fig6, \"1424.pdf\")\n",
    "display(fig6)"
   ]
  },
  {
   "cell_type": "markdown",
   "metadata": {},
   "source": [
    "## Distanza tra i valori calcolati con i due metodi\n",
    "Ricalcolo i valori per avere meno dati sulle x, altrimenti i grafici risultano troppo confusi. ld indica \"less data\" "
   ]
  },
  {
   "cell_type": "code",
   "execution_count": null,
   "metadata": {},
   "outputs": [],
   "source": [
    "#Inizializating the values on the x-axis. I want them to be between 0 and 1.\n",
    "esp_min = -16\n",
    "esp_max = -1\n",
    "x_ld = [10.0^i for i in esp_min:0.1:esp_max]\n",
    "\n",
    "#Initializing the number of terms of the Taylor series\n",
    "n_min = 1\n",
    "n_max = 4\n",
    "n = [i for i in n_min:n_max]\n",
    "\n",
    "#Calculating the values of the function and the Taylor series\n",
    "y_naive_ld = f.(x_ld)                            #this is a vector with the function values, calculated with the naive method \n",
    "y_mclaur_ld = zeros(length(n), length(x_ld))     #this is a matrix with the values of the Taylor series, each row is a different number of terms\n",
    "for i in 1:length(n)\n",
    "    y_mclaur_ld[i,  : ] = f_mclaur.(x_ld, i)\n",
    "end\n",
    "\n",
    "#Calculating the absolute error between the naive method and the Taylor series\n",
    "delta_ld = zeros(length(n), length(x_ld))     #delta is a matrix with the absolute error\n",
    "for i in 1:length(n)\n",
    "    delta_ld[i, :] = abs.(y_naive_ld - y_mclaur_ld[i, :])\n",
    "end"
   ]
  },
  {
   "cell_type": "markdown",
   "metadata": {},
   "source": [
    "Qui vediamo la distanza tra le due funzioni. A bassi valori di x è massima, perchè naive non rappresenta bene la funzione. Aumentando x diminuisce, ma poi si entra nel range in cui l'espansione in serie non descrive più bene la funzione perchè x dovrebbe tendere a 0. Perciò: \\\n",
    "x piccolo: errore di cancellazione \\\n",
    "x grande: problema di rappresentazione"
   ]
  },
  {
   "cell_type": "code",
   "execution_count": null,
   "metadata": {},
   "outputs": [],
   "source": [
    "#Plotting the results\n",
    "format_tick(x) = @sprintf(\"%.10f\", x)\n",
    "format_tick_scientific(x) = @sprintf(\"%.1e\", x)\n",
    "x_ticks = [10.0^i for i in (esp_min-1):2:(esp_max+1)]\n",
    "y_ticks = [10.0^i for i in (-16):2:0]\n",
    "\n",
    "fig4 = plot(figsize=(800, 600),      \n",
    "            xscale=:log10, yscale=:log10,\n",
    "            xlabel=L\"x\", ylabel=L\"\\Delta(x)\",\n",
    "            framestyle=:box,\n",
    "            grid=true, gridalpha=0.5,\n",
    "            legend=:bottomleft,\n",
    "            xticks = x_ticks, yticks = y_ticks,\n",
    "            xformatter = format_tick_scientific, yformatter = format_tick_scientific,\n",
    "            )\n",
    "\n",
    "for i in 1:length(n)\n",
    "    precision = i+n_min-1\n",
    "    label = latexstring(\"Δ_{\", precision, \"}(x)\")\n",
    "    plot!(fig4, x_ld, delta_ld[i, :], \n",
    "          label=label, \n",
    "          color=colors[5-i],\n",
    "         )\n",
    "end \n",
    "\n",
    "autosave(fig4, \"1425.pdf\")\n",
    "display(fig4)"
   ]
  },
  {
   "cell_type": "code",
   "execution_count": null,
   "metadata": {},
   "outputs": [],
   "source": [
    "#Non necessario da inserire in relazione, ma utile per vedere i risultati\n",
    "#Plotting the results (zoomed in)\n",
    "format_tick(x) = @sprintf(\"%.10f\", x)\n",
    "format_tick_scientific(x) = @sprintf(\"%.1e\", x)\n",
    "x_ticks = [10.0^i for i in (esp_min-1):2:(esp_max+1)]\n",
    "y_ticks = [10.0^i for i in (-16):2:0]\n",
    "\n",
    "fig5 = plot(figsize=(800, 600),      \n",
    "            xscale=:log10, yscale=:log10,\n",
    "            xlimits=(10.0^(-6), 10.0^(-0.5)), ylimits=(10.0^(-15), 10.0^(-2)),\n",
    "            xlabel=L\"x\", ylabel=L\"f(x)\",\n",
    "            framestyle=:box,\n",
    "            grid=true, gridalpha=0.5,\n",
    "            legend=:topleft,\n",
    "            xticks = x_ticks, yticks = y_ticks,\n",
    "            xformatter = format_tick_scientific, yformatter = format_tick_scientific,\n",
    "            )\n",
    "\n",
    "for i in 1:length(n)\n",
    "    precision = i+n_min-1\n",
    "    label = latexstring(\"p_{\", precision, \"}(x)\")\n",
    "    plot!(fig5, x_ld, delta_ld[i, :], \n",
    "          label=label, \n",
    "         )\n",
    "end \n",
    "\n",
    "display(fig5)"
   ]
  }
 ],
 "metadata": {
  "kernelspec": {
   "display_name": "Julia 1.11.4",
   "language": "julia",
   "name": "julia-1.11"
  },
  "language_info": {
   "file_extension": ".jl",
   "mimetype": "application/julia",
   "name": "julia",
   "version": "1.11.4"
  }
 },
 "nbformat": 4,
 "nbformat_minor": 2
}
