{
 "cells": [
  {
   "cell_type": "markdown",
   "id": "0",
   "metadata": {},
   "source": [
    "# Gauss-Legendre quadrature\n",
    "## Second part\n",
    "Write a program that computes the nodes and weights for the Gauss-Legendre quadrature in the interval $[-1,1]$."
   ]
  },
  {
   "cell_type": "code",
   "execution_count": null,
   "id": "1",
   "metadata": {},
   "outputs": [],
   "source": [
    "using Plots\n",
    "using Markdown\n",
    "using Printf\n",
    "include(\"c:\\\\ALL\\\\Stefano\\\\Bicocca\\\\3terzo_anno\\\\lab_comp\\\\lab_computazionale1\\\\librerie\\\\non_linear_roots.jl\")\n",
    "include(\"c:\\\\ALL\\\\Stefano\\\\Bicocca\\\\3terzo_anno\\\\lab_comp\\\\lab_computazionale1\\\\librerie\\\\polynomials.jl\")"
   ]
  },
  {
   "cell_type": "markdown",
   "id": "2",
   "metadata": {},
   "source": [
    "**(a)** To find the roots $x_k$, with $k=1,\\ldots,n$ of the Legendre polynomial $P_n(x)$ of order $n$ use Newton's method. Take as the initial condition for the $k$-th root,\n",
    "\n",
    "$$\n",
    "    x^{(0)}_k=\\cos(\\phi_k)\\,,\n",
    "    \\qquad\n",
    "    \\phi_k={4k-1\\over 4n+2}\\pi\\,.\n",
    "$$"
   ]
  },
  {
   "cell_type": "code",
   "execution_count": null,
   "id": "3",
   "metadata": {},
   "outputs": [],
   "source": [
    "function leg_zeros(n::Int)\n",
    "    roots = Float64[]\n",
    "    \n",
    "    for k in 1:1:n\n",
    "        xk = (1 - 1/(8n^2) + 1/(8n^3))*cos(pi*(4k-1)/(4n+2))\n",
    "        push!(roots, xk)\n",
    "    end\n",
    "    return roots\n",
    "end"
   ]
  },
  {
   "cell_type": "code",
   "execution_count": null,
   "id": "4",
   "metadata": {},
   "outputs": [],
   "source": [
    "n = 4\n",
    "pl, dpl = all_leg_pol(n) \n",
    "\n",
    "P = pl[n+1]\n",
    "dP = dpl[n+1]\n",
    "\n",
    "roots1 = Float64[]\n",
    "\n",
    "for k in 1:1:n\n",
    "    x0_k = cos(pi*(4k-1)/(4n+2))\n",
    "    r, r_steps = newt_met_steps(P, dP, x0_k, 1)\n",
    "    push!(roots1, r)\n",
    "end\n",
    "\n",
    "roots2 = leg_zeros(n)\n",
    "roots3 = leg_roots(n)\n",
    "\n",
    "display(Markdown.parse(\"Roots found for P_5 with asymptotic approximation:\"))\n",
    "display(roots1)\n",
    "display(Markdown.parse(\"Roots found for P_5 with Newton's method:\"))\n",
    "display(roots2)\n",
    "\n",
    "display(Markdown.parse(\"Test of a library function, just calcualating positive values:\"))\n",
    "display(roots3)"
   ]
  }
 ],
 "metadata": {
  "kernelspec": {
   "display_name": "Julia 1.11.4",
   "language": "julia",
   "name": "julia-1.11"
  },
  "language_info": {
   "file_extension": ".jl",
   "mimetype": "application/julia",
   "name": "julia",
   "version": "1.11.4"
  }
 },
 "nbformat": 4,
 "nbformat_minor": 5
}
