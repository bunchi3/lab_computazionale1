{
 "cells": [
  {
   "cell_type": "markdown",
   "metadata": {},
   "source": [
    "# Forward substitution of a $n \\times n$ matrix"
   ]
  },
  {
   "cell_type": "markdown",
   "metadata": {},
   "source": [
    "**(a)** Write a function that performs forward substitution on a $n \\times n$ lower triangular matrix. \\\n",
    "**(c)** Write a function that performs backward substitution on a $n \\times n$ upper triangular matrix."
   ]
  },
  {
   "cell_type": "code",
   "execution_count": null,
   "metadata": {},
   "outputs": [],
   "source": [
    "#Import cell\n",
    "using Markdown     #Vsualizzazione di markdown in display\n",
    "#non devo importare LinearAlgebra perchè è già dentro il file linear_systems.jl\n",
    "include(\"c:\\\\ALL\\\\Stefano\\\\Bicocca\\\\3terzo_anno\\\\lab_comp\\\\lab_computazionale1\\\\librerie\\\\linear_systems.jl\")"
   ]
  },
  {
   "cell_type": "markdown",
   "metadata": {},
   "source": [
    "**(b)** Test your code on the linear systems:"
   ]
  },
  {
   "cell_type": "code",
   "execution_count": null,
   "metadata": {},
   "outputs": [],
   "source": [
    "test_matrix1 = [-2 0 0\n",
    "                1 -1 0 \n",
    "                3 2 1]\n",
    "b1 = [-4 2 1]\n",
    "\n",
    "test_matrix2 = [4 0 0 0\n",
    "                1 -2 0 0\n",
    "                -1 4 4 0 \n",
    "                2 -5 5 1]\n",
    "b2 = [-4 1 -3 5]\n",
    "\n",
    "\n",
    "solution1 = fw_sub(test_matrix1, b1)\n",
    "solution2 = fw_sub(test_matrix2, b2)\n",
    "\n",
    "display(Markdown.parse(\"Test 1:\"))\n",
    "display(transpose(test_matrix1*solution1))\n",
    "display(Markdown.parse(\"Expected result:\"))\n",
    "display(b1)\n",
    "display(Markdown.parse(\"Test 2:\"))\n",
    "display(transpose(test_matrix2*solution2))\n",
    "display(Markdown.parse(\"Expected result:\"))\n",
    "display(b2)\n"
   ]
  },
  {
   "cell_type": "markdown",
   "metadata": {},
   "source": [
    "# Backward substitution of a $n \\times n$ matrix"
   ]
  },
  {
   "cell_type": "markdown",
   "metadata": {},
   "source": [
    "**(d)** Test your code on the linear systems:"
   ]
  },
  {
   "cell_type": "code",
   "execution_count": null,
   "metadata": {},
   "outputs": [],
   "source": [
    "A = [\n",
    "    3  1  0\n",
    "    0 -1 -2\n",
    "    0  0  3\n",
    "    ];\n",
    "\n",
    "source1 = [1 1 6]\n",
    "\n",
    "B = [\n",
    "    3  1  0  6\n",
    "    0 -1 -2  7\n",
    "    0  0  3  4\n",
    "    0  0  0  5\n",
    "    ];\n",
    "\n",
    "source2 = [4 1 1 5]\n",
    "\n",
    "solution1 = bw_sub(A, source1)\n",
    "solution2 = bw_sub(B, source2)\n",
    "\n",
    "display(Markdown.parse(\"Test 1:\"))\n",
    "display(transpose(A*solution1))\n",
    "display(Markdown.parse(\"Expected result:\"))\n",
    "display(source1)\n",
    "display(Markdown.parse(\"Test 2:\"))\n",
    "display(transpose(B*solution2))\n",
    "display(Markdown.parse(\"Expected result:\"))\n",
    "display(source2)\n"
   ]
  }
 ],
 "metadata": {
  "kernelspec": {
   "display_name": "Julia 1.11.4",
   "language": "julia",
   "name": "julia-1.11"
  },
  "language_info": {
   "file_extension": ".jl",
   "mimetype": "application/julia",
   "name": "julia",
   "version": "1.11.4"
  }
 },
 "nbformat": 4,
 "nbformat_minor": 2
}
