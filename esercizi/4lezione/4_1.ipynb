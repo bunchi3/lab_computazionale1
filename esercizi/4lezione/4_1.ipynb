{
 "cells": [
  {
   "cell_type": "markdown",
   "metadata": {},
   "source": [
    "# Forward substituion of a $n \\times n$ matrix"
   ]
  },
  {
   "cell_type": "code",
   "execution_count": null,
   "metadata": {},
   "outputs": [],
   "source": [
    "#La funzione prende matrici di dimensione n*n di tipo lower diagonal\n",
    "#Richiede anche il vettore dei termini noti\n",
    "function fw_sub(matrix, b)\n",
    "    n = length(matrix)\n",
    "    #Da inserire un messaggio di errore se b e matrix hanno diversa lunghezza.\n",
    "    solution = zeros(length(n))\n",
    "    #i indice di riga, j indice di colonna\n",
    "    for i in 1:length(n)\n",
    "        solution[i] = b[i]/matrix[i][i]\n",
    "        for j in 1:i\n",
    "            solution[i] += -matrix[i][j]*solution[j]/matrix[i][i] \n",
    "        end\n",
    "    end\n",
    "    return solution\n",
    "end"
   ]
  },
  {
   "cell_type": "code",
   "execution_count": null,
   "metadata": {},
   "outputs": [],
   "source": [
    "test_matrix = [[-2, 0, 0], [1, -1, 0], [3, 2, 1]]\n",
    "b = [1,1,6]\n",
    "println(length(test_matrix))\n",
    "\n",
    "solution = fw_sub(test_matrix, b)\n",
    "println(solution)"
   ]
  }
 ],
 "metadata": {
  "kernelspec": {
   "display_name": "Julia 1.11.3",
   "language": "julia",
   "name": "julia-1.11"
  },
  "language_info": {
   "file_extension": ".jl",
   "mimetype": "application/julia",
   "name": "julia",
   "version": "1.11.3"
  }
 },
 "nbformat": 4,
 "nbformat_minor": 2
}
