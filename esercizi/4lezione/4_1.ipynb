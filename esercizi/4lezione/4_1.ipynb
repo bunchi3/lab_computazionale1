{
 "cells": [
  {
   "cell_type": "markdown",
   "metadata": {},
   "source": [
    "# Forward substitution of a $n \\times n$ matrix"
   ]
  },
  {
   "cell_type": "code",
   "execution_count": null,
   "metadata": {},
   "outputs": [],
   "source": [
    "#La funzione prende matrici di dimensione n*n di tipo lower diagonal\n",
    "#Richiede anche il vettore dei termini noti\n",
    "function fw_sub(matrix::Vector{Vector{Float64}}, b)\n",
    "    n = length(matrix)\n",
    "    #Da inserire un messaggio di errore se b e matrix hanno diversa lunghezza.\n",
    "    if n != length(b)\n",
    "        throw(DomainError(b, \"Dimension mismatch between the matrix and the vector of known terms\"))\n",
    "    end\n",
    "    solution = zeros(n)\n",
    "    #i indice di riga, j indice di colonna\n",
    "    for i in 1:n\n",
    "        solution[i] = b[i]/matrix[i][i]\n",
    "        for j in 1:i-1\n",
    "            solution[i] += -matrix[i][j]*solution[j]/matrix[i][i] \n",
    "        end\n",
    "    end\n",
    "    return solution\n",
    "end\n",
    "\n",
    "function fw_sub(matrix::Matrix{}, b)\n",
    "    n = size(matrix, 1)\n",
    "    if n != length(b)\n",
    "        throw(DomainError(b, \"Dimension mismatch between the matrix and the vector of known terms\"))\n",
    "    end\n",
    "    solution = zeros(n)\n",
    "    #i indice di riga, j indice di colonna\n",
    "    for i in 1:n\n",
    "        solution[i] = b[i]/matrix[i, i]\n",
    "        for j in 1:i-1\n",
    "            solution[i] += -matrix[i, j]*solution[j]/matrix[i, i] \n",
    "        end\n",
    "    end\n",
    "    return solution\n",
    "end"
   ]
  },
  {
   "cell_type": "code",
   "execution_count": null,
   "metadata": {},
   "outputs": [],
   "source": [
    "test_matrix1 = [[-2.0, 0.0, 0.0], [1.0, -1.0, 0.0], [3.0, 2.0, 1.0]]\n",
    "b1 = [-4.0,2.0,1.0]\n",
    "test_matrix2 = [[4.0, 0.0, 0.0, 0.0], [1.0, -2.0, 0.0, 0.0], [-1.0, 4.0, 4.0, 0.0], [2.0, -5.0, 5.0, 1.0]]\n",
    "b2 = [-4.0, 1.0, -3.0, 5.0]\n",
    "\n",
    "solution1 = fw_sub(test_matrix1, b1)\n",
    "solution2 = fw_sub(test_matrix2, b2)\n",
    "\n",
    "println(solution1)\n",
    "println(solution2)\n"
   ]
  },
  {
   "cell_type": "code",
   "execution_count": null,
   "metadata": {},
   "outputs": [],
   "source": [
    "test_matrix1 = [-2.0 0.0 0.0; 1.0 -1.0 0.0; 3.0 2.0 1.0]\n",
    "b1 = [-4.0 2.0 1.0]\n",
    "test_matrix2 = [4.0 0.0 0.0 0.0; 1.0 -2.0 0.0 0.0; -1.0 4.0 4.0 0.0; 2.0 -5.0 5.0 1.0]\n",
    "b2 = [-4.0 1.0 -3.0 5.0]\n",
    "\n",
    "solution1 = fw_sub(test_matrix1, b1)\n",
    "solution2 = fw_sub(test_matrix2, b2)\n",
    "\n",
    "println(solution1)\n",
    "println(solution2)"
   ]
  },
  {
   "cell_type": "markdown",
   "metadata": {},
   "source": [
    "# Backward substitution of a $n \\times n$ matrix"
   ]
  },
  {
   "cell_type": "code",
   "execution_count": null,
   "metadata": {},
   "outputs": [],
   "source": [
    "function bw_sub(matrix::Matrix{}, b)\n",
    "    n = size(matrix, 1)\n",
    "    if n != length(b)\n",
    "        throw(DomainError(b, \"Dimension mismatch between the matrix and the vector of known terms\"))\n",
    "    end\n",
    "    solution = zeros(n)\n",
    "    #i indice di riga, j indice di colonna\n",
    "    for i in n:-1:1\n",
    "        solution[i] = b[i]/matrix[i, i]\n",
    "        for j in i+1:n\n",
    "            solution[i] += -matrix[i, j]*solution[j]/matrix[i, i] \n",
    "        end\n",
    "    end\n",
    "    return solution\n",
    "end"
   ]
  },
  {
   "cell_type": "code",
   "execution_count": null,
   "metadata": {},
   "outputs": [],
   "source": [
    "A = [\n",
    "    3  1  0\n",
    "    0 -1 -2\n",
    "    0  0  3\n",
    "    ];\n",
    "\n",
    "source1 = [1 1 6]\n",
    "\n",
    "B = [\n",
    "    3  1  0  6\n",
    "    0 -1 -2  7\n",
    "    0  0  3  4\n",
    "    0  0  0  5\n",
    "    ];\n",
    "\n",
    "source2 = [4 1 1 5]\n",
    "\n",
    "Acv = convert(Matrix{Float64}, A)\n",
    "Bcv = convert(Matrix{Float64}, B)\n",
    "\n",
    "\n",
    "solution1 = bw_sub(A, source1)\n",
    "solution2 = bw_sub(B, source2)\n",
    "\n",
    "println(solution1)\n",
    "println(solution2)\n"
   ]
  }
 ],
 "metadata": {
  "kernelspec": {
   "display_name": "Julia 1.11.4",
   "language": "julia",
   "name": "julia-1.11"
  },
  "language_info": {
   "file_extension": ".jl",
   "mimetype": "application/julia",
   "name": "julia",
   "version": "1.11.4"
  }
 },
 "nbformat": 4,
 "nbformat_minor": 2
}
