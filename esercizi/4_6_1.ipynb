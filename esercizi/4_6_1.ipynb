{
 "cells": [
  {
   "cell_type": "markdown",
   "id": "0",
   "metadata": {},
   "source": [
    "# Trigonometric interpolation"
   ]
  },
  {
   "cell_type": "code",
   "execution_count": null,
   "id": "1",
   "metadata": {},
   "outputs": [],
   "source": [
    "using Plots\n",
    "using Markdown\n",
    "using LaTeXStrings\n",
    "using Printf\n",
    "include(\"c:\\\\ALL\\\\Stefano\\\\Bicocca\\\\3terzo_anno\\\\lab_comp\\\\lab_computazionale1\\\\librerie\\\\interpolation.jl\")"
   ]
  },
  {
   "cell_type": "markdown",
   "id": "2",
   "metadata": {},
   "source": [
    "**(a)** Each of the following functions is 2-periodic. Write a function that performs trigonometric interplations on $[-1,1]$ and plot the function together with its trigonometric interpolants with $n=3,6,9$. Then, for $n=2,3,\\ldots,30$, compute the $\\infty$-norm error in the trigonometric interpolant by sampling at $1000$ or more points, and make a convergence plot on a semi-log scale.\n",
    "\n",
    "- $f(x) = e^{\\sin (2\\pi x)}\\qquad$\n",
    "\n",
    "- $f(x) = \\log [2+ \\sin (3 \\pi x ) ]\\qquad$\n",
    "\n",
    "- $f(x) = \\cos^{12}[\\pi (x-0.2)]$\n"
   ]
  },
  {
   "cell_type": "code",
   "execution_count": null,
   "id": "3",
   "metadata": {},
   "outputs": [],
   "source": [
    "#function cell\n",
    "f1(x) = exp(sin(2pi * x))"
   ]
  },
  {
   "cell_type": "markdown",
   "id": "4",
   "metadata": {},
   "source": [
    "$f(x) = e^{\\sin (2\\pi x)}\\qquad$"
   ]
  },
  {
   "cell_type": "code",
   "execution_count": null,
   "id": "5",
   "metadata": {},
   "outputs": [],
   "source": [
    "x = [i for i in range(-1, stop=1, length=1000)]\n",
    "p = tri_fit(6, f1)\n",
    "y = f1.(x)\n",
    "ypol = p.(x)\n",
    "\n",
    "#Plot section\n",
    "fig = plot(title=L\"e^{\\sin (2\\pi x)}\",\n",
    "             figsize=(800, 600),\n",
    "             xlabel=L\"x\", ylabel=L\"y(x)\",\n",
    "             framestyle=:box,\n",
    "             grid=true, gridalpha=0.5,\n",
    "             #xticks=[i for i in za:1:zb],\n",
    "             #yticks=[i for i in 0.0:0.2:maximum(y)+0.2],\n",
    "             legend=:topright,\n",
    "            )\n",
    "\n",
    "plot!(fig, x, y,\n",
    "      label = L\"Exact function\",\n",
    "      color=:navy,\n",
    "      lw=3.5, ls=:solid,\n",
    "     ) \n",
    "\n",
    "plot!(fig, x, ypol,\n",
    "      label = L\"Polynomial fit\",\n",
    "      color=:darkorange,\n",
    "      lw=2, ls=:dash,\n",
    "     )\n",
    "\n",
    "\n",
    "display(fig)"
   ]
  },
  {
   "cell_type": "code",
   "execution_count": null,
   "id": "6",
   "metadata": {},
   "outputs": [],
   "source": [
    "n = 6\n",
    "N = 2n + 1\n",
    "xk = [2k/N for k in -n:1:n]"
   ]
  }
 ],
 "metadata": {
  "kernelspec": {
   "display_name": "Julia 1.11.4",
   "language": "julia",
   "name": "julia-1.11"
  },
  "language_info": {
   "file_extension": ".jl",
   "mimetype": "application/julia",
   "name": "julia",
   "version": "1.11.4"
  }
 },
 "nbformat": 4,
 "nbformat_minor": 5
}
