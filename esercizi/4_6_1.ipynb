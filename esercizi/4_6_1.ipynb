{
 "cells": [
  {
   "cell_type": "markdown",
   "id": "0",
   "metadata": {},
   "source": [
    "# Trigonometric interpolation"
   ]
  },
  {
   "cell_type": "code",
   "execution_count": null,
   "id": "1",
   "metadata": {},
   "outputs": [],
   "source": [
    "using ColorSchemes, Plots\n",
    "using Markdown\n",
    "using LaTeXStrings\n",
    "using Printf\n",
    "include(\"c:\\\\ALL\\\\Stefano\\\\Bicocca\\\\3terzo_anno\\\\lab_comp\\\\lab_computazionale1\\\\librerie\\\\interpolation.jl\")\n",
    "function autosave(fig, filename)\n",
    "    path = \"C:\\\\ALL\\\\Stefano\\\\Bicocca\\\\3terzo_anno\\\\lab_comp\\\\lab_computazionale1\\\\relazione\\\\immagini\"\n",
    "    savefig(fig, joinpath(path, filename))\n",
    "end"
   ]
  },
  {
   "cell_type": "markdown",
   "id": "2",
   "metadata": {},
   "source": [
    "**(a)** Each of the following functions is 2-periodic. Write a function that performs trigonometric interplations on $[-1,1]$ and plot the function together with its trigonometric interpolants with $n=3,6,9$. Then, for $n=2,3,\\ldots,30$, compute the $\\infty$-norm error in the trigonometric interpolant by sampling at $1000$ or more points, and make a convergence plot on a semi-log scale.\n",
    "\n",
    "- $f(x) = e^{\\sin (2\\pi x)}\\qquad$\n",
    "\n",
    "- $f(x) = \\log [2+ \\sin (3 \\pi x ) ]\\qquad$\n",
    "\n",
    "- $f(x) = \\cos^{12}[\\pi (x-0.2)]$\n"
   ]
  },
  {
   "cell_type": "code",
   "execution_count": null,
   "id": "3",
   "metadata": {},
   "outputs": [],
   "source": [
    "#function cell\n",
    "f1(x) = exp(sin(2pi * x))\n",
    "f2(x) = log(2 + sin(3 * pi * x))\n",
    "f3(x) = (cos(pi*(x-0.2)))^12\n",
    "#colors = ColorSchemes.colorschemes[:tableau_colorblind]     #colori per daltonici\n",
    "colors = [\"#0F2080\",  # blu scuro\n",
    "           \"#F5793A\",  # arancione\n",
    "           \"#A95AA1\",  # viola\n",
    "           \"#85C0F9\"]  # azzurro\n",
    "linetypes = [:solid, :dot, :dash, :dash]\n",
    "widths = [5, 2, 3.5, 1.5]"
   ]
  },
  {
   "cell_type": "markdown",
   "id": "4",
   "metadata": {},
   "source": [
    "## $f(x) = e^{\\sin (2\\pi x)}\\qquad$"
   ]
  },
  {
   "cell_type": "markdown",
   "id": "5",
   "metadata": {},
   "source": [
    "### Interpolation"
   ]
  },
  {
   "cell_type": "markdown",
   "id": "6",
   "metadata": {},
   "source": [
    "Volendo al grafico puoi aggiungere anche i nodi"
   ]
  },
  {
   "cell_type": "code",
   "execution_count": null,
   "id": "7",
   "metadata": {},
   "outputs": [],
   "source": [
    "x = [i for i in range(-1, stop=1, length=1000)]\n",
    "n = [3, 6, 9]\n",
    "polynomials = tri_fit(n, f1)\n",
    "y = f1.(x)\n",
    "y_pol = []\n",
    "for p in polynomials\n",
    "    push!(y_pol, p.(x))\n",
    "end"
   ]
  },
  {
   "cell_type": "code",
   "execution_count": null,
   "id": "8",
   "metadata": {},
   "outputs": [],
   "source": [
    "#Plot section\n",
    "fig = plot(figsize=(800, 600),\n",
    "             xlabel=L\"x\", ylabel=L\"y(x)\",\n",
    "             framestyle=:box,\n",
    "             grid=true, gridalpha=0.5,\n",
    "             xticks=[i for i in -1:0.25:1],\n",
    "             legend=:topright,\n",
    "             legendfontsize = 9\n",
    "            )\n",
    "\n",
    "plot!(fig, x, y,\n",
    "      label = L\"Exact function\",\n",
    "      color=colors[1],\n",
    "      lw=widths[1], ls=linetypes[1],\n",
    "     ) \n",
    "\n",
    "for i in 1:1:length(y_pol)\n",
    "      plot!(fig, x, y_pol[i],\n",
    "            label = latexstring(\"Nodes = \", n[i]),\n",
    "            color=colors[i+1],\n",
    "            lw=widths[i+1], ls=linetypes[i+1],\n",
    "      )\n",
    "end\n",
    "\n",
    "autosave(fig, \"4611.pdf\")\n",
    "display(fig)"
   ]
  },
  {
   "cell_type": "markdown",
   "id": "9",
   "metadata": {},
   "source": [
    "### Error analysis"
   ]
  },
  {
   "cell_type": "markdown",
   "id": "10",
   "metadata": {},
   "source": [
    "Neanche il prof sa perchè è a scalini (probabilmente ha a che fare con il grado di differenzaibilità)\n",
    "Aggiungici i punti"
   ]
  },
  {
   "cell_type": "code",
   "execution_count": null,
   "id": "11",
   "metadata": {},
   "outputs": [],
   "source": [
    "n = [i for i in 2:1:30]\n",
    "x = [i for i in range(-1, stop=1, length=1000)]\n",
    "polynomials = tri_fit(n, f1)\n",
    "errors = []\n",
    "for p in polynomials\n",
    "    push!(errors, InftyNorm(p, f1, x))\n",
    "end"
   ]
  },
  {
   "cell_type": "code",
   "execution_count": null,
   "id": "12",
   "metadata": {},
   "outputs": [],
   "source": [
    "fig = plot(figsize=(800, 600),\n",
    "             xlabel=L\"n\", ylabel=L\"|| \\cdot ||_{∞}\",\n",
    "             yscale=:log10,\n",
    "             framestyle=:box,\n",
    "             grid=true, gridalpha=0.5,\n",
    "             xticks=[i for i in 1:2:length(n)], yticks=[10.0^(i) for i in 0:-2:-16],\n",
    "             legend=:topright,\n",
    "             legendfontsize = 12\n",
    "            )\n",
    "\n",
    "plot!(fig, n, errors,\n",
    "      label = L\"||f_{1} - p_{n}||_{\\infty}\",\n",
    "      color=colors[1],\n",
    "      marker=:circle,\n",
    "     )\n",
    "autosave(fig, \"4612.pdf\")\n",
    "display(fig)"
   ]
  },
  {
   "cell_type": "markdown",
   "id": "13",
   "metadata": {},
   "source": [
    "## $f(x) = \\log [2+ \\sin (3 \\pi x ) ]$"
   ]
  },
  {
   "cell_type": "markdown",
   "id": "14",
   "metadata": {},
   "source": [
    "### Interpolation"
   ]
  },
  {
   "cell_type": "code",
   "execution_count": null,
   "id": "15",
   "metadata": {},
   "outputs": [],
   "source": [
    "x = [i for i in range(-1, stop=1, length=1000)]\n",
    "n = [3, 6, 9]\n",
    "polynomials = tri_fit(n, f2)\n",
    "y = f2.(x)\n",
    "y_pol = []\n",
    "for p in polynomials\n",
    "    push!(y_pol, p.(x))\n",
    "end"
   ]
  },
  {
   "cell_type": "code",
   "execution_count": null,
   "id": "16",
   "metadata": {},
   "outputs": [],
   "source": [
    "#Plot section\n",
    "fig = plot(figsize=(800, 600),\n",
    "             xlabel=L\"x\", ylabel=L\"y(x)\",\n",
    "             framestyle=:box,\n",
    "             grid=true, gridalpha=0.5,\n",
    "             #xticks=[i for i in -1:0.25:1],\n",
    "             legend=:topright,\n",
    "            )\n",
    "\n",
    "plot!(fig, x, y,\n",
    "      label = L\"Exact function\",\n",
    "      color=colors[1],\n",
    "      lw=widths[1], ls=linetypes[1],\n",
    "     ) \n",
    "\n",
    "for i in 1:1:length(y_pol)\n",
    "      plot!(fig, x, y_pol[i],\n",
    "            label = latexstring(\"Nodes = \", n[i]),\n",
    "            color=colors[i+1],\n",
    "            lw=widths[i+1], ls=linetypes[i+1],\n",
    "      )\n",
    "end\n",
    "\n",
    "autosave(fig, \"4613.pdf\")\n",
    "display(fig)"
   ]
  },
  {
   "cell_type": "markdown",
   "id": "17",
   "metadata": {},
   "source": [
    "### Error analysis"
   ]
  },
  {
   "cell_type": "code",
   "execution_count": null,
   "id": "18",
   "metadata": {},
   "outputs": [],
   "source": [
    "n = [i for i in 2:1:30]\n",
    "x = [i for i in range(-1, stop=1, length=1000)]\n",
    "polynomials = tri_fit(n, f2)\n",
    "errors = []\n",
    "for p in polynomials\n",
    "    push!(errors, InftyNorm(p, f2, x))\n",
    "end"
   ]
  },
  {
   "cell_type": "code",
   "execution_count": null,
   "id": "19",
   "metadata": {},
   "outputs": [],
   "source": [
    "fig = plot(figsize=(800, 600),\n",
    "             xlabel=L\"n\", ylabel=L\"|| \\cdot ||_{∞}\",\n",
    "             yscale=:log10,\n",
    "             framestyle=:box,\n",
    "             grid=true, gridalpha=0.5,\n",
    "             xticks=[i for i in 1:2:length(n)], yticks=[10.0^(i) for i in 0:-1:-16],\n",
    "             legend=:topright,\n",
    "             legendfontsize = 12\n",
    "            )\n",
    "\n",
    "plot!(fig, n, errors,\n",
    "      label = L\"||f_{2} - p_{n}||_{\\infty}\",\n",
    "      color=colors[1],\n",
    "      marker=:circle,\n",
    "     )\n",
    "autosave(fig, \"4614.pdf\")\n",
    "display(fig)"
   ]
  },
  {
   "cell_type": "markdown",
   "id": "20",
   "metadata": {},
   "source": [
    "## $f(x) = \\cos^{12}[\\pi (x-0.2)]$"
   ]
  },
  {
   "cell_type": "markdown",
   "id": "21",
   "metadata": {},
   "source": [
    "### Interpolation"
   ]
  },
  {
   "cell_type": "code",
   "execution_count": null,
   "id": "22",
   "metadata": {},
   "outputs": [],
   "source": [
    "x = [i for i in range(-1, stop=1, length=1000)]\n",
    "n = [3, 6, 9]\n",
    "polynomials = tri_fit(n, f3)\n",
    "y = f3.(x)\n",
    "y_pol = []\n",
    "for p in polynomials\n",
    "    push!(y_pol, p.(x))\n",
    "end"
   ]
  },
  {
   "cell_type": "code",
   "execution_count": null,
   "id": "23",
   "metadata": {},
   "outputs": [],
   "source": [
    "#Changing types and widths for this particolar graph\n",
    "linetypes = [:solid, :dot, :dot, :dash]\n",
    "widths = [5, 2, 2, 1.5]\n",
    "\n",
    "#Plot section\n",
    "fig = plot(figsize=(800, 600),\n",
    "             xlabel=L\"x\", ylabel=L\"y(x)\",\n",
    "             framestyle=:box,\n",
    "             grid=true, gridalpha=0.5,\n",
    "             xticks=[i for i in -1:0.25:1],\n",
    "             legend=:topright,\n",
    "             legendfontsize = 9\n",
    "            )\n",
    "\n",
    "plot!(fig, x, y,\n",
    "      label = L\"Exact function\",\n",
    "      color=colors[1],\n",
    "      lw=widths[1], ls=linetypes[1],\n",
    "     ) \n",
    "\n",
    "for i in 1:1:length(y_pol)\n",
    "      plot!(fig, x, y_pol[i],\n",
    "            label = latexstring(\"Nodes = \", n[i]),\n",
    "            color=colors[i+1],\n",
    "            lw=widths[i+1], ls=linetypes[i+1],\n",
    "      )\n",
    "end\n",
    "\n",
    "autosave(fig, \"4615.pdf\")\n",
    "display(fig)"
   ]
  },
  {
   "cell_type": "code",
   "execution_count": null,
   "id": "24",
   "metadata": {},
   "outputs": [],
   "source": [
    "x = [i for i in range(-1, stop=1, length=1000)]\n",
    "n = [11, 12]\n",
    "polynomials = tri_fit(n, f3)\n",
    "y = f3.(x)\n",
    "y_pol = []\n",
    "for p in polynomials\n",
    "    push!(y_pol, p.(x))\n",
    "end\n",
    "#Changing types and widths for this particolar graph\n",
    "linetypes = [:solid, :dot, :dot, :dash]\n",
    "widths = [5, 2, 2, 1.5]\n",
    "\n",
    "#Plot section\n",
    "fig = plot(figsize=(800, 600),\n",
    "             xlabel=L\"x\", ylabel=L\"y(x)\",\n",
    "             framestyle=:box,\n",
    "             grid=true, gridalpha=0.5,\n",
    "             xticks=[i for i in -1:0.05:1],\n",
    "             legend=:topright,\n",
    "             xrange= (0.5, 0.76), yrange= (-0.0025, 0.0025),\n",
    "             legendfontsize = 10\n",
    "            )\n",
    "\n",
    "plot!(fig, x, y,\n",
    "      label = L\"Exact function\",\n",
    "      color=colors[1],\n",
    "      lw=widths[1], ls=linetypes[1],\n",
    "     ) \n",
    "\n",
    "for i in 1:1:length(y_pol)\n",
    "      plot!(fig, x, y_pol[i],\n",
    "            label = latexstring(\"Nodes = \", n[i]),\n",
    "            color=colors[i+1],\n",
    "            lw=widths[i+1], ls=linetypes[i+1],\n",
    "      )\n",
    "end\n",
    "\n",
    "autosave(fig, \"4617.pdf\")\n",
    "display(fig)"
   ]
  },
  {
   "cell_type": "markdown",
   "id": "25",
   "metadata": {},
   "source": [
    "### Error analysis"
   ]
  },
  {
   "cell_type": "code",
   "execution_count": null,
   "id": "26",
   "metadata": {},
   "outputs": [],
   "source": [
    "n = [i for i in 2:1:30]\n",
    "x = [i for i in range(-1, stop=1, length=1000)]\n",
    "polynomials = tri_fit(n, f3)\n",
    "errors = []\n",
    "for p in polynomials\n",
    "    push!(errors, InftyNorm(p, f3, x))\n",
    "end"
   ]
  },
  {
   "cell_type": "code",
   "execution_count": null,
   "id": "27",
   "metadata": {},
   "outputs": [],
   "source": [
    "fig = plot(figsize=(800, 600),\n",
    "             xlabel=L\"n\", ylabel=L\"|| \\cdot ||_{∞}\",\n",
    "             yscale=:log10,\n",
    "             framestyle=:box,\n",
    "             grid=true, gridalpha=0.5,\n",
    "             xticks=[i for i in 1:2:length(n)], yticks=[10.0^(i) for i in 0:-2:-16],\n",
    "             legend=:topright,\n",
    "             legendfontsize = 12\n",
    "            )\n",
    "\n",
    "plot!(fig, n, errors,\n",
    "      label = L\"||f_{3} - p_{n}||_{\\infty}\",\n",
    "      color=colors[1],\n",
    "      marker=:circle,\n",
    "     )\n",
    "autosave(fig, \"4616.pdf\")\n",
    "display(fig)"
   ]
  }
 ],
 "metadata": {
  "kernelspec": {
   "display_name": "Julia 1.11.4",
   "language": "julia",
   "name": "julia-1.11"
  },
  "language_info": {
   "file_extension": ".jl",
   "mimetype": "application/julia",
   "name": "julia",
   "version": "1.11.4"
  }
 },
 "nbformat": 4,
 "nbformat_minor": 5
}
