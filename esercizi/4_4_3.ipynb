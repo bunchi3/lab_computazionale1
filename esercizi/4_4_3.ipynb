{
 "cells": [
  {
   "cell_type": "markdown",
   "id": "0",
   "metadata": {},
   "source": [
    "# Chebyshev in $[0, 2 \\pi]$"
   ]
  },
  {
   "cell_type": "code",
   "execution_count": null,
   "id": "1",
   "metadata": {},
   "outputs": [],
   "source": [
    "using Plots\n",
    "using Markdown\n",
    "using LaTeXStrings\n",
    "using Printf\n",
    "include(\"c:\\\\ALL\\\\Stefano\\\\Bicocca\\\\3terzo_anno\\\\lab_comp\\\\lab_computazionale1\\\\librerie\\\\interpolation.jl\")\n",
    "function autosave(fig, filename)\n",
    "    path = \"C:\\\\ALL\\\\Stefano\\\\Bicocca\\\\3terzo_anno\\\\lab_comp\\\\lab_computazionale1\\\\relazione\\\\immagini\"\n",
    "    savefig(fig, joinpath(path, filename))\n",
    "end"
   ]
  },
  {
   "cell_type": "markdown",
   "id": "2",
   "metadata": {},
   "source": [
    "The Chebyshev points can be used when the interval of interpolation is $[a,b]$ rather than $[-1,1]$ by means of the change of variable. Plot a polynomial interpolant of $f(z) =\\cosh(\\sin z)$ over $[0,2\\pi]$ using $n=40$ Chebyshev nodes. "
   ]
  },
  {
   "cell_type": "code",
   "execution_count": null,
   "id": "3",
   "metadata": {},
   "outputs": [],
   "source": [
    "a=0; b=2pi\n",
    "pt_type=:c2\n",
    "z = [i for i in a:0.0005:b]\n",
    "n = 40\n",
    "f(z) = cosh(sin(z))\n",
    "colors = [\"#0F2080\",  # blu scuro\n",
    "           \"#F5793A\",  # arancione\n",
    "           \"#A95AA1\",  # viola\n",
    "           \"#85C0F9\"]  # azzurro"
   ]
  },
  {
   "cell_type": "code",
   "execution_count": null,
   "id": "4",
   "metadata": {},
   "outputs": [],
   "source": [
    "y_exact = f.(z)\n",
    "p, xn, yn = lag_fit(n, a, b, f, pt_type)\n",
    "y_p = p.(z)\n",
    "\n",
    "#Plot section\n",
    "fig = plot(figsize=(800, 600),\n",
    "             xlabel=L\"z\", ylabel=L\"y(z)\",\n",
    "             xlimits=(-0.15, 2pi + 1), \n",
    "             framestyle=:box,\n",
    "             grid=true, gridalpha=0.5,\n",
    "             xticks=([i*pi/2 for i in 0:1:4], [L\"0\", L\"\\frac{\\pi}{2}\", L\"\\pi\", L\"\\frac{3\\pi}{2}\", L\"2\\pi\"]),\n",
    "             legend=:topright,\n",
    "             legendfontsize = 9\n",
    "            )\n",
    "\n",
    "plot!(fig, z, y_exact,\n",
    "      label=L\"\\cosh(\\sin(z))\",\n",
    "      color=colors[1],\n",
    "      lw=3.5, ls=:solid,\n",
    "     )\n",
    "\n",
    "plot!(fig, z, y_p,\n",
    "     label=L\"p_{40}(z)\",\n",
    "     color=colors[2],\n",
    "     lw=2, ls=:dash,\n",
    "    )\n",
    "\n",
    "scatter!(fig, xn, yn,\n",
    "      label=L\"Nodes\",\n",
    "      color=colors[2],\n",
    "      markersize=:3.5\n",
    "     )\n",
    "\n",
    "autosave(fig, \"4431.pdf\")\n",
    "display(fig)"
   ]
  }
 ],
 "metadata": {
  "kernelspec": {
   "display_name": "Julia 1.11.4",
   "language": "julia",
   "name": "julia-1.11"
  },
  "language_info": {
   "file_extension": ".jl",
   "mimetype": "application/julia",
   "name": "julia",
   "version": "1.11.4"
  }
 },
 "nbformat": 4,
 "nbformat_minor": 5
}
