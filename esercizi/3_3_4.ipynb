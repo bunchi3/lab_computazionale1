{
 "cells": [
  {
   "cell_type": "markdown",
   "metadata": {},
   "source": [
    "# True anomaly $\\theta(t)$"
   ]
  },
  {
   "cell_type": "markdown",
   "metadata": {},
   "source": [
    "The most easily observed properties of the orbit of a celestial body around the Sun are the period $\\tau$ and the elliptical eccentricity $\\epsilon$. (A circle has $\\epsilon=0$.) From these, it is possible to find at any time $t$ the *true anomaly* $\\theta(t)$. This is the angle between the direction of periapsis (the point in the orbit closest to the Sun) and the current position of the body, as seen from the main focus of the ellipse (the location of the Sun). This is done through\n",
    "    \n",
    "$$\n",
    "    \\tan \\frac{\\theta}{2} = \\sqrt{\\frac{1+\\epsilon}{1-\\epsilon}}\\,\n",
    "    \\tan \\frac{\\psi}{2}\\,,\n",
    "$$ \n",
    "    \n",
    "where the *eccentric anomaly* $\\psi(t)$ satisfies Kepler's equation:\n",
    "  \n",
    "$$\n",
    "    \\psi - \\epsilon \\sin \\psi - \\frac{2\\pi t}{\\tau} = 0\\,.\n",
    "$$ \n",
    "\n",
    "The second quation must be solved numerically to find $\\psi(t)$, and then the first on can be solved analytically to find $\\theta(t)$. \n",
    "\n",
    "The asteroid Eros has $\\tau=1.7610$ years and $\\epsilon=0.2230$. Using Newton's method for the second equation, make a plot of $\\theta(t)$ for 100 values of $t$ between $0$ and $\\tau$, which is one full orbit. \\\n",
    "Note: Use mod($\\theta, 2\\pi$) to put the angle between 0 and $2\\pi$ if you want the result to be a continuous function."
   ]
  },
  {
   "cell_type": "code",
   "execution_count": null,
   "metadata": {},
   "outputs": [],
   "source": [
    "using Plots\n",
    "using LaTeXStrings\n",
    "include(\"C:\\\\ALL\\\\Stefano\\\\Bicocca\\\\3terzo_anno\\\\lab_comp\\\\lab_computazionale1\\\\librerie\\\\non_linear_roots.jl\")\n",
    "function autosave(fig, filename)\n",
    "    path = \"C:\\\\ALL\\\\Stefano\\\\Bicocca\\\\3terzo_anno\\\\lab_comp\\\\lab_computazionale1\\\\relazione\\\\immagini\"\n",
    "    savefig(fig, joinpath(path, filename))\n",
    "end"
   ]
  },
  {
   "cell_type": "code",
   "execution_count": null,
   "metadata": {},
   "outputs": [],
   "source": [
    "colors = colors = [\"#0F2080\",  # blu scuro\n",
    "           \"#F5793A\",  # arancione\n",
    "           \"#A95AA1\",  # viola\n",
    "           \"#85C0F9\"]  # azzurro"
   ]
  },
  {
   "cell_type": "markdown",
   "metadata": {},
   "source": [
    "t's variation just shifts the function in vertical. To search for zeros I will plot the function with t=0"
   ]
  },
  {
   "cell_type": "code",
   "execution_count": null,
   "metadata": {},
   "outputs": [],
   "source": [
    "tau = 1.7610\n",
    "eps = 0.2230\n",
    "ea_eq(psi, t) = psi - eps *sin(psi) - (2pi *t)/tau\n",
    "\n",
    "ψ = [i for i in -10:0.01:10]\n",
    "y1 = ea_eq.(x, 0)\n",
    "y2 = ea_eq.(x, 1)\n",
    "\n",
    "fig = plot(figsize=(800, 600),\n",
    "           xlabel=L\"\\psi\", ylabel=L\"f(\\psi)\",\n",
    "           framestyle=:box,\n",
    "           grid=true, gridalpha=0.5,\n",
    "          )\n",
    "\n",
    "plot!(fig, ψ, y1,\n",
    "      label =L\"\\psi - \\epsilon \\sin(\\psi) - \\frac{2\\pi t}{\\tau};\\ t=0\",\n",
    "      color = colors[1],\n",
    "     )\n",
    "\n",
    "plot!(fig, ψ, y2,\n",
    "      label =L\"\\psi - \\epsilon \\sin(\\psi) - \\frac{2\\pi t}{\\tau};\\ t=1\",\n",
    "      color = colors[3],\n",
    "     )\n",
    "\n",
    "plot!(fig, ψ, zeros(length(x)),\n",
    "      label = \"\",\n",
    "      color = colors[2],\n",
    "     )\n",
    "\n",
    "autosave(fig, \"3341.pdf\")\n",
    "display(fig)"
   ]
  },
  {
   "cell_type": "code",
   "execution_count": null,
   "metadata": {},
   "outputs": [],
   "source": [
    "step = tau/99       #With this step I will obtain 100 elements\n",
    "t = [i for i in 0:step:tau]\n",
    "\n",
    "#newt_met_steps requires a function, but our function needs two parameters. \n",
    "#I redefine the function so it has the second parameter fixated\n",
    "roots = [newt_met_steps(psi -> ea_eq(psi, ti), 0, 1)[1] for ti in t]\n"
   ]
  },
  {
   "cell_type": "markdown",
   "metadata": {},
   "source": [
    "Now I can solve the true anomaly problem: \n",
    "$$\n",
    "    \\tan \\frac{\\theta}{2} = \\sqrt{\\frac{1+\\epsilon}{1-\\epsilon}}\\,\n",
    "    \\tan \\frac{\\psi}{2}\\,,\n",
    "$$"
   ]
  },
  {
   "cell_type": "markdown",
   "metadata": {},
   "source": [
    "Puoi aggiungere al grafico il caso in cui l'eccentricità è zero, (retta)"
   ]
  },
  {
   "cell_type": "code",
   "execution_count": null,
   "metadata": {},
   "outputs": [],
   "source": [
    "rad = sqrt((1.0+eps)/(1.0-eps))\n",
    "theta_disc = 2atan.(rad .*tan.(roots ./ 2))\n",
    "theta = mod.(theta_disc, 2pi)\n",
    "\n",
    "fig1 = plot(figsize=(800, 600),\n",
    "            xlabel=L\"t\\ [years]\", ylabel=L\"True\\ anomaly\\ [rad]\",\n",
    "            framestyle=:box,\n",
    "            grid=true, gridalpha=0.5,\n",
    "           )\n",
    "\n",
    "plot!(fig1, t, theta,\n",
    "      label=L\"θ(t)\",\n",
    "      color = colors[1]\n",
    "     )\n",
    "\n",
    "autosave(fig1, \"3342.pdf\")\n",
    "display(fig1)"
   ]
  }
 ],
 "metadata": {
  "kernelspec": {
   "display_name": "Julia 1.11.4",
   "language": "julia",
   "name": "julia-1.11"
  },
  "language_info": {
   "file_extension": ".jl",
   "mimetype": "application/julia",
   "name": "julia",
   "version": "1.11.4"
  }
 },
 "nbformat": 4,
 "nbformat_minor": 2
}
