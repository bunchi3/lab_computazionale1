{
 "cells": [
  {
   "cell_type": "markdown",
   "metadata": {},
   "source": [
    "# True anomaly $\\theta(t)$"
   ]
  },
  {
   "cell_type": "markdown",
   "metadata": {},
   "source": [
    "The most easily observed properties of the orbit of a celestial body around the Sun are the period $\\tau$ and the elliptical eccentricity $\\epsilon$. (A circle has $\\epsilon=0$.) From these, it is possible to find at any time $t$ the *true anomaly* $\\theta(t)$. This is the angle between the direction of periapsis (the point in the orbit closest to the Sun) and the current position of the body, as seen from the main focus of the ellipse (the location of the Sun). This is done through\n",
    "    \n",
    "$$\n",
    "    \\tan \\frac{\\theta}{2} = \\sqrt{\\frac{1+\\epsilon}{1-\\epsilon}}\\,\n",
    "    \\tan \\frac{\\psi}{2}\\,,\n",
    "$$ \n",
    "    \n",
    "where the *eccentric anomaly* $\\psi(t)$ satisfies Kepler's equation:\n",
    "  \n",
    "$$\n",
    "    \\psi - \\epsilon \\sin \\psi - \\frac{2\\pi t}{\\tau} = 0\\,.\n",
    "$$ \n",
    "\n",
    "The second quation must be solved numerically to find $\\psi(t)$, and then the first on can be solved analytically to find $\\theta(t)$. \n",
    "\n",
    "The asteroid Eros has $\\tau=1.7610$ years and $\\epsilon=0.2230$. Using Newton's method for the second equation, make a plot of $\\theta(t)$ for 100 values of $t$ between $0$ and $\\tau$, which is one full orbit. \\\n",
    "Note: Use mod($\\theta, 2\\pi$) to put the angle between 0 and $2\\pi$ if you want the result to be a continuous function."
   ]
  },
  {
   "cell_type": "code",
   "execution_count": null,
   "metadata": {},
   "outputs": [],
   "source": [
    "using Plots\n",
    "using LaTeXStrings\n",
    "include(\"C:\\\\ALL\\\\Stefano\\\\Bicocca\\\\3terzo_anno\\\\lab_comp\\\\lab_computazionale1\\\\librerie\\\\non_linear_roots.jl\")"
   ]
  },
  {
   "cell_type": "markdown",
   "metadata": {},
   "source": [
    "t's variation just shifts the function in vertical. To search for zeros I will plot the function with t=0"
   ]
  },
  {
   "cell_type": "code",
   "execution_count": null,
   "metadata": {},
   "outputs": [],
   "source": [
    "tau = 1.7610\n",
    "eps = 0.2230\n",
    "ea_eq(psi, t) = psi - eps *sin(psi) - (2pi *t)/tau\n",
    "\n",
    "x = [i for i in -10:0.01:10]\n",
    "y = ea_eq.(x, 0)\n",
    "\n",
    "fig = plot(title=\"Eccentric anomaly\",\n",
    "           figsize=(800, 600),\n",
    "           xlabel=L\"x\", ylabel=L\"y\",\n",
    "           framestyle=:box,\n",
    "           grid=true, gridalpha=0.5,\n",
    "          )\n",
    "\n",
    "plot!(fig, x, y,\n",
    "      label =L\"$ψ(x)$ equation\"\n",
    "     )\n",
    "\n",
    "plot!(fig, x, zeros(length(x)),\n",
    "      label = \"\",\n",
    "     )"
   ]
  },
  {
   "cell_type": "code",
   "execution_count": null,
   "metadata": {},
   "outputs": [],
   "source": [
    "step = tau/99       #With this step I will obtain 100 elements\n",
    "t = [i for i in 0:step:tau]\n",
    "\n",
    "#newt_met_steps requires a function, but our function needs two parameters. \n",
    "#I redefine the function so it has the second parameter fixated\n",
    "roots = [newt_met_steps(psi -> ea_eq(psi, ti), 0, 1)[1] for ti in t]\n"
   ]
  },
  {
   "cell_type": "markdown",
   "metadata": {},
   "source": [
    "Now I can solve the true anomaly problem: \n",
    "$$\n",
    "    \\tan \\frac{\\theta}{2} = \\sqrt{\\frac{1+\\epsilon}{1-\\epsilon}}\\,\n",
    "    \\tan \\frac{\\psi}{2}\\,,\n",
    "$$"
   ]
  },
  {
   "cell_type": "code",
   "execution_count": null,
   "metadata": {},
   "outputs": [],
   "source": [
    "rad = sqrt((1.0+eps)/(1.0-eps))\n",
    "theta_disc = 2atan.(rad .*tan.(roots ./ 2))\n",
    "theta = mod.(theta_disc, 2pi)\n",
    "\n",
    "fig1 = plot(title=\"True anomaly\",\n",
    "            figsize=(800, 600),\n",
    "            xlabel=L\"t\", ylabel=L\"$\\theta$ [rad]\",\n",
    "            framestyle=:box,\n",
    "            grid=true, gridalpha=0.5,\n",
    "           )\n",
    "\n",
    "plot!(fig1, t, theta,\n",
    "      label=L\"θ(t)\"\n",
    "     )"
   ]
  }
 ],
 "metadata": {
  "kernelspec": {
   "display_name": "Julia 1.11.4",
   "language": "julia",
   "name": "julia-1.11"
  },
  "language_info": {
   "file_extension": ".jl",
   "mimetype": "application/julia",
   "name": "julia",
   "version": "1.11.4"
  }
 },
 "nbformat": 4,
 "nbformat_minor": 2
}
