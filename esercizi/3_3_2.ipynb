{
 "cells": [
  {
   "cell_type": "markdown",
   "metadata": {},
   "source": [
    "# Root finding\n",
    "\n",
    "Chiedi: la costante C non resta molto costante. Probabilmente lo farebbe se aggiungessi molti step"
   ]
  },
  {
   "cell_type": "code",
   "execution_count": null,
   "metadata": {},
   "outputs": [],
   "source": [
    "using Plots\n",
    "using ForwardDiff\n",
    "using Symbolics\n",
    "using Markdown\n",
    "using LaTeXStrings\n",
    "using Printf\n",
    "include(\"C:\\\\ALL\\\\Stefano\\\\Bicocca\\\\3terzo_anno\\\\lab_comp\\\\lab_computazionale1\\\\librerie\\\\interpolation.jl\")\n",
    "include(\"C:\\\\ALL\\\\Stefano\\\\Bicocca\\\\3terzo_anno\\\\lab_comp\\\\lab_computazionale1\\\\librerie\\\\non_linear_roots.jl\")"
   ]
  },
  {
   "cell_type": "markdown",
   "metadata": {},
   "source": [
    "**(a)** Rewrite the equations into the standard form for rootfinding, $f(x) = 0$, and compute $f'(x)$."
   ]
  },
  {
   "cell_type": "code",
   "execution_count": null,
   "metadata": {},
   "outputs": [],
   "source": [
    "# Function cell\n",
    "f1(x) = x^2 - exp(-x)\n",
    "f2(x) = 2x - tan(x)\n",
    "f3(x) = exp(x+1) - 2 - x\n",
    "df1(x) = ForwardDiff.derivative(f1, x)\n",
    "df2(x) = ForwardDiff.derivative(f2, x)\n",
    "df3(x) = ForwardDiff.derivative(f3, x)\n",
    "d2f1(x) = ForwardDiff.derivative(df1, x)\n",
    "d2f2(x) = ForwardDiff.derivative(df2, x)\n",
    "d2f3(x) = ForwardDiff.derivative(df3, x)\n",
    "\n",
    "@variables x\n",
    "sym_f1 = x^2 - exp(-x)\n",
    "sym_f2 = 2x - tan(x)\n",
    "sym_f3 = exp(x+1) - 2 - x\n",
    "sym_df1 = Symbolics.derivative(sym_f1, x)\n",
    "sym_df2 = Symbolics.derivative(sym_f2, x)\n",
    "sym_df3 = Symbolics.derivative(sym_f3, x)\n",
    "\n",
    "display(sym_df1)\n",
    "display(sym_df2)\n",
    "display(sym_df3)"
   ]
  },
  {
   "cell_type": "markdown",
   "metadata": {},
   "source": [
    "**(b)** Make a plot of $f$ over the given interval and determine how many roots lie in the interval. \\\n",
    "**(c)** Use Newton's method to find each root.\\\n",
    "**(d)** Study the error in the Newton sequence to determine numerically whether the convergence is roughly quadratic for the given root."
   ]
  },
  {
   "cell_type": "markdown",
   "metadata": {},
   "source": [
    "In general, defining $ \\epsilon_n = \\log(x_n-r)$ we have \n",
    "$$\n",
    "    \\epsilon_{n+1}\\approx q\\,\\epsilon_{n} -\\log|C|\n",
    "    \\quad\n",
    "    \\Rightarrow\n",
    "    \\quad\n",
    "    {\\epsilon_{n+1}\\over \\epsilon_n}\\approx q -{\\log|C|\\over \\epsilon_n}\\ \\overset{n\\to\\infty}{\\longrightarrow}\\ q\n",
    "$$\n",
    "similarly as in 3_2_2.ipynb. \\\n",
    "After finding q, we can compute $C$ with the following formula (actually definition): \n",
    "$$\n",
    "    \\lim_{n\\to\\infty} {|x_{n+1}-r|\\over|x_n-r|^q}=C\\,,\n",
    "$$\n",
    "just to compare it with the specific $C$ formula of Newton method:\n",
    "$$\n",
    "  C={1\\over 2}\\bigg|{f''(r)\\over f'(r)}\\bigg|\\,.\n",
    "$$"
   ]
  },
  {
   "cell_type": "markdown",
   "metadata": {},
   "source": [
    "### $x^2 - e^{-x} = 0$, over $[-2,2]$"
   ]
  },
  {
   "cell_type": "code",
   "execution_count": null,
   "metadata": {},
   "outputs": [],
   "source": [
    "x1 = [i for i in -2:0.1:2]\n",
    "y1 = f1.(x1) \n",
    "\n",
    "fig1 = plot(title=L\"$x^2 - e^{-x}$\",\n",
    "            figsize=(800, 600),\n",
    "            xlabel=L\"x\", ylabel=L\"y\",\n",
    "            framestyle=:box,\n",
    "            grid=true, gridalpha=0.5,\n",
    "            )\n",
    "\n",
    "plot!(fig1, x1, y1,\n",
    "      label = L\"$x^2 - e^{-x}$\",\n",
    "     )\n",
    "\n",
    "plot!(fig1, x1, zeros(length(x1)),\n",
    "      label = \"\",\n",
    "     )\n",
    "\n",
    "display(fig1)"
   ]
  },
  {
   "cell_type": "code",
   "execution_count": null,
   "metadata": {},
   "outputs": [],
   "source": [
    "first_guess = -2\n",
    "zero1, step1 = newt_met_steps(f1, first_guess, 1)\n",
    "result_text = @sprintf(\"Estimated root value: %.3f\", zero1)\n",
    "display(Markdown.parse(result_text))\n",
    "result_text = @sprintf(\"Function value in estimated root: %.3f\", f1(zero1))\n",
    "display(Markdown.parse(result_text))"
   ]
  },
  {
   "cell_type": "markdown",
   "metadata": {},
   "source": [
    "Now we study the errors"
   ]
  },
  {
   "cell_type": "code",
   "execution_count": null,
   "metadata": {},
   "outputs": [],
   "source": [
    "eps = log.(abs.(step1 .- zero1))\n",
    "en = eps[1:end-2]       #errori ϵ_n\n",
    "en1 = eps[2:end-1]      #errori ϵ_{n+1}\n",
    "q_asympt = en1 ./ en\n",
    "#We print the last one because it is an asymptotical study\n",
    "result_text = @sprintf(\"q evaluated asymptotically: %.3f\", q_asympt[end])\n",
    "display(Markdown.parse(result_text))"
   ]
  },
  {
   "cell_type": "code",
   "execution_count": null,
   "metadata": {},
   "outputs": [],
   "source": [
    "#d is the sequence of error ratio\n",
    "d1 = [abs(step1[i+1]-zero1)/abs(step1[i]-zero1)^2 for i in 1:(length(step1)-2)]        #Iteration till length(step1)-2 because I don't want include the root.\n",
    "k1=[i for i in 1:1:(length(step1)-2)]\n",
    "#C expected value:\n",
    "C1 = 0.5*abs(d2f1(zero1)/df1(zero1))\n",
    "result_text = @sprintf(\"Convergence rate C evaluated asymptotically =  %.3f\", d1[end])\n",
    "display(Markdown.parse(result_text))\n",
    "result_text = @sprintf(\"Convergence rate C expected = %.3f\", C1)\n",
    "display(Markdown.parse(result_text))\n",
    "\n",
    "fig1_1 = plot(title=\"Convergence rate\",\n",
    "              xlabel=\"Steps\", ylabel=\"Convergence\",\n",
    "              figsize=(800, 600),\n",
    "              framestyle=:box,\n",
    "              grid=true, gridalpha=0.5,\n",
    "              legend=:bottomright\n",
    "             )\n",
    "\n",
    "plot!(fig1_1, k1, d1,\n",
    "     label=L\"\\frac{|ϵ_{k+1}|}{|ϵ_{k}|^2}\",\n",
    "     marker=:circle,\n",
    "     markersize=3.5,\n",
    "     )\n",
    "\n",
    "x_step = [i for i in k1[1]:0.1:k1[end]]\n",
    "plot!(fig1_1, x_step, ones(length(x_step))*C1,\n",
    "     label=L\"C\",\n",
    "     )\n",
    "\n",
    "display(fig1_1)"
   ]
  },
  {
   "cell_type": "markdown",
   "metadata": {},
   "source": [
    "### $2x - \\tan x=0 $, over $[-0.2,1.4]$"
   ]
  },
  {
   "cell_type": "code",
   "execution_count": null,
   "metadata": {},
   "outputs": [],
   "source": [
    "x2 = [i for i in -0.2:0.01:1.4]\n",
    "y2 = f2.(x2) \n",
    "\n",
    "fig2 = plot(title=L\"2x - tan{x}\",\n",
    "            figsize=(800, 600),\n",
    "            xlabel=L\"x\", ylabel=L\"y\",\n",
    "            framestyle=:box,\n",
    "            grid=true, gridalpha=0.5,\n",
    "            )\n",
    "\n",
    "plot!(fig2, x2, y2,\n",
    "      label = L\"2x - tan{x}\",\n",
    "     )\n",
    "\n",
    "plot!(fig2, x2, zeros(length(x2)),\n",
    "      label = \"\",\n",
    "     )\n",
    "\n",
    "display(fig2)"
   ]
  },
  {
   "cell_type": "code",
   "execution_count": null,
   "metadata": {},
   "outputs": [],
   "source": [
    "first_guess_1 = 0.6\n",
    "zero2_1, step2_1 = newt_met_steps(f2, first_guess_1, 1)\n",
    "display(Markdown.parse(\"I expect the root and function' values to be the same because the tangent near 0 behaves like x, so f behaves like 2x - x, which is x.\"))\n",
    "result_text = @sprintf(\"First root estimated value: %.3e\", zero2_1)\n",
    "display(Markdown.parse(result_text))\n",
    "result_text = @sprintf(\"Function value in first estimated root: %.3e\", f2(zero2_1))\n",
    "display(Markdown.parse(result_text))\n",
    "\n",
    "\n",
    "first_guess_2 = 1.4\n",
    "zero2_2, step2_2 = newt_met_steps(f2, first_guess_2, 1)\n",
    "result_text = @sprintf(\"Second root estimated value: %.3f\", zero2_2)\n",
    "display(Markdown.parse(result_text))\n",
    "result_text = @sprintf(\"Function value in second estimated root: %.2e\", f2(zero2_2))\n",
    "display(Markdown.parse(result_text))"
   ]
  },
  {
   "cell_type": "markdown",
   "metadata": {},
   "source": [
    "Now we study the errors. \\ \n",
    "The second root doesn't give any kind of problem. \\ \n",
    "The first root, however, is quite interesting: asymptotically, we obtain a q value of 3.042, which is not what we expected."
   ]
  },
  {
   "cell_type": "code",
   "execution_count": null,
   "metadata": {},
   "outputs": [],
   "source": [
    "#First root\n",
    "eps = log.(abs.(step2_1 .- zero2_1))\n",
    "en = eps[1:end-2]       #errori ϵ_n\n",
    "en1 = eps[2:end-1]      #errori ϵ_{n+1}\n",
    "q_asympt1 = en1 ./ en\n",
    "#We print the last one because it's an asymptotical study\n",
    "result_text = @sprintf(\"q value for r = %.1f: %.3f\", zero2_1, q_asympt1[end])\n",
    "display(Markdown.parse(result_text))\n",
    "\n",
    "#second root\n",
    "eps = log.(abs.(step2_2 .- zero2_2))\n",
    "en = eps[1:end-2]       #errori ϵ_n\n",
    "en1 = eps[2:end-1]      #errori ϵ_{n+1}\n",
    "q_asympt2 = en1 ./ en\n",
    "#We print the last one because it's an asymptotical study\n",
    "result_text = @sprintf(\"q value for r = %.1f: %.3f\", zero2_2, q_asympt2[end])\n",
    "display(Markdown.parse(result_text))"
   ]
  },
  {
   "cell_type": "markdown",
   "metadata": {},
   "source": [
    "For first root there is a slight problem: second derivative is zero, so Newton's formula for C is not valid. We use the definition, recalled above."
   ]
  },
  {
   "cell_type": "code",
   "execution_count": null,
   "metadata": {},
   "outputs": [],
   "source": [
    "#d is the sequence of error ratio\n",
    "d2_1 = [abs(step2_1[i+1]-zero2_1)/abs(step2_1[i]-zero2_1)^q_asympt1[end] for i in 1:(length(step2_1)-2)]        #Iteration till length(step2)-2 because I don't want include the root.\n",
    "k2_1=[i for i in 1:1:(length(step2_1)-2)]\n",
    "result_text = @sprintf(\"Convergence rate C evaluated asymptotically =  %.3f\", d2_1[end])\n",
    "display(Markdown.parse(result_text))\n",
    "\n",
    "fig2_1 = plot(title=\"Convergence rate\",\n",
    "              xlabel=\"Steps\", ylabel=\"Convergence\",\n",
    "              figsize=(800, 600),\n",
    "              framestyle=:box,\n",
    "              grid=true, gridalpha=0.5,\n",
    "              legend=:topright\n",
    "             )\n",
    "\n",
    "plot!(fig2_1, k2_1, d2_1,\n",
    "     label=L\"\\frac{|ϵ_{k+1}|}{|ϵ_{k}|^q}\",\n",
    "     marker=:circle,\n",
    "     markersize=3.5,\n",
    "     )\n",
    "\n",
    "x_step = [i for i in k2_1[1]:0.1:k2_1[end]]\n",
    "plot!(fig2_1, x_step, ones(length(x_step))*d2_1[end],\n",
    "     label=L\"C\",\n",
    "     )\n",
    "\n",
    "display(fig2_1)"
   ]
  },
  {
   "cell_type": "markdown",
   "metadata": {},
   "source": [
    "We shall see what happend when we force $q = 2$ for first root. We expect it to be zero because of its second derivative."
   ]
  },
  {
   "cell_type": "code",
   "execution_count": null,
   "metadata": {},
   "outputs": [],
   "source": [
    "#d is the sequence of error ratio\n",
    "d2_1 = [abs(step2_1[i+1]-zero2_1)/abs(step2_1[i]-zero2_1)^2 for i in 1:(length(step2_1)-2)]        #Iteration till length(step2)-2 because I don't want include the root.\n",
    "k2_1=[i for i in 1:1:(length(step2_1)-2)]\n",
    "C2_1 = 0.5*abs(d2f2(zero2_1)/df2(zero2_1))\n",
    "result_text = @sprintf(\"Convergence rate C expected = %.3f\", C2_1)\n",
    "display(Markdown.parse(result_text))\n",
    "result_text = @sprintf(\"Convergence rate C evaluated asymptotically =  %.3f\", d2_1[end])\n",
    "display(Markdown.parse(result_text))\n",
    "\n",
    "fig2_1 = plot(title=\"Convergence rate\",\n",
    "              xlabel=\"Steps\", ylabel=\"Convergence\",\n",
    "              figsize=(800, 600),\n",
    "              framestyle=:box,\n",
    "              grid=true, gridalpha=0.5,\n",
    "              legend=:topright\n",
    "             )\n",
    "\n",
    "plot!(fig2_1, k2_1, d2_1,\n",
    "     label=L\"\\frac{|ϵ_{k+1}|}{|ϵ_{k}|^2}\",\n",
    "     marker=:circle,\n",
    "     markersize=3.5,\n",
    "     )\n",
    "\n",
    "x_step = [i for i in k2_1[1]:0.1:k2_1[end]]\n",
    "plot!(fig2_1, x_step, ones(length(x_step))*C2_1,\n",
    "     label=L\"C\",\n",
    "     )\n",
    "\n",
    "display(fig2_1)"
   ]
  },
  {
   "cell_type": "markdown",
   "metadata": {},
   "source": [
    "For the second root we expect normal behaviour, $q = 2$ and non zero convergence for $\\frac{|\\epsilon_{k+1}|}{|\\epsilon_k|^2} $"
   ]
  },
  {
   "cell_type": "code",
   "execution_count": null,
   "metadata": {},
   "outputs": [],
   "source": [
    "#d is the sequence of error ratio\n",
    "d2_2 = [abs(step2_2[i+1]-zero2_2)/(step2_2[i]-zero2_2)^2 for i in 1:(length(step2_2)-2)]        #Iteration till length(step2)-2 because I don't want include the root.\n",
    "k2_2=[i for i in 1:1:(length(step2_2)-2)]\n",
    "#C expected value:\n",
    "C2_2 = 0.5*abs(d2f2(zero2_2)/df2(zero2_2))\n",
    "display(Markdown.parse(\"Convergence rate expected = $C2_2\"))\n",
    "\n",
    "fig2_2 = plot(title=\"Convergence rate\",\n",
    "              xlabel=\"Steps\", ylabel=\"Convergence\",\n",
    "              figsize=(800, 600),\n",
    "              framestyle=:box,\n",
    "              grid=true, gridalpha=0.5,\n",
    "              legend=:bottomright\n",
    "             )\n",
    "\n",
    "plot!(fig2_2, k2_2, d2_2,\n",
    "     label=L\"\\frac{|ϵ_{k+1}|}{|ϵ_{k}|^2}\",\n",
    "     marker=:circle,\n",
    "     markersize=3.5,\n",
    "     )\n",
    "\n",
    "x_step = [i for i in k2_2[1]:0.1:k2_2[end]]\n",
    "plot!(fig2_2, x_step, ones(length(x_step))*C2_2,\n",
    "     label=L\"C\",\n",
    "     )\n",
    "\n",
    "display(fig2_2)"
   ]
  },
  {
   "cell_type": "markdown",
   "metadata": {},
   "source": [
    "### $e^{x+1} -2 - x = 0 $, over $[-2,2]$"
   ]
  },
  {
   "cell_type": "code",
   "execution_count": null,
   "metadata": {},
   "outputs": [],
   "source": [
    "x3 = [i for i in -2:0.1:2]\n",
    "y3 = f3.(x3) \n",
    "\n",
    "fig3 = plot(title=L\"e^{x+1} - 2 - x\",\n",
    "            figsize=(800, 600),\n",
    "            xlabel=L\"x\", ylabel=L\"y\",\n",
    "            framestyle=:box,\n",
    "            grid=true, gridalpha=0.5,\n",
    "            )\n",
    "\n",
    "plot!(fig3, x3, y3,\n",
    "      label = L\"e^{x+1} - 2 - x\",\n",
    "     )\n",
    "\n",
    "plot!(fig3, x3, zeros(length(x3)),\n",
    "      label = \"\",\n",
    "     )\n",
    "\n",
    "display(fig3)"
   ]
  },
  {
   "cell_type": "code",
   "execution_count": null,
   "metadata": {},
   "outputs": [],
   "source": [
    "first_guess = 2\n",
    "zero3, step3 = newt_met_steps(f3, first_guess, 1)\n",
    "result_text = @sprintf(\"Estimated root value: %.3f\", zero3)\n",
    "display(Markdown.parse(result_text))\n",
    "result_text = @sprintf(\"Function value in estimated root: %.3f\", f3(zero3))\n",
    "display(Markdown.parse(result_text))"
   ]
  },
  {
   "cell_type": "code",
   "execution_count": null,
   "metadata": {},
   "outputs": [],
   "source": [
    "eps = log.(abs.(step3 .- zero3))\n",
    "en = eps[1:end-2]       #errori ϵ_n\n",
    "en1 = eps[2:end-1]      #errori ϵ_{n+1}\n",
    "q_asympt = en1 ./ en\n",
    "#We print the last one because it's an asymptotical study\n",
    "result_text = @sprintf(\"q value for r = %.1f: %.3f\", zero3, q_asympt[end])\n",
    "display(Markdown.parse(result_text))"
   ]
  },
  {
   "cell_type": "code",
   "execution_count": null,
   "metadata": {},
   "outputs": [],
   "source": [
    "#d is the sequence of error ratio\n",
    "d3 = [abs(step3[i+1]-zero3)/(step3[i]-zero3)^2 for i in 1:(length(step3)-2)]        #Iteration till length(step2)-2 because I don't want include the root.\n",
    "k3=[i for i in 1:1:(length(step3)-2)]\n",
    "#C expected value:\n",
    "C3 = 0.5*abs(d2f3(zero3)/df3(zero3))\n",
    "result_text = @sprintf(\"Convergence rate C evaluated asymptotically =  %.3f\", d3[end])\n",
    "display(Markdown.parse(result_text))\n",
    "result_text = @sprintf(\"Convergence rate C expected = %.3f\", C3)\n",
    "display(Markdown.parse(result_text))\n",
    "fig3_1 = plot(title=\"Convergence rate\",\n",
    "              xlabel=\"Steps\", ylabel=\"Convergence\",\n",
    "              figsize=(800, 600),\n",
    "              framestyle=:box,\n",
    "              grid=true, gridalpha=0.5,\n",
    "              legend=:topright\n",
    "             )\n",
    "plot!(fig3_1, k3, d3,\n",
    "     label=L\"\\frac{|ϵ_{k+1}|}{|ϵ_{k}|^2}\",\n",
    "     marker=:circle,\n",
    "     markersize=3.5,\n",
    "     )\n",
    "\n",
    "x_step = [i for i in k3[1]:0.1:k3[end]]\n",
    "plot!(fig3_1, x_step, ones(length(x_step))*C3,\n",
    "     label=L\"C\",\n",
    "     )\n",
    "\n",
    "display(fig3_1)"
   ]
  },
  {
   "cell_type": "markdown",
   "metadata": {},
   "source": [
    "By looking at the last graph, I notice that the succession doesn't converge where I think it should, so I must have forgotten multiplicity. To find out the zero's multiplicity I can fit this relation: $ \\epsilon_{k+1} = (1-{1\\over q})\\epsilon_k $, where q is the root's multiplicity. From the fit I will find $1-{1\\over q}$, then I will reverse this relation. I expect $q=2$, as precedently said."
   ]
  },
  {
   "cell_type": "code",
   "execution_count": null,
   "metadata": {},
   "outputs": [],
   "source": [
    "ek = [step3[i]-zero3 for i in 1:length(step3)-2]\n",
    "ek1 = [step3[i]-zero3 for i in 2:length(step3)-1]\n",
    "\n",
    "#design matrix\n",
    "D = hcat(ek)\n",
    "coeff = least_sq(D, ek1)\n",
    "q = 1/(1-coeff[1])\n",
    "result_text = @sprintf(\"Multiplicity from the fit: %.3f\", q)\n",
    "display(Markdown.parse(result_text))\n",
    "result_text = @sprintf(\"Multiplicity expected: %.3f\", 2.0)\n",
    "display(Markdown.parse(result_text))"
   ]
  },
  {
   "cell_type": "markdown",
   "metadata": {},
   "source": [
    "I repeat now the previous steps, adapting the function to multiplicity = 2."
   ]
  },
  {
   "cell_type": "code",
   "execution_count": null,
   "metadata": {},
   "outputs": [],
   "source": [
    "first_guess = 10\n",
    "zero3, step3 = newt_met_steps(f3, first_guess, 2)\n",
    "result_text = @sprintf(\"Estimated root value: %.3f\", zero3)\n",
    "display(Markdown.parse(result_text))\n",
    "result_text = @sprintf(\"Function value in estimated root: %.3f\", f3(zero3))\n",
    "display(Markdown.parse(result_text))"
   ]
  },
  {
   "cell_type": "markdown",
   "metadata": {},
   "source": [
    "I'm not able to determine the constant C in case of a multiple root, but by increasing the intial guess' distance I can increment the iteration's number and observing a linear asymptotic behaviour."
   ]
  },
  {
   "cell_type": "code",
   "execution_count": null,
   "metadata": {},
   "outputs": [],
   "source": [
    "#d is the sequence of error ratio\n",
    "d3 = [abs(step3[i+1]-zero3)/(step3[i]-zero3)^2 for i in 1:(length(step3)-2)]        #Iteration till length(step2)-2 because I don't want include the root.\n",
    "k3=[i for i in 1:1:(length(step3)-2)]\n",
    "\n",
    "fig3_1 = plot(title=\"Convergence rate\",\n",
    "              xlabel=\"Steps\", ylabel=\"Convergence\",\n",
    "              figsize=(800, 600),\n",
    "              framestyle=:box,\n",
    "              grid=true, gridalpha=0.5,\n",
    "              legend=:bottomright\n",
    "             )\n",
    "plot!(fig3_1, k3, d3,\n",
    "     label=L\"\\frac{|ϵ_{k+1}|}{|ϵ_{k}|}\",\n",
    "     marker=:circle,\n",
    "     markersize=3.5,\n",
    "     )\n",
    "\n",
    "display(fig3_1)"
   ]
  }
 ],
 "metadata": {
  "kernelspec": {
   "display_name": "Julia 1.11.4",
   "language": "julia",
   "name": "julia-1.11"
  },
  "language_info": {
   "file_extension": ".jl",
   "mimetype": "application/julia",
   "name": "julia",
   "version": "1.11.4"
  }
 },
 "nbformat": 4,
 "nbformat_minor": 2
}
