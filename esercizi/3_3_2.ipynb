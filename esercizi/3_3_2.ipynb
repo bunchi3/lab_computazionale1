{
 "cells": [
  {
   "cell_type": "markdown",
   "metadata": {},
   "source": [
    "# Root finding\n",
    "\n",
    "Per relazione: fai un confronto fra le radici ottenute qui e in secante, così come i valori di q e di C"
   ]
  },
  {
   "cell_type": "code",
   "execution_count": null,
   "metadata": {},
   "outputs": [],
   "source": [
    "using Plots\n",
    "using ForwardDiff\n",
    "using Symbolics\n",
    "using Markdown\n",
    "using LaTeXStrings\n",
    "using Printf\n",
    "include(\"C:\\\\ALL\\\\Stefano\\\\Bicocca\\\\3terzo_anno\\\\lab_comp\\\\lab_computazionale1\\\\librerie\\\\interpolation.jl\")\n",
    "include(\"C:\\\\ALL\\\\Stefano\\\\Bicocca\\\\3terzo_anno\\\\lab_comp\\\\lab_computazionale1\\\\librerie\\\\non_linear_roots.jl\")\n",
    "function autosave(fig, filename)\n",
    "    path = \"C:\\\\ALL\\\\Stefano\\\\Bicocca\\\\3terzo_anno\\\\lab_comp\\\\lab_computazionale1\\\\relazione\\\\immagini\"\n",
    "    savefig(fig, joinpath(path, filename))\n",
    "end"
   ]
  },
  {
   "cell_type": "markdown",
   "metadata": {},
   "source": [
    "**(a)** Rewrite the equations into the standard form for rootfinding, $f(x) = 0$, and compute $f'(x)$."
   ]
  },
  {
   "cell_type": "code",
   "execution_count": null,
   "metadata": {},
   "outputs": [],
   "source": [
    "# Function cell\n",
    "f1(x) = x^2 - exp(-x)\n",
    "f2(x) = 2x - tan(x)\n",
    "f3(x) = exp(x+1) - 2 - x\n",
    "df1(x) = ForwardDiff.derivative(f1, x)\n",
    "df2(x) = ForwardDiff.derivative(f2, x)\n",
    "df3(x) = ForwardDiff.derivative(f3, x)\n",
    "d2f1(x) = ForwardDiff.derivative(df1, x)\n",
    "d2f2(x) = ForwardDiff.derivative(df2, x)\n",
    "d2f3(x) = ForwardDiff.derivative(df3, x)\n",
    "\n",
    "#For ulterior studies:\n",
    "d3f2(x) = ForwardDiff.derivative(d2f2, x)\n",
    "\n",
    "@variables x\n",
    "sym_f1 = x^2 - exp(-x)\n",
    "sym_f2 = 2x - tan(x)\n",
    "sym_f3 = exp(x+1) - 2 - x\n",
    "sym_df1 = Symbolics.derivative(sym_f1, x)\n",
    "sym_df2 = Symbolics.derivative(sym_f2, x)\n",
    "sym_df3 = Symbolics.derivative(sym_f3, x)\n",
    "sym_d2f1 = Symbolics.derivative(sym_df1, x)\n",
    "sym_d2f2 = Symbolics.derivative(sym_df2, x)\n",
    "sym_d2f3 = Symbolics.derivative(sym_df3, x)\n",
    "\n",
    "display(Markdown.parse(\"First derivative\"))\n",
    "display(sym_df1)\n",
    "display(sym_df2)\n",
    "display(sym_df3)\n",
    "display(Markdown.parse(\"Second derivative\"))\n",
    "display(sym_d2f1)\n",
    "display(sym_d2f2)\n",
    "display(sym_d2f3)\n",
    "colors = colors = [\"#0F2080\",  # blu scuro\n",
    "           \"#F5793A\",  # arancione\n",
    "           \"#A95AA1\",  # viola\n",
    "           \"#85C0F9\"]  # azzurro"
   ]
  },
  {
   "cell_type": "markdown",
   "metadata": {},
   "source": [
    "**(b)** Make a plot of $f$ over the given interval and determine how many roots lie in the interval. \\\n",
    "**(c)** Use Newton's method to find each root.\\\n",
    "**(d)** Study the error in the Newton sequence to determine numerically whether the convergence is roughly quadratic for the given root."
   ]
  },
  {
   "cell_type": "markdown",
   "metadata": {},
   "source": [
    "In general, defining $ \\epsilon_n = \\log(x_n-r)$ we have \n",
    "$$\n",
    "    \\epsilon_{n+1}\\approx q\\,\\epsilon_{n} -\\log|C|\n",
    "    \\quad\n",
    "    \\Rightarrow\n",
    "    \\quad\n",
    "    {\\epsilon_{n+1}\\over \\epsilon_n}\\approx q -{\\log|C|\\over \\epsilon_n}\\ \\overset{n\\to\\infty}{\\longrightarrow}\\ q\n",
    "$$\n",
    "similarly as in 3_2_2.ipynb. \\\n",
    "After finding q, we can compute $C$ with the following formula (actually definition): \n",
    "$$\n",
    "    \\lim_{n\\to\\infty} {|x_{n+1}-r|\\over|x_n-r|^q}=C\\,,\n",
    "$$\n",
    "just to compare it with the specific $C$ formula of Newton method:\n",
    "$$\n",
    "  C={1\\over 2}\\bigg|{f''(r)\\over f'(r)}\\bigg|\\,.\n",
    "$$"
   ]
  },
  {
   "cell_type": "markdown",
   "metadata": {},
   "source": [
    "### $x^2 - e^{-x} = 0$, over $[-2,2]$"
   ]
  },
  {
   "cell_type": "code",
   "execution_count": null,
   "metadata": {},
   "outputs": [],
   "source": [
    "x1 = [i for i in -2:0.1:2]\n",
    "y1 = f1.(x1) \n",
    "\n",
    "fig1 = plot(figsize=(800, 600),\n",
    "            xlabel=L\"x\", ylabel=L\"y\",\n",
    "            framestyle=:box,\n",
    "            grid=true, gridalpha=0.5,\n",
    "            )\n",
    "\n",
    "plot!(fig1, x1, y1,\n",
    "      label = L\"$x^2 - e^{-x}$\",\n",
    "      color = colors[1],\n",
    "     )\n",
    "\n",
    "plot!(fig1, x1, zeros(length(x1)),\n",
    "      label = \"\",\n",
    "      color = colors[2],\n",
    "     )\n",
    "\n",
    "autosave(fig1, \"3321.pdf\")\n",
    "display(fig1)"
   ]
  },
  {
   "cell_type": "code",
   "execution_count": null,
   "metadata": {},
   "outputs": [],
   "source": [
    "first_guess = -2\n",
    "zero1, step1 = newt_met_steps(f1, first_guess, 1)\n",
    "result_text = @sprintf(\"Estimated root value: %.3f\", zero1)\n",
    "display(Markdown.parse(result_text))\n",
    "result_text = @sprintf(\"Function value in estimated root: %.3f\", f1(zero1))\n",
    "display(Markdown.parse(result_text))\n",
    "display(Markdown.parse(\"Number of steps: $(length(step1))\"))"
   ]
  },
  {
   "cell_type": "markdown",
   "metadata": {},
   "source": [
    "Now we study the errors"
   ]
  },
  {
   "cell_type": "markdown",
   "metadata": {},
   "source": [
    "Fai un grafico su anche su q"
   ]
  },
  {
   "cell_type": "code",
   "execution_count": null,
   "metadata": {},
   "outputs": [],
   "source": [
    "eps = log.(abs.(step1 .- zero1))\n",
    "en = eps[1:end-2]       #errori ϵ_n\n",
    "en1 = eps[2:end-1]      #errori ϵ_{n+1}\n",
    "q_asympt = en1 ./ en\n",
    "#We print the last one because it is an asymptotical study\n",
    "result_text = @sprintf(\"q evaluated asymptotically: %.3f\", q_asympt[end])\n",
    "display(Markdown.parse(result_text))\n",
    "\n",
    "fig1_0 = plot(figsize=(800, 600),\n",
    "            xlabel=L\"n\", ylabel=L\"d_{n+1} / d_n\",\n",
    "            framestyle=:box,\n",
    "            grid=true, gridalpha=0.5,\n",
    "            )\n",
    "plot!(fig1_0, 1:length(q_asympt), q_asympt,\n",
    "        label = L\"q_n\",\n",
    "        color = colors[1],\n",
    "        marker = :circle,\n",
    "         )\n",
    "plot!(fig1_0, 1:length(q_asympt), 2 .*ones(length(q_asympt)),\n",
    "        label = L\"q_{exact}\",\n",
    "        color = colors[2],\n",
    "        )\n",
    "\n",
    "autosave(fig1_0, \"3321_q.pdf\")\n",
    "display(fig1_0)"
   ]
  },
  {
   "cell_type": "markdown",
   "metadata": {},
   "source": [
    "Attento ai nomi, riguarda se C si chiama convergence rate e non sia q a chiamarsi così"
   ]
  },
  {
   "cell_type": "code",
   "execution_count": null,
   "metadata": {},
   "outputs": [],
   "source": [
    "#d is the sequence of error ratio\n",
    "d1 = [abs(step1[i+1]-zero1)/abs(step1[i]-zero1)^2 for i in 1:(length(step1)-2)]        #Iteration till length(step1)-2 because I don't want include the root.\n",
    "k1=[i for i in 1:1:(length(step1)-2)]\n",
    "#C expected value:\n",
    "C1 = 0.5*abs(d2f1(zero1)/df1(zero1))\n",
    "result_text = @sprintf(\"C evaluated asymptotically =  %.3f\", d1[end])\n",
    "display(Markdown.parse(result_text))\n",
    "result_text = @sprintf(\"C expected = %.3f\", C1)\n",
    "display(Markdown.parse(result_text))\n",
    "\n",
    "fig1_1 = plot(xlabel=L\"k\", ylabel=L\"|ϵ_{k+1}|/|ϵ_{k}|^2\",\n",
    "              figsize=(800, 600),\n",
    "              framestyle=:box,\n",
    "              grid=true, gridalpha=0.5,\n",
    "              legend=:bottomright\n",
    "             )\n",
    "\n",
    "plot!(fig1_1, k1, d1,\n",
    "     label=L\"C_k\",\n",
    "     color=colors[1],\n",
    "     marker=:circle,\n",
    "     markersize=3.5,\n",
    "     )\n",
    "\n",
    "x_step = [i for i in k1[1]:0.1:k1[end]]\n",
    "plot!(fig1_1, x_step, ones(length(x_step))*C1,\n",
    "     label=L\"C\",\n",
    "     color=colors[2],\n",
    "     )\n",
    "\n",
    "autosave(fig1_1, \"3321_C.pdf\")\n",
    "display(fig1_1)"
   ]
  },
  {
   "cell_type": "markdown",
   "metadata": {},
   "source": [
    "### $2x - \\tan x=0 $, over $[-0.2,1.4]$"
   ]
  },
  {
   "cell_type": "code",
   "execution_count": null,
   "metadata": {},
   "outputs": [],
   "source": [
    "x2 = [i for i in -0.2:0.01:1.4]\n",
    "y2 = f2.(x2) \n",
    "\n",
    "fig2 = plot(figsize=(800, 600),\n",
    "            xlabel=L\"x\", ylabel=L\"y\",\n",
    "            framestyle=:box,\n",
    "            grid=true, gridalpha=0.5,\n",
    "            )\n",
    "\n",
    "plot!(fig2, x2, y2,\n",
    "      label = L\"2x - tan{x}\",\n",
    "      color = colors[1],\n",
    "      )\n",
    "\n",
    "plot!(fig2, x2, zeros(length(x2)),\n",
    "      label = \"\",\n",
    "      color = colors[2],\n",
    "     )\n",
    "\n",
    "autosave(fig2, \"3322.pdf\")\n",
    "display(fig2)"
   ]
  },
  {
   "cell_type": "code",
   "execution_count": null,
   "metadata": {},
   "outputs": [],
   "source": [
    "first_guess_1 = 0.65\n",
    "zero2_1, step2_1 = newt_met_steps(f2, first_guess_1, 1)\n",
    "display(Markdown.parse(\"I expect the root and function' values to be the same because the tangent near 0 behaves like x, so f behaves like 2x - x, which is x.\"))\n",
    "result_text = @sprintf(\"First root estimated value: %.3e\", zero2_1)\n",
    "display(Markdown.parse(result_text))\n",
    "result_text = @sprintf(\"Function value in first estimated root: %.3e\", f2(zero2_1))\n",
    "display(Markdown.parse(result_text))\n",
    "display(Markdown.parse(\"Number of steps: $(length(step2_1))\"))\n",
    "\n",
    "first_guess_2 = 1.4\n",
    "zero2_2, step2_2 = newt_met_steps(f2, first_guess_2, 1)\n",
    "result_text = @sprintf(\"Second root estimated value: %.3f\", zero2_2)\n",
    "display(Markdown.parse(result_text))\n",
    "result_text = @sprintf(\"Function value in second estimated root: %.2e\", f2(zero2_2))\n",
    "display(Markdown.parse(result_text))\n",
    "display(Markdown.parse(\"Number of steps: $(length(step2_1))\"))"
   ]
  },
  {
   "cell_type": "markdown",
   "metadata": {},
   "source": [
    "Now we study the errors. \n",
    " \n",
    "The second root doesn't give any kind of problem. \n",
    "\n",
    "The first root, however, is quite interesting: asymptotically, we obtain a q value of 3.042, which is not what we expected."
   ]
  },
  {
   "cell_type": "code",
   "execution_count": null,
   "metadata": {},
   "outputs": [],
   "source": [
    "#First root\n",
    "eps = log.(abs.(step2_1 .- zero2_1))\n",
    "en = eps[1:end-2]       #errori ϵ_n\n",
    "en1 = eps[2:end-1]      #errori ϵ_{n+1}\n",
    "q_asympt1 = en1 ./ en\n",
    "#We print the last one because it's an asymptotical study\n",
    "result_text = @sprintf(\"q value for r = %.1f: %.3f\", zero2_1, q_asympt1[end])\n",
    "display(Markdown.parse(result_text))\n",
    "\n",
    "fig2_00 = plot(figsize=(800, 600),\n",
    "            xlabel=L\"n\", ylabel=L\"d_{n+1} / d_n\",\n",
    "            framestyle=:box,\n",
    "            grid=true, gridalpha=0.5,\n",
    "            )\n",
    "\n",
    "plot!(fig2_00, 1:length(q_asympt1), q_asympt1,\n",
    "        label = L\"q_n\",\n",
    "        color = colors[1],\n",
    "        marker = :circle,\n",
    "         )\n",
    "plot!(fig2_00, 1:length(q_asympt1), 3 .*ones(length(q_asympt1)),\n",
    "        label = L\"q_{expected}\",\n",
    "        color = colors[2],\n",
    "        )\n",
    "autosave(fig2_00, \"3322_q1.pdf\")\n",
    "display(fig2_00)\n",
    "\n",
    "\n",
    "#second root\n",
    "eps = log.(abs.(step2_2 .- zero2_2))\n",
    "en = eps[1:end-2]       #errori ϵ_n\n",
    "en1 = eps[2:end-1]      #errori ϵ_{n+1}\n",
    "q_asympt2 = en1 ./ en\n",
    "#We print the last one because it's an asymptotical study\n",
    "result_text = @sprintf(\"q value for r = %.1f: %.3f\", zero2_2, q_asympt2[end])\n",
    "display(Markdown.parse(result_text))\n",
    "\n",
    "fig2_01 = plot(figsize=(800, 600),\n",
    "            xlabel=L\"n\", ylabel=L\"d_{n+1} / d_n\",\n",
    "            framestyle=:box,\n",
    "            grid=true, gridalpha=0.5,\n",
    "            )\n",
    "\n",
    "plot!(fig2_01, 1:length(q_asympt2), q_asympt2,\n",
    "        label = L\"q_n\",\n",
    "        color = colors[1],\n",
    "        marker = :circle,\n",
    "         )\n",
    "plot!(fig2_01, 1:length(q_asympt2), 2 .*ones(length(q_asympt2)),\n",
    "        label = L\"q_{exact}\",\n",
    "        color = colors[2],\n",
    "        )\n",
    "\n",
    "autosave(fig2_01, \"3322_q2.pdf\")\n",
    "display(fig2_01)"
   ]
  },
  {
   "cell_type": "markdown",
   "metadata": {},
   "source": [
    "For first root there is a slight problem: second derivative is zero, so Newton's formula for C is not valid. \\\n",
    "We must develop the Taylor series till third order. Sums are in section pen_and_paper, but result is:\n",
    "$$\n",
    "\\frac{\\epsilon_{k+1}}{\\epsilon_k^3} = \\frac{ f'''(r)}{3 f'(r)} \\quad \\text{and} \\quad C = \\frac{ f'''(r)}{3 f'(r)}\n",
    "$$ "
   ]
  },
  {
   "cell_type": "markdown",
   "metadata": {},
   "source": [
    "Dal grafico non si capisce a che altezza sia la costante asintotica"
   ]
  },
  {
   "cell_type": "code",
   "execution_count": null,
   "metadata": {},
   "outputs": [],
   "source": [
    "#d is the sequence of error ratio\n",
    "d2_1 = [abs(step2_1[i+1]-zero2_1)/abs(step2_1[i]-zero2_1)^3 for i in 1:(length(step2_1)-2)]        #Iteration till length(step2)-2 because I don't want include the root.\n",
    "k2_1=[i for i in 1:1:(length(step2_1)-2)]\n",
    "C2 = (d3f2(zero2_1)/df2(zero2_1))/(-3)\n",
    "result_text = @sprintf(\"C evaluated asymptotically =  %.7f\", d2_1[end])\n",
    "display(Markdown.parse(result_text))\n",
    "result_text = @sprintf(\"C expected by Taylor expansion till third order =  %.7f\", C2)\n",
    "display(Markdown.parse(result_text))\n",
    "\n",
    "fig2_1 = plot(xlabel=L\"k\", ylabel=L\"|ϵ_{k+1}|/|ϵ_{k}|^3\",\n",
    "              yticks = 0.6:0.2:2.4,\n",
    "              yrange=(0.6, 2.5),\n",
    "              figsize=(800, 600),\n",
    "              framestyle=:box,\n",
    "              grid=true, gridalpha=0.5,\n",
    "              legend=:topright,\n",
    "             )\n",
    "\n",
    "plot!(fig2_1, k2_1, d2_1,\n",
    "     label=L\"C_k\",\n",
    "     marker=:circle,\n",
    "     markersize=3.5,\n",
    "     color = colors[1],\n",
    "     )\n",
    "\n",
    "x_step = [i for i in k2_1[1]:0.1:k2_1[end]]\n",
    "plot!(fig2_1, x_step, ones(length(x_step))*C2,\n",
    "     label=L\"C\",\n",
    "     color = colors[2],\n",
    "     )\n",
    "\n",
    "autosave(fig2_1, \"3322_C1.pdf\")\n",
    "display(fig2_1)"
   ]
  },
  {
   "cell_type": "markdown",
   "metadata": {},
   "source": [
    "We shall see what happens when we force $q = 2$ for first root. We expect it to be zero because of its second derivative."
   ]
  },
  {
   "cell_type": "code",
   "execution_count": null,
   "metadata": {},
   "outputs": [],
   "source": [
    "#d is the sequence of error ratio\n",
    "d2_1 = [abs(step2_1[i+1]-zero2_1)/abs(step2_1[i]-zero2_1)^2 for i in 1:(length(step2_1)-2)]        #Iteration till length(step2)-2 because I don't want include the root.\n",
    "k2_1=[i for i in 1:1:(length(step2_1)-2)]\n",
    "C2_1 = 0.5*abs(d2f2(zero2_1)/df2(zero2_1))\n",
    "result_text = @sprintf(\"C expected = %.3f\", C2_1)\n",
    "display(Markdown.parse(result_text))\n",
    "result_text = @sprintf(\"C evaluated asymptotically =  %.3f\", d2_1[end])\n",
    "display(Markdown.parse(result_text))\n",
    "\n",
    "fig2_1 = plot(xlabel=\"Steps\", ylabel=\"Convergence\",\n",
    "              figsize=(800, 600),\n",
    "              framestyle=:box,\n",
    "              grid=true, gridalpha=0.5,\n",
    "              legend=:topright\n",
    "             )\n",
    "\n",
    "plot!(fig2_1, k2_1, d2_1,\n",
    "     label=L\"\\frac{|ϵ_{k+1}|}{|ϵ_{k}|^2}\",\n",
    "     marker=:circle,\n",
    "     markersize=3.5,\n",
    "     color = colors[1],\n",
    "     )\n",
    "\n",
    "x_step = [i for i in k2_1[1]:0.1:k2_1[end]]\n",
    "plot!(fig2_1, x_step, ones(length(x_step))*C2_1,\n",
    "     label=L\"C\",\n",
    "     color = colors[2],\n",
    "     )\n",
    "\n",
    "display(fig2_1)"
   ]
  },
  {
   "cell_type": "markdown",
   "metadata": {},
   "source": [
    "For the second root we expect normal behaviour, $q = 2$ and non zero convergence for $\\frac{|\\epsilon_{k+1}|}{|\\epsilon_k|^2} $"
   ]
  },
  {
   "cell_type": "code",
   "execution_count": null,
   "metadata": {},
   "outputs": [],
   "source": [
    "#d is the sequence of error ratio\n",
    "d2_2 = [abs(step2_2[i+1]-zero2_2)/(step2_2[i]-zero2_2)^2 for i in 1:(length(step2_2)-2)]        #Iteration till length(step2)-2 because I don't want include the root.\n",
    "k2_2=[i for i in 1:1:(length(step2_2)-2)]\n",
    "#C expected value:\n",
    "C2_2 = 0.5*abs(d2f2(zero2_2)/df2(zero2_2))\n",
    "display(Markdown.parse(\"Asymptotic error constant expected = $C2_2\"))\n",
    "result_text = @sprintf(\"C evaluated asymptotically =  %.3f\", d2_2[end])\n",
    "display(Markdown.parse(result_text))\n",
    "\n",
    "fig2_2 = plot(xlabel=L\"k\", ylabel=L\"|ϵ_{k+1}|/|ϵ_{k}|^2\",\n",
    "              figsize=(800, 600),\n",
    "              framestyle=:box,\n",
    "              grid=true, gridalpha=0.5,\n",
    "              legend=:bottomright\n",
    "             )\n",
    "\n",
    "plot!(fig2_2, k2_2, d2_2,\n",
    "     label=L\"C_k\",\n",
    "     color=colors[1],\n",
    "     marker=:circle,\n",
    "     markersize=3.5,\n",
    "     )\n",
    "\n",
    "x_step = [i for i in k2_2[1]:0.1:k2_2[end]]\n",
    "plot!(fig2_2, x_step, ones(length(x_step))*C2_2,\n",
    "     label=L\"C\",\n",
    "     color=colors[2],\n",
    "     )\n",
    "\n",
    "autosave(fig2_2, \"3322_C2.pdf\")\n",
    "display(fig2_2)"
   ]
  },
  {
   "cell_type": "markdown",
   "metadata": {},
   "source": [
    "### $e^{x+1} -2 - x = 0 $, over $[-2,2]$"
   ]
  },
  {
   "cell_type": "code",
   "execution_count": null,
   "metadata": {},
   "outputs": [],
   "source": [
    "x3 = [i for i in -2:0.1:2]\n",
    "y3 = f3.(x3) \n",
    "\n",
    "fig3 = plot(figsize=(800, 600),\n",
    "            xlabel=L\"x\", ylabel=L\"y\",\n",
    "            framestyle=:box,\n",
    "            grid=true, gridalpha=0.5,\n",
    "            )\n",
    "\n",
    "plot!(fig3, x3, y3,\n",
    "      label = L\"e^{x+1} - 2 - x\",\n",
    "      color = colors[1],\n",
    "     )\n",
    "\n",
    "plot!(fig3, x3, zeros(length(x3)),\n",
    "      label = \"\",\n",
    "      color = colors[2],\n",
    "      )\n",
    "\n",
    "autosave(fig3, \"3323.pdf\")\n",
    "display(fig3)"
   ]
  },
  {
   "cell_type": "code",
   "execution_count": null,
   "metadata": {},
   "outputs": [],
   "source": [
    "first_guess = 2\n",
    "zero3, step3 = newt_met_steps(f3, first_guess, 1)\n",
    "result_text = @sprintf(\"Estimated root value: %.3f\", zero3)\n",
    "display(Markdown.parse(result_text))\n",
    "result_text = @sprintf(\"Function value in estimated root: %.3f\", f3(zero3))\n",
    "display(Markdown.parse(result_text))\n",
    "display(Markdown.parse(\"Number of steps: $(length(step3))\"))"
   ]
  },
  {
   "cell_type": "markdown",
   "metadata": {},
   "source": [
    "For q value we now expect it to be around 1 because of its multiplicity"
   ]
  },
  {
   "cell_type": "code",
   "execution_count": null,
   "metadata": {},
   "outputs": [],
   "source": [
    "eps = log.(abs.(step3 .- zero3))\n",
    "en = eps[1:end-2]       #errori ϵ_n\n",
    "en1 = eps[2:end-1]      #errori ϵ_{n+1}\n",
    "q_asympt = en1 ./ en\n",
    "#We print the last one because it's an asymptotical study\n",
    "result_text = @sprintf(\"q value for r = %.1f: %.3f\", zero3, q_asympt[end])\n",
    "display(Markdown.parse(result_text))\n",
    "\n",
    "fig3_0 = plot(figsize=(800, 600),\n",
    "            xlabel=L\"n\", ylabel=L\"d_{n+1} / d_n\",\n",
    "            framestyle=:box,\n",
    "            grid=true, gridalpha=0.5,\n",
    "            )\n",
    "plot!(fig3_0, 1:length(q_asympt), q_asympt,\n",
    "        label = L\"q_n\",\n",
    "        color = colors[1],\n",
    "        marker = :circle,\n",
    "         )\n",
    "plot!(fig3_0, 1:length(q_asympt), ones(length(q_asympt)),\n",
    "        label = L\"q_{exact}\",\n",
    "        color = colors[2],\n",
    "        )\n",
    "\n",
    "autosave(fig3_0, \"3323_q.pdf\")\n",
    "display(fig3_0)"
   ]
  },
  {
   "cell_type": "markdown",
   "metadata": {},
   "source": [
    "Below we see what happens if we don't care about root multiplicity."
   ]
  },
  {
   "cell_type": "code",
   "execution_count": null,
   "metadata": {},
   "outputs": [],
   "source": [
    "#d is the sequence of error ratio\n",
    "d3 = [abs(step3[i+1]-zero3)/(step3[i]-zero3)^2 for i in 1:(length(step3)-2)]        #Iteration till length(step2)-2 because I don't want include the root.\n",
    "k3=[i for i in 1:1:(length(step3)-2)]\n",
    "#C expected value:\n",
    "C3 = 0.5*abs(d2f3(zero3)/df3(zero3))\n",
    "result_text = @sprintf(\"C evaluated asymptotically =  %.3e\", d3[end])\n",
    "display(Markdown.parse(result_text))\n",
    "result_text = @sprintf(\"C expected = %.3e\", C3)\n",
    "display(Markdown.parse(result_text))\n",
    "fig3_1 = plot(xlabel=L\"k\", ylabel=L\"|ϵ_{k+1}|/|ϵ_{k}|^2\",\n",
    "              figsize=(800, 600),\n",
    "              framestyle=:box,\n",
    "              grid=true, gridalpha=0.5,\n",
    "              legend=:topright,\n",
    "              yticks = [i*10.0^6 for i in 3:3:15],\n",
    "              yformatter = (x -> @sprintf(\"%.1e\", x)),\n",
    "             )\n",
    "plot!(fig3_1, k3, d3,\n",
    "     label=L\"C_k\",\n",
    "     marker=:circle,\n",
    "     markersize=3.5,\n",
    "     color = colors[1],\n",
    "     )\n",
    "\n",
    "x_step = [i for i in k3[1]:0.1:k3[end]]\n",
    "plot!(fig3_1, x_step, ones(length(x_step))*C3,\n",
    "     label=L\"C\",\n",
    "     color = colors[2],\n",
    "     )\n",
    "\n",
    "autosave(fig3_1, \"3323_C1.pdf\")\n",
    "display(fig3_1)"
   ]
  },
  {
   "cell_type": "markdown",
   "metadata": {},
   "source": [
    "By looking at the last graph, I notice that the succession doesn't converge where I think it should, so I must have forgotten multiplicity. To find out the zero's multiplicity I can use this relation: $ \\epsilon_{k+1} = (1-{1\\over m})\\epsilon_k $, where m is the root's multiplicity and $C=(1-{1\\over m})$ \\\n",
    "From the plot below we can notice that, after 20th step or so, C evaluation isn't accurate anymore because occurs a numerical phenomena, probably due to division of small errors. For our m guess we'll use C of the 15th step, where convergence is good.\n"
   ]
  },
  {
   "cell_type": "code",
   "execution_count": null,
   "metadata": {},
   "outputs": [],
   "source": [
    "#d is the sequence of error ratio\n",
    "d3 = [abs(step3[i+1]-zero3)/abs(step3[i]-zero3)^1 for i in 1:(length(step3)-2)]        #Iteration till length(step2)-2 because I don't want include the root.\n",
    "k3=[i for i in 1:1:(length(step3)-2)]\n",
    "\n",
    "#plot section\n",
    "fig3_2 = plot(xlabel=L\"k\", ylabel=L\"|ϵ_{k+1}|/|ϵ_{k}|\",\n",
    "              figsize=(800, 600),\n",
    "              framestyle=:box,\n",
    "              grid=true, gridalpha=0.5,\n",
    "              legend=:topright\n",
    "             )\n",
    "plot!(fig3_2, k3, d3,\n",
    "     label=L\"C_k\",\n",
    "     marker=:circle,\n",
    "     markersize=3.5,\n",
    "     color = colors[1],\n",
    "     )\n",
    "\n",
    "x_step = [i for i in k3[1]:0.1:k3[end]]\n",
    "plot!(fig3_2, x_step, ones(length(x_step))*0.5,\n",
    "     label=L\"C\",\n",
    "     color = colors[2],\n",
    "     )\n",
    "autosave(fig3_2, \"3323_C2.pdf\")\n",
    "display(fig3_2)\n",
    "\n",
    "C_asympt = d3[end-10]\n",
    "m = 1/(1-C_asympt)\n",
    "result_text = @sprintf(\"C evaluated asymptotically =  %.3f\", C_asympt)\n",
    "display(Markdown.parse(result_text))\n",
    "result_text = @sprintf(\"Multiplicity value for r = %.1f: %.3f\", zero3, m)\n",
    "display(Markdown.parse(result_text))\n"
   ]
  }
 ],
 "metadata": {
  "kernelspec": {
   "display_name": "Julia 1.11.4",
   "language": "julia",
   "name": "julia-1.11"
  },
  "language_info": {
   "file_extension": ".jl",
   "mimetype": "application/julia",
   "name": "julia",
   "version": "1.11.4"
  }
 },
 "nbformat": 4,
 "nbformat_minor": 2
}
