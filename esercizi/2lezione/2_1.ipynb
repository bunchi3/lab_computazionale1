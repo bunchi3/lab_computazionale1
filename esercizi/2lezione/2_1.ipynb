{
 "cells": [
  {
   "cell_type": "markdown",
   "metadata": {},
   "source": [
    "# Considerazioni su $ \\sum_{n=1}^{\\infty}\\frac{1}{n^2} = \\frac{\\pi}{6} $"
   ]
  },
  {
   "cell_type": "markdown",
   "metadata": {},
   "source": [
    "Mi aspetto che ci sia più precisione quando a numeri piccoli sommo numeri più grandi (condizione soddisfatta nella somma inversa).\n",
    "Il motivo è che se ho un numero, poniamo dell'ordine di $2^m$, so che nell'intervallo $[2^m, 2^{m+1})$ ci sono esattamente $\\epsilon_{mach}$ numeri e quindi il floating number successivo sta a una distanza $2^m \\cdot \\epsilon_{mach}$. Perciò, se ho un numero piccolo, la distanza a cui sta il successivo floating number è piccola, e sommando un numero più grande lo rappresento meglio. Se ho un numero grande la distanza a cui sta il successivo floating number è grande, e perciò sommare un numero più piccolo è rischioso, perchè potrei non raggiungere il successivo floating number."
   ]
  },
  {
   "cell_type": "code",
   "execution_count": null,
   "metadata": {},
   "outputs": [],
   "source": [
    "# import cell\n",
    "using Plots"
   ]
  },
  {
   "cell_type": "code",
   "execution_count": null,
   "metadata": {},
   "outputs": [],
   "source": [
    "#function cell\n",
    "\n",
    "#The first two calculate the sum with single precision\n",
    "#This one uses normal ordering\n",
    "function sum_norm_ord32(N)\n",
    "    sum = Float32(0)  \n",
    "    for n in 1:N\n",
    "        sum += Float32(1.0/n^2)\n",
    "    end\n",
    "    return sum\n",
    "end\n",
    "\n",
    "#this one uses reverse ordering\n",
    "function sum_reverse_ord32(N)\n",
    "    sum = Float32(0)\n",
    "    #the intermediate number returns the step to take between N and 1.\n",
    "    for n in N:-1:1\n",
    "        sum += Float32(1.0/n^2)\n",
    "    end\n",
    "    return sum\n",
    "end\n",
    "\n",
    "#The second two calculate the sum with double precision\n",
    "#This one uses normal ordering\n",
    "function sum_norm_ord64(N)\n",
    "    sum = Float64(0)  \n",
    "    for n in 1:N\n",
    "        sum += Float64(1.0/n^2)\n",
    "    end\n",
    "    return sum\n",
    "end\n",
    "\n",
    "#this one uses reverse ordering\n",
    "function sum_reverse_ord64(N)\n",
    "    sum = Float64(0)\n",
    "    #the intermediate number returns the step to take between N and 1.\n",
    "    for n in N:-1:1\n",
    "        sum += Float64(1.0/n^2)\n",
    "    end\n",
    "    return sum\n",
    "end"
   ]
  },
  {
   "cell_type": "markdown",
   "metadata": {},
   "source": [
    "## Single precision"
   ]
  },
  {
   "cell_type": "code",
   "execution_count": null,
   "metadata": {},
   "outputs": [],
   "source": [
    "N = 8000\n",
    "\n",
    "#Initializing the vector which contains the N of the sum\n",
    "N_val = [i for i = 1:N]\n",
    "\n",
    "#generating the array of pi^2/6\n",
    "expected_val = fill((Float64(pi))^2/6, N)\n",
    "\n",
    "#The point after sum_norm_ordering specifies that the function must be applied to every value of the array\n",
    "#This is necessary because sum_norm_ordering is a function which acts on a number, not on an array.\n",
    "#the same fo sum_reverse_ordering\n",
    "sum_n_val32 = sum_norm_ord32.(N_val)\n",
    "sum_r_val32 = sum_reverse_ord32.(N_val)\n",
    "\n",
    "diff_n = abs.(expected_val - sum_n_val32)\n",
    "diff_r = abs.(expected_val - sum_r_val32)\n"
   ]
  },
  {
   "cell_type": "markdown",
   "metadata": {},
   "source": [
    "C'è un appiattimento dopo $n=4096=2^{12}$. Elevato al quadrato e invertito fa $2^{-24}$, che è un numero più piccolo di $\\epsilon_{mach}$. Per questo viene arrotondato a 0 e la somma non migliora. \n",
    "In più prima dell'appiattimento la somma dritta va come retta. Questo dipende dagli arrotondamenti. Si vede anche che la somma inversa va come $\\frac{1}{n}$, risultato che si può ottenere matematicamente."
   ]
  },
  {
   "cell_type": "code",
   "execution_count": null,
   "metadata": {},
   "outputs": [],
   "source": [
    "#Plot cell\n",
    "fig1 = plot(layout=(1,1))\n",
    "fig2 = plot(layout=(1,1))\n",
    "\n",
    "plot!(fig1, N_val, sum_n_val32, ylimits=(1.644, 1.646), label=\"Somma ordine crescente\")\n",
    "plot!(fig1, N_val, sum_r_val32, ylimits=(1.644, 1.646), label=\"Somma ordine decrescente\")\n",
    "plot!(fig1, N_val, expected_val, ylimits=(1.644, 1.646), label=\"Pi^2/6\")\n",
    "\n",
    "fig2 = plot(layout=(1,1))\n",
    "plot!(fig2, N_val, diff_n, ylimits=(0.0, 0.001), label=\"Somma ordine crescente\")\n",
    "plot!(fig2, N_val, diff_r, ylimits=(0.0, 0.001), label=\"Somma ordine decrescente\")\n",
    "\n",
    "#display(fig1)\n",
    "display(fig2)\n",
    "\n"
   ]
  },
  {
   "cell_type": "markdown",
   "metadata": {},
   "source": [
    "# Double precision\n",
    "Verifico che, nonostante aumento di molto i termini di somma, lo scostamento tra le due funzioni non riesco ad osservarlo"
   ]
  },
  {
   "cell_type": "code",
   "execution_count": null,
   "metadata": {},
   "outputs": [],
   "source": [
    "M = 100000\n",
    "\n",
    "#Initializing the vector which contains the M of the sum\n",
    "M_val = [i for i = 1:M]\n",
    "\n",
    "#generating the array of pi^2/6\n",
    "expected_val_M = fill((Float64(pi))^2/6, M)\n",
    "\n",
    "#The point after sum_norm_ordering specifies that the function must be applied to every value of the array\n",
    "#This is necessary because sum_norm_ordering is a function which acts on a number, not on an array.\n",
    "#the same fo sum_reverse_ordering\n",
    "sum_n_val64 = sum_norm_ord64.(M_val)\n",
    "sum_r_val64 = sum_reverse_ord64.(M_val)\n",
    "\n",
    "diff_n_M = abs.(expected_val_M - sum_n_val64)\n",
    "diff_r_M = abs.(expected_val_M - sum_r_val64)"
   ]
  },
  {
   "cell_type": "code",
   "execution_count": null,
   "metadata": {},
   "outputs": [],
   "source": [
    "#Plot cell\n",
    "fig1 = plot(layout=(1,1))\n",
    "fig2 = plot(layout=(1,1))\n",
    "\n",
    "plot!(fig1, M_val, sum_n_val32, ylimits=(1.644, 1.646), label=\"Somma ordine crescente\")\n",
    "plot!(fig1, M_val, sum_r_val32, ylimits=(1.644, 1.646), label=\"Somma ordine decrescente\")\n",
    "plot!(fig1, M_val, expected_val, ylimits=(1.644, 1.646), label=\"Pi^2/6\")\n",
    "\n",
    "fig2 = plot(layout=(1,1))\n",
    "plot!(fig2, M_val, diff_n_M, xlimits=(50000, M), ylimits=(0.00000, 0.00003), label=\"Somma ordine crescente\")\n",
    "plot!(fig2, M_val, diff_r_M, xlimits=(50000, M), ylimits=(0.00000, 0.00003), label=\"Somma ordine decrescente\")\n",
    "\n",
    "#display(fig1)\n",
    "display(fig2)"
   ]
  }
 ],
 "metadata": {
  "kernelspec": {
   "display_name": "Julia 1.11.4",
   "language": "julia",
   "name": "julia-1.11"
  },
  "language_info": {
   "file_extension": ".jl",
   "mimetype": "application/julia",
   "name": "julia",
   "version": "1.11.4"
  }
 },
 "nbformat": 4,
 "nbformat_minor": 2
}
