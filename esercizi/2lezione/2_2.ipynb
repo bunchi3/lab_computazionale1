{
 "cells": [
  {
   "cell_type": "markdown",
   "metadata": {},
   "source": [
    "# Esercizi facoltativi\n",
    "Il trucco per capire cosa succede è essere in grado di rendere le serie per ricorrenza in funzione solo del numero precedente. Nel primo esercizio è difficile, nel secondo si riesce. Poi diventa facile esaminare gli errori di troncamento."
   ]
  },
  {
   "cell_type": "code",
   "execution_count": null,
   "metadata": {},
   "outputs": [],
   "source": [
    "using Plots"
   ]
  },
  {
   "cell_type": "markdown",
   "metadata": {},
   "source": [
    "## Esercizio 1\n",
    "Per errori di rounding la serie al posto che convergere a 6 converge a 100."
   ]
  },
  {
   "cell_type": "markdown",
   "metadata": {},
   "source": [
    "### Single precision"
   ]
  },
  {
   "cell_type": "code",
   "execution_count": null,
   "metadata": {},
   "outputs": [],
   "source": [
    "x0 = Float32(11/2)\n",
    "x1 = Float32(61/11)\n",
    "tv = 5.998\n",
    "\n",
    "N = 35\n",
    "k=[i for i in 0:(N-1)]\n",
    "x_k=zeros(Float32, N)\n",
    "\n",
    "for k in 0:(N-1)\n",
    "    if k == 0\n",
    "        x_k[k+1] = x0  \n",
    "    elseif k == 1\n",
    "        x_k[k+1] = x1    \n",
    "    else\n",
    "        x_k[k+1] = Float32(111 - (1130 - 3000/x_k[k])/x_k[k-1])\n",
    "    end\n",
    "end\n",
    "\n",
    "fig = plot(layout=(1, 1))\n",
    "scatter!(fig, k, x_k, \n",
    "        title=\"Successione per ricorrenza\",    \n",
    "        label=\"Successione\",\n",
    "        xlabel=\"Valori di k\",\n",
    "        ylabel=\"Valori della successione\")\n",
    "\n",
    "display(fig)"
   ]
  },
  {
   "cell_type": "markdown",
   "metadata": {},
   "source": [
    "### Double precision"
   ]
  },
  {
   "cell_type": "code",
   "execution_count": null,
   "metadata": {},
   "outputs": [],
   "source": [
    "x0 = Float64(11/2)\n",
    "x1 = Float64(61/11)\n",
    "tv = 5.998\n",
    "\n",
    "N = 35\n",
    "k=[i for i in 0:(N-1)]\n",
    "x_k=zeros(Float64, N)\n",
    "\n",
    "for k in 0:(N-1)\n",
    "    if k == 0\n",
    "        x_k[k+1] = x0  \n",
    "    elseif k == 1\n",
    "        x_k[k+1] = x1    \n",
    "    else\n",
    "        x_k[k+1] = Float64(111 - (1130 - 3000/x_k[k])/x_k[k-1])\n",
    "    end\n",
    "end\n",
    "\n",
    "fig = plot(layout=(1, 1))\n",
    "scatter!(fig, k, x_k, \n",
    "        title=\"Successione per ricorrenza\",    \n",
    "        label=\"Successione\",\n",
    "        xlabel=\"Valori di k\",\n",
    "        ylabel=\"Valori della successione\")\n",
    "\n",
    "\n",
    "display(fig)"
   ]
  },
  {
   "cell_type": "markdown",
   "metadata": {},
   "source": [
    "## Esercizio 2"
   ]
  },
  {
   "cell_type": "markdown",
   "metadata": {},
   "source": [
    "### Single precision"
   ]
  },
  {
   "cell_type": "code",
   "execution_count": null,
   "metadata": {},
   "outputs": [],
   "source": [
    "#Initial savings e-1\n",
    "is = 1.71828182845904523536028747135\n",
    "#number of years\n",
    "N = 25\n",
    "\n",
    "years=[i for i = 1:N]\n",
    "investments=zeros(N)\n",
    "\n",
    "#i è l'indice degli anni\n",
    "for i in 1:N\n",
    "    is = Float32(((i) * is)-1)\n",
    "    investments[i] = is\n",
    "end\n",
    "\n",
    "fig = plot(layout=(1, 1))\n",
    "scatter!(fig, years, investments, \n",
    "        title=\"Chaotic Bank Society projection\",    \n",
    "        label=\"Investments over the years\",\n",
    "        xlabel=\"Years\",\n",
    "        ylabel=\"Investment\")\n",
    "\n",
    "\n",
    "display(fig)"
   ]
  },
  {
   "cell_type": "markdown",
   "metadata": {},
   "source": [
    "### Double precision"
   ]
  },
  {
   "cell_type": "code",
   "execution_count": null,
   "metadata": {},
   "outputs": [],
   "source": [
    "#Initial savings e-1\n",
    "is = Float64(1.71828182845904523536028747135)\n",
    "#number of years\n",
    "N = 25\n",
    "\n",
    "years=[i for i = 1:N]\n",
    "investments=zeros(N)\n",
    "\n",
    "#i è l'indice degli anni\n",
    "for i in 1:N\n",
    "    is = ((i) * is)-1\n",
    "    investments[i] = is\n",
    "end\n",
    "\n",
    "fig = plot(layout=(1, 1))\n",
    "scatter!(fig, years, investments, \n",
    "        title=\"Chaotic Bank Society projection\",    \n",
    "        label=\"Investments over the years\",\n",
    "        xlabel=\"Years\",\n",
    "        ylabel=\"Investment\")\n",
    "\n",
    "\n",
    "display(fig)"
   ]
  },
  {
   "cell_type": "markdown",
   "metadata": {},
   "source": [
    "### BigFloat precision"
   ]
  },
  {
   "cell_type": "code",
   "execution_count": null,
   "metadata": {},
   "outputs": [],
   "source": [
    "#Initial savings e-1\n",
    "is = parse(BigFloat, \"1.71828182845904523536028747135\")\n",
    "#number of years\n",
    "N = 25\n",
    "\n",
    "years=[i for i = 1:N]\n",
    "investments=zeros(N)\n",
    "\n",
    "#i è l'indice degli anni\n",
    "for i in 1:N\n",
    "    is = ((i) * is)-1\n",
    "    investments[i] = is\n",
    "end\n",
    "\n",
    "fig = plot(layout=(1, 1))\n",
    "scatter!(fig, years, investments, \n",
    "        title=\"Chaotic Bank Society projection\",    \n",
    "        label=\"Investments over the years\",\n",
    "        xlabel=\"Years\",\n",
    "        ylabel=\"Investment\")\n",
    "\n",
    "\n",
    "display(fig)"
   ]
  }
 ],
 "metadata": {
  "kernelspec": {
   "display_name": "Julia 1.11.4",
   "language": "julia",
   "name": "julia-1.11"
  },
  "language_info": {
   "file_extension": ".jl",
   "mimetype": "application/julia",
   "name": "julia",
   "version": "1.11.4"
  }
 },
 "nbformat": 4,
 "nbformat_minor": 2
}
