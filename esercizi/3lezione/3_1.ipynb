{
 "cells": [
  {
   "cell_type": "markdown",
   "metadata": {},
   "source": [
    "# Variance"
   ]
  },
  {
   "cell_type": "code",
   "execution_count": null,
   "metadata": {},
   "outputs": [],
   "source": [
    "#Function cell\n",
    "function my_variance(x)\n",
    "    x_2 = [i^2 for i = x]\n",
    "    v = sum(x)\n",
    "    u = sum(x_2)\n",
    "    return 1/(length(x)-1) * (u - v^2/length(x))\n",
    "end"
   ]
  },
  {
   "cell_type": "code",
   "execution_count": null,
   "metadata": {},
   "outputs": [],
   "source": [
    "#Defining the datasets\n",
    "x0 = [1, 1, 1, 1]\n",
    "x1 = [ 1e3, 1+1e3, 2+1e3 ]\n",
    "x2 = [ 1e6, 1+1e6, 2+1e6 ]\n",
    "x3 = [ 1e7, 1+1e7, 2+1e7 ]\n",
    "x4 = [ 1e8, 1+1e8, 2+1e8 ]\n",
    "\n",
    "x_sets = [x0, x1, x2, x3, x4]\n",
    "\n",
    "var_values = my_variance.(x_sets)\n",
    "println(var_values)\n"
   ]
  }
 ],
 "metadata": {
  "kernelspec": {
   "display_name": "Julia 1.11.3",
   "language": "julia",
   "name": "julia-1.11"
  },
  "language_info": {
   "file_extension": ".jl",
   "mimetype": "application/julia",
   "name": "julia",
   "version": "1.11.3"
  }
 },
 "nbformat": 4,
 "nbformat_minor": 2
}
