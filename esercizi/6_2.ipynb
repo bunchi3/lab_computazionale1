{
 "cells": [
  {
   "cell_type": "markdown",
   "metadata": {},
   "source": [
    "# Orbite di Keplero"
   ]
  },
  {
   "cell_type": "code",
   "execution_count": null,
   "metadata": {},
   "outputs": [],
   "source": [
    "#Import cell\n",
    "using Markdown     #Vsualizzazione di markdown in display\n",
    "using CSV\n",
    "using DataFrames\n",
    "#non devo importare LinearAlgebra perchè è già dentro il file linear_systems.jl\n",
    "include(\"c:\\\\ALL\\\\Stefano\\\\Bicocca\\\\3terzo_anno\\\\lab_comp\\\\lab_computazionale1\\\\librerie\\\\linear_systems.jl\")"
   ]
  },
  {
   "cell_type": "code",
   "execution_count": null,
   "metadata": {},
   "outputs": [],
   "source": [
    "#Unpacking data\n",
    "data = CSV.read(\"keplero.csv\", DataFrame)\n",
    "name = data[!, 1]\n",
    "distance = data[!, 2]\n",
    "time = data[!, 3]\n",
    "mass = data[!, 4]"
   ]
  },
  {
   "cell_type": "markdown",
   "metadata": {},
   "source": [
    "Linearizzo il modello $\\tau = c R^{\\alpha}$ con il logaritmo. \\\n",
    "I conti sono su carta, ma la morale è che uso come y il logaritmo del tempo, come matrice A una matrice m*2 in cui la prima colonna è fatta di 1 e la seconda dei logaritmi delle distanze. Come parametri incogniti ottengo $log(c)$ e $\\alpha$. \n",
    "In generale mi aspetto che $\\alpha = \\frac{3}{2}$ e che la costante dipenda dal pianeta. Ma dato che nella formula della costante compare la massa del Sole come termine dominante, fa in modo che tale costante sia uguale per ogni pianeta."
   ]
  },
  {
   "cell_type": "code",
   "execution_count": null,
   "metadata": {},
   "outputs": [],
   "source": [
    "#Dato che il modello non è lineare nei parametri lo linearizzo con il logaritmo\n",
    "n_meas = length(time)\n",
    "b = log.(time)\n",
    "A = zeros(n_meas, 2)\n",
    "A[:,1] = ones(n_meas)\n",
    "A[:,2] = log.(distance)\n",
    "\n",
    "param = least_sq(A, b)\n",
    "println(\"c = \", exp(param[1]))\n",
    "println(\"α = \", param[2])\n",
    "println(\"α attesa = \", 3/2)"
   ]
  }
 ],
 "metadata": {
  "kernelspec": {
   "display_name": "Julia 1.11.4",
   "language": "julia",
   "name": "julia-1.11"
  },
  "language_info": {
   "file_extension": ".jl",
   "mimetype": "application/julia",
   "name": "julia",
   "version": "1.11.4"
  }
 },
 "nbformat": 4,
 "nbformat_minor": 2
}
