{
 "cells": [
  {
   "cell_type": "markdown",
   "metadata": {},
   "source": [
    "# Approssimazione di $e^{sin(t-1)}$"
   ]
  },
  {
   "cell_type": "markdown",
   "metadata": {},
   "source": [
    "In this problem you are trying to find an approximation to the periodic function $g(t)=e^{\\sin(t-1)}$ over one period, $ 0 < t \\le 2\\pi $. As data, define\n",
    "\n",
    "$$\n",
    "    t_i = \\frac{2\\pi i}{60}\\,,\n",
    "    \\quad  \n",
    "    y_i = g(t_i)\\,,\n",
    "    \\quad i=1,\\ldots,60.\n",
    "$$\n",
    "\n",
    "**(a)** Find the coefficients of the least-squares fit\n",
    "  \n",
    "$$\n",
    "    y(t) \\approx c_1 + c_2t + \\cdots + c_7 t^6.\n",
    "$$\n",
    "\n",
    "Superimpose a plot of the data values as points with a curve showing the fit.\n",
    "\n",
    "**(b)** Find the coefficients of the least-squares fit\n",
    "\n",
    "$$\n",
    "y \\approx d_1 + d_2\\cos(t) + d_3\\sin(t) + d_4\\cos(2t) + d_5\\sin(2t).\n",
    "$$\n",
    "\n",
    "Unlike part (a), this fitting function is itself periodic. Superimpose a plot of the data values as points with a curve showing the fit. "
   ]
  },
  {
   "cell_type": "markdown",
   "metadata": {},
   "source": [
    "Il notebook è diviso in due sezioni, la prima che interpola $e^{sin(t-1)}$ con un modello polinomiale che si sviluppa fino alla potenza settima; la seconda sezione interpola ancora $e^{sin(t-1)}$ ma con un modello di sviluppo in serie di Fourier del 3° ordine (5 coefficienti, uno per il termine costante, due per i termini $cos(x)$ e $sin(x)$, due per i termini $cos(2x)$ e $sin(2x)$) \\\n",
    "Per la risoluzione di questo esercizio sono riportati tre modi, che utilizzano sempre il metodo dei minimi quadrati.\n",
    "- 1° metodo (commentato): si genera la matrice di regressione in maniera esplicita (colonna per colonna) e poi si applica il metodo dei minimi quadrati\n",
    "- 2° metodo (effettivamente utilizzato): la matrice di regressione è generata nella maniera più compatta possibile, utilizzando hcat\n",
    "- 3° metodo (commentato): si utilizzano funzioni definite nel file interpolation.jl. Hanno il vantaggio di poter cambiare il numero di coefficienti dello sviluppo, sia polinomiale che di Fourier. "
   ]
  },
  {
   "cell_type": "markdown",
   "metadata": {},
   "source": [
    "Si nota che l'interpolazione periodica funziona meglio con meno parametri. In laboratorio questo si traduce nel fatto che il processo fisico è periodico."
   ]
  },
  {
   "cell_type": "code",
   "execution_count": null,
   "metadata": {},
   "outputs": [],
   "source": [
    "#Import cell\n",
    "using Markdown     #Visualizzazione di markdown in display\n",
    "using Plots        #Per grafici\n",
    "using Printf       #Per le stringhe del grafico\n",
    "using LaTeXStrings\n",
    "#non devo importare LinearAlgebra perchè è già dentro il file linear_systems.jl, che è dentro a interpolation.jl\n",
    "include(\"c:\\\\ALL\\\\Stefano\\\\Bicocca\\\\3terzo_anno\\\\lab_comp\\\\lab_computazionale1\\\\librerie\\\\interpolation.jl\")\n",
    "function autosave(fig, filename)\n",
    "    path = \"C:\\\\ALL\\\\Stefano\\\\Bicocca\\\\3terzo_anno\\\\lab_comp\\\\lab_computazionale1\\\\relazione\\\\immagini\"\n",
    "    savefig(fig, joinpath(path, filename))\n",
    "end"
   ]
  },
  {
   "cell_type": "code",
   "execution_count": null,
   "metadata": {},
   "outputs": [],
   "source": [
    "function exact_func(t)\n",
    "    return exp(sin(t-1))\n",
    "end\n",
    "\n",
    "function model1(t, c0, c1, c2, c3, c4, c5, c6)\n",
    "    return c0 + c1*t + c2*t^2 + c3*t^3 + c4*t^4 + c5*t^5 + c6*t^6\n",
    "end\n",
    "\n",
    "function model2(t, d1, d2, d3, d4, d5)\n",
    "    return d1 + d2*cos(t) + d3*sin(t) + d4*cos(2t) +d5*sin(2t)\n",
    "end\n",
    "colors = [\"#0F2080\",  # blu scuro\n",
    "    \"#F5793A\",  # arancione\n",
    "    \"#A95AA1\",  # viola\n",
    "    \"#85C0F9\"]  # azzurro"
   ]
  },
  {
   "cell_type": "markdown",
   "metadata": {},
   "source": [
    "## Interpolazione 1\n",
    "Modello:  $y = c_0 + c_1t + c_2t^2 + c_3t^3 + c_4t^4 + c_5t^5 + c_6t^6$"
   ]
  },
  {
   "cell_type": "code",
   "execution_count": null,
   "metadata": {},
   "outputs": [],
   "source": [
    "#Generazione dei dati acquisiti\n",
    "t = [2*pi*i/60.0 for i in 1:60]\n",
    "y_meas = exact_func.(t)\n",
    "\n",
    "m = minimum(t)\n",
    "M = maximum(t)\n",
    "x = [i for i in m:0.1:M]      #Vettore per generare funzioni continue\n",
    "\n",
    "# Generazione di A in maniera estesa\n",
    "#= A = zeros(length(t), 7)     #righe = n° di misure, colonne = n° di coefficienti.\n",
    "A[:,1] = ones(length(t), 1)\n",
    "A[:,2] = t\n",
    "A[:,3] = t.^2\n",
    "A[:,4] = t.^3\n",
    "A[:,5] = t.^4\n",
    "A[:,6] = t.^5\n",
    "A[:,7] = t.^6 =#\n",
    "\n",
    "#= Generazione di A in maniera compatta\n",
    "[t.^(i-1) for i in 1:7] è un array di 7 colonne, ognuna delle quali è un vettore colonna\n",
    "A = hcat([t.^(i-1) for i in 1:7]...) #hcat concatena le colonne\n",
    "... è un operatore che spacchetta l'array in modo che hcat possa concatenare le colonne =#\n",
    "A = hcat([t.^(i-1) for i in 1:7]...) \n",
    "\n",
    "c = least_sq(A, y_meas)\n",
    "y_interp_p = model1.(x, c[1], c[2], c[3], c[4], c[5], c[6], c[7])\n",
    "\n",
    "#= #Soluzione con l'utilizzo della libreria interpolation.jl\n",
    "n_coefficienti = 7\n",
    "c = pol_fit(t, y_meas, n_coefficienti)\n",
    "y_interp_p = pol_expansion(x, c) =#\n",
    "display(c)\n"
   ]
  },
  {
   "cell_type": "code",
   "execution_count": null,
   "metadata": {},
   "outputs": [],
   "source": [
    "x_trig_index = [L\"0\", L\"\\frac{\\pi}{4}\", L\"\\frac{\\pi}{2}\", L\"\\frac{3\\pi}{4}\", L\"\\pi\", L\"\\frac{5\\pi}{4}\", L\"\\frac{3\\pi}{2}\", L\"\\frac{7\\pi}{4}\", L\"2\\pi\"]\n",
    "fig1 = plot(xlabel = L\"t\",\n",
    "            ylabel = L\"g(t)\",\n",
    "            grid=true,\n",
    "            gridalpha=0.5,\n",
    "            framestyle=:box,\n",
    "            legend = :topright,\n",
    "            xticks=([i*pi/2 for i in 0:0.5:4], x_trig_index),)\n",
    "\n",
    "scatter!(fig1,\n",
    "      t,\n",
    "      y_meas,\n",
    "      label=L\"Dati\\ raccolti\",\n",
    "      color=colors[1],\n",
    "      )\n",
    "\n",
    "plot!(fig1,\n",
    "      x,\n",
    "      y_interp_p,\n",
    "      label=L\"Interpolazione\\ polinomiale,\\ N=7\",\n",
    "      color = colors[2],\n",
    "      linewidth = 2.0)\n",
    "            \n",
    "display(fig1)"
   ]
  },
  {
   "cell_type": "markdown",
   "metadata": {},
   "source": [
    "## Interpolazione 2\n",
    "Modello:  $y = d_1 + d_2cos(t) + d_3sin(t) + d_4cos(2t) + d_5sin(2t)$"
   ]
  },
  {
   "cell_type": "code",
   "execution_count": null,
   "metadata": {},
   "outputs": [],
   "source": [
    "#Generazione di A in maniera estesa\n",
    "#= A = zeros(length(t), 5)     #righe = n° di misure, colonne = n° di coefficienti.\n",
    "A[:,1] = ones(length(t), 1)\n",
    "A[:,2] = cos.(t)\n",
    "A[:,3] = sin.(t)\n",
    "A[:,4] = cos.(2t)\n",
    "A[:,5] = sin.(2t) =#\n",
    "\n",
    "#Generazione di A in forma compatta\n",
    "A = hcat(ones(60, 1), cos.(t), sin.(t), cos.(2t), sin.(2t))\n",
    "\n",
    "c = least_sq(A, y_meas)\n",
    "y_interp_f = model2.(x, c[1], c[2], c[3], c[4], c[5])\n",
    "\n",
    "#= #Soluzione con l'utilizzo della libreria interpolation.jl\n",
    "c = fourier_fit(t, y_meas, 5)\n",
    "y_interp_f = fourier_expansion(x, c) =#\n",
    "display(c)\n"
   ]
  },
  {
   "cell_type": "markdown",
   "metadata": {},
   "source": [
    "Attenzione che N = 3 nel senso che la serie di Fourier itera fino a N = 3, ma questo vuol dire che ci sono 5 coefficienti"
   ]
  },
  {
   "cell_type": "code",
   "execution_count": null,
   "metadata": {},
   "outputs": [],
   "source": [
    "fig1 = plot(xlabel = L\"t\",\n",
    "            ylabel = L\"g(t)\",\n",
    "            grid=true,\n",
    "            gridalpha=0.5,\n",
    "            framestyle=:box,\n",
    "            xticks=([i*pi/2 for i in 0:0.5:4], x_trig_index),\n",
    "            legend = :topright)\n",
    "\n",
    "scatter!(fig1,\n",
    "      t,\n",
    "      y_meas,\n",
    "      label=L\"Dati\\ raccolti\", \n",
    "      color = colors[1], \n",
    "      )\n",
    "\n",
    "plot!(fig1,\n",
    "      x,\n",
    "      y_interp_f,\n",
    "      label=L\"Interpolazione\\ di\\ Fourier,\\ N=3\",\n",
    "      color = colors[2],\n",
    "      linewidth = 2.0)\n",
    "            \n",
    "display(fig1)"
   ]
  },
  {
   "cell_type": "code",
   "execution_count": null,
   "metadata": {},
   "outputs": [],
   "source": [
    "fig = plot(xlabel = L\"t\",\n",
    "            ylabel = L\"g(t)\",\n",
    "            grid=true,\n",
    "            gridalpha=0.5,\n",
    "            framestyle=:box,\n",
    "            xticks=([i*pi/2 for i in 0:0.5:4], x_trig_index),\n",
    "            legend = :topright)\n",
    "\n",
    "scatter!(fig,\n",
    "      t, y_meas,\n",
    "      label=L\"Dati\\ raccolti\", \n",
    "      color = colors[3], \n",
    "      )\n",
    "\n",
    "plot!(fig,\n",
    "      x, y_interp_p,\n",
    "      label=L\"Interpolazione\\ polinomiale,\\ N=7\",\n",
    "      color = colors[1],\n",
    "      linewidth = 2.0)\n",
    "\n",
    "plot!(fig,\n",
    "      x, y_interp_f,\n",
    "      label=L\"Interpolazione\\ di\\ Fourier,\\ N=3\",\n",
    "      color = colors[4],\n",
    "      linewidth = 2.0)\n",
    "\n",
    "autosave(fig, \"2631.pdf\")\n",
    "display(fig)"
   ]
  }
 ],
 "metadata": {
  "kernelspec": {
   "display_name": "Julia 1.11.4",
   "language": "julia",
   "name": "julia-1.11"
  },
  "language_info": {
   "file_extension": ".jl",
   "mimetype": "application/julia",
   "name": "julia",
   "version": "1.11.4"
  }
 },
 "nbformat": 4,
 "nbformat_minor": 2
}
