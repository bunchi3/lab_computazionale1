{
 "cells": [
  {
   "cell_type": "markdown",
   "metadata": {},
   "source": [
    "# Translations and rotations"
   ]
  },
  {
   "cell_type": "code",
   "execution_count": null,
   "metadata": {},
   "outputs": [],
   "source": [
    "#Import cell\n",
    "using Markdown     #Vsualizzazione di markdown in display\n",
    "#non devo importare LinearAlgebra perchè è già dentro il file linear_systems.jl\n",
    "include(\"c:\\\\ALL\\\\Stefano\\\\Bicocca\\\\3terzo_anno\\\\lab_comp\\\\lab_computazionale1\\\\librerie\\\\linear_systems.jl\")"
   ]
  },
  {
   "cell_type": "code",
   "execution_count": null,
   "metadata": {},
   "outputs": [],
   "source": [
    "#Defining functions for rotations and translations. They return matrices\n",
    "function T(x, y)\n",
    "    matrix = diagm(ones(3))\n",
    "    matrix[1, 3] = x\n",
    "    matrix[2, 3] = y\n",
    "    return matrix\n",
    "end\n",
    "#= \n",
    "function R(theta)\n",
    "    #Theta must be in radians!\n",
    "    matrix = zeros(3, 3)\n",
    "    matrix[3,3] = 1\n",
    "    matrix[1,1] = cos(theta)\n",
    "    matrix[1,2] = sin(theta)\n",
    "    matrix[2,1] = -sin(theta)\n",
    "    matrix[2,2] = cos(theta)\n",
    "    return matrix\n",
    "end =#\n",
    "function R(theta)\n",
    "    #Theta must be in radians!\n",
    "    matrix = zeros(3, 3)\n",
    "    matrix[3,3] = 1\n",
    "    matrix[1,1] = cos(theta)\n",
    "    matrix[1,2] = sin(theta)\n",
    "    matrix[2,1] = -sin(theta)\n",
    "    matrix[2,2] = cos(theta)\n",
    "    return matrix\n",
    "end"
   ]
  },
  {
   "cell_type": "markdown",
   "metadata": {},
   "source": [
    "Lo scopo della seguente cella è di risolvere il sistema $Ax=b$. Per questo lo scompongo in lower e upper triangular matrices e risolvo i due sistemi. Poi lo confronto con la soluzione esatta $z$. Infatti $b$ è calcolato come $b = A z$"
   ]
  },
  {
   "cell_type": "code",
   "execution_count": null,
   "metadata": {},
   "outputs": [],
   "source": [
    "A = T(3, -1)*R(pi/5)*T(-3,1)\n",
    "z = [2.0; 2.0; 1.0]     #vettore colonna\n",
    "b = A*z\n",
    "\n",
    "L_A, U_A = LU_dec(A)\n",
    "\n",
    "#Risoluzione del sistema Ax = b, analogo a LUx = b\n",
    "#Ho quindi L u = b e Ux = u.\n",
    "#Trovo u da forward substitution di L e b\n",
    "u = fw_sub(L_A, b)\n",
    "#Trovo x da backward substitution di U e u \n",
    "x = bw_sub(U_A, u)\n",
    "\n",
    "#Display\n",
    "display(Markdown.parse(\"b = A*z\"))\n",
    "display(transpose(b))\n",
    "display(Markdown.parse(\"A factorization:\"))\n",
    "display(Markdown.parse(\"L:\"))\n",
    "display(L_A)\n",
    "display(Markdown.parse(\"U:\"))\n",
    "display(U_A)\n",
    "display(Markdown.parse(\"Calculated solution x:\"))\n",
    "display(transpose(x))\n",
    "display(Markdown.parse(\"Difference between the calculated solution and exact solution z:\"))\n",
    "display(transpose(x-z))"
   ]
  }
 ],
 "metadata": {
  "kernelspec": {
   "display_name": "Julia 1.11.4",
   "language": "julia",
   "name": "julia-1.11"
  },
  "language_info": {
   "file_extension": ".jl",
   "mimetype": "application/julia",
   "name": "julia",
   "version": "1.11.4"
  }
 },
 "nbformat": 4,
 "nbformat_minor": 2
}
