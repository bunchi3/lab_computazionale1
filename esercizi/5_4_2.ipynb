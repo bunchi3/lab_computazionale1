{
 "cells": [
  {
   "cell_type": "markdown",
   "id": "0",
   "metadata": {},
   "source": [
    "# Double exponential quadrature rule"
   ]
  },
  {
   "cell_type": "code",
   "execution_count": null,
   "id": "1",
   "metadata": {},
   "outputs": [],
   "source": [
    "using Plots\n",
    "using SpecialFunctions\n",
    "include(\"c:\\\\ALL\\\\Stefano\\\\Bicocca\\\\3terzo_anno\\\\lab_comp\\\\lab_computazionale1\\\\librerie\\\\integration.jl\")"
   ]
  },
  {
   "cell_type": "markdown",
   "id": "2",
   "metadata": {},
   "source": [
    "For each improper integral, compute approximations using the proper double-exponential quadrature rule with $N=n/2$ and $n=4,6,8,\\ldots,60$. Plot the errors as functions of $n$ on a semi-log scale."
   ]
  },
  {
   "cell_type": "code",
   "execution_count": null,
   "id": "3",
   "metadata": {},
   "outputs": [],
   "source": [
    "n = Int[i for i in 4:2:60]\n",
    "N = Int.(n ./ 2)\n",
    "\n",
    "f1 = x -> 1/(1 + x^2 + x^4)\n",
    "f2 = x -> exp(-x^2) * cos(x)\n",
    "f3 = x -> (1 + x^2)^(-2.0/3.0)\n",
    "f4 = x -> 1 / (1 + x^2)\n",
    "f5 = x -> 1/(sqrt(x))\n",
    "\n",
    "I1 = pi/sqrt(3)\n",
    "I2 = exp(-0.25) * pi\n",
    "I3 = (sqrt(pi) * gamma(1.0/6.0))/(gamma(2.0/3.0))\n",
    "I4 = pi / 2\n",
    "I5 = sqrt(pi)"
   ]
  },
  {
   "cell_type": "markdown",
   "id": "4",
   "metadata": {},
   "source": [
    "**(a)** $\\displaystyle\\int_{-\\infty}^\\infty \\dfrac{1}{1+x^2+x^4}\\, dx = \\dfrac{\\pi}{\\sqrt{3}}$"
   ]
  },
  {
   "cell_type": "code",
   "execution_count": null,
   "id": "5",
   "metadata": {},
   "outputs": [],
   "source": [
    "println(I1)\n",
    "Integral_DE(f1, 10)"
   ]
  },
  {
   "cell_type": "markdown",
   "id": "6",
   "metadata": {},
   "source": [
    "**(b)** $\\displaystyle\\int_{-\\infty}^\\infty e^{-x^2}\\cos(x)\\, dx = e^{-1/4}\\sqrt{\\pi}$"
   ]
  },
  {
   "cell_type": "markdown",
   "id": "7",
   "metadata": {},
   "source": [
    "**(c)** $\\displaystyle\\int_{-\\infty}^\\infty (1+x^2)^{-2/3}\\, dx = \\dfrac{\\sqrt{\\pi}\\,\\Gamma(1/6)}{\\Gamma(2/3)}$ "
   ]
  },
  {
   "cell_type": "markdown",
   "id": "8",
   "metadata": {},
   "source": [
    "**(d)** $\\displaystyle \\int_{0}^{\\infty} {1\\over 1+x^2}\\,dx = \\frac{\\pi}{2}$"
   ]
  },
  {
   "cell_type": "markdown",
   "id": "9",
   "metadata": {},
   "source": [
    "**(e)**  $\\displaystyle \\int_0^\\infty \\frac{e^{-x}}{\\sqrt{x}}\\,dx = \\sqrt{\\pi}$"
   ]
  }
 ],
 "metadata": {
  "kernelspec": {
   "display_name": "Julia 1.11.4",
   "language": "julia",
   "name": "julia-1.11"
  },
  "language_info": {
   "file_extension": ".jl",
   "mimetype": "application/julia",
   "name": "julia",
   "version": "1.11.4"
  }
 },
 "nbformat": 4,
 "nbformat_minor": 5
}
