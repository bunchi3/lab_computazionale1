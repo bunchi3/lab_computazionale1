{
 "cells": [
  {
   "cell_type": "markdown",
   "id": "0",
   "metadata": {},
   "source": [
    "# Adaptive BS23 method"
   ]
  },
  {
   "cell_type": "markdown",
   "id": "1",
   "metadata": {},
   "source": [
    "**(a)** Write a program to solve a system of differential equations using the adaptive BS23 method. \n",
    "\n",
    "**(b)** Test your implementation by solving,\n",
    "\n",
    "$u' = -2t u$, $\\ 0 \\le t \\le 2$, $\\ u(0) = 2$; $\\hat{u}(t) = 2e^{-t^2}$\n",
    "\n",
    "Plot the solution as a function of time for $\\delta=10^{-8}$ in one plot and the value of the step-size in another. Determine also the minimum and average step-size, excluding the first and last step. \n",
    "\n",
    "**(c)**  Consider $\\delta=10^{-6},10^{-5},\\ldots,10^{-12}$ and study how the error on the solution at the final time, $|u_n-\\hat{u}(t_n)|$, depends on the input tolerance $\\delta$.\n"
   ]
  },
  {
   "cell_type": "code",
   "execution_count": null,
   "id": "2",
   "metadata": {},
   "outputs": [],
   "source": [
    "using Plots\n",
    "using Markdown\n",
    "using LaTeXStrings\n",
    "using Printf\n",
    "using Statistics\n",
    "include(\"c:\\\\ALL\\\\Stefano\\\\Bicocca\\\\3terzo_anno\\\\lab_comp\\\\lab_computazionale1\\\\librerie\\\\diff_equations.jl\")\n",
    "function autosave(fig, filename)\n",
    "    path = \"C:\\\\ALL\\\\Stefano\\\\Bicocca\\\\3terzo_anno\\\\lab_comp\\\\lab_computazionale1\\\\relazione\\\\immagini\"\n",
    "    savefig(fig, joinpath(path, filename))\n",
    "end"
   ]
  },
  {
   "cell_type": "code",
   "execution_count": null,
   "id": "3",
   "metadata": {},
   "outputs": [],
   "source": [
    "function f(t, u)\n",
    "    return -2.0*t*u\n",
    "end\n",
    "\n",
    "function u_exact(t)\n",
    "    return 2*exp(-t^2)\n",
    "end\n",
    "\n",
    "u0 = 2.0\n",
    "\n",
    "colors = colors = [\"#0F2080\",  # blu scuro\n",
    "           \"#F5793A\",  # arancione\n",
    "           \"#A95AA1\",  # viola\n",
    "           \"#85C0F9\"]  # azzurro"
   ]
  },
  {
   "cell_type": "markdown",
   "id": "4",
   "metadata": {},
   "source": [
    "$t$ e $h$ hanno due dimensioni diverse, perchè a $t_i$ corrisponde $h$ che serve per raggiungere t_{i+1}. Perciò ad a, il primo estremo, corrisponde un $h$, mentre a b, il secondo estremo, no. Inoltre nel plot scartiamo 3 punti per il tempo: b perchè non ha un $h$ corrispondente, a perchè il suo $h$ corrisponde a quello che abbiamo inserito a mano (furbamente ne abbiamo inserito uno che andava bene) e poi il penultimo tempo, perchè l'$h$ corrispondente è forzato a essete $b - t_i$ per non sforare oltre l'estremo del dominio"
   ]
  },
  {
   "cell_type": "code",
   "execution_count": null,
   "id": "5",
   "metadata": {},
   "outputs": [],
   "source": [
    "δ = 10.0^(-8)\n",
    "a, b = 0.0, 2.0\n",
    "\n",
    "t, u_bs23, h = solution_adapt_bs23([f], [u0], a, b, δ)\n",
    "\n",
    "u_sol = u_bs23[1]\n",
    "#plot\n",
    "fig1 = plot(figsize=(800, 600),\n",
    "           xlabel=L\"t\", ylabel=L\"f(t)\",\n",
    "           framestyle=:box,\n",
    "           grid=true, gridalpha=0.5,\n",
    "           #xticks = [10^i for i in 0:0.2:4], yticks = [10.0^i for i in 0:-1:-16],\n",
    "           #xformatter = x -> @sprintf(\"%.0f\", x), yformatter = y -> @sprintf(\"%.0e\", y),\n",
    "           legend = :topright\n",
    "          )\n",
    "\n",
    "plot!(fig1, t, u_exact.(t),\n",
    "      label = L\"u_{exact}(t)\",\n",
    "      color= colors[1],\n",
    "      lw = 4.0,\n",
    "     )\n",
    "\n",
    "plot!(fig1, t, u_sol,\n",
    "      label = L\"u(t)\",\n",
    "      color= colors[2],\n",
    "      lw = 2.0,\n",
    "      linestyle = :dash,\n",
    "     )\n",
    "fig2 = plot(figsize=(800, 600),\n",
    "           xlabel=L\"t\", ylabel=L\"h(t)\",\n",
    "           framestyle=:box,\n",
    "           grid=true, gridalpha=0.5,\n",
    "           yrange = (minimum(h), maximum(h)),\n",
    "           legend = :topright\n",
    "          )\n",
    "plot!(fig2, t[2:end-2], h[2:end-1],\n",
    "      label = L\"h(t)\",\n",
    "      color= colors[3],\n",
    "      lw = 1.5,\n",
    "\n",
    "     )\n",
    "\n",
    "autosave(fig1, \"6351.pdf\")\n",
    "autosave(fig2, \"6352.pdf\")\n",
    "display(fig1)\n",
    "display(fig2)\n",
    "\n",
    "#= fig_merge = plot(fig1, fig2, layout = (1, 2), size = (600, 400))\n",
    "display(fig_merge) =#\n",
    "display(minimum(h[2:end-1]))\n",
    "display(mean(h[2:end-1]))"
   ]
  },
  {
   "cell_type": "code",
   "execution_count": null,
   "id": "6",
   "metadata": {},
   "outputs": [],
   "source": [
    "δ = [10.0^i for i in -12:1:-5]\n",
    "a, b = 0.0, 2.0\n",
    "t = [[] for i in 1:length(δ)]\n",
    "u_bs23 = [[] for i in 1:length(δ)]\n",
    "h = [[] for i in 1:length(δ)]\n",
    "for i in 1:length(δ)\n",
    "    t[i], u_bs23[i], h[i] = solution_adapt_bs23([f], [u0], a, b, δ[i])\n",
    "end\n",
    "\n",
    "#For u_bs23 we need three indexes: j for the δ, k for the time step, and l for the solution needed at that time step\n",
    "\n",
    "t_end = [t[j][end] for j in 1:length(δ)]\n",
    "u_bs23_end = [u_bs23[j][end][end] for j in 1:length(δ)]\n",
    "u_end = u_exact.(t_end)\n",
    "\n",
    "\n",
    "fig1 = plot(\n",
    "           xlabel=L\"\\delta\", ylabel=L\"Error\",\n",
    "           framestyle=:box,\n",
    "           grid=true, gridalpha=0.5,\n",
    "           xscale = :log10, yscale = :log10,\n",
    "           xticks = [10.0^i for i in -12:1:-5], yticks = [10.0^i for i in -16:1:-2],\n",
    "           legend = :bottomright,\n",
    "           figsize=(800, 600)\n",
    "          )\n",
    "\n",
    "plot!(fig1, δ, abs.(u_end .- u_bs23_end),\n",
    "      label = L\"|u_n-\\hat{u}(t_n)|\",\n",
    "      color= colors[1],\n",
    "      marker = :circle,\n",
    "      lw = 4.0,\n",
    "     )\n",
    "autosave(fig1, \"6353.pdf\")\n",
    "display(fig1)"
   ]
  }
 ],
 "metadata": {
  "kernelspec": {
   "display_name": "Julia 1.11.4",
   "language": "julia",
   "name": "julia-1.11"
  },
  "language_info": {
   "file_extension": ".jl",
   "mimetype": "application/julia",
   "name": "julia",
   "version": "1.11.4"
  }
 },
 "nbformat": 4,
 "nbformat_minor": 5
}
