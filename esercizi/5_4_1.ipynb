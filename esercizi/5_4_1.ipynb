{
 "cells": [
  {
   "cell_type": "markdown",
   "id": "0",
   "metadata": {},
   "source": [
    "# Gauss-Legendre and Clenshaw-Curtis over $[-1, 1]$"
   ]
  },
  {
   "cell_type": "markdown",
   "id": "1",
   "metadata": {},
   "source": [
    "Chiedi per il cambio di variabile, è corretto?"
   ]
  },
  {
   "cell_type": "code",
   "execution_count": null,
   "id": "2",
   "metadata": {},
   "outputs": [],
   "source": [
    "using Plots\n",
    "using SpecialFunctions\n",
    "using LaTeXStrings\n",
    "using Markdown\n",
    "using Printf\n",
    "include(\"c:\\\\ALL\\\\Stefano\\\\Bicocca\\\\3terzo_anno\\\\lab_comp\\\\lab_computazionale1\\\\librerie\\\\integration.jl\")"
   ]
  },
  {
   "cell_type": "markdown",
   "id": "3",
   "metadata": {},
   "source": [
    "For each integral, compute approximations using Gauss-Legendre and Clenshaw-Curtis quadrature rules with $n=4,6,8,\\ldots,40$. Plot the errors of both methods together as functions of $n$ on a semi-log scale. \\\n",
    "(Hint: Consider implementing the Clenshaw-Curtis rule only for $n$ even.)"
   ]
  },
  {
   "cell_type": "code",
   "execution_count": null,
   "id": "4",
   "metadata": {},
   "outputs": [],
   "source": [
    "N = Int[i for i in 4:2:40]\n",
    "\n",
    "f1 = x -> exp(-4x)\n",
    "f2 = x -> exp(-9x^2)\n",
    "f3 = x -> sech(x)\n",
    "f4 = x -> 1/(1+9x^2)\n",
    "f5 = x -> x^2*sin(8x)\n",
    "\n",
    "I1 = sinh(4) / 2\n",
    "I2 = sqrt(pi) * erf(3) / 3\n",
    "I3 = 2*atan(sinh(1))\n",
    "I4 = (2/3)*atan(3)\n",
    "I5 = -(3*pi^2)/(32)"
   ]
  },
  {
   "cell_type": "markdown",
   "id": "5",
   "metadata": {},
   "source": [
    "Giustamente l'andamento è esponenziale. Si può mostra che dopo un certo n Clensh curtis cambia velocità e rallenta. Ad esempio in d evidentemente l'n caratteristico rende gli integrali oltre la machine precision.\n",
    "VOlendo puoi plottare anche l'andamento delle rette, tramite il $\\rho$ dell'ellissi di Bernstein. $\\rho$ è la somma del semiasse maggiore e minore. Per trovare l'ellisse più grande devi cercare i poli, l'ellisse non li comprende.\n",
    "Per funzioni olomorfe succede che l'algoritmo di gauss non converge esponenzialmente ($\\rho$ non ha senso), ma più velocemente. \\\n",
    "Il thorwback è che gauss scala come $n^2$ a causa dei pesi e dei nodi. Per CUrtis i pesi scalano come $n^2$, però utilizzando la fast Fourier transofrm si riduce il costo a $n$, quindi è solo perchè noi non siamo in grado di renderlo efficiente."
   ]
  },
  {
   "cell_type": "markdown",
   "id": "6",
   "metadata": {},
   "source": [
    "**(a)** $\\displaystyle\\int_{-1}^1 e^{-4x}\\, dx = \\sinh(4)/2$"
   ]
  },
  {
   "cell_type": "code",
   "execution_count": null,
   "id": "7",
   "metadata": {},
   "outputs": [],
   "source": [
    "I_gauss = []\n",
    "I_CC = []\n",
    "for i in 1:1:length(N)\n",
    "    push!(I_gauss, IntegralGaussLegendre(f1, N[i]))\n",
    "end\n",
    "for i in 1:1:length(N)\n",
    "    push!(I_CC, IntegralCC_even(f1, N[i]))    \n",
    "end\n",
    "\n",
    "g_err = abs.(I_gauss .- I1)\n",
    "c_err = abs.(I_CC .- I1)\n",
    "g_err = [x <= eps() ? eps() : x for x in g_err]     #I need to correct them because the log graph wouldn't accept zeros\n",
    "c_err = [x <= eps() ? eps() : x for x in c_err]\n",
    "\n",
    "fig = plot(figsize=(800, 600),\n",
    "           xlabel=L\"n\", ylabel=L\"Error\",\n",
    "           framestyle=:box,\n",
    "           grid=true, gridalpha=0.5,\n",
    "           yscale = :log10,\n",
    "           xticks = [N[i] for i in 1:2:length(N)], yticks = [10.0^i for i in -18:2:0],\n",
    "           legend = :topright\n",
    "          )\n",
    "\n",
    "plot!(fig, N, g_err,\n",
    "      label = L\"Gauss-Legendre\",\n",
    "      color= :navy,\n",
    "      marker = :circle,\n",
    "      lw = 2.5,\n",
    "     ) \n",
    "\n",
    "plot!(fig, N, c_err,\n",
    "      label = L\"Clenshaw-Curtis\",\n",
    "      color= :darkorange,\n",
    "      marker = :circle,\n",
    "      lw = 2.5,\n",
    "     ) \n",
    "\n",
    "display(fig)"
   ]
  },
  {
   "cell_type": "markdown",
   "id": "8",
   "metadata": {},
   "source": [
    "**(b)** $\\displaystyle\\int_{-1}^1 e^{-9x^2} = \\sqrt{\\pi}\\, \\operatorname{erf}(3)/3$"
   ]
  },
  {
   "cell_type": "code",
   "execution_count": null,
   "id": "9",
   "metadata": {},
   "outputs": [],
   "source": [
    "I_gauss = []\n",
    "I_CC = []\n",
    "for i in 1:1:length(N)\n",
    "    push!(I_gauss, IntegralGaussLegendre(f2, N[i]))\n",
    "end\n",
    "for i in 1:1:length(N)\n",
    "    push!(I_CC, IntegralCC_even(f2, N[i]))    \n",
    "end\n",
    "\n",
    "g_err = abs.(I_gauss .- I2)\n",
    "c_err = abs.(I_CC .- I2)\n",
    "g_err = [x <= eps() ? eps() : x for x in g_err]     #I need to correct them because the log graph wouldn't accept zeros\n",
    "c_err = [x <= eps() ? eps() : x for x in c_err]\n",
    "\n",
    "fig = plot(figsize=(800, 600),\n",
    "           xlabel=L\"n\", ylabel=L\"Error\",\n",
    "           framestyle=:box,\n",
    "           grid=true, gridalpha=0.5,\n",
    "           yscale = :log10,\n",
    "           xticks = [N[i] for i in 1:2:length(N)], yticks = [10.0^i for i in -18:2:0],\n",
    "           legend = :topright\n",
    "          )\n",
    "\n",
    "plot!(fig, N, g_err,\n",
    "      label = L\"Gauss-Legendre\",\n",
    "      color= :navy,\n",
    "      marker = :circle,\n",
    "      lw = 2.5,\n",
    "     ) \n",
    "\n",
    "plot!(fig, N, c_err,\n",
    "      label = L\"Clenshaw-Curtis\",\n",
    "      color= :darkorange,\n",
    "      marker = :circle,\n",
    "      lw = 2.5,\n",
    "     ) \n",
    "\n",
    "display(fig)"
   ]
  },
  {
   "cell_type": "markdown",
   "id": "10",
   "metadata": {},
   "source": [
    "**(c)** $\\displaystyle\\int_{-1}^1 \\operatorname{sech}(x) \\, dx = 2 \\tan^{-1} [ \\sinh (1) ]$"
   ]
  },
  {
   "cell_type": "code",
   "execution_count": null,
   "id": "11",
   "metadata": {},
   "outputs": [],
   "source": [
    "I_gauss = []\n",
    "I_CC = []\n",
    "for i in 1:1:length(N)\n",
    "    push!(I_gauss, IntegralGaussLegendre(f3, N[i]))\n",
    "end\n",
    "for i in 1:1:length(N)\n",
    "    push!(I_CC, IntegralCC_even(f3, N[i]))    \n",
    "end\n",
    "\n",
    "g_err = abs.(I_gauss .- I3)\n",
    "c_err = abs.(I_CC .- I3)\n",
    "g_err = [x <= eps() ? eps() : x for x in g_err]     #I need to correct them because the log graph wouldn't accept zeros\n",
    "c_err = [x <= eps() ? eps() : x for x in c_err]\n",
    "\n",
    "fig = plot(figsize=(800, 600),\n",
    "           xlabel=L\"n\", ylabel=L\"Error\",\n",
    "           framestyle=:box,\n",
    "           grid=true, gridalpha=0.5,\n",
    "           yscale = :log10,\n",
    "           xticks = [N[i] for i in 1:2:length(N)], yticks = [10.0^i for i in -18:2:0],\n",
    "           legend = :topright\n",
    "          )\n",
    "\n",
    "plot!(fig, N, g_err,\n",
    "      label = L\"Gauss-Legendre\",\n",
    "      color= :navy,\n",
    "      marker = :circle,\n",
    "      lw = 2.5,\n",
    "     ) \n",
    "\n",
    "plot!(fig, N, c_err,\n",
    "      label = L\"Clenshaw-Curtis\",\n",
    "      color= :darkorange,\n",
    "      marker = :circle,\n",
    "      lw = 2.5,\n",
    "     ) \n",
    "\n",
    "display(fig)"
   ]
  },
  {
   "cell_type": "markdown",
   "id": "12",
   "metadata": {},
   "source": [
    "**(d)** $\\displaystyle\\int_{-1}^1 \\frac{1}{1+9x^2}\\, dx = \\frac{2}{3} \\tan^{-1}(3)$"
   ]
  },
  {
   "cell_type": "code",
   "execution_count": null,
   "id": "13",
   "metadata": {},
   "outputs": [],
   "source": [
    "I_gauss = []\n",
    "I_CC = []\n",
    "for i in 1:1:length(N)\n",
    "    push!(I_gauss, IntegralGaussLegendre(f4, N[i]))\n",
    "end\n",
    "for i in 1:1:length(N)\n",
    "    push!(I_CC, IntegralCC_even(f4, N[i]))    \n",
    "end\n",
    "\n",
    "g_err = abs.(I_gauss .- I4)\n",
    "c_err = abs.(I_CC .- I4)\n",
    "g_err = [x <= eps() ? eps() : x for x in g_err]     #I need to correct them because the log graph wouldn't accept zeros\n",
    "c_err = [x <= eps() ? eps() : x for x in c_err]\n",
    "\n",
    "fig = plot(figsize=(800, 600),\n",
    "           xlabel=L\"n\", ylabel=L\"Error\",\n",
    "           framestyle=:box,\n",
    "           grid=true, gridalpha=0.5,\n",
    "           yscale = :log10,\n",
    "           xticks = [N[i] for i in 1:2:length(N)], yticks = [10.0^i for i in -18:2:0],\n",
    "           legend = :topright\n",
    "          )\n",
    "\n",
    "plot!(fig, N, g_err,\n",
    "      label = L\"Gauss-Legendre\",\n",
    "      color= :navy,\n",
    "      marker = :circle,\n",
    "      lw = 2.5,\n",
    "     ) \n",
    "\n",
    "plot!(fig, N, c_err,\n",
    "      label = L\"Clenshaw-Curtis\",\n",
    "      color= :darkorange,\n",
    "      marker = :circle,\n",
    "      lw = 2.5,\n",
    "     ) \n",
    "\n",
    "display(fig)"
   ]
  },
  {
   "cell_type": "markdown",
   "id": "14",
   "metadata": {},
   "source": [
    "**(e)** $\\displaystyle\\int_{\\pi/2}^{\\pi} x^2 \\sin 8x \\, d x = -\\frac{3 \\pi^2}{32}$"
   ]
  },
  {
   "cell_type": "code",
   "execution_count": null,
   "id": "15",
   "metadata": {},
   "outputs": [],
   "source": [
    "a = pi/2\n",
    "b = pi\n",
    "I_gauss = []\n",
    "I_CC = []\n",
    "for i in 1:1:length(N)\n",
    "    push!(I_gauss, IntegralGaussLegendre(f5, N[i]; a=a, b=b))\n",
    "end\n",
    "for i in 1:1:length(N)\n",
    "    push!(I_CC, IntegralCC_even(f5, N[i]; a=a, b=b))    \n",
    "end\n",
    "\n",
    "g_err = abs.(I_gauss .- I5)\n",
    "c_err = abs.(I_CC .- I5)\n",
    "g_err = [x <= eps() ? eps() : x for x in g_err]     #I need to correct them because the log graph wouldn't accept zeros\n",
    "c_err = [x <= eps() ? eps() : x for x in c_err]\n",
    "\n",
    "fig = plot(figsize=(800, 600),\n",
    "           xlabel=L\"n\", ylabel=L\"Error\",\n",
    "           framestyle=:box,\n",
    "           grid=true, gridalpha=0.5,\n",
    "           yscale = :log10,\n",
    "           xticks = [N[i] for i in 1:2:length(N)], yticks = [10.0^i for i in -18:2:0],\n",
    "           legend = :topright\n",
    "          )\n",
    "\n",
    "plot!(fig, N, g_err,\n",
    "      label = L\"Gauss-Legendre\",\n",
    "      color= :navy,\n",
    "      marker = :circle,\n",
    "      lw = 2.5,\n",
    "     ) \n",
    "\n",
    "plot!(fig, N, c_err,\n",
    "      label = L\"Clenshaw-Curtis\",\n",
    "      color= :darkorange,\n",
    "      marker = :circle,\n",
    "      lw = 2.5,\n",
    "     ) \n",
    "\n",
    "display(fig)"
   ]
  }
 ],
 "metadata": {
  "kernelspec": {
   "display_name": "Julia 1.11.4",
   "language": "julia",
   "name": "julia-1.11"
  },
  "language_info": {
   "file_extension": ".jl",
   "mimetype": "application/julia",
   "name": "julia",
   "version": "1.11.4"
  }
 },
 "nbformat": 4,
 "nbformat_minor": 5
}
