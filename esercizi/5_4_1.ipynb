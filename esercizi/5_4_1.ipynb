{
 "cells": [
  {
   "cell_type": "markdown",
   "id": "0",
   "metadata": {},
   "source": [
    "# Gauss-Legendre and Clenshaw-Curtis over $[-1, 1]$"
   ]
  },
  {
   "cell_type": "code",
   "execution_count": null,
   "id": "1",
   "metadata": {},
   "outputs": [],
   "source": [
    "using Plots\n",
    "using LaTeXStrings\n",
    "using Markdown\n",
    "using Printf\n",
    "include(\"c:\\\\ALL\\\\Stefano\\\\Bicocca\\\\3terzo_anno\\\\lab_comp\\\\lab_computazionale1\\\\librerie\\\\integration.jl\")"
   ]
  },
  {
   "cell_type": "markdown",
   "id": "2",
   "metadata": {},
   "source": [
    "For each integral, compute approximations using Gauss-Legendre and Clenshaw-Curtis quadrature rules with $n=4,6,8,\\ldots,40$. Plot the errors of both methods together as functions of $n$ on a semi-log scale. \\\n",
    "(Hint: Consider implementing the Clenshaw-Curtis rule only for $n$ even.)"
   ]
  },
  {
   "cell_type": "code",
   "execution_count": null,
   "id": "3",
   "metadata": {},
   "outputs": [],
   "source": [
    "N = [i for i in 4:2:40]\n",
    "\n",
    "f1 = x -> exp(-4x)\n",
    "f2 = x -> exp(-9x^2)\n",
    "f3 = x -> sech(x)\n",
    "f4 = x -> 1/(1+9x^2)\n",
    "f5 = x -> x^2*sin(8x)\n",
    "\n",
    "I1 = sinh(4) / 2\n",
    "#I2 = sqrt(pi) * erf(3) / 3\n",
    "I3 = 2*atan(sinh(1))\n",
    "I4 = (2/3)*atan(3)\n",
    "I5 = -(3*pi^2)/(32)"
   ]
  },
  {
   "cell_type": "code",
   "execution_count": null,
   "id": "4",
   "metadata": {},
   "outputs": [],
   "source": [
    "I_gauss = Float64[]\n",
    "for i in 1:1:length(N)\n",
    "    push!(I_gauss, IntegralGaussLegendre(f1, N[i]))\n",
    "end"
   ]
  },
  {
   "cell_type": "code",
   "execution_count": null,
   "id": "5",
   "metadata": {},
   "outputs": [],
   "source": [
    "I_CC = Float64[]\n",
    "for i in 1:1:length(N)\n",
    "    push!(I_CC, IntegralCC_even(f1, N[i]))    \n",
    "end"
   ]
  },
  {
   "cell_type": "markdown",
   "id": "6",
   "metadata": {},
   "source": [
    "**(a)** $\\displaystyle\\int_{-1}^1 e^{-4x}\\, dx = \\sinh(4)/2$"
   ]
  },
  {
   "cell_type": "code",
   "execution_count": null,
   "id": "7",
   "metadata": {},
   "outputs": [],
   "source": [
    "I_gauss = []\n",
    "I_CC = []\n",
    "for i in 1:1:length(N)\n",
    "    push!(I_gauss, IntegralGaussLegendre(f1, N[i]))\n",
    "end\n",
    "for i in 1:1:length(N)\n",
    "    push!(I_CC, IntegralCC_even(f1, N[i]))    \n",
    "end\n",
    "\n",
    "g_err = abs.(I_gauss .- I1)\n",
    "c_err = abs.(I_CC .- I1)\n",
    "\n",
    "fig = plot(figsize=(800, 600),\n",
    "           xlabel=L\"n\", ylabel=L\"Error\",\n",
    "           framestyle=:box,\n",
    "           grid=true, gridalpha=0.5,\n",
    "           yscale =: log10,\n",
    "           #xticks = [10.0^i for i in 0:0.5:10], yticks = [10.0^i for i in -18:1:0],\n",
    "           legend = :topright\n",
    "          )\n",
    "\n",
    "plot!(fig, N, g_err,\n",
    "      label = L\"Gauss-Legendre\",\n",
    "      color= :navy,\n",
    "      marker = :circle,\n",
    "      lw = 2.5,\n",
    "     ) \n",
    "\n",
    "plot!(fig, N, c_err,\n",
    "      label = L\"Clenshaw-Curtis\",\n",
    "      color= :darkorange,\n",
    "      marker = :circle,\n",
    "      lw = 2.5,\n",
    "     ) "
   ]
  },
  {
   "cell_type": "markdown",
   "id": "8",
   "metadata": {},
   "source": [
    "**(b)** $\\displaystyle\\int_{-1}^1 e^{-9x^2} = \\sqrt{\\pi}\\, \\operatorname{erf}(3)/3$"
   ]
  },
  {
   "cell_type": "markdown",
   "id": "9",
   "metadata": {},
   "source": [
    "**(c)** $\\displaystyle\\int_{-1}^1 \\operatorname{sech}(x) \\, dx = 2 \\tan^{-1} [ \\sinh (1) ]$"
   ]
  },
  {
   "cell_type": "markdown",
   "id": "10",
   "metadata": {},
   "source": [
    "**(d)** $\\displaystyle\\int_{-1}^1 \\frac{1}{1+9x^2}\\, dx = \\frac{2}{3} \\tan^{-1}(3)$"
   ]
  },
  {
   "cell_type": "markdown",
   "id": "11",
   "metadata": {},
   "source": [
    "**(e)** $\\displaystyle\\int_{\\pi/2}^{\\pi} x^2 \\sin 8x \\, d x = -\\frac{3 \\pi^2}{32}$"
   ]
  }
 ],
 "metadata": {
  "kernelspec": {
   "display_name": "Julia 1.11.4",
   "language": "julia",
   "name": "julia-1.11"
  },
  "language_info": {
   "file_extension": ".jl",
   "mimetype": "application/julia",
   "name": "julia",
   "version": "1.11.4"
  }
 },
 "nbformat": 4,
 "nbformat_minor": 5
}
