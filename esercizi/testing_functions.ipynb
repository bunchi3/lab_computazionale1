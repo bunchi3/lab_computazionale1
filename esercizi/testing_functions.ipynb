{
 "cells": [
  {
   "cell_type": "code",
   "execution_count": null,
   "metadata": {},
   "outputs": [],
   "source": [
    "#Import cell\n",
    "using Plots, ColorSchemes\n",
    "using Markdown     #Vsualizzazione di markdown in display\n",
    "using Dates\n",
    "#non devo importare LinearAlgebra perchè è già dentro il file linear_systems.jl\n",
    "include(\"c:\\\\ALL\\\\Stefano\\\\Bicocca\\\\3terzo_anno\\\\lab_comp\\\\lab_computazionale1\\\\librerie\\\\interpolation.jl\")\n",
    "include(\"c:\\\\ALL\\\\Stefano\\\\Bicocca\\\\3terzo_anno\\\\lab_comp\\\\lab_computazionale1\\\\librerie\\\\integration.jl\")"
   ]
  },
  {
   "cell_type": "code",
   "execution_count": null,
   "metadata": {},
   "outputs": [],
   "source": [
    "using SpecialFunctions   # serve solo se f contiene funzioni speciali, ma di per sé non è obbligatorio.\n",
    "\n",
    "\"\"\"\n",
    "    integral_de(f, N; δ=1e-12)\n",
    "\n",
    "Approssima ∫_{-1}^1 f(x) dx con la quadratura tanh–sinh (double-exponential). \n",
    "\n",
    "- f: funzione x -> ℝ (deve essere definita su [-1,1]).  \n",
    "- N: numero di passi in ciascuna direzione (totale 2N+1 nodi).  \n",
    "- δ (opzionale): tolleranza per truncamento delle code (di solito ~1e-12).\n",
    "\n",
    "Restituisce il valore approssimato dell'integrale.\n",
    "\"\"\"\n",
    "function integral_de(f::Function, N::Int; δ::Float64=1e-12)\n",
    "    # 1) Trasformazione tanh–sinh e derivata\n",
    "    Φ   = t -> tanh((π/2) * sinh(t))\n",
    "    Φp  = t -> (π/2) * cosh(t) * sech((π/2) * sinh(t))^2\n",
    "\n",
    "    # 2) Calcolo analitico di tM: Φ(tM) ≈ 1 - δ\n",
    "    #    arsinh( (2/π) * atanh(1 - δ) )\n",
    "    tM = asinh((2/π) * atanh(1 - δ))\n",
    "\n",
    "    # 3) Passo h su [-tM, +tM]\n",
    "    h = tM / N\n",
    "\n",
    "    # 4) Somma la quadratura sui nodi t = k*h, k = -N..N\n",
    "    s = 0.0\n",
    "    for k in -N:N\n",
    "        t = k * h\n",
    "        s += f(Φ(t)) * Φp(t)\n",
    "    end\n",
    "\n",
    "    return h * s\n",
    "end\n"
   ]
  }
 ],
 "metadata": {
  "kernelspec": {
   "display_name": "Julia 1.11.4",
   "language": "julia",
   "name": "julia-1.11"
  },
  "language_info": {
   "file_extension": ".jl",
   "mimetype": "application/julia",
   "name": "julia",
   "version": "1.11.4"
  }
 },
 "nbformat": 4,
 "nbformat_minor": 2
}
