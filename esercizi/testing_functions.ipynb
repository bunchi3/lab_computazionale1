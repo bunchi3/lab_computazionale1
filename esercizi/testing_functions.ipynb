{
 "cells": [
  {
   "cell_type": "code",
   "execution_count": null,
   "metadata": {},
   "outputs": [],
   "source": [
    "#Import cell\n",
    "using Markdown     #Vsualizzazione di markdown in display\n",
    "#non devo importare LinearAlgebra perchè è già dentro il file linear_systems.jl\n",
    "include(\"c:\\\\ALL\\\\Stefano\\\\Bicocca\\\\3terzo_anno\\\\lab_comp\\\\lab_computazionale1\\\\librerie\\\\linear_systems.jl\")"
   ]
  },
  {
   "cell_type": "code",
   "execution_count": null,
   "metadata": {},
   "outputs": [],
   "source": [
    "array = [1, 2, 3]\n",
    "n = length(array)\n",
    "matrix = zeros(Float64, n)\n",
    "for i in 1:n\n",
    "    matrix[i] = array[i]\n",
    "end\n",
    "matrix"
   ]
  },
  {
   "cell_type": "code",
   "execution_count": null,
   "metadata": {},
   "outputs": [],
   "source": [
    "mat = [2 0 4 3 \n",
    "-2 0 2 -13\n",
    " 1 15 2 -4.5\n",
    " -4 5 -7 -10]\n",
    "\n",
    "L_mat, U_mat = LU_dec(mat)\n",
    "display(L_mat)\n",
    "display(U_mat) \n",
    "display(L_mat*U_mat)\n",
    "\n",
    "F = lu(mat)\n",
    "display(F.L)\n",
    "display(F.U)\n",
    "display(F.L*F.U)"
   ]
  }
 ],
 "metadata": {
  "kernelspec": {
   "display_name": "Julia 1.11.4",
   "language": "julia",
   "name": "julia-1.11"
  },
  "language_info": {
   "file_extension": ".jl",
   "mimetype": "application/julia",
   "name": "julia",
   "version": "1.11.4"
  }
 },
 "nbformat": 4,
 "nbformat_minor": 2
}
