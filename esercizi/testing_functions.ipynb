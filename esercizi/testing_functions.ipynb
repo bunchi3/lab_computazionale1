{
 "cells": [
  {
   "cell_type": "code",
   "execution_count": null,
   "metadata": {},
   "outputs": [],
   "source": [
    "#Import cell\n",
    "using ColorSchemes\n",
    "using PlotlyJS\n",
    "using Markdown     #Vsualizzazione di markdown in display\n",
    "using Dates\n",
    "#non devo importare LinearAlgebra perchè è già dentro il file linear_systems.jl\n",
    "include(\"c:\\\\ALL\\\\Stefano\\\\Bicocca\\\\3terzo_anno\\\\lab_comp\\\\lab_computazionale1\\\\librerie\\\\interpolation.jl\")\n",
    "include(\"c:\\\\ALL\\\\Stefano\\\\Bicocca\\\\3terzo_anno\\\\lab_comp\\\\lab_computazionale1\\\\librerie\\\\integration.jl\")"
   ]
  },
  {
   "cell_type": "code",
   "execution_count": null,
   "metadata": {},
   "outputs": [],
   "source": [
    "t = 0:0.01:10\n",
    "x = sin.(t)\n",
    "y = cos.(t)\n",
    "z = t\n",
    "\n",
    "display(plot([PlotlyJS.scatter3d(x=x, y=y, z=z, mode=\"lines\", line=attr(width=4))]))"
   ]
  },
  {
   "cell_type": "code",
   "execution_count": null,
   "metadata": {},
   "outputs": [],
   "source": [
    "x = 0:0.1:10\n",
    "\n",
    "traces = [\n",
    "    PlotlyJS.scatter(x=x, y=sin.(k*x), name=\"k = $k\", visible=(k==1))\n",
    "    for k in 1:5\n",
    "]\n",
    "\n",
    "buttons = [\n",
    "    attr(label=\"k = $k\", method=\"update\",\n",
    "         args=[attr(visible=[j == k for j in 1:5])])\n",
    "    for k in 1:5\n",
    "]\n",
    "\n",
    "layout = Layout(\n",
    "    updatemenus=[attr(type=\"dropdown\", buttons=buttons)]\n",
    ")\n",
    "\n",
    "plot(traces, layout)"
   ]
  },
  {
   "cell_type": "code",
   "execution_count": null,
   "metadata": {},
   "outputs": [],
   "source": [
    "u = [[] for _ in 1:1:3] "
   ]
  }
 ],
 "metadata": {
  "kernelspec": {
   "display_name": "Julia 1.11.4",
   "language": "julia",
   "name": "julia-1.11"
  },
  "language_info": {
   "file_extension": ".jl",
   "mimetype": "application/julia",
   "name": "julia",
   "version": "1.11.4"
  }
 },
 "nbformat": 4,
 "nbformat_minor": 2
}
