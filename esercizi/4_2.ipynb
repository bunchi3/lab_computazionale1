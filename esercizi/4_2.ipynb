{
 "cells": [
  {
   "cell_type": "markdown",
   "metadata": {},
   "source": [
    "# LU decomposition"
   ]
  },
  {
   "cell_type": "code",
   "execution_count": null,
   "metadata": {},
   "outputs": [],
   "source": [
    "# Test cell\n",
    "\n",
    "A = [\n",
    "     2 3 4\n",
    "     4 5 10\n",
    "     4 8 2\n",
    "    ];\n",
    "\n",
    "B = [\n",
    "     6  -2 -4   4\n",
    "     3  -3 -6   1\n",
    "    -12  8  21 -8\n",
    "    -6   0 -10  7\n",
    "     ];\n",
    "\n",
    "C = [\n",
    "      1  4  5 -5\n",
    "     -1  0 -1 -5\n",
    "      1  3 -1  2\n",
    "      1 -1  5 -1\n",
    "    ];"
   ]
  }
 ],
 "metadata": {
  "kernelspec": {
   "display_name": "Julia 1.11.3",
   "language": "julia",
   "name": "julia-1.11"
  },
  "language_info": {
   "file_extension": ".jl",
   "mimetype": "application/julia",
   "name": "julia",
   "version": "1.11.3"
  }
 },
 "nbformat": 4,
 "nbformat_minor": 2
}
