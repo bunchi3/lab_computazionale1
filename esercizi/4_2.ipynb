{
 "cells": [
  {
   "cell_type": "markdown",
   "metadata": {},
   "source": [
    "# LU decomposition"
   ]
  },
  {
   "cell_type": "code",
   "execution_count": null,
   "metadata": {},
   "outputs": [],
   "source": [
    "#non devo importare LinearAlgebra perchè è già dentro il file linear_systems.jl\n",
    "include(\"c:\\\\ALL\\\\Stefano\\\\Bicocca\\\\3terzo_anno\\\\lab_comp\\\\lab_computazionale1\\\\librerie\\\\linear_systems.jl\")"
   ]
  },
  {
   "cell_type": "code",
   "execution_count": null,
   "metadata": {},
   "outputs": [],
   "source": [
    "# Test cell\n",
    "A = [\n",
    "     2.0 3.0 4.0\n",
    "     4.0 5.0 10.0\n",
    "     4.0 8.0 2.0\n",
    "    ];\n",
    "\n",
    "B = [\n",
    "     6  -2 -4   4\n",
    "     3  -3 -6   1\n",
    "    -12  8  21 -8\n",
    "    -6   0 -10  7\n",
    "     ];\n",
    "\n",
    "C = [\n",
    "      1  4  5 -5\n",
    "     -1  0 -1 -5\n",
    "      1  3 -1  2\n",
    "      1 -1  5 -1\n",
    "    ];\n",
    "\n",
    "LA, UA = LU_dec(A)\n",
    "check_A = A - LA*UA\n",
    "println(\"Matrix A minus the product of the scomposition\")\n",
    "\n",
    "display(check_A)\n",
    "\n",
    "LB, UB = LU_dec(B)\n",
    "check_B = B - LB*UB\n",
    "println(\"Matrix B minus the product of the scomposition\")\n",
    "\n",
    "display(check_B)\n",
    "\n",
    "LC, UC = LU_dec(C)\n",
    "check_C = C - LC*UC\n",
    "println(\"Matrix C minus the product of the scomposition\")\n",
    "\n",
    "display(check_C)"
   ]
  },
  {
   "cell_type": "markdown",
   "metadata": {},
   "source": [
    "# Translations and rotations"
   ]
  },
  {
   "cell_type": "markdown",
   "metadata": {},
   "source": [
    "Riesco a risolvere il sistema lineare ma con una certa precisione. La differenza tra il risultato esatto e quello calcolato non è perfettamente 0"
   ]
  },
  {
   "cell_type": "code",
   "execution_count": null,
   "metadata": {},
   "outputs": [],
   "source": [
    "#Defining functions for rotations and translations. They return matrices\n",
    "function T(x, y)\n",
    "    matrix = diagm(ones(3))\n",
    "    matrix[3, 1] = x\n",
    "    matrix[3, 2] = y\n",
    "    return matrix\n",
    "end\n",
    "\n",
    "function R(theta)\n",
    "    #Theta must be in radians!\n",
    "    matrix = zeros(3, 3)\n",
    "    matrix[3,3] = 1\n",
    "    matrix[1,1] = cos(theta)\n",
    "    matrix[1,2] = sin(theta)\n",
    "    matrix[2,1] = -sin(theta)\n",
    "    matrix[2,2] = cos(theta)\n",
    "    return matrix\n",
    "end"
   ]
  },
  {
   "cell_type": "markdown",
   "metadata": {},
   "source": [
    "Lo scopo della seguente cella è di risolvere il sistema $Ax=b$. Per questo lo scompongo in lower e upper triangular matrices e risolvo i due sistemi. Poi lo confronto con la soluzione esatta $z$. Infatti $b$ è calcolato come $b = A z$"
   ]
  },
  {
   "cell_type": "code",
   "execution_count": null,
   "metadata": {},
   "outputs": [],
   "source": [
    "A = T(3, -1)*R(pi/5)*T(-3,1)\n",
    "z = [2.0; 2.0; 1.0]     #vettore colonna\n",
    "b = A*z\n",
    "\n",
    "L_A, U_A = LU_dec(A)\n",
    "\n",
    "#Risoluzione del sistema Ax = b, analogo a LUx = b\n",
    "#Ho quindi L u = b e Ux = u.\n",
    "#Trovo u da forward substitution di L e b\n",
    "u = fw_sub(L_A, b)\n",
    "#Trovo x da backward substitution di U e u \n",
    "x = bw_sub(U_A, u)\n",
    "\n",
    "display(x)\n",
    "display(x-z)"
   ]
  }
 ],
 "metadata": {
  "kernelspec": {
   "display_name": "Julia 1.11.3",
   "language": "julia",
   "name": "julia-1.11"
  },
  "language_info": {
   "file_extension": ".jl",
   "mimetype": "application/julia",
   "name": "julia",
   "version": "1.11.3"
  }
 },
 "nbformat": 4,
 "nbformat_minor": 2
}
