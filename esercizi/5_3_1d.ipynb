{
 "cells": [
  {
   "cell_type": "markdown",
   "id": "0",
   "metadata": {},
   "source": [
    "# Gauss-Legendre quadrature\n",
    "## Fourth part\n",
    "Write a program that computes the nodes and weights for the Gauss-Legendre quadrature in the interval $[-1,1]$.\n",
    "This notebook is a test to the integration function."
   ]
  },
  {
   "cell_type": "code",
   "execution_count": null,
   "id": "1",
   "metadata": {},
   "outputs": [],
   "source": [
    "using Markdown\n",
    "using Printf\n",
    "include(\"c:\\\\ALL\\\\Stefano\\\\Bicocca\\\\3terzo_anno\\\\lab_comp\\\\lab_computazionale1\\\\librerie\\\\integration.jl\")"
   ]
  },
  {
   "cell_type": "code",
   "execution_count": null,
   "id": "2",
   "metadata": {},
   "outputs": [],
   "source": [
    "n = 20\n",
    "\n",
    "f1 = x -> x\n",
    "f2 = x -> x^2\n",
    "f3 = x -> sin(x)\n",
    "f4 = x -> exp(x)\n",
    "f5 = x -> exp(-x^2)\n",
    "\n",
    "#Exact integral values from -1 to 1\n",
    "I1 = 0\n",
    "I2 = 2/3\n",
    "I3 = 0\n",
    "I4 = exp(1) - exp(-1)\n",
    "\n",
    "#Integral values calculated with IntegralGaussLegendre\n",
    "I1_approx = IntegralGaussLegendre(f1, n)\n",
    "I2_approx = IntegralGaussLegendre(f2, n)\n",
    "I3_approx = IntegralGaussLegendre(f3, n)\n",
    "I4_approx = IntegralGaussLegendre(f4, n)"
   ]
  },
  {
   "cell_type": "code",
   "execution_count": null,
   "id": "3",
   "metadata": {},
   "outputs": [],
   "source": [
    "result_text = @sprintf(\"Estimated first integral value: %.5f\", I1_approx)\n",
    "display(Markdown.parse(result_text))\n",
    "result_text = @sprintf(\"Exact first integral value: %.5f\", I1)\n",
    "display(Markdown.parse(result_text))\n",
    "result_text = @sprintf(\"Estimated second integral value: %.5f\", I2_approx)\n",
    "display(Markdown.parse(result_text))\n",
    "result_text = @sprintf(\"Exact second integral value: %.5f\", I2)\n",
    "display(Markdown.parse(result_text))\n",
    "result_text = @sprintf(\"Estimated third integral value: %.5f\", I3_approx)\n",
    "display(Markdown.parse(result_text))\n",
    "result_text = @sprintf(\"Exact third integral value: %.5f\", I3)\n",
    "display(Markdown.parse(result_text))\n",
    "result_text = @sprintf(\"Estimated fourth integral value: %.5f\", I4_approx)\n",
    "display(Markdown.parse(result_text))\n",
    "result_text = @sprintf(\"Exact fourth integral value: %.5f\", I4)\n",
    "display(Markdown.parse(result_text))\n"
   ]
  }
 ],
 "metadata": {
  "kernelspec": {
   "display_name": "Julia 1.11.4",
   "language": "julia",
   "name": "julia-1.11"
  },
  "language_info": {
   "file_extension": ".jl",
   "mimetype": "application/julia",
   "name": "julia",
   "version": "1.11.4"
  }
 },
 "nbformat": 4,
 "nbformat_minor": 5
}
