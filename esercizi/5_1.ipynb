{
 "cells": [
  {
   "cell_type": "markdown",
   "metadata": {},
   "source": [
    "# Cholesky decomposition"
   ]
  },
  {
   "cell_type": "code",
   "execution_count": null,
   "metadata": {},
   "outputs": [],
   "source": [
    "#Import cell\n",
    "using Markdown     #Vsualizzazione di markdown in display\n",
    "#non devo importare LinearAlgebra perchè è già dentro il file linear_systems.jl\n",
    "include(\"c:\\\\ALL\\\\Stefano\\\\Bicocca\\\\3terzo_anno\\\\lab_comp\\\\lab_computazionale1\\\\librerie\\\\linear_systems.jl\")"
   ]
  },
  {
   "cell_type": "code",
   "execution_count": null,
   "metadata": {},
   "outputs": [],
   "source": [
    "function chlsky_dec(A)\n",
    "    #Mi accerto che la matrice sia di tipo Float64\n",
    "    A = convert(Matrix{Float64}, A)\n",
    "    #Mi accerto che la matrice sia quadrata\n",
    "    if size(A,1) != size(A,2)\n",
    "        throw(DomainError(MatriceSummary(A), \"The given matrix isn't squared.\"))\n",
    "    end\n",
    "\n",
    "    n = size(A, 1)\n",
    "    RT = zeros(n, n)    #analogo di RT\n",
    "    R = zeros(n, n)     #analogo di U\n",
    "    #B matrice da usare per i calcoli intermedi\n",
    "    B = A\n",
    "    #i indice dell'iterazione. Faccio in modo di escludere gli zeri\n",
    "    for i in 1:n\n",
    "        if B[i,i] <= 0\n",
    "            str = \"Ops, the matrix wasn't positive definite\"\n",
    "            return str\n",
    "        else\n",
    "            R[i, i:n] = B[i, i:n]/sqrt(B[i,i])\n",
    "            RT[i:n, i] = R[i, i:n]\n",
    "            B -= outer_product(RT[:,i], R[i,:])\n",
    "        end      \n",
    "    end\n",
    "    return R\n",
    "end"
   ]
  },
  {
   "cell_type": "code",
   "execution_count": null,
   "metadata": {},
   "outputs": [],
   "source": [
    "#Test cell\n",
    "A = [ 1 0 -1\n",
    "      0 4  5\n",
    "     -1 5 10\n",
    "    ];\n",
    "\n",
    "B = [ 1 0  1\n",
    "      0 4  5\n",
    "      1 5 10\n",
    "    ];\n",
    "\n",
    "C = [1 0 1\n",
    "     0 4 5\n",
    "     1 5 1\n",
    "    ];\n",
    "\n",
    "D = [6 2 1 0\n",
    "     2 6 2 1\n",
    "     1 2 5 2\n",
    "     0 1 2 4\n",
    "    ];\n",
    "\n",
    "E = [4 1 2 7\n",
    "     1 1 3 1\n",
    "     2 3 5 3\n",
    "     7 1 3 1\n",
    "    ];\n",
    "\n",
    "matrices = [A, B, C, D, E]\n",
    "for i in matrices\n",
    "    R = chlsky_dec(i)\n",
    "    display(Markdown.parse(\"Matrix R of $i:\"))\n",
    "    display(R)\n",
    "end\n"
   ]
  }
 ],
 "metadata": {
  "kernelspec": {
   "display_name": "Julia 1.11.4",
   "language": "julia",
   "name": "julia-1.11"
  },
  "language_info": {
   "file_extension": ".jl",
   "mimetype": "application/julia",
   "name": "julia",
   "version": "1.11.4"
  }
 },
 "nbformat": 4,
 "nbformat_minor": 2
}
