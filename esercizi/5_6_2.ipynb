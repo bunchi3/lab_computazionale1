{
 "cells": [
  {
   "cell_type": "markdown",
   "id": "0",
   "metadata": {},
   "source": [
    "CHiedi se devi calcolare i punti nel metodo di eulero o se una volta ottenuti devi fare passare un polinomio per quei punri e ottenere la funzione u, approssimata polinomialmente."
   ]
  }
 ],
 "metadata": {
  "language_info": {
   "name": "python"
  }
 },
 "nbformat": 4,
 "nbformat_minor": 5
}
