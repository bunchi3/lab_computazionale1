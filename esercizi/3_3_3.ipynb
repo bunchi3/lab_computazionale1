{
 "cells": [
  {
   "cell_type": "markdown",
   "metadata": {},
   "source": [
    "# Newton method: first guess' study"
   ]
  },
  {
   "cell_type": "code",
   "execution_count": null,
   "metadata": {},
   "outputs": [],
   "source": [
    "using Plots\n",
    "using Markdown\n",
    "using Printf\n",
    "using LaTeXStrings\n",
    "using DataFrames\n",
    "using ForwardDiff\n",
    "include(\"C:\\\\ALL\\\\Stefano\\\\Bicocca\\\\3terzo_anno\\\\lab_comp\\\\lab_computazionale1\\\\librerie\\\\non_linear_roots.jl\")\n",
    "function autosave(fig, filename)\n",
    "    path = \"C:\\\\ALL\\\\Stefano\\\\Bicocca\\\\3terzo_anno\\\\lab_comp\\\\lab_computazionale1\\\\relazione\\\\immagini\"\n",
    "    savefig(fig, joinpath(path, filename))\n",
    "end"
   ]
  },
  {
   "cell_type": "code",
   "execution_count": null,
   "metadata": {},
   "outputs": [],
   "source": [
    "colors = colors = [\"#0F2080\",  # blu scuro\n",
    "           \"#F5793A\",  # arancione\n",
    "           \"#A95AA1\",  # viola\n",
    "           \"#85C0F9\"]  # azzurro"
   ]
  },
  {
   "cell_type": "markdown",
   "metadata": {},
   "source": [
    "Plot the function $f(x)=x^{-2} - \\sin x$ on the interval $x \\in [0.5,10]$.  For each initial value $x_1=1,\\, x_1=2,\\,\\ldots,\\, x_1=7$, apply Newton's method to $f$, and make a table showing $x_1$ and the resulting root found by the method. In which case does the iteration converge to a root other than the one closest to it? Use the plot to explain why that happened. "
   ]
  },
  {
   "cell_type": "code",
   "execution_count": null,
   "metadata": {},
   "outputs": [],
   "source": [
    "f(x) = x^(-2) - sin(x)\n",
    "df(x) = ForwardDiff.derivative(f, x)\n",
    "x = [i for i in 0.5:0.1:10]\n",
    "y = f.(x)\n",
    "start = [i for i in 1.0:1:7.0]      #starting guessing points\n",
    "\n",
    "fig = plot(figsize=(800, 600),\n",
    "           xlabel=L\"x\", ylabel=L\"y\",\n",
    "           framestyle=:box,\n",
    "           grid=true, gridalpha=0.5,\n",
    "           xticks=[i for i in 1:1:10]\n",
    "          )\n",
    "\n",
    "plot!(fig, x, y,\n",
    "      label = L\"f(x)=x^{-2} - \\sin x\",\n",
    "      color = colors[1],\n",
    "     )\n",
    "\n",
    "plot!(fig, x, zeros(length(x)),\n",
    "      label = \"\",\n",
    "      color = colors[2],\n",
    "     ) \n",
    "\n",
    "scatter!(fig, start, f.(start),\n",
    "        label = L\"Starting\\ points\",\n",
    "        markersize=3.25,\n",
    "        color = colors[3],\n",
    "       )\n",
    "\n",
    "autosave(fig, \"3331.pdf\")\n",
    "display(fig)"
   ]
  },
  {
   "cell_type": "code",
   "execution_count": null,
   "metadata": {},
   "outputs": [],
   "source": [
    "root = [newt_met_steps(f, start[i], 1)[1] for i in 1:1:7]\n",
    "\n",
    "DF = DataFrame(x_start=start, root=root, derivative_start=df.(start))\n",
    "display(DF)"
   ]
  },
  {
   "cell_type": "markdown",
   "metadata": {},
   "source": [
    "I notice that the second one and the fifth one converge to a root which is not the one they have in their neighbourood. \\\n",
    "Looking at the graph I think this is because of the derivative: whenever the derivative is close to zero the tangent is almost horizontal, hence the fact that the found root is somewhere distant. "
   ]
  }
 ],
 "metadata": {
  "kernelspec": {
   "display_name": "Julia 1.11.4",
   "language": "julia",
   "name": "julia-1.11"
  },
  "language_info": {
   "file_extension": ".jl",
   "mimetype": "application/julia",
   "name": "julia",
   "version": "1.11.4"
  }
 },
 "nbformat": 4,
 "nbformat_minor": 2
}
