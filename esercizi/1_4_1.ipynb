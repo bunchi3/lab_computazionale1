{
 "cells": [
  {
   "cell_type": "markdown",
   "metadata": {},
   "source": [
    "# Variance"
   ]
  },
  {
   "cell_type": "markdown",
   "metadata": {},
   "source": [
    "Da rivedere: Devi dare una spiegazione del perchè il metodo 2 sia meno efficace"
   ]
  },
  {
   "cell_type": "code",
   "execution_count": null,
   "metadata": {},
   "outputs": [],
   "source": [
    "using Plots\n",
    "using Printf\n",
    "using Markdown\n",
    "using DataFrames\n",
    "using LaTeXStrings\n",
    "function autosave(fig, filename)\n",
    "    path = \"C:\\\\ALL\\\\Stefano\\\\Bicocca\\\\3terzo_anno\\\\lab_comp\\\\lab_computazionale1\\\\relazione\\\\immagini\"\n",
    "    savefig(fig, joinpath(path, filename))\n",
    "end"
   ]
  },
  {
   "cell_type": "markdown",
   "metadata": {},
   "source": [
    "**(a)** In statistics, we define the variance of a sample of values $x_1,\\ldots,x_n$ by\n",
    "  \n",
    "$$\n",
    "\\sigma^2 = \\frac{1}{n-1} \\sum_{i=1}^n (x_i - \\overline{x})^2,\n",
    "\\qquad \n",
    "\\overline{x} = \\frac{1}{n} \\sum_{i=1}^n x_i.\n",
    "$$ (samplevar)\n",
    "\n",
    "Write a function that takes as input a vector $x$ of any length and returns $\\sigma^2$ as calculated by the formula. You should test your function with $x=[1,1,\\ldots,1]$ and some random vectors. "
   ]
  },
  {
   "cell_type": "code",
   "execution_count": null,
   "metadata": {},
   "outputs": [],
   "source": [
    "#Function cell\n",
    "# This function computes the variance of a vector using the naive method\n",
    "function naive_var(x)\n",
    "    n = length(x)\n",
    "    mean = sum(x)/n\n",
    "    s = 0\n",
    "    for i in x\n",
    "        s += (i - mean)^2\n",
    "    end\n",
    "    return s/(n-1)\n",
    "end\n",
    "# This function computes the variance of a vector using an optimized method.\n",
    "function my_var(x)\n",
    "    x_2 = [i^2 for i = x]\n",
    "    v = sum(x)\n",
    "    u = sum(x_2)\n",
    "    println(x)\n",
    "    println(\"u - v^2/n= \", u-v^2/length(x))\n",
    "    return 1/(length(x)-1) * (u - v^2/length(x))\n",
    "end"
   ]
  },
  {
   "cell_type": "code",
   "execution_count": null,
   "metadata": {},
   "outputs": [],
   "source": [
    "#testing naive_var\n",
    "#I need to generate a lot of data because I want the expected variance to be close to the computed variance\n",
    "#It is a statiscal reason, not a numerical one\n",
    "x1 = ones(1000)     \n",
    "x2 = rand(100000000)     #uniform distribution\n",
    "x3 = randn(100000000)   #normal distribution\n",
    "\n",
    "var1 = naive_var(x1)\n",
    "var2 = naive_var(x2)\n",
    "var3 = naive_var(x3)\n",
    "\n",
    "#expected variance\n",
    "var1_exp = 0\n",
    "var2_exp = 1/12\n",
    "var3_exp = 1\n",
    "\n",
    "#testing my_var\n",
    "println(\"Naive variance of x1: \", @sprintf(\"%.3f\", var1), \"   Expected: \", @sprintf(\"%.3f\", var1_exp))\n",
    "println(\"Naive variance of x2: \", @sprintf(\"%.3f\", var2), \"   Expected: \", @sprintf(\"%.3f\", var2_exp))\n",
    "println(\"Naive variance of x3: \", @sprintf(\"%.3f\", var3), \"   Expected: \", @sprintf(\"%.3f\", var3_exp))"
   ]
  },
  {
   "cell_type": "markdown",
   "metadata": {},
   "source": [
    "**(b)** One drawback of the naive formula is that you must first compute a sum for $\\overline{x}$ before performing the sum to compute $\\sigma^2$. This means that we have to pass twice through the data. This is undesirable for large data sets or when the sample variance is to be computed as the data is generated. Some textbooks quote a single-loop formula:\n",
    "  \n",
    "$$\n",
    "\\begin{split}\n",
    "\\sigma^2 = \\frac{1}{n-1} \\left( u - \\tfrac{1}{n}v^2 \\right),\\\\\n",
    "u  = \\sum_{i=1}^n x_i^2, \n",
    "\\qquad\n",
    "v = \\sum_{i=1}^n x_i.\n",
    "\\end{split}\n",
    "$$\n",
    "\n",
    "Try both formulas for the datasets below, each of which has a variance exactly equal to 1. Do this in both single and double precision.\n",
    "\n",
    "x = [ 1e3, 1+1e3, 2+1e3 ] \\\n",
    "x = [ 1e6, 1+1e6, 2+1e6 ] \\\n",
    "x = [ 1e7, 1+1e7, 2+1e7 ] \\\n",
    "x = [ 1e8, 1+1e8, 2+1e8 ] \n",
    "\n",
    "Can you explain the results?"
   ]
  },
  {
   "cell_type": "markdown",
   "metadata": {},
   "source": [
    "Si nota che se i valori del dataset sono alti è necessaria una precisione maggiore per fare in modo che la varianza calcolata sia in accordo con la varianza attesa. Evidentemente all'aumentare dei valori di x, la somma dei quadrati diventa paragonabile al quadrato della somma, così nella differenza si cancellano e vanno a 0. \\\n",
    "Si può quantificare, in base all'ordine di grandezza della precisione e all'ordine di grandezza dei valori in gioco."
   ]
  },
  {
   "cell_type": "markdown",
   "metadata": {},
   "source": [
    "### Calculating variance for 5 datasets in single precision"
   ]
  },
  {
   "cell_type": "code",
   "execution_count": null,
   "metadata": {},
   "outputs": [],
   "source": [
    "#Defining the datasets\n",
    "x0 = Float32.([ 1, 1, 1, 1])\n",
    "x1 = Float32.([ 1e3, 1+1e3, 2+1e3 ])\n",
    "x2 = Float32.([ 1e6, 1+1e6, 2+1e6 ])\n",
    "x3 = Float32.([ 1e7, 1+1e7, 2+1e7 ])\n",
    "x4 = Float32.([ 1e8, 1+1e8, 2+1e8 ])\n",
    "\n",
    "x_sets = [x0, x1, x2, x3, x4]\n",
    "# 1 refers to the naive variance, 2 to the optimized one\n",
    "var1_values = naive_var.(x_sets)\n",
    "var2_values = my_var.(x_sets)\n",
    "var_values_exp = [0.0, 1.0, 1.0, 1.0, 1.0]\n",
    "\n",
    "#Putting the results in a table\n",
    "df = DataFrame(\n",
    "    x_set = [\"x0\", \"x1\", \"x2\", \"x3\", \"x4\"],\n",
    "    metodo1 = var1_values,\n",
    "    metodo2 = var2_values,\n",
    "    varianza_attesa = var_values_exp\n",
    ")\n",
    "#Printing the table\n",
    "display(df)"
   ]
  },
  {
   "cell_type": "markdown",
   "metadata": {},
   "source": [
    "### Calculating variance for 5 datasets in double precision"
   ]
  },
  {
   "cell_type": "code",
   "execution_count": null,
   "metadata": {},
   "outputs": [],
   "source": [
    "#Defining the datasets\n",
    "x0 = Float64.([ 1, 1, 1, 1])\n",
    "x1 = Float64.([ 1e3, 1+1e3, 2+1e3 ])\n",
    "x2 = Float64.([ 1e6, 1+1e6, 2+1e6 ])\n",
    "x3 = Float64.([ 1e7, 1+1e7, 2+1e7 ])\n",
    "x4 = Float64.([ 1e8, 1+1e8, 2+1e8 ])\n",
    "\n",
    "x_sets = [x0, x1, x2, x3, x4]\n",
    "\n",
    "# 1 refers to the naive variance, 2 to the optimized one\n",
    "var1_values = naive_var.(x_sets)\n",
    "var2_values = my_var.(x_sets)\n",
    "var_values_exp = [0.0, 1.0, 1.0, 1.0, 1.0]\n",
    "\n",
    "#Putting the results in a table\n",
    "df = DataFrame(\n",
    "    x_set = [\"x0\", \"x1\", \"x2\", \"x3\", \"x4\"],\n",
    "    metodo1 = var1_values,\n",
    "    metodo2 = var2_values,\n",
    "    varianza_attesa = var_values_exp\n",
    ")\n",
    "#Printing the table\n",
    "display(df)\n"
   ]
  },
  {
   "cell_type": "markdown",
   "metadata": {},
   "source": [
    "### Calculating variance for 5 datasets in long double precision"
   ]
  },
  {
   "cell_type": "code",
   "execution_count": null,
   "metadata": {},
   "outputs": [],
   "source": [
    "#Defining the datasets\n",
    "x0 = BigFloat.([ 1, 1, 1, 1])\n",
    "x1 = BigFloat.([ 1e3, 1+1e3, 2+1e3 ])\n",
    "x2 = BigFloat.([ 1e6, 1+1e6, 2+1e6 ])\n",
    "x3 = BigFloat.([ 1e7, 1+1e7, 2+1e7 ])\n",
    "x4 = BigFloat.([ 1e8, 1+1e8, 2+1e8 ])\n",
    "\n",
    "x_sets = [x0, x1, x2, x3, x4]\n",
    "\n",
    "# 1 refers to the naive variance, 2 to the optimized one\n",
    "var1_values = naive_var.(x_sets)\n",
    "var2_values = my_var.(x_sets)\n",
    "var_values_exp = [0.0, 1.0, 1.0, 1.0, 1.0]\n",
    "\n",
    "#Putting the results in a table\n",
    "df = DataFrame(\n",
    "    x_set = [\"x0\", \"x1\", \"x2\", \"x3\", \"x4\"],\n",
    "    metodo1 = var1_values,\n",
    "    metodo2 = var2_values,\n",
    "    varianza_attesa = var_values_exp\n",
    ")\n",
    "\n",
    "#Printing the table\n",
    "display(df)\n"
   ]
  },
  {
   "cell_type": "markdown",
   "metadata": {},
   "source": [
    "## Optional part"
   ]
  },
  {
   "cell_type": "markdown",
   "metadata": {},
   "source": [
    "**(c)** Instead of accumulating $\\sum_i x_i$ and $\\sum_i x_i^2$ we can accumulate\n",
    "\n",
    "$$\n",
    "      M_k={1\\over k}\\sum_{i=1}^k x_i\n",
    "      \\quad\n",
    "      \\text{and}\n",
    "      \\quad\n",
    "      Q_k=\\sum_{i=1}^k (x_i-M_k)^2=\n",
    "      \\sum_{i=1}^k x_i^2 - {1\\over k}\\left(\\sum_{i=1}^k x_i \\right)^2\\,,\n",
    "$$\n",
    "\n",
    "which can be done via the updating formulas\n",
    "\n",
    "$$\n",
    "      \\begin{split}\n",
    "      M_1=x_1\\,,\n",
    "      \\qquad\n",
    "      M_k&=M_{k-1}+{x_k- M_{k-1}\\over k}\\,,\n",
    "      \\quad\n",
    "      k=2,\\ldots,n\\,,\\\\[2.5mm]\n",
    "      Q_1=0\\,,\n",
    "      \\qquad\n",
    "      Q_k&=Q_{k-1}+{(k-1)(x_k-M_{k-1})^2\\over k}\\,,\n",
    "      \\quad\n",
    "      k=2,\\ldots,n\\,,\n",
    "      \\end{split}\n",
    "$$\n",
    "\n",
    "after which $\\sigma^2={Q_n/ (n-1)}$."
   ]
  },
  {
   "cell_type": "code",
   "execution_count": null,
   "metadata": {},
   "outputs": [],
   "source": [
    "#Function to calculate variance in another way. Probably a better one\n",
    "function my_var2(x)\n",
    "    n = length(x)\n",
    "\n",
    "    #Creating the succession M_k\n",
    "    M_k=zeros(n)\n",
    "    M_k[1] = x[1]\n",
    "    for i in 2:n\n",
    "        M_k[i] = M_k[i-1]  + (x[i] - M_k[i-1])/i\n",
    "    end\n",
    "\n",
    "    #Creating the succession Q_k\n",
    "    Q_k = zeros(n)\n",
    "    Q_k[1] = 0\n",
    "    for i in 2:n\n",
    "        Q_k[i] = Q_k[i-1] + ((i-1)*(x[i]-M_k[i-1])^2)/i\n",
    "    end\n",
    "\n",
    "    return Q_k[n]/(n-1)\n",
    "end"
   ]
  },
  {
   "cell_type": "markdown",
   "metadata": {},
   "source": [
    "### Calculating variance for 5 datasets in single precision"
   ]
  },
  {
   "cell_type": "code",
   "execution_count": null,
   "metadata": {},
   "outputs": [],
   "source": [
    "#Defining the datasets\n",
    "x0 = Float32.([ 1, 1, 1, 1])\n",
    "x1 = Float32.([ 1e3, 1+1e3, 2+1e3 ])\n",
    "x2 = Float32.([ 1e6, 1+1e6, 2+1e6 ])\n",
    "x3 = Float32.([ 1e7, 1+1e7, 2+1e7 ])\n",
    "x4 = Float32.([ 1e8, 1+1e8, 2+1e8 ])\n",
    "\n",
    "x_sets = [x0, x1, x2, x3, x4]\n",
    "var_values = my_var2.(x_sets)\n",
    "var_values_exp = [0, 1, 1, 1, 1]\n",
    "\n",
    "println(\"Varianza calcolata con metodo 2: \", var_values)\n",
    "println(\"Expected values: \", var_values_exp)"
   ]
  },
  {
   "cell_type": "code",
   "execution_count": null,
   "metadata": {},
   "outputs": [],
   "source": [
    "#Defining the datasets\n",
    "x0 = Float64.([ 1, 1, 1, 1])\n",
    "x1 = Float64.([ 1e3, 1+1e3, 2+1e3 ])\n",
    "x2 = Float64.([ 1e6, 1+1e6, 2+1e6 ])\n",
    "x3 = Float64.([ 1e7, 1+1e7, 2+1e7 ])\n",
    "x4 = Float64.([ 1e8, 1+1e8, 2+1e8 ])\n",
    "\n",
    "x_sets = [x0, x1, x2, x3, x4]\n",
    "var_values = my_var2.(x_sets)\n",
    "var_values_exp = [0, 1, 1, 1, 1]\n",
    "\n",
    "println(\"Varianza calcolata con metodo 2: \", var_values)\n",
    "println(\"Expected values: \", var_values_exp)\n"
   ]
  },
  {
   "cell_type": "code",
   "execution_count": null,
   "metadata": {},
   "outputs": [],
   "source": [
    "#Defining the datasets\n",
    "x0 = BigFloat.([ 1, 1, 1, 1])\n",
    "x1 = BigFloat.([ 1e3, 1+1e3, 2+1e3 ])\n",
    "x2 = BigFloat.([ 1e6, 1+1e6, 2+1e6 ])\n",
    "x3 = BigFloat.([ 1e7, 1+1e7, 2+1e7 ])\n",
    "x4 = BigFloat.([ 1e8, 1+1e8, 2+1e8 ])\n",
    "\n",
    "x_sets = [x0, x1, x2, x3, x4]\n",
    "var_values = my_var2.(x_sets)\n",
    "var_values_exp = [0, 1, 1, 1, 1]\n",
    "\n",
    "println(\"Varianza calcolata con metodo 2: \", var_values)\n",
    "println(\"Expected values: \", var_values_exp)\n"
   ]
  }
 ],
 "metadata": {
  "kernelspec": {
   "display_name": "Julia 1.11.4",
   "language": "julia",
   "name": "julia-1.11"
  },
  "language_info": {
   "file_extension": ".jl",
   "mimetype": "application/julia",
   "name": "julia",
   "version": "1.11.4"
  }
 },
 "nbformat": 4,
 "nbformat_minor": 2
}
