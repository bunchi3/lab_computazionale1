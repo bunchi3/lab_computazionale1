{
 "cells": [
  {
   "cell_type": "markdown",
   "metadata": {},
   "source": [
    "# Variance"
   ]
  },
  {
   "cell_type": "code",
   "execution_count": null,
   "metadata": {},
   "outputs": [],
   "source": [
    "using Plots"
   ]
  },
  {
   "cell_type": "code",
   "execution_count": null,
   "metadata": {},
   "outputs": [],
   "source": [
    "#Function cell\n",
    "function my_var(x)\n",
    "    x_2 = [i^2 for i = x]\n",
    "    v = sum(x)\n",
    "    u = sum(x_2)\n",
    "    return 1/(length(x)-1) * (u - v^2/length(x))\n",
    "end"
   ]
  },
  {
   "cell_type": "markdown",
   "metadata": {},
   "source": [
    "Si nota che se i valori del dataset sono alti è necessaria una precisione maggiore per fare in modo che la varianza calcolata sia in accordo con la varianza attesa. Evidentemente all'aumentare dei valori di x, la somma dei quadrati diventa paragonabile al quadrato della somma, così nella differenza si cancellano e vanno a 0. \\\n",
    "Si può quantificare, in base all'ordine di grandezza della precisione e all'ordine di grandezza dei valori in gioco."
   ]
  },
  {
   "cell_type": "markdown",
   "metadata": {},
   "source": [
    "### Calculating variance for 5 datasets in single precision"
   ]
  },
  {
   "cell_type": "code",
   "execution_count": null,
   "metadata": {},
   "outputs": [],
   "source": [
    "#Defining the datasets\n",
    "x0 = Float32.([ 1, 1, 1, 1])\n",
    "x1 = Float32.([ 1e3, 1+1e3, 2+1e3 ])\n",
    "x2 = Float32.([ 1e6, 1+1e6, 2+1e6 ])\n",
    "x3 = Float32.([ 1e7, 1+1e7, 2+1e7 ])\n",
    "x4 = Float32.([ 1e8, 1+1e8, 2+1e8 ])\n",
    "\n",
    "x_sets = [x0, x1, x2, x3, x4]\n",
    "var_values = my_var.(x_sets)\n",
    "var_values_exp = [0, 1, 1, 1, 1]\n",
    "\n",
    "println(\"Varianza calcolata con metodo 1: \", var_values)\n",
    "println(\"Expected values: \", var_values_exp)\n"
   ]
  },
  {
   "cell_type": "markdown",
   "metadata": {},
   "source": [
    "### Calculating variance for 5 datasets in double precision"
   ]
  },
  {
   "cell_type": "code",
   "execution_count": null,
   "metadata": {},
   "outputs": [],
   "source": [
    "#Defining the datasets\n",
    "x0 = Float64.([ 1, 1, 1, 1])\n",
    "x1 = Float64.([ 1e3, 1+1e3, 2+1e3 ])\n",
    "x2 = Float64.([ 1e6, 1+1e6, 2+1e6 ])\n",
    "x3 = Float64.([ 1e7, 1+1e7, 2+1e7 ])\n",
    "x4 = Float64.([ 1e8, 1+1e8, 2+1e8 ])\n",
    "\n",
    "x_sets = [x0, x1, x2, x3, x4]\n",
    "var_values = my_var.(x_sets)\n",
    "var_values_exp = [0, 1, 1, 1, 1]\n",
    "\n",
    "println(\"Varianza calcolata con metodo 1: \", var_values)\n",
    "println(\"Expected values: \", var_values_exp)\n"
   ]
  },
  {
   "cell_type": "markdown",
   "metadata": {},
   "source": [
    "### Calculating variance for 5 datasets in long double precision"
   ]
  },
  {
   "cell_type": "code",
   "execution_count": null,
   "metadata": {},
   "outputs": [],
   "source": [
    "#Defining the datasets\n",
    "x0 = BigFloat.([ 1, 1, 1, 1])\n",
    "x1 = BigFloat.([ 1e3, 1+1e3, 2+1e3 ])\n",
    "x2 = BigFloat.([ 1e6, 1+1e6, 2+1e6 ])\n",
    "x3 = BigFloat.([ 1e7, 1+1e7, 2+1e7 ])\n",
    "x4 = BigFloat.([ 1e8, 1+1e8, 2+1e8 ])\n",
    "\n",
    "x_sets = [x0, x1, x2, x3, x4]\n",
    "var_values = my_var.(x_sets)\n",
    "var_values_exp = [0, 1, 1, 1, 1]\n",
    "\n",
    "println(\"Varianza calcolata con metodo 1: \", var_values)\n",
    "println(\"Expected values: \", var_values_exp)\n"
   ]
  },
  {
   "cell_type": "markdown",
   "metadata": {},
   "source": [
    "## Optional part"
   ]
  },
  {
   "cell_type": "code",
   "execution_count": null,
   "metadata": {},
   "outputs": [],
   "source": [
    "#Function to calculate variance in another way. Probably a better one\n",
    "function my_var2(x)\n",
    "    n = length(x)\n",
    "\n",
    "    #Creating the succession M_k\n",
    "    M_k=zeros(n)\n",
    "    M_k[1] = x[1]\n",
    "    for i in 2:n\n",
    "        M_k[i] = M_k[i-1]  + (x[i] - M_k[i-1])/i\n",
    "    end\n",
    "\n",
    "    #Creating the succession Q_k\n",
    "    Q_k = zeros(n)\n",
    "    Q_k[1] = 0\n",
    "    for i in 2:n\n",
    "        Q_k[i] = Q_k[i-1] + ((i-1)*(x[i]-M_k[i-1])^2)/i\n",
    "    end\n",
    "\n",
    "    return Q_k[n]/(n-1)\n",
    "end"
   ]
  },
  {
   "cell_type": "markdown",
   "metadata": {},
   "source": [
    "### Calculating variance for 5 datasets in single precision"
   ]
  },
  {
   "cell_type": "code",
   "execution_count": null,
   "metadata": {},
   "outputs": [],
   "source": [
    "#Defining the datasets\n",
    "x0 = Float32.([ 1, 1, 1, 1])\n",
    "x1 = Float32.([ 1e3, 1+1e3, 2+1e3 ])\n",
    "x2 = Float32.([ 1e6, 1+1e6, 2+1e6 ])\n",
    "x3 = Float32.([ 1e7, 1+1e7, 2+1e7 ])\n",
    "x4 = Float32.([ 1e8, 1+1e8, 2+1e8 ])\n",
    "\n",
    "x_sets = [x0, x1, x2, x3, x4]\n",
    "var_values = my_var2.(x_sets)\n",
    "var_values_exp = [0, 1, 1, 1, 1]\n",
    "\n",
    "println(\"Varianza calcolata con metodo 2: \", var_values)\n",
    "println(\"Expected values: \", var_values_exp)"
   ]
  },
  {
   "cell_type": "code",
   "execution_count": null,
   "metadata": {},
   "outputs": [],
   "source": [
    "#Defining the datasets\n",
    "x0 = Float64.([ 1, 1, 1, 1])\n",
    "x1 = Float64.([ 1e3, 1+1e3, 2+1e3 ])\n",
    "x2 = Float64.([ 1e6, 1+1e6, 2+1e6 ])\n",
    "x3 = Float64.([ 1e7, 1+1e7, 2+1e7 ])\n",
    "x4 = Float64.([ 1e8, 1+1e8, 2+1e8 ])\n",
    "\n",
    "x_sets = [x0, x1, x2, x3, x4]\n",
    "var_values = my_var2.(x_sets)\n",
    "var_values_exp = [0, 1, 1, 1, 1]\n",
    "\n",
    "println(\"Varianza calcolata con metodo 2: \", var_values)\n",
    "println(\"Expected values: \", var_values_exp)\n"
   ]
  },
  {
   "cell_type": "code",
   "execution_count": null,
   "metadata": {},
   "outputs": [],
   "source": [
    "#Defining the datasets\n",
    "x0 = BigFloat.([ 1, 1, 1, 1])\n",
    "x1 = BigFloat.([ 1e3, 1+1e3, 2+1e3 ])\n",
    "x2 = BigFloat.([ 1e6, 1+1e6, 2+1e6 ])\n",
    "x3 = BigFloat.([ 1e7, 1+1e7, 2+1e7 ])\n",
    "x4 = BigFloat.([ 1e8, 1+1e8, 2+1e8 ])\n",
    "\n",
    "x_sets = [x0, x1, x2, x3, x4]\n",
    "var_values = my_var2.(x_sets)\n",
    "var_values_exp = [0, 1, 1, 1, 1]\n",
    "\n",
    "println(\"Varianza calcolata con metodo 2: \", var_values)\n",
    "println(\"Expected values: \", var_values_exp)\n"
   ]
  }
 ],
 "metadata": {
  "kernelspec": {
   "display_name": "Julia 1.11.3",
   "language": "julia",
   "name": "julia-1.11"
  },
  "language_info": {
   "file_extension": ".jl",
   "mimetype": "application/julia",
   "name": "julia",
   "version": "1.11.3"
  }
 },
 "nbformat": 4,
 "nbformat_minor": 2
}
