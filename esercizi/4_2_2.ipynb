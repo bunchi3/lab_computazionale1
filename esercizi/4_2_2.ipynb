{
 "cells": [
  {
   "cell_type": "markdown",
   "metadata": {},
   "source": [
    "# Lagrange-Waring's fit"
   ]
  },
  {
   "cell_type": "code",
   "execution_count": null,
   "metadata": {},
   "outputs": [],
   "source": [
    "using Plots\n",
    "using Markdown\n",
    "using LaTeXStrings\n",
    "using Printf\n",
    "include(\"c:\\\\ALL\\\\Stefano\\\\Bicocca\\\\3terzo_anno\\\\lab_comp\\\\lab_computazionale1\\\\librerie\\\\interpolation.jl\")"
   ]
  },
  {
   "cell_type": "markdown",
   "metadata": {},
   "source": [
    "In each case, interpolate the given function using $n$ evenly spaced nodes in the given interval. Plot each interpolating function together with the exact function.\n",
    "\n",
    "**(a)** $f(x) = \\ln (x), \\quad n = 2,3,4, \\quad x\\in [1,10]$\n",
    "\n",
    "**(b)** $f(x) = \\tanh (x), \\quad n = 2,3,4, \\quad x \\in [-3,2]$\n",
    "\n",
    "**(c)** $f(x) = \\cosh (x), \\quad n = 2,3,4, \\quad x \\in [-1,3]$\n",
    "\n",
    "**(d)** $f(x) = |x|, \\quad n = 3,5,7, \\quad x \\in [-2,1]$"
   ]
  },
  {
   "cell_type": "code",
   "execution_count": null,
   "metadata": {},
   "outputs": [],
   "source": [
    "f1(x) = log(x)\n",
    "f2(x) = tanh(x)\n",
    "f3(x) = cosh(x)\n",
    "f4(x) = abs(x)\n",
    "colors = [\"red\", \"green\", \"blue\"]"
   ]
  },
  {
   "cell_type": "markdown",
   "metadata": {},
   "source": [
    "$f(x) = \\ln (x), \\quad n = 2,3,4, \\quad x\\in [1,10]$"
   ]
  },
  {
   "cell_type": "code",
   "execution_count": null,
   "metadata": {},
   "outputs": [],
   "source": [
    "a=1.0\n",
    "b=10.0\n",
    "n = [2, 3, 4]       #each entry is a nodes' number\n",
    "x = [i for i in a:0.01:b]\n",
    "#e.g: if I want 3 nodes I must divide the interval in 2 to determine the steps\n",
    "steps =(b - a) ./ (n .- 1)\n",
    "#every array of this array contains the nodes of a given n\n",
    "xn = []\n",
    "for i in 1:1:length(n)\n",
    "    #adds a vector containing the nodes:\n",
    "    #step[i] is the distance between nodes at a given nodes' number\n",
    "    #n[i] is the nodes' number\n",
    "    push!(xn, [a + j*steps[i] for j in 0:1:(n[i]-1)])\n",
    "end\n",
    "\n",
    "yn = []\n",
    "for i in 1:1:length(n)\n",
    "    #beware: xn[i] is a vector, a vector containing nodes' x\n",
    "    push!(yn, f1.(xn[i]))\n",
    "end\n",
    "\n",
    "y = []\n",
    "for i in 1:1:length(n)\n",
    "    p = lag_fit(xn[i], yn[i])\n",
    "    push!(y, p.(x))\n",
    "end"
   ]
  },
  {
   "cell_type": "code",
   "execution_count": null,
   "metadata": {},
   "outputs": [],
   "source": [
    "#plot cell\n",
    "\n",
    "fig = plot(title=L\"\\log{x}\",\n",
    "      figsize=(800, 600),\n",
    "      xlabel=L\"x\", ylabel=L\"y\",\n",
    "      framestyle=:box,\n",
    "      grid=true, gridalpha=0.5,\n",
    "      # xticks=\n",
    "      )\n",
    "\n",
    "plot!(x, f1.(x),\n",
    "      label = L\"\\log(x)\",\n",
    "      linestyle =:dash,\n",
    "      )\n",
    "\n",
    "for i in 1:1:length(n)\n",
    "      plot!(fig, x, y[i],\n",
    "            label = \"Polynomial fit, n = $(n[i])\",\n",
    "            color=colors[i]\n",
    "            )\n",
    "      scatter!(fig, xn[i], yn[i],\n",
    "               label=\"\",\n",
    "               color=colors[i],\n",
    "               markersize = 3,\n",
    "              )\n",
    "end\n",
    "\n",
    "display(fig)"
   ]
  },
  {
   "cell_type": "markdown",
   "metadata": {},
   "source": [
    "$f(x) = \\tanh (x), \\quad n = 2,3,4, \\quad x \\in [-3,2]$"
   ]
  },
  {
   "cell_type": "code",
   "execution_count": null,
   "metadata": {},
   "outputs": [],
   "source": [
    "a=-3.0\n",
    "b=2.0\n",
    "n = [2, 3, 4]       #each entry is a nodes' number\n",
    "x = [i for i in a:0.01:b]\n",
    "#e.g: if I want 3 nodes I must divide the interval in 2 to determine the steps\n",
    "steps =(b - a) ./ (n .- 1)\n",
    "#every array of this array contains the nodes of a given n\n",
    "xn = []\n",
    "for i in 1:1:length(n)\n",
    "    #adds a vector containing the nodes:\n",
    "    #step[i] is the distance between nodes at a given nodes' number\n",
    "    #n[i] is the nodes' number\n",
    "    push!(xn, [a + j*steps[i] for j in 0:1:(n[i]-1)])\n",
    "end\n",
    "\n",
    "yn = []\n",
    "for i in 1:1:length(n)\n",
    "    #beware: xn[i] is a vector, a vector containing nodes' x\n",
    "    push!(yn, f2.(xn[i]))\n",
    "end\n",
    "\n",
    "y = []\n",
    "for i in 1:1:length(n)\n",
    "    p=lag_fit(xn[i], yn[i])\n",
    "    push!(y, p.(x))\n",
    "end"
   ]
  },
  {
   "cell_type": "code",
   "execution_count": null,
   "metadata": {},
   "outputs": [],
   "source": [
    "#plot cell\n",
    "\n",
    "fig = plot(title=L\"\\tanh{x}\",\n",
    "      figsize=(800, 600),\n",
    "      xlabel=L\"x\", ylabel=L\"y\",\n",
    "      framestyle=:box,\n",
    "      grid=true, gridalpha=0.5,\n",
    "      # xticks=\n",
    "      )\n",
    "\n",
    "plot!(x, f2.(x),\n",
    "      label = L\"\\tanh(x)\",\n",
    "      linestyle =:dash,\n",
    "      )\n",
    "\n",
    "for i in 1:1:length(n)\n",
    "    plot!(fig, x, y[i],\n",
    "          label = \"Polynomial fit, n = $(n[i])\",\n",
    "          color=colors[i],\n",
    "         )\n",
    "\n",
    "    scatter!(fig, xn[i], yn[i],\n",
    "             label=\"\",\n",
    "             color=colors[i],\n",
    "             markersize = 3,\n",
    "            )\n",
    "end\n",
    "    display(fig)\n"
   ]
  },
  {
   "cell_type": "markdown",
   "metadata": {},
   "source": [
    "$f(x) = \\cosh (x), \\quad n = 2,3,4, \\quad x \\in [-1,3]$"
   ]
  },
  {
   "cell_type": "code",
   "execution_count": null,
   "metadata": {},
   "outputs": [],
   "source": [
    "a=-1.0\n",
    "b=3.0\n",
    "n = [2, 3, 4]       #each entry is a nodes' number\n",
    "x = [i for i in a:0.01:b]\n",
    "#e.g: if I want 3 nodes I must divide the interval in 2 to determine the steps\n",
    "steps =(b - a) ./ (n .- 1)\n",
    "#every array of this array contains the nodes of a given n\n",
    "xn = []\n",
    "for i in 1:1:length(n)\n",
    "    #adds a vector containing the nodes:\n",
    "    #step[i] is the distance between nodes at a given nodes' number\n",
    "    #n[i] is the nodes' number\n",
    "    push!(xn, [a + j*steps[i] for j in 0:1:(n[i]-1)])\n",
    "end\n",
    "\n",
    "yn = []\n",
    "for i in 1:1:length(n)\n",
    "    #beware: xn[i] is a vector, a vector containing nodes' x\n",
    "    push!(yn, f3.(xn[i]))\n",
    "end\n",
    "\n",
    "y = []\n",
    "for i in 1:1:length(n)\n",
    "    p=lag_fit(xn[i], yn[i])\n",
    "    push!(y, p.(x))\n",
    "end"
   ]
  },
  {
   "cell_type": "code",
   "execution_count": null,
   "metadata": {},
   "outputs": [],
   "source": [
    "#plot cell\n",
    "\n",
    "fig = plot(title=L\"\\cosh{x}\",\n",
    "      figsize=(800, 600),\n",
    "      xlabel=L\"x\", ylabel=L\"y\",\n",
    "      framestyle=:box,\n",
    "      grid=true, gridalpha=0.5,\n",
    "      # xticks=\n",
    "      )\n",
    "\n",
    "plot!(x, f3.(x),\n",
    "      label = L\"\\cosh(x)\",\n",
    "      linestyle =:dash,\n",
    "      )\n",
    "\n",
    "for i in 1:1:length(n)\n",
    "    plot!(fig, x, y[i],\n",
    "          label = \"Polynomial fit, n = $(n[i])\",\n",
    "          color=colors[i],\n",
    "         )\n",
    "\n",
    "    scatter!(fig, xn[i], yn[i],\n",
    "             label=\"\",\n",
    "             color=colors[i],\n",
    "             markersize = 3,\n",
    "            )\n",
    "end\n",
    "\n",
    "display(fig)\n"
   ]
  },
  {
   "cell_type": "markdown",
   "metadata": {},
   "source": [
    "$f(x) = |x|, \\quad n = 3,5,7, \\quad x \\in [-2,1]$"
   ]
  },
  {
   "cell_type": "code",
   "execution_count": null,
   "metadata": {},
   "outputs": [],
   "source": [
    "a=-2.0\n",
    "b=1.0\n",
    "n = [3, 5, 7]       #each entry is a nodes' number\n",
    "x = [i for i in a:0.01:b]\n",
    "#e.g: if I want 3 nodes I must divide the interval in 2 to determine the steps\n",
    "steps =(b - a) ./ (n .- 1)\n",
    "#every array of this array contains the nodes of a given n\n",
    "xn = []\n",
    "for i in 1:1:length(n)\n",
    "    #adds a vector containing the nodes:\n",
    "    #step[i] is the distance between nodes at a given nodes' number\n",
    "    #n[i] is the nodes' number\n",
    "    push!(xn, [a + j*steps[i] for j in 0:1:(n[i]-1)])\n",
    "end\n",
    "\n",
    "yn = []\n",
    "for i in 1:1:length(n)\n",
    "    #beware: xn[i] is a vector, a vector containing nodes' x\n",
    "    push!(yn, f4.(xn[i]))\n",
    "end\n",
    "\n",
    "y = []\n",
    "for i in 1:1:length(n)\n",
    "    p=lag_fit(xn[i], yn[i])\n",
    "    push!(y, p.(x))\n",
    "end"
   ]
  },
  {
   "cell_type": "code",
   "execution_count": null,
   "metadata": {},
   "outputs": [],
   "source": [
    "#plot cell\n",
    "\n",
    "fig = plot(title=L\"|x|\",\n",
    "      figsize=(800, 600),\n",
    "      xlabel=L\"x\", ylabel=L\"y\",\n",
    "      framestyle=:box,\n",
    "      grid=true, gridalpha=0.5,\n",
    "      # xticks=\n",
    "      )\n",
    "\n",
    "plot!(x, f4.(x),\n",
    "      label = L\"|x|\",\n",
    "      linestyle =:dash,\n",
    "      )\n",
    "\n",
    "for i in 1:1:length(n)\n",
    "    plot!(fig, x, y[i],\n",
    "          label = \"Polynomial fit, n = $(n[i])\",\n",
    "          color=colors[i],\n",
    "         )\n",
    "\n",
    "    scatter!(fig, xn[i], yn[i],\n",
    "             label=\"\",\n",
    "             color=colors[i],\n",
    "             markersize = 3,\n",
    "            )\n",
    "end\n",
    "    display(fig)\n"
   ]
  }
 ],
 "metadata": {
  "kernelspec": {
   "display_name": "Julia 1.11.4",
   "language": "julia",
   "name": "julia-1.11"
  },
  "language_info": {
   "file_extension": ".jl",
   "mimetype": "application/julia",
   "name": "julia",
   "version": "1.11.4"
  }
 },
 "nbformat": 4,
 "nbformat_minor": 2
}
