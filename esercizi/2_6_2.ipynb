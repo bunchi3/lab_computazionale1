{
 "cells": [
  {
   "cell_type": "markdown",
   "metadata": {},
   "source": [
    "# Orbite di Keplero"
   ]
  },
  {
   "cell_type": "markdown",
   "metadata": {},
   "source": [
    "Kepler found that the orbital period $\\tau$ of a planet depends on its mean distance $R$ from the sun according to $\\tau=c R^{\\alpha}$ for a simple rational number $\\alpha$. \n",
    "\n",
    "**(a)** Perform a linear least-squares fit from the following table in order to determine the most likely simple rational value of $\\alpha$."
   ]
  },
  {
   "cell_type": "code",
   "execution_count": null,
   "metadata": {},
   "outputs": [],
   "source": [
    "#Import cell\n",
    "using Markdown     #Visualizzazione di markdown in display\n",
    "using Plots        #Per grafici\n",
    "using CSV          #Per estrarre dati\n",
    "using DataFrames\n",
    "using Printf       #Per le stringhe del grafico\n",
    "using LaTeXStrings\n",
    "#non devo importare LinearAlgebra perchè è già dentro il file linear_systems.jl\n",
    "include(\"c:\\\\ALL\\\\Stefano\\\\Bicocca\\\\3terzo_anno\\\\lab_comp\\\\lab_computazionale1\\\\librerie\\\\linear_systems.jl\")\n",
    "function autosave(fig, filename)\n",
    "    path = \"C:\\\\ALL\\\\Stefano\\\\Bicocca\\\\3terzo_anno\\\\lab_comp\\\\lab_computazionale1\\\\relazione\\\\immagini\"\n",
    "    savefig(fig, joinpath(path, filename))\n",
    "end"
   ]
  },
  {
   "cell_type": "code",
   "execution_count": null,
   "metadata": {},
   "outputs": [],
   "source": [
    "#Unpacking data\n",
    "data = CSV.read(\"keplero.csv\", DataFrame)\n",
    "name = data[!, 1]\n",
    "distance = data[!, 2]\n",
    "time = data[!, 3]\n",
    "mass = data[!, 4]"
   ]
  },
  {
   "cell_type": "code",
   "execution_count": null,
   "metadata": {},
   "outputs": [],
   "source": [
    "function keplerian_model(x, c, a)\n",
    "    return c*x.^a\n",
    "end\n",
    "colors = [\"#0F2080\",  # blu scuro\n",
    "    \"#F5793A\",  # arancione\n",
    "    \"#A95AA1\",  # viola\n",
    "    \"#85C0F9\"]  # azzurro"
   ]
  },
  {
   "cell_type": "markdown",
   "metadata": {},
   "source": [
    "Linearizzo il modello $\\tau = c R^{\\alpha}$ con il logaritmo. \\\n",
    "I conti sono su carta, ma la morale è che uso come y il logaritmo del tempo, come matrice A una matrice m*2 in cui la prima colonna è fatta di 1 e la seconda dei logaritmi delle distanze. Come parametri incogniti ottengo $log(c)$ e $\\alpha$. \n",
    "In generale mi aspetto che $\\alpha = \\frac{3}{2}$ e che la costante dipenda dal pianeta. Ma dato che nella formula della costante compare la massa del Sole come termine dominante, fa in modo che tale costante sia uguale per ogni pianeta."
   ]
  },
  {
   "cell_type": "code",
   "execution_count": null,
   "metadata": {},
   "outputs": [],
   "source": [
    "#Dato che il modello non è lineare nei parametri lo linearizzo con il logaritmo\n",
    "n_meas = length(time)\n",
    "b = log.(time)\n",
    "A = zeros(n_meas, 2)\n",
    "A[:,1] = ones(n_meas)\n",
    "A[:,2] = log.(distance)\n",
    "\n",
    "param = least_sq(A, b)\n",
    "c_fit = exp(param[1])\n",
    "a_fit = param[2]\n",
    "println(\"c = \", c_fit)\n",
    "println(\"α = \", a_fit)\n",
    "println(\"α attesa = \", 3/2)"
   ]
  },
  {
   "cell_type": "markdown",
   "metadata": {},
   "source": [
    "**(b)** Make a plot of the data and the result of the fit."
   ]
  },
  {
   "cell_type": "code",
   "execution_count": null,
   "metadata": {},
   "outputs": [],
   "source": [
    "m = 24         #minimo sulle x\n",
    "M = 10000        #massimo sulle x\n",
    "m_y = 10           #minimo sulle y\n",
    "M_y = 100000           #massimo sulle y\n",
    "#= ticks_x = [exp(i) for i in range(log(m), stop=log(M), length=9)]\n",
    "ticks_y = [exp(i) for i in range(log(m_y), stop=log(M_y), length=9)] =#\n",
    "\n",
    "ticks_x = distance\n",
    "ticks_y = time\n",
    "\n",
    "# Definisci funzioni formatter per arrotondare i numeri\n",
    "format_tick(x) = @sprintf(\"%.0f\", x)\n",
    "\n",
    "fig = plot( xlabel = L\"Distanza\\ dal\\ Sole\\ [Mkm]\",\n",
    "           ylabel = L\"Tempo\\ di\\ rivoluzione\\ [d]\",\n",
    "           xscale=:log, yscale=:log,\n",
    "           legend=:topleft,\n",
    "           framestyle = :box,\n",
    "           grid=true, gridalpha = 0.5,\n",
    "           xticks = ticks_x, yticks = ticks_y,\n",
    "           xformatter = format_tick, yformatter = format_tick\n",
    "           )\n",
    "\n",
    "scatter!(fig, \n",
    "        distance, \n",
    "        time, \n",
    "        label = L\"Dati\\ raccolti\",\n",
    "        color = colors[1],\n",
    "        )\n",
    "\n",
    "#Calcolo le liste dell'interpolazione:\n",
    "x_fit = [i for i in range(m, stop=M, length=100)]\n",
    "plot!(fig, \n",
    "      x_fit,\n",
    "      keplerian_model(x_fit, c_fit, a_fit),\n",
    "      label = latexstring(\"Interpolazione:\\\\; \\\\alpha = \", @sprintf(\"%.3f\", a_fit)),\n",
    "      color = colors[2],\n",
    "      linewidth = 2,\n",
    "      linestyle = :dash,\n",
    "      )\n",
    "\n",
    "autosave(fig, \"2621.pdf\")\n",
    "display(fig)"
   ]
  }
 ],
 "metadata": {
  "kernelspec": {
   "display_name": "Julia 1.11.4",
   "language": "julia",
   "name": "julia-1.11"
  },
  "language_info": {
   "file_extension": ".jl",
   "mimetype": "application/julia",
   "name": "julia",
   "version": "1.11.4"
  }
 },
 "nbformat": 4,
 "nbformat_minor": 2
}
