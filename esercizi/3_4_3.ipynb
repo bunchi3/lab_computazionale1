{
 "cells": [
  {
   "cell_type": "markdown",
   "metadata": {},
   "source": [
    "# Secant method: first bracketing interval"
   ]
  },
  {
   "cell_type": "code",
   "execution_count": null,
   "metadata": {},
   "outputs": [],
   "source": [
    "using Plots\n",
    "using LaTeXStrings\n",
    "using Markdown\n",
    "using Printf\n",
    "include(\"C:\\\\ALL\\\\Stefano\\\\Bicocca\\\\3terzo_anno\\\\lab_comp\\\\lab_computazionale1\\\\librerie\\\\interpolation.jl\")\n",
    "include(\"C:\\\\ALL\\\\Stefano\\\\Bicocca\\\\3terzo_anno\\\\lab_comp\\\\lab_computazionale1\\\\librerie\\\\non_linear_roots.jl\")\n",
    "function autosave(fig, filename)\n",
    "    path = \"C:\\\\ALL\\\\Stefano\\\\Bicocca\\\\3terzo_anno\\\\lab_comp\\\\lab_computazionale1\\\\relazione\\\\immagini\"\n",
    "    savefig(fig, joinpath(path, filename))\n",
    "end"
   ]
  },
  {
   "cell_type": "code",
   "execution_count": null,
   "metadata": {},
   "outputs": [],
   "source": [
    "colors = colors = [\"#0F2080\",  # blu scuro\n",
    "           \"#F5793A\",  # arancione\n",
    "           \"#A95AA1\",  # viola\n",
    "           \"#85C0F9\"]  # azzurro"
   ]
  },
  {
   "cell_type": "markdown",
   "metadata": {},
   "source": [
    "Use a plot to approximately locate all the roots of $f(x)=x^{-2}-\\sin(x)$ in the interval $[0.5,10]$. Then find a pair of initial points for each root such that the secant method converges to that root."
   ]
  },
  {
   "cell_type": "code",
   "execution_count": null,
   "metadata": {},
   "outputs": [],
   "source": [
    "f(x) = x^(-2) - sin(x)\n",
    "x = [i for i in 0.5:0.1:10]\n",
    "y = f.(x)\n",
    "\n",
    "fig = plot(title=L\"f(x)=x^{-2} - \\sin x\",\n",
    "           figsize=(800, 600),\n",
    "           xlabel=L\"x\", ylabel=L\"y\",\n",
    "           framestyle=:box,\n",
    "           grid=true, gridalpha=0.5,\n",
    "           xticks=[i for i in 1:1:10]\n",
    "          )\n",
    "\n",
    "plot!(fig, x, y,\n",
    "      label = L\"f(x)=x^{-2} - \\sin x\",\n",
    "     )\n",
    "\n",
    "plot!(fig, x, zeros(length(x)),\n",
    "      label = \"\",\n",
    "     ) \n",
    "\n",
    "display(fig)"
   ]
  },
  {
   "cell_type": "markdown",
   "metadata": {},
   "source": [
    "First root"
   ]
  },
  {
   "cell_type": "code",
   "execution_count": null,
   "metadata": {},
   "outputs": [],
   "source": [
    "a1 = 1.0\n",
    "b1 = 2.0\n",
    "zero1, step1 = secant_met_steps(f, a1, b1)\n",
    "result_text = @sprintf(\"Estimated root value: %.3f\", zero1)\n",
    "display(Markdown.parse(result_text))\n",
    "result_text = @sprintf(\"Function value in estimated root: %.3f\", f(zero1))\n",
    "display(Markdown.parse(result_text))\n",
    "result_text = @sprintf(\"Number of steps: %d\", length(step1))\n",
    "display(Markdown.parse(result_text))"
   ]
  },
  {
   "cell_type": "markdown",
   "metadata": {},
   "source": [
    "Second root"
   ]
  },
  {
   "cell_type": "code",
   "execution_count": null,
   "metadata": {},
   "outputs": [],
   "source": [
    "a2 = 2.0\n",
    "b2 = 4.0\n",
    "zero2, step2 = secant_met_steps(f, a2, b2)\n",
    "result_text = @sprintf(\"Estimated root value: %.3f\", zero2)\n",
    "display(Markdown.parse(result_text))\n",
    "result_text = @sprintf(\"Function value in estimated root: %.3f\", f(zero2))\n",
    "display(Markdown.parse(result_text))\n",
    "result_text = @sprintf(\"Number of steps: %d\", length(step2))\n",
    "display(Markdown.parse(result_text))"
   ]
  },
  {
   "cell_type": "markdown",
   "metadata": {},
   "source": [
    "Third root"
   ]
  },
  {
   "cell_type": "code",
   "execution_count": null,
   "metadata": {},
   "outputs": [],
   "source": [
    "a3 = 6.0\n",
    "b3 = 7.0\n",
    "zero3, step3 = secant_met_steps(f, a3, b3)\n",
    "result_text = @sprintf(\"Estimated root value: %.3f\", zero3)\n",
    "display(Markdown.parse(result_text))\n",
    "result_text = @sprintf(\"Function value in estimated root: %.3f\", f(zero3))\n",
    "display(Markdown.parse(result_text))\n",
    "result_text = @sprintf(\"Number of steps: %d\", length(step3))\n",
    "display(Markdown.parse(result_text))\n"
   ]
  },
  {
   "cell_type": "markdown",
   "metadata": {},
   "source": [
    "Fourth root"
   ]
  },
  {
   "cell_type": "code",
   "execution_count": null,
   "metadata": {},
   "outputs": [],
   "source": [
    "a4 = 9.0\n",
    "b4 = 10.0\n",
    "zero4, step4 = secant_met_steps(f, a4, b4)\n",
    "result_text = @sprintf(\"Estimated root value: %.3f\", zero4)\n",
    "display(Markdown.parse(result_text))\n",
    "result_text = @sprintf(\"Function value in estimated root: %.3f\", f(zero4))\n",
    "display(Markdown.parse(result_text))\n",
    "result_text = @sprintf(\"Number of steps: %d\", length(step4))\n",
    "display(Markdown.parse(result_text))\n"
   ]
  },
  {
   "cell_type": "code",
   "execution_count": null,
   "metadata": {},
   "outputs": [],
   "source": [
    "f(x) = x^(-2) - sin(x)\n",
    "x = [i for i in 0.5:0.1:10]\n",
    "y = f.(x)\n",
    "\n",
    "fig = plot(figsize=(800, 600),\n",
    "           xlabel=L\"x\", ylabel=L\"y\",\n",
    "           framestyle=:box,\n",
    "           grid=true, gridalpha=0.5,\n",
    "           xticks=[i for i in 1:1:10]\n",
    "          )\n",
    "\n",
    "plot!(fig, x, y,\n",
    "      label = L\"f(x)=x^{-2} - \\sin x\",\n",
    "      color =colors[1],\n",
    "     )\n",
    "\n",
    "plot!(fig, x, zeros(length(x)),\n",
    "      label = \"\",\n",
    "      color=colors[2],\n",
    "     ) \n",
    "\n",
    "roots = [zero1, zero2, zero3, zero4]\n",
    "scatter!(fig, roots, f.(roots),\n",
    "         label=L\"Found\\ zeros\",\n",
    "         color = colors[3],\n",
    "        )\n",
    "\n",
    "autosave(fig, \"3431.pdf\")\n",
    "display(fig)"
   ]
  }
 ],
 "metadata": {
  "kernelspec": {
   "display_name": "Julia 1.11.4",
   "language": "julia",
   "name": "julia-1.11"
  },
  "language_info": {
   "file_extension": ".jl",
   "mimetype": "application/julia",
   "name": "julia",
   "version": "1.11.4"
  }
 },
 "nbformat": 4,
 "nbformat_minor": 2
}
