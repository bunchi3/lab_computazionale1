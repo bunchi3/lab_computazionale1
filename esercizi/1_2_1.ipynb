{
 "cells": [
  {
   "cell_type": "markdown",
   "metadata": {},
   "source": [
    "# Considerazioni su $ \\sum_{n=1}^{\\infty}\\frac{1}{n^2} = \\frac{\\pi}{6} $"
   ]
  },
  {
   "cell_type": "markdown",
   "metadata": {},
   "source": [
    "Calculate the following sum:  \n",
    "\n",
    "$\n",
    "\\sum_{n=1}^\\infty {1\\over n^2}={\\pi^2\\over 6}\n",
    "=\\lim_{N\\to\\infty} S(N)\n",
    "\\quad\n",
    "\\text{with}\n",
    "\\quad\n",
    "S(N)=\\sum_{n=1}^N {1\\over n^2}\n",
    "$"
   ]
  },
  {
   "cell_type": "markdown",
   "metadata": {},
   "source": [
    "I expect greater precision when adding larger numbers to smaller ones (a condition satisfied in the reverse sum).  \n",
    "The reason is that if I have a number, say of the order of $2^m$, I know that in the interval $[2^m, 2^{m+1})$ there are exactly $\\epsilon_{mach}$ numbers, and therefore the next floating-point number is at a distance of $2^m \\cdot \\epsilon_{mach}$. Thus, if I have a small number, the distance to the next floating-point number is small, and adding a larger number represents it better. If I have a large number, the distance to the next floating-point number is large, and therefore adding a smaller number is risky because I might not reach the next floating-point number."
   ]
  },
  {
   "cell_type": "code",
   "execution_count": null,
   "metadata": {},
   "outputs": [],
   "source": [
    "# import cell\n",
    "using Plots\n",
    "using LaTeXStrings\n",
    "function autosave(fig, filename)\n",
    "    path = \"C:\\\\ALL\\\\Stefano\\\\Bicocca\\\\3terzo_anno\\\\lab_comp\\\\lab_computazionale1\\\\relazione\\\\immagini\"\n",
    "    savefig(fig, joinpath(path, filename))\n",
    "end"
   ]
  },
  {
   "cell_type": "code",
   "execution_count": null,
   "metadata": {},
   "outputs": [],
   "source": [
    "#function cell\n",
    "\n",
    "#The first two calculate the sum with single precision\n",
    "#This one uses normal ordering\n",
    "function sum_norm_ord32(N)\n",
    "    sum = Float32(0)  \n",
    "    for n in 1:N\n",
    "        sum += Float32(1.0/n^2)\n",
    "    end\n",
    "    return sum\n",
    "end\n",
    "\n",
    "#this one uses reverse ordering\n",
    "function sum_reverse_ord32(N)\n",
    "    sum = Float32(0)\n",
    "    #the intermediate number returns the step to take between N and 1.\n",
    "    for n in N:-1:1\n",
    "        sum += Float32(1.0/n^2)\n",
    "    end\n",
    "    return sum\n",
    "end\n",
    "\n",
    "#The second two calculate the sum with double precision\n",
    "#This one uses normal ordering\n",
    "function sum_norm_ord64(N)\n",
    "    sum = Float64(0)  \n",
    "    for n in 1:N\n",
    "        sum += Float64(1.0/n^2)\n",
    "    end\n",
    "    return sum\n",
    "end\n",
    "\n",
    "#this one uses reverse ordering\n",
    "function sum_reverse_ord64(N)\n",
    "    sum = Float64(0)\n",
    "    #the intermediate number returns the step to take between N and 1.\n",
    "    for n in N:-1:1\n",
    "        sum += Float64(1.0/n^2)\n",
    "    end\n",
    "    return sum\n",
    "end"
   ]
  },
  {
   "cell_type": "markdown",
   "metadata": {},
   "source": [
    "## Single precision\n",
    "**(a)** Calculate the sum in single precision using normal ordering, $n=1,2,3,\\ldots,N$.\n",
    "\n",
    "**(b)** Calculate the sum in single precision using reverse ordering, $n=N,\\ldots,2,1$."
   ]
  },
  {
   "cell_type": "code",
   "execution_count": null,
   "metadata": {},
   "outputs": [],
   "source": [
    "#Calculating the difference between the expected value of the sum and the calculated value of the sum\n",
    "N = 8000\n",
    "\n",
    "#Initializing the vector which contains the N of the sum\n",
    "N_val = [i for i = 1:N]\n",
    "\n",
    "#generating the array of pi^2/6\n",
    "expected_val = fill((Float64(pi))^2/6, N)\n",
    "\n",
    "#Calculating the sum with single precision\n",
    "sum_n_val32 = sum_norm_ord32.(N_val)        #vector containing the sums with various N\n",
    "sum_r_val32 = sum_reverse_ord32.(N_val)     #vector containing the sums with various N\n",
    "\n",
    "diff_n = abs.(expected_val - sum_n_val32)\n",
    "diff_r = abs.(expected_val - sum_r_val32)\n"
   ]
  },
  {
   "cell_type": "markdown",
   "metadata": {},
   "source": [
    "**(c)** Study the convergence of both implementations as a function of $N$ by plotting $|S(N)-\\pi^2/6|$."
   ]
  },
  {
   "cell_type": "markdown",
   "metadata": {},
   "source": [
    "There is a flattening after $n=4096=2^{12}$. Squared and inverted, it becomes $2^{-24}$, which is a number smaller than $\\epsilon_{mach}$. For this reason, it is rounded to 0, and the sum does not improve.  \n",
    "Moreover, before the flattening, the forward sum behaves like a straight line. This is due to rounding. It can also be seen that the reverse sum behaves like $\\frac{1}{n}$, a result that can be obtained mathematically."
   ]
  },
  {
   "cell_type": "code",
   "execution_count": null,
   "metadata": {},
   "outputs": [],
   "source": [
    "#Plot cell\n",
    "fig = plot(title=\"Confronto di somma diretta e inversa\", \n",
    "     xlabel=L\"N\", ylabel=L\"\\Delta\", \n",
    "     legend=:topright, \n",
    "     grid=true, gridalpha=0.5,)\n",
    "\n",
    "plot!(N_val, diff_n, \n",
    "      ylimits=(0.0, 0.001), \n",
    "      color=:blue,\n",
    "      label=L\"Somma diretta: $| S(N) - \\frac{\\pi^2}{6} |$\")\n",
    "\n",
    "plot!(N_val, diff_r, \n",
    "      ylimits=(0.0, 0.001), \n",
    "      color=:red,\n",
    "      label=L\"Somma inversa: $| S(N) - \\frac{\\pi^2}{6} |$\")\n",
    "\n",
    "display(fig)\n",
    "autosave(fig, \"1211.pdf\")"
   ]
  },
  {
   "cell_type": "markdown",
   "metadata": {},
   "source": [
    "# Double precision\n",
    "**(d)** Repeat (a)-(c) using double precision."
   ]
  },
  {
   "cell_type": "markdown",
   "metadata": {},
   "source": [
    "I verify that, despite significantly increasing the sum terms, I cannot observe the deviation between the two functions."
   ]
  },
  {
   "cell_type": "code",
   "execution_count": null,
   "metadata": {},
   "outputs": [],
   "source": [
    "M = 100000\n",
    "\n",
    "#Initializing the vector which contains the M of the sum\n",
    "M_val = [i for i = 1:M]\n",
    "\n",
    "#generating the array of pi^2/6\n",
    "expected_val_M = fill((Float64(pi))^2/6, M)\n",
    "\n",
    "#Calculating the sum with double precision\n",
    "sum_n_val64 = sum_norm_ord64.(M_val)        #vector containing the sums with various M\n",
    "sum_r_val64 = sum_reverse_ord64.(M_val)     #vector containing the sums with various M\n",
    "\n",
    "diff_n_M = abs.(expected_val_M - sum_n_val64)\n",
    "diff_r_M = abs.(expected_val_M - sum_r_val64)"
   ]
  },
  {
   "cell_type": "code",
   "execution_count": null,
   "metadata": {},
   "outputs": [],
   "source": [
    "#Plot cell\n",
    "plot(title=\"Confronto di somma diretta e inversa\", \n",
    "    xlabel=L\"M\", ylabel=L\"\\Delta\", \n",
    "    legend=:topright, \n",
    "    grid=true, gridalpha=0.5,\n",
    "    )\n",
    "\n",
    "plot!(M_val, diff_n_M, \n",
    "      xlimits=(50000, M), ylimits=(0.0, 0.00003), \n",
    "      lw=6,\n",
    "      color=:blue, \n",
    "      label=L\"Somma diretta: $| S(M) - \\frac{\\pi^2}{6} |$\",\n",
    "      )\n",
    "\n",
    "plot!(M_val, diff_r_M, \n",
    "      xlimits=(50000, M), ylimits=(0.0, 0.00003), \n",
    "      lw=2,\n",
    "      color=:red,\n",
    "      label=L\"Somma inversa: $| S(M) - \\frac{\\pi^2}{6} |$\",\n",
    "      )"
   ]
  }
 ],
 "metadata": {
  "kernelspec": {
   "display_name": "Julia 1.11.4",
   "language": "julia",
   "name": "julia-1.11"
  },
  "language_info": {
   "file_extension": ".jl",
   "mimetype": "application/julia",
   "name": "julia",
   "version": "1.11.4"
  }
 },
 "nbformat": 4,
 "nbformat_minor": 2
}
