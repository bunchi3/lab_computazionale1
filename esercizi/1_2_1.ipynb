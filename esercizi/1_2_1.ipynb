{
 "cells": [
  {
   "cell_type": "markdown",
   "metadata": {},
   "source": [
    "# Considerazioni su $ \\sum_{n=1}^{\\infty}\\frac{1}{n^2} = \\frac{\\pi}{6} $"
   ]
  },
  {
   "cell_type": "markdown",
   "metadata": {},
   "source": [
    "Calculate the following sum:  \n",
    "\n",
    "$\n",
    "\\sum_{n=1}^\\infty {1\\over n^2}={\\pi^2\\over 6}\n",
    "=\\lim_{N\\to\\infty} S(N)\n",
    "\\quad\n",
    "\\text{with}\n",
    "\\quad\n",
    "S(N)=\\sum_{n=1}^N {1\\over n^2}\n",
    "$"
   ]
  },
  {
   "cell_type": "markdown",
   "metadata": {},
   "source": [
    "I expect greater precision when adding larger numbers to smaller ones (a condition satisfied in the reverse sum).  \n",
    "The reason is that if I have a number, say of the order of $2^m$, I know that in the interval $[2^m, 2^{m+1})$ there are exactly $\\epsilon_{mach}$ numbers, and therefore the next floating-point number is at a distance of $2^m \\cdot \\epsilon_{mach}$. Thus, if I have a small number, the distance to the next floating-point number is small, and adding a larger number represents it better. If I have a large number, the distance to the next floating-point number is large, and therefore adding a smaller number is risky because I might not reach the next floating-point number."
   ]
  },
  {
   "cell_type": "code",
   "execution_count": null,
   "metadata": {},
   "outputs": [],
   "source": [
    "# import cell\n",
    "using Plots\n",
    "using LaTeXStrings\n",
    "using Printf\n",
    "function autosave(fig, filename)\n",
    "    path = \"C:\\\\ALL\\\\Stefano\\\\Bicocca\\\\3terzo_anno\\\\lab_comp\\\\lab_computazionale1\\\\relazione\\\\immagini\"\n",
    "    savefig(fig, joinpath(path, filename))\n",
    "end\n",
    "include(\"c:\\\\ALL\\\\Stefano\\\\Bicocca\\\\3terzo_anno\\\\lab_comp\\\\lab_computazionale1\\\\librerie\\\\linear_systems.jl\")"
   ]
  },
  {
   "cell_type": "code",
   "execution_count": null,
   "metadata": {},
   "outputs": [],
   "source": [
    "#function cell\n",
    "\n",
    "#The first two calculate the sum with single precision\n",
    "#This one uses normal ordering\n",
    "function sum_norm_ord32(N)\n",
    "    sum = Float32(0)  \n",
    "    for n in 1:N\n",
    "        sum += Float32(1.0/n^2)\n",
    "    end\n",
    "    return sum\n",
    "end\n",
    "\n",
    "#this one uses reverse ordering\n",
    "function sum_reverse_ord32(N)\n",
    "    sum = Float32(0)\n",
    "    #the intermediate number returns the step to take between N and 1.\n",
    "    for n in N:-1:1\n",
    "        sum += Float32(1.0/n^2)\n",
    "    end\n",
    "    return sum\n",
    "end\n",
    "\n",
    "#The second two calculate the sum with double precision\n",
    "#This one uses normal ordering\n",
    "function sum_norm_ord64(N)\n",
    "    sum = Float64(0)  \n",
    "    for n in 1:N\n",
    "        sum += Float64(1.0/n^2)\n",
    "    end\n",
    "    return sum\n",
    "end\n",
    "\n",
    "#this one uses reverse ordering\n",
    "function sum_reverse_ord64(N)\n",
    "    sum = Float64(0)\n",
    "    #the intermediate number returns the step to take between N and 1.\n",
    "    for n in N:-1:1\n",
    "        sum += Float64(1.0/n^2)\n",
    "    end\n",
    "    return sum\n",
    "end"
   ]
  },
  {
   "cell_type": "markdown",
   "metadata": {},
   "source": [
    "## Single precision\n",
    "**(a)** Calculate the sum in single precision using normal ordering, $n=1,2,3,\\ldots,N$.\n",
    "\n",
    "**(b)** Calculate the sum in single precision using reverse ordering, $n=N,\\ldots,2,1$."
   ]
  },
  {
   "cell_type": "code",
   "execution_count": null,
   "metadata": {},
   "outputs": [],
   "source": [
    "#Calculating the difference between the expected value of the sum and the calculated value of the sum\n",
    "N = 8000\n",
    "\n",
    "#Initializing the vector which contains the N of the sum\n",
    "N_val = [i for i = 1:N]\n",
    "\n",
    "#generating the array of pi^2/6\n",
    "expected_val = fill((Float64(pi))^2/6, N)\n",
    "\n",
    "#Calculating the sum with single precision\n",
    "sum_n_val32 = sum_norm_ord32.(N_val)        #vector containing the sums with various N\n",
    "sum_r_val32 = sum_reverse_ord32.(N_val)     #vector containing the sums with various N\n",
    "\n",
    "diff_n = abs.(expected_val - sum_n_val32)\n",
    "diff_r = abs.(expected_val - sum_r_val32)\n"
   ]
  },
  {
   "cell_type": "markdown",
   "metadata": {},
   "source": [
    "**(c)** Study the convergence of both implementations as a function of $N$ by plotting $|S(N)-\\pi^2/6|$."
   ]
  },
  {
   "cell_type": "markdown",
   "metadata": {},
   "source": [
    "There is a flattening after $n=4096=2^{12}$. Squared and inverted, it becomes $2^{-24}$, which is a number smaller than $\\epsilon_{mach}$. For this reason, it is rounded to 0, and the sum does not improve.  \n",
    "Moreover, before the flattening, the forward sum behaves like a straight line. This is due to rounding. It can also be seen that the reverse sum behaves like $\\frac{1}{n}$, a result that can be obtained mathematically."
   ]
  },
  {
   "cell_type": "code",
   "execution_count": null,
   "metadata": {},
   "outputs": [],
   "source": [
    "#Plot cell\n",
    "format_tick_scientific(x) = @sprintf(\"%.e\", x)\n",
    "fig = plot(xlabel=L\"N\", ylabel=L\"\\Delta = |S(N) - \\pi^2/6|\", \n",
    "     legend=:topright, \n",
    "     framestyle=:box, \n",
    "     grid=true, gridalpha=0.5,\n",
    "     yformatter = format_tick_scientific,\n",
    "     legendfontsize = 12,\n",
    "     )\n",
    "\n",
    "plot!(N_val, diff_n, \n",
    "      ylimits=(0.0, 0.001), \n",
    "      color=:navy,\n",
    "      lw = 1.5,\n",
    "      label=L\"Somma\\ diretta\")\n",
    "\n",
    "plot!(N_val, diff_r, \n",
    "      ylimits=(0.0, 0.001), \n",
    "      color=:darkorange,\n",
    "      lw = 1.5,\n",
    "      label=L\"Somma\\ inversa\")\n",
    "\n",
    "display(fig)\n",
    "autosave(fig, \"1211.pdf\")"
   ]
  },
  {
   "cell_type": "markdown",
   "metadata": {},
   "source": [
    "Il modello è $log(y) = -log(n)$"
   ]
  },
  {
   "cell_type": "code",
   "execution_count": null,
   "metadata": {},
   "outputs": [],
   "source": [
    "#Interpolation of the two sum\n",
    "D = hcat(log.(N_val))\n",
    "y = log.(diff_n)\n",
    "c1 = least_sq(D, y)\n",
    "D = hcat(log.(N_val))\n",
    "y = log.(diff_r)\n",
    "c2 = least_sq(D, y)\n",
    "\n",
    "display(\"Coefficients for the direct sum:\")\n",
    "display(c1[1])\n",
    "display(\"Coefficients for the reverse sum:\")\n",
    "display(c2[1])"
   ]
  },
  {
   "cell_type": "markdown",
   "metadata": {},
   "source": [
    "# Double precision\n",
    "**(d)** Repeat (a)-(c) using double precision."
   ]
  },
  {
   "cell_type": "markdown",
   "metadata": {},
   "source": [
    "I verify that, despite significantly increasing the sum terms, I cannot observe the deviation between the two functions."
   ]
  },
  {
   "cell_type": "code",
   "execution_count": null,
   "metadata": {},
   "outputs": [],
   "source": [
    "M = 100000\n",
    "\n",
    "#Initializing the vector which contains the M of the sum\n",
    "M_val = [i for i = 1:M]\n",
    "\n",
    "#generating the array of pi^2/6\n",
    "expected_val_M = fill((Float64(pi))^2/6, M)\n",
    "\n",
    "#Calculating the sum with double precision\n",
    "sum_n_val64 = sum_norm_ord64.(M_val)        #vector containing the sums with various M\n",
    "sum_r_val64 = sum_reverse_ord64.(M_val)     #vector containing the sums with various M\n",
    "\n",
    "diff_n_M = abs.(expected_val_M - sum_n_val64)\n",
    "diff_r_M = abs.(expected_val_M - sum_r_val64)"
   ]
  },
  {
   "cell_type": "code",
   "execution_count": null,
   "metadata": {},
   "outputs": [],
   "source": [
    "#Plot cell\n",
    "format_tick1(x) = @sprintf(\"%.6f\", x)\n",
    "format_tick2(x) = @sprintf(\"%.f\", x)\n",
    "format_tick_scientific1(x) = @sprintf(\"%.e\", x)\n",
    "format_tick_scientific2(x) = @sprintf(\"%.2e\", x)\n",
    "x_ticks = [i*10.0^4.0 for i in 4:1:11]\n",
    "y_ticks = [i*10.0^(-5.0) for i in 1:0.25:5]\n",
    "\n",
    "fig=plot(xlabel=L\"M\", ylabel=L\"\\Delta\", \n",
    "    legend=:topright,\n",
    "    framestyle=:box, \n",
    "    grid=true, gridalpha=0.5,\n",
    "    xlimits=(50000, M-1000), \n",
    "    ylimits=(0.9*10.0^(-5.0), 2.2*10.0^(-5.0)), \n",
    "    xticks = x_ticks, yticks = y_ticks,\n",
    "    xformatter = format_tick_scientific1, yformatter = format_tick_scientific2,\n",
    "    legendfontsize = 12,\n",
    "    )\n",
    "\n",
    "plot!(fig, M_val, diff_n_M, \n",
    "      lw=6,\n",
    "      color=:navy, \n",
    "      label=L\"Somma\\ diretta\",\n",
    "      )\n",
    "\n",
    "plot!(fig, M_val, diff_r_M, \n",
    "      lw=2,\n",
    "      color=:darkorange,\n",
    "      label=L\"Somma\\ inversa\",\n",
    "      )\n",
    "\n",
    "display(fig)\n",
    "autosave(fig, \"1212.pdf\")"
   ]
  }
 ],
 "metadata": {
  "kernelspec": {
   "display_name": "Julia 1.11.4",
   "language": "julia",
   "name": "julia-1.11"
  },
  "language_info": {
   "file_extension": ".jl",
   "mimetype": "application/julia",
   "name": "julia",
   "version": "1.11.4"
  }
 },
 "nbformat": 4,
 "nbformat_minor": 2
}
