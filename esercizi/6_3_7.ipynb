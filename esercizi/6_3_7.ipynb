{
 "cells": [
  {
   "cell_type": "markdown",
   "id": "0",
   "metadata": {},
   "source": [
    "# Stiff problem"
   ]
  },
  {
   "cell_type": "code",
   "execution_count": null,
   "id": "1",
   "metadata": {},
   "outputs": [],
   "source": [
    "using Plots\n",
    "using Markdown\n",
    "using LaTeXStrings\n",
    "using Printf\n",
    "using Statistics\n",
    "include(\"c:\\\\ALL\\\\Stefano\\\\Bicocca\\\\3terzo_anno\\\\lab_comp\\\\lab_computazionale1\\\\librerie\\\\diff_equations.jl\")\n",
    "function autosave(fig, filename)\n",
    "    path = \"C:\\\\ALL\\\\Stefano\\\\Bicocca\\\\3terzo_anno\\\\lab_comp\\\\lab_computazionale1\\\\relazione\\\\immagini\"\n",
    "    savefig(fig, joinpath(path, filename))\n",
    "end"
   ]
  },
  {
   "cell_type": "markdown",
   "id": "2",
   "metadata": {},
   "source": [
    "Solve the problem $u'=100u^2-u^3$, $u(0)=0.0002$, $0\\le t \\le 100$ using the BS23 method, and make plots that show both the solution and the time steps taken for $\\delta=10^{-8}$. The solution makes a quick transition between two nearly constant states. Does the step size selection behave the same in both states?"
   ]
  },
  {
   "cell_type": "code",
   "execution_count": null,
   "id": "3",
   "metadata": {},
   "outputs": [],
   "source": [
    "function f(t, u)\n",
    "    return 100.0*u^2.0 - u^3.0 \n",
    "end\n",
    "\n",
    "u0 = 0.0002\n",
    "a, b = 0.0, 100.0\n",
    "δ = 10.0^-8.0\n",
    "colors = colors = [\"#0F2080\",  # blu scuro\n",
    "           \"#F5793A\",  # arancione\n",
    "           \"#A95AA1\",  # viola\n",
    "           \"#85C0F9\"]  # azzurro"
   ]
  },
  {
   "cell_type": "code",
   "execution_count": null,
   "id": "4",
   "metadata": {},
   "outputs": [],
   "source": [
    "t, u, h = solution_adapt_bs23([f], [u0], a, b, δ)\n",
    "\n",
    "fig= plot(figsize=(800, 600),\n",
    "           xlabel=L\"t\", ylabel=L\"solution(t)\",\n",
    "           framestyle=:box,\n",
    "           grid=true, gridalpha=0.5,\n",
    "           legend = :bottomright,\n",
    "           legendfontsize = 10\n",
    "          )\n",
    "\n",
    "plot!(fig, t, u,\n",
    "      label = L\"y(t)\",\n",
    "      color= colors[1],\n",
    "      lw = 2.0,\n",
    "     )\n",
    "\n",
    "fig2= plot(figsize=(800, 600),\n",
    "           xlabel=L\"t\", ylabel=L\"Step\\ size\",\n",
    "           framestyle=:box,\n",
    "           grid=true, gridalpha=0.5,\n",
    "           legend = :topright,\n",
    "           legendfontsize = 10\n",
    "          )\n",
    "plot!(fig2, t[2:end-2], h[2:end-1],\n",
    "      label = L\"h(t)\",\n",
    "      color= colors[3],\n",
    "      lw = 2.0,\n",
    "     )\n",
    "\n",
    "autosave(fig, \"6371.pdf\")\n",
    "autosave(fig2, \"6372.pdf\")\n",
    "display(fig)\n",
    "display(fig2)\n",
    "\n",
    "mid = findfirst(x -> x > 51, t)\n",
    "\n",
    "h_first_half = h[2:mid]\n",
    "h_second_half = h[mid+1:end-1]\n",
    "@printf(\"Minimum in first half of the interval: %g\\n\", minimum(h_first_half))\n",
    "@printf(\"Mean in first half of the interval: %g\\n\", mean(h_first_half))\n",
    "@printf(\"Minimum in second half of the interval: %g\\n\", minimum(h_second_half))\n",
    "@printf(\"Mean in second half of the interval: %g\\n\", mean(h_second_half))"
   ]
  }
 ],
 "metadata": {
  "kernelspec": {
   "display_name": "Julia 1.11.4",
   "language": "julia",
   "name": "julia-1.11"
  },
  "language_info": {
   "file_extension": ".jl",
   "mimetype": "application/julia",
   "name": "julia",
   "version": "1.11.4"
  }
 },
 "nbformat": 4,
 "nbformat_minor": 5
}
