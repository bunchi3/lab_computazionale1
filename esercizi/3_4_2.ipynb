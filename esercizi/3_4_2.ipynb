{
 "cells": [
  {
   "cell_type": "markdown",
   "metadata": {},
   "source": [
    "# Rootfinding with secant method\n",
    "CHiedi del punto d"
   ]
  },
  {
   "cell_type": "code",
   "execution_count": null,
   "metadata": {},
   "outputs": [],
   "source": [
    "using Plots\n",
    "using LaTeXStrings\n",
    "using Markdown\n",
    "using Printf\n",
    "include(\"C:\\\\ALL\\\\Stefano\\\\Bicocca\\\\3terzo_anno\\\\lab_comp\\\\lab_computazionale1\\\\librerie\\\\interpolation.jl\")\n",
    "include(\"C:\\\\ALL\\\\Stefano\\\\Bicocca\\\\3terzo_anno\\\\lab_comp\\\\lab_computazionale1\\\\librerie\\\\non_linear_roots.jl\")"
   ]
  },
  {
   "cell_type": "code",
   "execution_count": null,
   "metadata": {},
   "outputs": [],
   "source": [
    "# Function cell\n",
    "f1(x) = x^2 - exp(-x)\n",
    "f2(x) = 2x - tan(x)\n",
    "f3(x) = exp(x+1) - 2 - x"
   ]
  },
  {
   "cell_type": "markdown",
   "metadata": {},
   "source": [
    "For each of the upper functions, do the following steps.\n",
    "  \n",
    "**(a)** Rewrite the equation into the standard form for rootfinding, $f(x) = 0$. \n",
    "\n",
    "**(b)** Make a plot of $f$ over the given interval and determine how many roots lie in the interval. \n",
    "\n",
    "**(c)** Determine a bracketing interval for each root. Then use the secant method, starting with the endpoints of the bracketing interval, to find each root.\n",
    "\n",
    "**(d)** For one of the roots, use the errors in the secant sequence to determine numerically whether the convergence is apparently between linear and quadratic.\n",
    "\n",
    "1. $x^2=e^{-x}$, over $[-2,2]$\n",
    "\n",
    "2. $2x = \\tan x$, over $[-0.2,1.4]$\n",
    "\n",
    "3. $e^{x+1}=2+x$, over $[-2,2]$"
   ]
  },
  {
   "cell_type": "markdown",
   "metadata": {},
   "source": [
    "### $x^2 - e^{-x} = 0 $ over $[-2,2]$"
   ]
  },
  {
   "cell_type": "code",
   "execution_count": null,
   "metadata": {},
   "outputs": [],
   "source": [
    "x1 = [i for i in -2:0.1:2]\n",
    "y1 = f1.(x1) \n",
    "\n",
    "fig1 = plot(title=L\"$x^2 - e^{-x}$\",\n",
    "            figsize=(800, 600),\n",
    "            xlabel=L\"x\", ylabel=L\"y\",\n",
    "            framestyle=:box,\n",
    "            grid=true, gridalpha=0.5,\n",
    "            )\n",
    "\n",
    "plot!(fig1, x1, y1,\n",
    "      label = L\"$x^2 - e^{-x}$\",\n",
    "     )\n",
    "\n",
    "plot!(fig1, x1, zeros(length(x1)),\n",
    "      label = \"\",\n",
    "     )\n",
    "\n",
    "display(fig1)"
   ]
  },
  {
   "cell_type": "code",
   "execution_count": null,
   "metadata": {},
   "outputs": [],
   "source": [
    "a1 = 1.0\n",
    "b1 = 2.0\n",
    "zero1, step1 = secant_met_steps(f1, a1, b1)\n",
    "result_text = @sprintf(\"Estimated root value: %.3f\", zero1)\n",
    "display(Markdown.parse(result_text))\n",
    "result_text = @sprintf(\"Function value in estimated root: %.3f\", f1(zero1))\n",
    "display(Markdown.parse(result_text))"
   ]
  },
  {
   "cell_type": "markdown",
   "metadata": {},
   "source": [
    "Error relation is $\\epsilon_{k+1} = c (\\epsilon_k) ^q $ \\\n",
    "Logarithmic fit: $\\log(\\epsilon_{k+1}) = \\log(c) + q \\log(\\epsilon_k) $"
   ]
  },
  {
   "cell_type": "code",
   "execution_count": null,
   "metadata": {},
   "outputs": [],
   "source": [
    "r = zero1\n",
    "ek = step1[1:end-2] .- r\n",
    "ek1 = step1[2:end-1] .- r\n",
    "\n",
    "#= order = sortperm(ek)\n",
    "ek_sorted = ek[order]\n",
    "ek1_sorted = ek1[order] =#\n",
    "\n",
    "D = hcat(ones(length(ek_sorted)), [log(i) for i in ek_sorted])\n",
    "coeff = least_sq(D, ek1_sorted)\n",
    "q = coeff[2]\n",
    "result_text = @sprintf(\"Estimated q value: %.3f\", q)\n",
    "display(Markdown.parse(result_text))\n",
    "\n",
    "plot(ek, ek1, marker=:circle)"
   ]
  },
  {
   "cell_type": "markdown",
   "metadata": {},
   "source": [
    "### $2x - \\tan x = 0$, over $[-0.2,1.4]$"
   ]
  },
  {
   "cell_type": "code",
   "execution_count": null,
   "metadata": {},
   "outputs": [],
   "source": [
    "x2 = [i for i in -0.2:0.01:1.4]\n",
    "y2 = f2.(x2) \n",
    "\n",
    "fig2 = plot(title=L\"2x - tan{x}\",\n",
    "            figsize=(800, 600),\n",
    "            xlabel=L\"x\", ylabel=L\"y\",\n",
    "            framestyle=:box,\n",
    "            grid=true, gridalpha=0.5,\n",
    "            )\n",
    "\n",
    "plot!(fig2, x2, y2,\n",
    "      label = L\"2x - tan{x}\",\n",
    "     )\n",
    "\n",
    "plot!(fig2, x2, zeros(length(x2)),\n",
    "      label = \"\",\n",
    "     )\n",
    "\n",
    "display(fig2)"
   ]
  },
  {
   "cell_type": "code",
   "execution_count": null,
   "metadata": {},
   "outputs": [],
   "source": [
    "a2_1 = 0.9\n",
    "b2_1 = 1.3\n",
    "zero2_1, step2_1 = secant_met_steps(f2, a2_1, b2_1)\n",
    "result_text = @sprintf(\"Estimated root value: %.3f\", zero2_1)\n",
    "display(Markdown.parse(result_text))\n",
    "result_text = @sprintf(\"Function value in estimated root: %.3f\", f2(zero2_1))\n",
    "display(Markdown.parse(result_text))"
   ]
  },
  {
   "cell_type": "code",
   "execution_count": null,
   "metadata": {},
   "outputs": [],
   "source": [
    "a2_2 = 0.0\n",
    "b2_2 = 0.5\n",
    "zero2_2, step2_2 = secant_met_steps(f2, a2_2, b2_2)\n",
    "result_text = @sprintf(\"Estimated root value: %.3f\", zero2_2)\n",
    "display(Markdown.parse(result_text))\n",
    "result_text = @sprintf(\"Function value in estimated root: %.3f\", f2(zero2_2))\n",
    "display(Markdown.parse(result_text))"
   ]
  },
  {
   "cell_type": "markdown",
   "metadata": {},
   "source": [
    "### $e^{x+1} - 2 - x = 0$, over $[-2,2]$"
   ]
  },
  {
   "cell_type": "code",
   "execution_count": null,
   "metadata": {},
   "outputs": [],
   "source": [
    "x3 = [i for i in -2:0.1:2]\n",
    "y3 = f3.(x3) \n",
    "\n",
    "fig3 = plot(title=L\"e^{x+1} - 2 - x\",\n",
    "            figsize=(800, 600),\n",
    "            xlabel=L\"x\", ylabel=L\"y\",\n",
    "            framestyle=:box,\n",
    "            grid=true, gridalpha=0.5,\n",
    "            )\n",
    "\n",
    "plot!(fig3, x3, y3,\n",
    "      label = L\"e^{x+1} - 2 - x\",\n",
    "     )\n",
    "\n",
    "plot!(fig3, x3, zeros(length(x3)),\n",
    "      label = \"\",\n",
    "     )\n",
    "\n",
    "display(fig3)"
   ]
  },
  {
   "cell_type": "code",
   "execution_count": null,
   "metadata": {},
   "outputs": [],
   "source": [
    "a3_1 = -2.0\n",
    "b3_1 = 0.0\n",
    "zero3_1, step3_1 = secant_met_steps(f3, a3_1, b3_1)\n",
    "result_text = @sprintf(\"Estimated root value: %.3f\", zero3_1)\n",
    "display(Markdown.parse(result_text))\n",
    "result_text = @sprintf(\"Function value in estimated root: %.3f\", f3(zero3_1))\n",
    "display(Markdown.parse(result_text))"
   ]
  }
 ],
 "metadata": {
  "kernelspec": {
   "display_name": "Julia 1.11.4",
   "language": "julia",
   "name": "julia-1.11"
  },
  "language_info": {
   "file_extension": ".jl",
   "mimetype": "application/julia",
   "name": "julia",
   "version": "1.11.4"
  }
 },
 "nbformat": 4,
 "nbformat_minor": 2
}
