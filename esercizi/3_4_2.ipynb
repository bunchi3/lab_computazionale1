{
 "cells": [
  {
   "cell_type": "markdown",
   "metadata": {},
   "source": [
    "# Rootfinding with secant method"
   ]
  },
  {
   "cell_type": "code",
   "execution_count": null,
   "metadata": {},
   "outputs": [],
   "source": [
    "using Plots\n",
    "using LaTeXStrings\n",
    "using Markdown\n",
    "using Printf\n",
    "include(\"C:\\\\ALL\\\\Stefano\\\\Bicocca\\\\3terzo_anno\\\\lab_comp\\\\lab_computazionale1\\\\librerie\\\\interpolation.jl\")\n",
    "include(\"C:\\\\ALL\\\\Stefano\\\\Bicocca\\\\3terzo_anno\\\\lab_comp\\\\lab_computazionale1\\\\librerie\\\\non_linear_roots.jl\")\n",
    "function autosave(fig, filename)\n",
    "    path = \"C:\\\\ALL\\\\Stefano\\\\Bicocca\\\\3terzo_anno\\\\lab_comp\\\\lab_computazionale1\\\\relazione\\\\immagini\"\n",
    "    savefig(fig, joinpath(path, filename))\n",
    "end"
   ]
  },
  {
   "cell_type": "code",
   "execution_count": null,
   "metadata": {},
   "outputs": [],
   "source": [
    "# Function cell\n",
    "f1(x) = x^2 - exp(-x)\n",
    "f2(x) = 2x - tan(x)\n",
    "f3(x) = exp(x+1) - 2 - x\n",
    "colors = colors = [\"#0F2080\",  # blu scuro\n",
    "           \"#F5793A\",  # arancione\n",
    "           \"#A95AA1\",  # viola\n",
    "           \"#85C0F9\"]  # azzurro"
   ]
  },
  {
   "cell_type": "markdown",
   "metadata": {},
   "source": [
    "For each of the upper functions, do the following steps.\n",
    "  \n",
    "**(a)** Rewrite the equation into the standard form for rootfinding, $f(x) = 0$. \n",
    "\n",
    "**(b)** Make a plot of $f$ over the given interval and determine how many roots lie in the interval. \n",
    "\n",
    "**(c)** Determine a bracketing interval for each root. Then use the secant method, starting with the endpoints of the bracketing interval, to find each root.\n",
    "\n",
    "**(d)** For one of the roots, use the errors in the secant sequence to determine numerically whether the convergence is apparently between linear and quadratic.\n",
    "\n",
    "1. $x^2=e^{-x}$, over $[-2,2]$\n",
    "\n",
    "2. $2x = \\tan x$, over $[-0.2,1.4]$\n",
    "\n",
    "3. $e^{x+1}=2+x$, over $[-2,2]$"
   ]
  },
  {
   "cell_type": "markdown",
   "metadata": {},
   "source": [
    "### $x^2 - e^{-x} = 0 $ over $[-2,2]$"
   ]
  },
  {
   "cell_type": "code",
   "execution_count": null,
   "metadata": {},
   "outputs": [],
   "source": [
    "x1 = [i for i in -2:0.1:2]\n",
    "y1 = f1.(x1) \n",
    "\n",
    "fig1 = plot(title=L\"$x^2 - e^{-x}$\",\n",
    "            figsize=(800, 600),\n",
    "            xlabel=L\"x\", ylabel=L\"y\",\n",
    "            framestyle=:box,\n",
    "            grid=true, gridalpha=0.5,\n",
    "            )\n",
    "\n",
    "plot!(fig1, x1, y1,\n",
    "      label = L\"$x^2 - e^{-x}$\",\n",
    "     )\n",
    "\n",
    "plot!(fig1, x1, zeros(length(x1)),\n",
    "      label = \"\",\n",
    "     )\n",
    "\n",
    "display(fig1)"
   ]
  },
  {
   "cell_type": "code",
   "execution_count": null,
   "metadata": {},
   "outputs": [],
   "source": [
    "a1 = 1.0\n",
    "b1 = 2.0\n",
    "zero1, step1 = secant_met_steps(f1, a1, b1)\n",
    "result_text = @sprintf(\"Estimated root value: %.3f\", zero1)\n",
    "display(Markdown.parse(result_text))\n",
    "result_text = @sprintf(\"Function value in estimated root: %.3f\", f1(zero1))\n",
    "display(Markdown.parse(result_text))\n",
    "result_text = @sprintf(\"Number of steps: %d\", length(step1))\n",
    "display(Markdown.parse(result_text))"
   ]
  },
  {
   "cell_type": "markdown",
   "metadata": {},
   "source": [
    "In order to determine q, we study $ \\lim_{k\\to\\infty}\\frac{\\log(\\epsilon_{k+1})}{\\log(\\epsilon_k)} = q$. We expect it to be the golden ratio: $q=\\frac{1 + \\sqrt{5}}{2} = 1.618$ \\\n",
    "We are obliged to use the second to last of q calculated, because the secant method gives step values really close to the root, and q explodes."
   ]
  },
  {
   "cell_type": "code",
   "execution_count": null,
   "metadata": {},
   "outputs": [],
   "source": [
    "r = zero1\n",
    "ek = step1[1:end-2] .- r\n",
    "ek1 = step1[2:end-1] .- r\n",
    "q_asympt = log.(ek1) ./ log.(ek)\n",
    "q_exp = (1+sqrt(5))/2\n",
    "\n",
    "display(r)\n",
    "display(ek)\n",
    "display(ek1)\n",
    "display(q_asympt)\n",
    "\n",
    "result_text = @sprintf(\"Estimated q value: %.3f\", q_asympt[end-1])\n",
    "display(Markdown.parse(result_text))\n",
    "result_text = @sprintf(\"Expected q value: %.3f\", q_exp)\n",
    "display(Markdown.parse(result_text))"
   ]
  },
  {
   "cell_type": "code",
   "execution_count": null,
   "metadata": {},
   "outputs": [],
   "source": [
    "#plot cell (q)\n",
    "k1 = [i for i in 1:1:(length(q_asympt)-1)]\n",
    "\n",
    "fig1_1 = plot(xlabel=L\"k\", ylabel=L\"\\log|ϵ_{k+1}|/\\log|ϵ_{k}|\",\n",
    "              figsize=(800, 600),\n",
    "              framestyle=:box,\n",
    "              grid=true, gridalpha=0.5,\n",
    "              legend=:bottomright,\n",
    "              yticks = -10:2:2.5\n",
    "             )\n",
    "             \n",
    "plot!(fig1_1, k1, q_asympt[1:end-1],\n",
    "     label=L\"q_k\",\n",
    "     marker=:circle,\n",
    "     markersize=3.5,\n",
    "     color=colors[1],\n",
    "     )\n",
    "\n",
    "x_step = [i for i in k1[1]:0.1:k1[end]]\n",
    "plot!(fig1_1, x_step, ones(length(x_step))*q_exp,\n",
    "     label=L\"q = \\frac{1 + \\sqrt{5}}{2}\",\n",
    "     color =colors[2],\n",
    "     )\n",
    "\n",
    "autosave(fig1_1, \"3421.pdf\")\n",
    "display(fig1_1)"
   ]
  },
  {
   "cell_type": "markdown",
   "metadata": {},
   "source": [
    "### $2x - \\tan x = 0$, over $[-0.2,1.4]$"
   ]
  },
  {
   "cell_type": "code",
   "execution_count": null,
   "metadata": {},
   "outputs": [],
   "source": [
    "x2 = [i for i in -0.2:0.01:1.4]\n",
    "y2 = f2.(x2) \n",
    "\n",
    "fig2 = plot(title=L\"2x - tan{x}\",\n",
    "            figsize=(800, 600),\n",
    "            xlabel=L\"x\", ylabel=L\"y\",\n",
    "            framestyle=:box,\n",
    "            grid=true, gridalpha=0.5,\n",
    "            )\n",
    "\n",
    "plot!(fig2, x2, y2,\n",
    "      label = L\"2x - tan{x}\",\n",
    "     )\n",
    "\n",
    "plot!(fig2, x2, zeros(length(x2)),\n",
    "      label = \"\",\n",
    "     )\n",
    "\n",
    "display(fig2)"
   ]
  },
  {
   "cell_type": "code",
   "execution_count": null,
   "metadata": {},
   "outputs": [],
   "source": [
    "a2_1 = 0.9\n",
    "b2_1 = 1.3\n",
    "zero2_1, step2_1 = secant_met_steps(f2, a2_1, b2_1)\n",
    "result_text = @sprintf(\"Estimated root value: %.3f\", zero2_1)\n",
    "display(Markdown.parse(result_text))\n",
    "result_text = @sprintf(\"Function value in estimated root: %.3f\", f2(zero2_1))\n",
    "display(Markdown.parse(result_text))\n",
    "result_text = @sprintf(\"Number of steps: %d\", length(step2_1))\n",
    "display(Markdown.parse(result_text))"
   ]
  },
  {
   "cell_type": "code",
   "execution_count": null,
   "metadata": {},
   "outputs": [],
   "source": [
    "a2_2 = -0.1\n",
    "b2_2 = 0.2\n",
    "zero2_2, step2_2 = secant_met_steps(f2, a2_2, b2_2)\n",
    "result_text = @sprintf(\"Estimated root value: %.3f\", zero2_2)\n",
    "display(Markdown.parse(result_text))\n",
    "result_text = @sprintf(\"Function value in estimated root: %.3f\", f2(zero2_2))\n",
    "display(Markdown.parse(result_text))\n",
    "result_text = @sprintf(\"Number of steps: %d\", length(step2_2))\n",
    "display(Markdown.parse(result_text))"
   ]
  },
  {
   "cell_type": "code",
   "execution_count": null,
   "metadata": {},
   "outputs": [],
   "source": [
    "r = zero2_2\n",
    "ek = abs.(step2_2[1:end-2] .- r)\n",
    "ek1 = abs.(step2_2[2:end-1] .- r)\n",
    "q_asympt = log.(ek1) ./ log.(ek)\n",
    "q_exp = (1+sqrt(5))/2\n",
    "\n",
    "result_text = @sprintf(\"Estimated q value: %.3f\", q_asympt[end-1])\n",
    "display(Markdown.parse(result_text))\n",
    "result_text = @sprintf(\"Expected q value: %.3f\", q_exp)\n",
    "display(Markdown.parse(result_text))\n",
    "\n",
    "#plot cell (q)\n",
    "k2 = [i for i in 1:1:(length(q_asympt)-1)]\n",
    "\n",
    "fig2_1 = plot(xlabel=L\"k\", ylabel=L\"\\log|ϵ_{k+1}|/\\log|ϵ_{k}|\",\n",
    "              figsize=(800, 600),\n",
    "              framestyle=:box,\n",
    "              grid=true, gridalpha=0.5,\n",
    "              legend=:topleft,\n",
    "              yticks = 0:1:10.5\n",
    "             )\n",
    "             \n",
    "plot!(fig2_1, k2, q_asympt[1:end-1],\n",
    "     label=L\"q_k\",\n",
    "     marker=:circle,\n",
    "     markersize=3.5,\n",
    "     color=colors[1],\n",
    "     )\n",
    "\n",
    "\n",
    "x_step = [i for i in k2[1]:0.1:k2[end]]\n",
    "plot!(fig2_1, x_step, ones(length(x_step))*q_exp,\n",
    "     label=L\"q = \\frac{1 + \\sqrt{5}}{2}\",\n",
    "     color =colors[2],\n",
    "     )\n",
    "\n",
    "autosave(fig2_1, \"3422.pdf\")\n",
    "display(fig2_1)"
   ]
  },
  {
   "cell_type": "markdown",
   "metadata": {},
   "source": [
    "### $e^{x+1} - 2 - x = 0$, over $[-2,2]$"
   ]
  },
  {
   "cell_type": "code",
   "execution_count": null,
   "metadata": {},
   "outputs": [],
   "source": [
    "x3 = [i for i in -2:0.1:2]\n",
    "y3 = f3.(x3) \n",
    "\n",
    "fig3 = plot(title=L\"e^{x+1} - 2 - x\",\n",
    "            figsize=(800, 600),\n",
    "            xlabel=L\"x\", ylabel=L\"y\",\n",
    "            framestyle=:box,\n",
    "            grid=true, gridalpha=0.5,\n",
    "            )\n",
    "\n",
    "plot!(fig3, x3, y3,\n",
    "      label = L\"e^{x+1} - 2 - x\",\n",
    "     )\n",
    "\n",
    "plot!(fig3, x3, zeros(length(x3)),\n",
    "      label = \"\",\n",
    "     )\n",
    "\n",
    "display(fig3)"
   ]
  },
  {
   "cell_type": "code",
   "execution_count": null,
   "metadata": {},
   "outputs": [],
   "source": [
    "a3_1 = -2.0\n",
    "b3_1 = 0.0\n",
    "zero3_1, step3_1 = secant_met_steps(f3, a3_1, b3_1)\n",
    "result_text = @sprintf(\"Estimated root value: %.3f\", zero3_1)\n",
    "display(Markdown.parse(result_text))\n",
    "result_text = @sprintf(\"Function value in estimated root: %.3f\", f3(zero3_1))\n",
    "display(Markdown.parse(result_text))\n",
    "result_text = @sprintf(\"Number of steps: %d\", length(step3_1))\n",
    "display(Markdown.parse(result_text))"
   ]
  },
  {
   "cell_type": "code",
   "execution_count": null,
   "metadata": {},
   "outputs": [],
   "source": [
    "r = zero3_1\n",
    "ek = abs.(step3_1[1:end-2] .- r)\n",
    "ek1 = abs.(step3_1[2:end-1] .- r)\n",
    "q_asympt = log.(ek1) ./ log.(ek)\n",
    "q_exp = (1+sqrt(5))/2\n",
    "\n",
    "result_text = @sprintf(\"Estimated q value: %.3f\", q_asympt[end-1])\n",
    "display(Markdown.parse(result_text))\n",
    "result_text = @sprintf(\"Expected q value: %.3f\", q_exp)\n",
    "display(Markdown.parse(result_text))\n",
    "\n",
    "#plot cell (q)\n",
    "k3 = [i for i in 1:1:(length(q_asympt)-1)]\n",
    "\n",
    "fig3_1 = plot(xlabel=L\"k\", ylabel=L\"\\log|ϵ_{k+1}|/\\log|ϵ_{k}|\",\n",
    "              figsize=(800, 600),\n",
    "              framestyle=:box,\n",
    "              grid=true, gridalpha=0.5,\n",
    "              legend=:topright,\n",
    "              yticks = 0:5*10^6:10^14\n",
    "             )\n",
    "             \n",
    "plot!(fig3_1, k3, q_asympt[1:end-1],\n",
    "     label=L\"q_k\",\n",
    "     marker=:circle,\n",
    "     markersize=3.5,\n",
    "     color=colors[1],\n",
    "     )\n",
    "\n",
    "\n",
    "x_step = [i for i in k3[1]:0.1:k3[end]]\n",
    "plot!(fig3_1, x_step, ones(length(x_step))*q_exp,\n",
    "     label=L\"q = \\frac{1 + \\sqrt{5}}{2}\",\n",
    "     color =colors[2],\n",
    "     )\n",
    "\n",
    "autosave(fig3_1, \"3423.pdf\")\n",
    "display(fig3_1)"
   ]
  }
 ],
 "metadata": {
  "kernelspec": {
   "display_name": "Julia 1.11.4",
   "language": "julia",
   "name": "julia-1.11"
  },
  "language_info": {
   "file_extension": ".jl",
   "mimetype": "application/julia",
   "name": "julia",
   "version": "1.11.4"
  }
 },
 "nbformat": 4,
 "nbformat_minor": 2
}
