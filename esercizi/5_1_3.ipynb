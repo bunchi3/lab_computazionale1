{
 "cells": [
  {
   "cell_type": "markdown",
   "id": "0",
   "metadata": {},
   "source": [
    "# Implementing Simpson's rule"
   ]
  },
  {
   "cell_type": "code",
   "execution_count": null,
   "id": "1",
   "metadata": {},
   "outputs": [],
   "source": [
    "using Plots"
   ]
  },
  {
   "cell_type": "markdown",
   "id": "2",
   "metadata": {},
   "source": [
    "Write a program that implements the composite Simpson's rule for a generic integration interval $[a,b]$."
   ]
  },
  {
   "cell_type": "code",
   "execution_count": null,
   "id": "3",
   "metadata": {},
   "outputs": [],
   "source": [
    "function IntegralSim(f::Function, a::Number, b::Number, m::Integer)\n",
    "    if a>b\n",
    "        shift = b\n",
    "        b = a \n",
    "        a = shift        \n",
    "    end\n",
    "    if m <= 0 \n",
    "        throw(DomainError(m, \"IntegralTrap says: the last parameter is the intervals' number, can't be negative or zero\"))\n",
    "    end\n",
    "\n",
    "    h = (b-a) / (2*m)\n",
    "    sum1 = 0.0\n",
    "    sum2 = 0.0\n",
    "\n",
    "    for j in 1:1:m\n",
    "        sum1 += f(a + (2*j - 1)*h)        \n",
    "    end\n",
    "    for j in 1:1:(m-1)\n",
    "        sum2 += f(a + 2*j*h)\n",
    "    end\n",
    "\n",
    "    return (h/3)*(f(a) + f(b) + 4*sum1 + 2*sum2)\n",
    "end"
   ]
  },
  {
   "cell_type": "markdown",
   "id": "4",
   "metadata": {},
   "source": [
    "Il fatto che approssimi per difetto o per eccesso dipende dalla funzione"
   ]
  },
  {
   "cell_type": "code",
   "execution_count": null,
   "id": "5",
   "metadata": {},
   "outputs": [],
   "source": [
    "f(x) = sin(x)\n",
    "a = 0\n",
    "b = 2\n",
    "m = [i for i in 1:1:25]\n",
    "I = []\n",
    "for i in 1:1:length(m)\n",
    "    I = push!(I, IntegralSim(f, a, b, m[i]))\n",
    "end\n",
    "    \n",
    "plot(m, I)"
   ]
  }
 ],
 "metadata": {
  "kernelspec": {
   "display_name": "Julia 1.11.4",
   "language": "julia",
   "name": "julia-1.11"
  },
  "language_info": {
   "file_extension": ".jl",
   "mimetype": "application/julia",
   "name": "julia",
   "version": "1.11.4"
  }
 },
 "nbformat": 4,
 "nbformat_minor": 5
}
