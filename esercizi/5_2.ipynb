{
 "cells": [
  {
   "cell_type": "markdown",
   "metadata": {},
   "source": [
    "# Matrix's condition number\n",
    "Exercise's conclusion: maybe a matrix's isn't ill conditioned, but it's linear decomposition is."
   ]
  },
  {
   "cell_type": "code",
   "execution_count": null,
   "metadata": {},
   "outputs": [],
   "source": [
    "#Import cell\n",
    "using Markdown     #Vsualizzazione di markdown in display\n",
    "#non devo importare LinearAlgebra perchè è già dentro il file linear_systems.jl\n",
    "include(\"c:\\\\ALL\\\\Stefano\\\\Bicocca\\\\3terzo_anno\\\\lab_comp\\\\lab_computazionale1\\\\librerie\\\\linear_systems.jl\")"
   ]
  },
  {
   "cell_type": "markdown",
   "metadata": {},
   "source": [
    "Inizializzazione delle variabili dell'esercizio: caso $\\epsilon = 10^{-12}$"
   ]
  },
  {
   "cell_type": "code",
   "execution_count": null,
   "metadata": {},
   "outputs": [],
   "source": [
    "eps1 = 1.0e-12\n",
    "A1 = [-eps1  1\n",
    "          1 -1\n",
    "     ]\n",
    "\n",
    "x1 = [1, 1]\n",
    "b1 = A1*x"
   ]
  },
  {
   "cell_type": "markdown",
   "metadata": {},
   "source": [
    "Differenza tra soluzione esatta e soluzione calcolata"
   ]
  },
  {
   "cell_type": "code",
   "execution_count": null,
   "metadata": {},
   "outputs": [],
   "source": [
    "#La funzione che uso ora è nella libreria e risolve il sistema usando LU decomposition\n",
    "x1_calc = solve_linear_system(A1, b1)\n",
    "error1 = abs.(x1-x1_calc)\n",
    "println(\"La differenza tra i due vettori è il vettore: \", error1)"
   ]
  },
  {
   "cell_type": "markdown",
   "metadata": {},
   "source": [
    "Esattezza della fattorizzazione LU"
   ]
  },
  {
   "cell_type": "code",
   "execution_count": null,
   "metadata": {},
   "outputs": [],
   "source": [
    "L_A1, U_A1 = LU_dec(A1)\n",
    "diff = abs.(A1 - L_A1*U_A1)\n",
    "display(Markdown.parse(\"Difference between the A matrix and the product of its factorization:\"))\n",
    "display(diff)"
   ]
  },
  {
   "cell_type": "markdown",
   "metadata": {},
   "source": [
    "Inizializzazione delle variabili dell'esercizio: caso $\\epsilon = 10^{-20}$\n",
    "Alla soluzione viene [0, 1]"
   ]
  },
  {
   "cell_type": "code",
   "execution_count": null,
   "metadata": {},
   "outputs": [],
   "source": [
    "eps2 = 1.0e-20\n",
    "A2 = [-eps2  1\n",
    "     1    -1\n",
    "    ]\n",
    "\n",
    "x2 = [1, 1]\n",
    "b2 = A2*x2"
   ]
  },
  {
   "cell_type": "markdown",
   "metadata": {},
   "source": [
    "Differenza tra soluzione esatta e soluzione calcolata"
   ]
  },
  {
   "cell_type": "code",
   "execution_count": null,
   "metadata": {},
   "outputs": [],
   "source": [
    "#La funzione che uso ora è nella libreria e risolve il sistema usando LU decomposition\n",
    "x2_calc = solve_linear_system(A2, b2)\n",
    "error2 = abs.(x2-x2_calc)\n",
    "println(\"Difference between the solution vector and the one calculated: \", error2)\n",
    "println(\"Difference expected: \", [0.0, 0.0])\n"
   ]
  },
  {
   "cell_type": "markdown",
   "metadata": {},
   "source": [
    "Esattezza della fattorizzazione LU"
   ]
  },
  {
   "cell_type": "code",
   "execution_count": null,
   "metadata": {},
   "outputs": [],
   "source": [
    "L_A2, U_A2 = LU_dec(A2)\n",
    "diff = abs.(A2 - L_A2*U_A2)\n",
    "display(Markdown.parse(\"Difference between the A matrix and the product of its factorization:\"))\n",
    "display(diff)\n",
    "display(Markdown.parse(\"Expected: \"))\n",
    "display(zeros(2, 2))"
   ]
  },
  {
   "cell_type": "markdown",
   "metadata": {},
   "source": [
    "# Analysis of the system $Ax = b$"
   ]
  },
  {
   "cell_type": "markdown",
   "metadata": {},
   "source": [
    "Calcolando il condition number a mano, con la norma 1 e infinito, viene $k(A) = \\frac{4}{1-\\epsilon}$, dove A è la matrice dell'esercizio/\n",
    "Il condition number uguale c'è perchè in questo caso la matrice è simmetrica"
   ]
  },
  {
   "cell_type": "code",
   "execution_count": null,
   "metadata": {},
   "outputs": [],
   "source": [
    "k1 = 4/(1-eps1)\n",
    "k2 = 4/(1-eps2)\n",
    "\n",
    "#TO DO: write a message using latex\n",
    "\n",
    "println(\"Condition number with epsilon = 1.0e-12: \", k1)\n",
    "println(\"Condition number with epsilon = 1.0e-20: \", k2)"
   ]
  },
  {
   "cell_type": "markdown",
   "metadata": {},
   "source": [
    "Fattorizzazione della matrice"
   ]
  },
  {
   "cell_type": "code",
   "execution_count": null,
   "metadata": {},
   "outputs": [],
   "source": [
    "#Prima vedo come sono fatte le matrici\n",
    "display(Markdown.parse(\"La matrice L di A con epsilon = 10^-12 è: \"))\n",
    "display(L_A1)\n",
    "display(Markdown.parse(\"La matrice U di A con epsilon = 10^-12 è: \"))\n",
    "display(U_A1)\n",
    "display(L_A1*U_A1)\n",
    "\n",
    "display(Markdown.parse(\"La matrice L di A con epsilon = 10^-20 è: \"))\n",
    "display(L_A2)\n",
    "display(Markdown.parse(\"La matrice U di A con epsilon = 10^-20 è: \"))\n",
    "display(U_A2)\n",
    "display(L_A2*U_A2)"
   ]
  },
  {
   "cell_type": "markdown",
   "metadata": {},
   "source": [
    "Ho calcolato i condition number per L e U in entrambe le norme, e in entrambi i casi ottengo: \n",
    "- $k(L) = (1 + \\frac{1}{\\epsilon})^2$ \n",
    "- $k(U) = \\frac{1}{\\epsilon^2}$ \\\n",
    "I conti mostrano che le matrici L e U, nei casi con $\\epsilon = 10^{-12}$ e $\\epsilon = 10^{-20}$, non sono ben condizionate."
   ]
  },
  {
   "cell_type": "code",
   "execution_count": null,
   "metadata": {},
   "outputs": [],
   "source": [
    "function kL(eps)\n",
    "    return 1 + 2/eps + 1/eps^2\n",
    "end\n",
    "function kU(eps)\n",
    "    return 1/eps^2\n",
    "end\n",
    "\n",
    "println(\"Condition number of L with ϵ = $eps1: \", kL(eps1))\n",
    "println(\"Condition number of U with ϵ = $eps1: \", kU(eps1))\n",
    "println(\"Condition number of L with ϵ = $eps2: \", kL(eps2))\n",
    "println(\"Condition number of U with ϵ = $eps2: \", kU(eps2))"
   ]
  }
 ],
 "metadata": {
  "kernelspec": {
   "display_name": "Julia 1.11.4",
   "language": "julia",
   "name": "julia-1.11"
  },
  "language_info": {
   "file_extension": ".jl",
   "mimetype": "application/julia",
   "name": "julia",
   "version": "1.11.4"
  }
 },
 "nbformat": 4,
 "nbformat_minor": 2
}
