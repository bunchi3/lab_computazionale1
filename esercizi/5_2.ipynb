{
 "cells": [
  {
   "cell_type": "markdown",
   "metadata": {},
   "source": [
    "# Matrix's condition number"
   ]
  },
  {
   "cell_type": "code",
   "execution_count": null,
   "metadata": {},
   "outputs": [],
   "source": [
    "#Import cell\n",
    "using Markdown     #Vsualizzazione di markdown in display\n",
    "#non devo importare LinearAlgebra perchè è già dentro il file linear_systems.jl\n",
    "include(\"c:\\\\ALL\\\\Stefano\\\\Bicocca\\\\3terzo_anno\\\\lab_comp\\\\lab_computazionale1\\\\librerie\\\\linear_systems.jl\")"
   ]
  },
  {
   "cell_type": "markdown",
   "metadata": {},
   "source": [
    "Inizializzazione delle variabili dell'esercizio: caso $\\epsilon = 10^{-12}$"
   ]
  },
  {
   "cell_type": "code",
   "execution_count": null,
   "metadata": {},
   "outputs": [],
   "source": [
    "eps = 1.0e-12\n",
    "A = [-eps  1\n",
    "     1    -1\n",
    "    ]\n",
    "\n",
    "x = [1, 1]\n",
    "b = A*x"
   ]
  },
  {
   "cell_type": "markdown",
   "metadata": {},
   "source": [
    "Differenza tra soluzione esatta e soluzione calcolata"
   ]
  },
  {
   "cell_type": "code",
   "execution_count": null,
   "metadata": {},
   "outputs": [],
   "source": [
    "#La funzione che uso ora è nella libreria e risolve il sistema usando LU decomposition\n",
    "x_calc = solve_linear_system(A, b)\n",
    "error = abs.(x-x_calc)\n",
    "println(\"La differenza tra i due vettori è il vettore: \", error)"
   ]
  },
  {
   "cell_type": "markdown",
   "metadata": {},
   "source": [
    "Esattezza della fattorizzazione LU"
   ]
  },
  {
   "cell_type": "code",
   "execution_count": null,
   "metadata": {},
   "outputs": [],
   "source": [
    "L_A, U_A = LU_dec(A)\n",
    "diff = abs.(A - L_A*U_A)\n",
    "display(Markdown.parse(\"Difference between the A matrix and the product of its factorization:\"))\n",
    "display(diff)"
   ]
  },
  {
   "cell_type": "markdown",
   "metadata": {},
   "source": [
    "Inizializzazione delle variabili dell'esercizio: caso $\\epsilon = 10^{-20}$"
   ]
  },
  {
   "cell_type": "code",
   "execution_count": null,
   "metadata": {},
   "outputs": [],
   "source": [
    "eps = 1.0e-20\n",
    "A = [-eps  1\n",
    "     1    -1\n",
    "    ]\n",
    "\n",
    "x = [1, 1]\n",
    "b = A*x"
   ]
  },
  {
   "cell_type": "markdown",
   "metadata": {},
   "source": [
    "Differenza tra soluzione esatta e soluzione calcolata"
   ]
  },
  {
   "cell_type": "code",
   "execution_count": null,
   "metadata": {},
   "outputs": [],
   "source": [
    "#La funzione che uso ora è nella libreria e risolve il sistema usando LU decomposition\n",
    "x_calc = solve_linear_system(A, b)\n",
    "error = abs.(x-x_calc)\n",
    "println(\"Difference between the solution vector and the one calculated: \", error)\n",
    "println(\"Difference expected: \", [0.0, 0.0])\n"
   ]
  },
  {
   "cell_type": "markdown",
   "metadata": {},
   "source": [
    "Esattezza della fattorizzazione LU"
   ]
  },
  {
   "cell_type": "code",
   "execution_count": null,
   "metadata": {},
   "outputs": [],
   "source": [
    "L_A, U_A = LU_dec(A)\n",
    "diff = abs.(A - L_A*U_A)\n",
    "display(Markdown.parse(\"Difference between the A matrix and the product of its factorization:\"))\n",
    "display(diff)\n",
    "display(Markdown.parse(\"Expected: \"))\n",
    "display(zeros(2, 2))"
   ]
  }
 ],
 "metadata": {
  "kernelspec": {
   "display_name": "Julia 1.11.4",
   "language": "julia",
   "name": "julia-1.11"
  },
  "language_info": {
   "file_extension": ".jl",
   "mimetype": "application/julia",
   "name": "julia",
   "version": "1.11.4"
  }
 },
 "nbformat": 4,
 "nbformat_minor": 2
}
