{
 "cells": [
  {
   "cell_type": "markdown",
   "id": "0",
   "metadata": {},
   "source": [
    "# Endemic disease"
   ]
  },
  {
   "cell_type": "markdown",
   "id": "1",
   "metadata": {},
   "source": [
    "Chiedi se stimare t da cui la soluzione è stabile in questa maniera va bene"
   ]
  },
  {
   "cell_type": "markdown",
   "id": "2",
   "metadata": {
    "vscode": {
     "languageId": "julia"
    }
   },
   "source": [
    "A disease that is endemic to a population can be modeled by tracking the fraction of the population that is susceptible to infection, $v(t)$, and the fraction that is infectious, $w(t)$. (The rest of the population is considered to be recovered and immune.) A typical model is the *SIR model* \n",
    "\n",
    "$$\\frac{dv}{dt} = 0.2(1-v) - 3vw\\,, \\qquad \\frac{dw}{dt} = (3v-1)w\\,.$$\n",
    "\n",
    "Starting with $v(0) = 0.95$ and $w(0) = 0.05$, use the RK4 method to find the long-term steady values of $v(t)$ and $w(t)$. Plot both components of the solution as functions of time."
   ]
  },
  {
   "cell_type": "code",
   "execution_count": null,
   "id": "3",
   "metadata": {},
   "outputs": [],
   "source": [
    "using Plots\n",
    "using Markdown\n",
    "using LaTeXStrings\n",
    "using Printf\n",
    "include(\"c:\\\\ALL\\\\Stefano\\\\Bicocca\\\\3terzo_anno\\\\lab_comp\\\\lab_computazionale1\\\\librerie\\\\linear_systems.jl\")\n",
    "include(\"c:\\\\ALL\\\\Stefano\\\\Bicocca\\\\3terzo_anno\\\\lab_comp\\\\lab_computazionale1\\\\librerie\\\\diff_equations.jl\")"
   ]
  },
  {
   "cell_type": "code",
   "execution_count": null,
   "id": "4",
   "metadata": {},
   "outputs": [],
   "source": [
    "function f1(t, v, w)\n",
    "    return 0.2*(1 - v) - 3.0*v*w\n",
    "end\n",
    "function f2(t, v, w)\n",
    "    return (3*v - 1.0)*w\n",
    "end\n",
    "\n",
    "F = [f1, f2]\n",
    "\n",
    "U0 = [0.95, 0.05]\n",
    "\n",
    "colors = [\"#0F2080\",  # blu scuro\n",
    "          \"#F5793A\",  # arancione\n",
    "          \"#A95AA1\",  # viola\n",
    "          \"#85C0F9\"]  # azzurro"
   ]
  },
  {
   "cell_type": "code",
   "execution_count": null,
   "id": "5",
   "metadata": {},
   "outputs": [],
   "source": [
    "a, b = 0.0, 100.0\n",
    "n_steps = 100\n",
    "h = h_search(RK4, RK4, F, U0, n_steps, a, b)\n",
    "t = [i for i in a:h:b]\n",
    "v, w = RK4(F, U0, length(t) - 1, a, b)\n",
    "t_steady = max(l_t_steady(t, v), l_t_steady(t, w))"
   ]
  },
  {
   "cell_type": "code",
   "execution_count": null,
   "id": "6",
   "metadata": {},
   "outputs": [],
   "source": [
    "fig2d = plot(figsize=(800, 600),\n",
    "           xlabel=L\"v(t)\", ylabel=L\"w(t)\",\n",
    "           framestyle=:box,\n",
    "           grid=true, gridalpha=0.5,\n",
    "           #xticks = [10^i for i in 0:0.2:4], yticks = [10.0^i for i in 0:-1:-16],\n",
    "           #xformatter = x -> @sprintf(\"%.0f\", x), yformatter = y -> @sprintf(\"%.0e\", y),\n",
    "           legend = :topright\n",
    "          )\n",
    "\n",
    "plot!(fig2d, v, w,\n",
    "      label = \"\",\n",
    "      #label = L\"U_0 = [0.1, 0.0]\",\n",
    "      color= colors[1],\n",
    "      lw = 2.0,\n",
    "     )\n",
    "\n",
    "fig3d = plot(figsize=(800, 600),\n",
    "           xlabel=L\"v(t)\", ylabel=L\"w(t)\", zlabel=L\"t\",\n",
    "           framestyle=:box,\n",
    "           grid=true, gridalpha=0.5,\n",
    "           #xticks = [10^i for i in 0:0.2:4], \n",
    "           yticks = [i for i in 0.0:0.1:0.4],\n",
    "           #xformatter = x -> @sprintf(\"%.0f\", x), yformatter = y -> @sprintf(\"%.0e\", y),\n",
    "           legend = :topright\n",
    "          )\n",
    "\n",
    "plot!(fig3d, v, w, t,\n",
    "      label = L\"U_0 = [0.95, 0.05]\",\n",
    "      color= colors[1],\n",
    "      lw = 2.0,\n",
    "     )\n",
    "plot(fig2d, fig3d, layout = (1, 2), size=(600, 300))"
   ]
  },
  {
   "cell_type": "code",
   "execution_count": null,
   "id": "7",
   "metadata": {},
   "outputs": [],
   "source": [
    "fig= plot(figsize=(800, 600),\n",
    "           xlabel=L\"t\", ylabel=L\"f(t)\",\n",
    "           framestyle=:box,\n",
    "           grid=true, gridalpha=0.5,\n",
    "           xrange = (a, b),\n",
    "           #xticks = [10^i for i in 0:0.2:4], yticks = [10.0^i for i in 0:-1:-16],\n",
    "           #xformatter = x -> @sprintf(\"%.0f\", x), yformatter = y -> @sprintf(\"%.0e\", y),\n",
    "           legend = :topright\n",
    "          )\n",
    "\n",
    "plot!(fig, t, v,\n",
    "      label = L\"v(t)\",\n",
    "      color= colors[1],\n",
    "      lw = 2.0,\n",
    "     )\n",
    "\n",
    "plot!(fig, t, w,\n",
    "      label = L\"w(t)\",\n",
    "      color= colors[2],\n",
    "      lw = 2.0,\n",
    "     )\n",
    "plot!(fig, [t_steady, t_steady], [0.0, 1.0],\n",
    "      label = latexstring(\"t_{steady} = \", @sprintf(\"%.2f\", t_steady)),\n",
    "      color= colors[3],\n",
    "      lw = 2.0,\n",
    "      linestyle = :dash,\n",
    "     )\n",
    "display(fig)"
   ]
  }
 ],
 "metadata": {
  "kernelspec": {
   "display_name": "Julia 1.11.4",
   "language": "julia",
   "name": "julia-1.11"
  },
  "language_info": {
   "file_extension": ".jl",
   "mimetype": "application/julia",
   "name": "julia",
   "version": "1.11.4"
  }
 },
 "nbformat": 4,
 "nbformat_minor": 5
}
