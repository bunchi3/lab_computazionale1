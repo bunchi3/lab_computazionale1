{
 "cells": [
  {
   "cell_type": "markdown",
   "id": "0",
   "metadata": {},
   "source": [
    "# Trapezoidal rule"
   ]
  },
  {
   "cell_type": "markdown",
   "id": "1",
   "metadata": {},
   "source": [
    "Write a program that implements the composite trapezoidal rule for a generic integration interval $[a,b]$."
   ]
  },
  {
   "cell_type": "code",
   "execution_count": null,
   "id": "2",
   "metadata": {},
   "outputs": [],
   "source": [
    "function IntegralTrap(f::Function, a::Number, b::Number, m::Integer)\n",
    "    if a>b\n",
    "        shift = b\n",
    "        b = a \n",
    "        a = shift        \n",
    "    end\n",
    "    if m <= 0 \n",
    "        throw(DomainError(m, \"IntegralTrap says: the last parameter is the intervals' number, can't be negative or zero\"))\n",
    "    end\n",
    "\n",
    "    h = (b-a)/m\n",
    "    sum = 0.0\n",
    "\n",
    "    for j in 1:1:(m-1)\n",
    "        sum+=f(a+j*h)\n",
    "    end\n",
    "    \n",
    "    return h/2 * (f(a) + f(b) + 2*sum)\n",
    "end "
   ]
  },
  {
   "cell_type": "code",
   "execution_count": null,
   "id": "3",
   "metadata": {},
   "outputs": [],
   "source": [
    "f(x) = sin(x)\n",
    "a = 0\n",
    "b = 2\n",
    "m = 10\n",
    "println(IntegralTrap(f, a, b, m))"
   ]
  }
 ],
 "metadata": {
  "kernelspec": {
   "display_name": "Julia 1.11.4",
   "language": "julia",
   "name": "julia-1.11"
  },
  "language_info": {
   "file_extension": ".jl",
   "mimetype": "application/julia",
   "name": "julia",
   "version": "1.11.4"
  }
 },
 "nbformat": 4,
 "nbformat_minor": 5
}
